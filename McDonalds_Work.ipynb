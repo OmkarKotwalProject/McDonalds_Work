{
  "nbformat": 4,
  "nbformat_minor": 0,
  "metadata": {
    "colab": {
      "name": "McDonalds_Work.ipynb",
      "provenance": [],
      "collapsed_sections": [
        "u3O-bSZ_uzSa"
      ],
      "authorship_tag": "ABX9TyMfqheDx90RYJ3+TOTboLqB",
      "include_colab_link": true
    },
    "kernelspec": {
      "name": "python3",
      "display_name": "Python 3"
    },
    "language_info": {
      "name": "python"
    },
    "widgets": {
      "application/vnd.jupyter.widget-state+json": {
        "9b3094823c6b423ebbd8479cc3dddbae": {
          "model_module": "@jupyter-widgets/controls",
          "model_name": "HBoxModel",
          "model_module_version": "1.5.0",
          "state": {
            "_dom_classes": [],
            "_model_module": "@jupyter-widgets/controls",
            "_model_module_version": "1.5.0",
            "_model_name": "HBoxModel",
            "_view_count": null,
            "_view_module": "@jupyter-widgets/controls",
            "_view_module_version": "1.5.0",
            "_view_name": "HBoxView",
            "box_style": "",
            "children": [
              "IPY_MODEL_22a478228a794cb9977108949a007334",
              "IPY_MODEL_b3d849230dab4e1382fae4bf72d6e423",
              "IPY_MODEL_750989a431de4e878797c62061c1da17"
            ],
            "layout": "IPY_MODEL_564f2861f7ef48399250c51f95da9ed1"
          }
        },
        "22a478228a794cb9977108949a007334": {
          "model_module": "@jupyter-widgets/controls",
          "model_name": "HTMLModel",
          "model_module_version": "1.5.0",
          "state": {
            "_dom_classes": [],
            "_model_module": "@jupyter-widgets/controls",
            "_model_module_version": "1.5.0",
            "_model_name": "HTMLModel",
            "_view_count": null,
            "_view_module": "@jupyter-widgets/controls",
            "_view_module_version": "1.5.0",
            "_view_name": "HTMLView",
            "description": "",
            "description_tooltip": null,
            "layout": "IPY_MODEL_de441f3997614f93af7bfb78d093a2ff",
            "placeholder": "​",
            "style": "IPY_MODEL_6e58993ca7c64e44ab13dd0acc66271a",
            "value": "Downloading: 100%"
          }
        },
        "b3d849230dab4e1382fae4bf72d6e423": {
          "model_module": "@jupyter-widgets/controls",
          "model_name": "FloatProgressModel",
          "model_module_version": "1.5.0",
          "state": {
            "_dom_classes": [],
            "_model_module": "@jupyter-widgets/controls",
            "_model_module_version": "1.5.0",
            "_model_name": "FloatProgressModel",
            "_view_count": null,
            "_view_module": "@jupyter-widgets/controls",
            "_view_module_version": "1.5.0",
            "_view_name": "ProgressView",
            "bar_style": "success",
            "description": "",
            "description_tooltip": null,
            "layout": "IPY_MODEL_359b956fc00c49ea95cce11ade5eb137",
            "max": 1175,
            "min": 0,
            "orientation": "horizontal",
            "style": "IPY_MODEL_3cf172f039a64e92ae0d1effb78baecf",
            "value": 1175
          }
        },
        "750989a431de4e878797c62061c1da17": {
          "model_module": "@jupyter-widgets/controls",
          "model_name": "HTMLModel",
          "model_module_version": "1.5.0",
          "state": {
            "_dom_classes": [],
            "_model_module": "@jupyter-widgets/controls",
            "_model_module_version": "1.5.0",
            "_model_name": "HTMLModel",
            "_view_count": null,
            "_view_module": "@jupyter-widgets/controls",
            "_view_module_version": "1.5.0",
            "_view_name": "HTMLView",
            "description": "",
            "description_tooltip": null,
            "layout": "IPY_MODEL_aef9d0fbfdc74b0a832ffa0836852ae5",
            "placeholder": "​",
            "style": "IPY_MODEL_e3bad6a520114b5ca5eda7acf60b0375",
            "value": " 1.18k/1.18k [00:00&lt;00:00, 9.67kB/s]"
          }
        },
        "564f2861f7ef48399250c51f95da9ed1": {
          "model_module": "@jupyter-widgets/base",
          "model_name": "LayoutModel",
          "model_module_version": "1.2.0",
          "state": {
            "_model_module": "@jupyter-widgets/base",
            "_model_module_version": "1.2.0",
            "_model_name": "LayoutModel",
            "_view_count": null,
            "_view_module": "@jupyter-widgets/base",
            "_view_module_version": "1.2.0",
            "_view_name": "LayoutView",
            "align_content": null,
            "align_items": null,
            "align_self": null,
            "border": null,
            "bottom": null,
            "display": null,
            "flex": null,
            "flex_flow": null,
            "grid_area": null,
            "grid_auto_columns": null,
            "grid_auto_flow": null,
            "grid_auto_rows": null,
            "grid_column": null,
            "grid_gap": null,
            "grid_row": null,
            "grid_template_areas": null,
            "grid_template_columns": null,
            "grid_template_rows": null,
            "height": null,
            "justify_content": null,
            "justify_items": null,
            "left": null,
            "margin": null,
            "max_height": null,
            "max_width": null,
            "min_height": null,
            "min_width": null,
            "object_fit": null,
            "object_position": null,
            "order": null,
            "overflow": null,
            "overflow_x": null,
            "overflow_y": null,
            "padding": null,
            "right": null,
            "top": null,
            "visibility": null,
            "width": null
          }
        },
        "de441f3997614f93af7bfb78d093a2ff": {
          "model_module": "@jupyter-widgets/base",
          "model_name": "LayoutModel",
          "model_module_version": "1.2.0",
          "state": {
            "_model_module": "@jupyter-widgets/base",
            "_model_module_version": "1.2.0",
            "_model_name": "LayoutModel",
            "_view_count": null,
            "_view_module": "@jupyter-widgets/base",
            "_view_module_version": "1.2.0",
            "_view_name": "LayoutView",
            "align_content": null,
            "align_items": null,
            "align_self": null,
            "border": null,
            "bottom": null,
            "display": null,
            "flex": null,
            "flex_flow": null,
            "grid_area": null,
            "grid_auto_columns": null,
            "grid_auto_flow": null,
            "grid_auto_rows": null,
            "grid_column": null,
            "grid_gap": null,
            "grid_row": null,
            "grid_template_areas": null,
            "grid_template_columns": null,
            "grid_template_rows": null,
            "height": null,
            "justify_content": null,
            "justify_items": null,
            "left": null,
            "margin": null,
            "max_height": null,
            "max_width": null,
            "min_height": null,
            "min_width": null,
            "object_fit": null,
            "object_position": null,
            "order": null,
            "overflow": null,
            "overflow_x": null,
            "overflow_y": null,
            "padding": null,
            "right": null,
            "top": null,
            "visibility": null,
            "width": null
          }
        },
        "6e58993ca7c64e44ab13dd0acc66271a": {
          "model_module": "@jupyter-widgets/controls",
          "model_name": "DescriptionStyleModel",
          "model_module_version": "1.5.0",
          "state": {
            "_model_module": "@jupyter-widgets/controls",
            "_model_module_version": "1.5.0",
            "_model_name": "DescriptionStyleModel",
            "_view_count": null,
            "_view_module": "@jupyter-widgets/base",
            "_view_module_version": "1.2.0",
            "_view_name": "StyleView",
            "description_width": ""
          }
        },
        "359b956fc00c49ea95cce11ade5eb137": {
          "model_module": "@jupyter-widgets/base",
          "model_name": "LayoutModel",
          "model_module_version": "1.2.0",
          "state": {
            "_model_module": "@jupyter-widgets/base",
            "_model_module_version": "1.2.0",
            "_model_name": "LayoutModel",
            "_view_count": null,
            "_view_module": "@jupyter-widgets/base",
            "_view_module_version": "1.2.0",
            "_view_name": "LayoutView",
            "align_content": null,
            "align_items": null,
            "align_self": null,
            "border": null,
            "bottom": null,
            "display": null,
            "flex": null,
            "flex_flow": null,
            "grid_area": null,
            "grid_auto_columns": null,
            "grid_auto_flow": null,
            "grid_auto_rows": null,
            "grid_column": null,
            "grid_gap": null,
            "grid_row": null,
            "grid_template_areas": null,
            "grid_template_columns": null,
            "grid_template_rows": null,
            "height": null,
            "justify_content": null,
            "justify_items": null,
            "left": null,
            "margin": null,
            "max_height": null,
            "max_width": null,
            "min_height": null,
            "min_width": null,
            "object_fit": null,
            "object_position": null,
            "order": null,
            "overflow": null,
            "overflow_x": null,
            "overflow_y": null,
            "padding": null,
            "right": null,
            "top": null,
            "visibility": null,
            "width": null
          }
        },
        "3cf172f039a64e92ae0d1effb78baecf": {
          "model_module": "@jupyter-widgets/controls",
          "model_name": "ProgressStyleModel",
          "model_module_version": "1.5.0",
          "state": {
            "_model_module": "@jupyter-widgets/controls",
            "_model_module_version": "1.5.0",
            "_model_name": "ProgressStyleModel",
            "_view_count": null,
            "_view_module": "@jupyter-widgets/base",
            "_view_module_version": "1.2.0",
            "_view_name": "StyleView",
            "bar_color": null,
            "description_width": ""
          }
        },
        "aef9d0fbfdc74b0a832ffa0836852ae5": {
          "model_module": "@jupyter-widgets/base",
          "model_name": "LayoutModel",
          "model_module_version": "1.2.0",
          "state": {
            "_model_module": "@jupyter-widgets/base",
            "_model_module_version": "1.2.0",
            "_model_name": "LayoutModel",
            "_view_count": null,
            "_view_module": "@jupyter-widgets/base",
            "_view_module_version": "1.2.0",
            "_view_name": "LayoutView",
            "align_content": null,
            "align_items": null,
            "align_self": null,
            "border": null,
            "bottom": null,
            "display": null,
            "flex": null,
            "flex_flow": null,
            "grid_area": null,
            "grid_auto_columns": null,
            "grid_auto_flow": null,
            "grid_auto_rows": null,
            "grid_column": null,
            "grid_gap": null,
            "grid_row": null,
            "grid_template_areas": null,
            "grid_template_columns": null,
            "grid_template_rows": null,
            "height": null,
            "justify_content": null,
            "justify_items": null,
            "left": null,
            "margin": null,
            "max_height": null,
            "max_width": null,
            "min_height": null,
            "min_width": null,
            "object_fit": null,
            "object_position": null,
            "order": null,
            "overflow": null,
            "overflow_x": null,
            "overflow_y": null,
            "padding": null,
            "right": null,
            "top": null,
            "visibility": null,
            "width": null
          }
        },
        "e3bad6a520114b5ca5eda7acf60b0375": {
          "model_module": "@jupyter-widgets/controls",
          "model_name": "DescriptionStyleModel",
          "model_module_version": "1.5.0",
          "state": {
            "_model_module": "@jupyter-widgets/controls",
            "_model_module_version": "1.5.0",
            "_model_name": "DescriptionStyleModel",
            "_view_count": null,
            "_view_module": "@jupyter-widgets/base",
            "_view_module_version": "1.2.0",
            "_view_name": "StyleView",
            "description_width": ""
          }
        },
        "41e7c91f388b4a7e929bcdc1b168adab": {
          "model_module": "@jupyter-widgets/controls",
          "model_name": "HBoxModel",
          "model_module_version": "1.5.0",
          "state": {
            "_dom_classes": [],
            "_model_module": "@jupyter-widgets/controls",
            "_model_module_version": "1.5.0",
            "_model_name": "HBoxModel",
            "_view_count": null,
            "_view_module": "@jupyter-widgets/controls",
            "_view_module_version": "1.5.0",
            "_view_name": "HBoxView",
            "box_style": "",
            "children": [
              "IPY_MODEL_2081ec6c408540219be5b2da260cd07f",
              "IPY_MODEL_23da8f14adea4c95ba9519555aac378b",
              "IPY_MODEL_dd58afe09c3a4d65af43d2c49e99f36a"
            ],
            "layout": "IPY_MODEL_d34e11b001554ead8c7b5a8e27b04b06"
          }
        },
        "2081ec6c408540219be5b2da260cd07f": {
          "model_module": "@jupyter-widgets/controls",
          "model_name": "HTMLModel",
          "model_module_version": "1.5.0",
          "state": {
            "_dom_classes": [],
            "_model_module": "@jupyter-widgets/controls",
            "_model_module_version": "1.5.0",
            "_model_name": "HTMLModel",
            "_view_count": null,
            "_view_module": "@jupyter-widgets/controls",
            "_view_module_version": "1.5.0",
            "_view_name": "HTMLView",
            "description": "",
            "description_tooltip": null,
            "layout": "IPY_MODEL_34cf342441f947cea0f13a8414454cc4",
            "placeholder": "​",
            "style": "IPY_MODEL_5de335920cc34a47b1b1f4835c556e50",
            "value": "Downloading: 100%"
          }
        },
        "23da8f14adea4c95ba9519555aac378b": {
          "model_module": "@jupyter-widgets/controls",
          "model_name": "FloatProgressModel",
          "model_module_version": "1.5.0",
          "state": {
            "_dom_classes": [],
            "_model_module": "@jupyter-widgets/controls",
            "_model_module_version": "1.5.0",
            "_model_name": "FloatProgressModel",
            "_view_count": null,
            "_view_module": "@jupyter-widgets/controls",
            "_view_module_version": "1.5.0",
            "_view_name": "ProgressView",
            "bar_style": "success",
            "description": "",
            "description_tooltip": null,
            "layout": "IPY_MODEL_64da0015ad5e4f7391e18487d45ed51d",
            "max": 190,
            "min": 0,
            "orientation": "horizontal",
            "style": "IPY_MODEL_0433ba93a1db406dad1b3e62dd95fc80",
            "value": 190
          }
        },
        "dd58afe09c3a4d65af43d2c49e99f36a": {
          "model_module": "@jupyter-widgets/controls",
          "model_name": "HTMLModel",
          "model_module_version": "1.5.0",
          "state": {
            "_dom_classes": [],
            "_model_module": "@jupyter-widgets/controls",
            "_model_module_version": "1.5.0",
            "_model_name": "HTMLModel",
            "_view_count": null,
            "_view_module": "@jupyter-widgets/controls",
            "_view_module_version": "1.5.0",
            "_view_name": "HTMLView",
            "description": "",
            "description_tooltip": null,
            "layout": "IPY_MODEL_06a0ff292fdb40b2a5364e56be54e8fd",
            "placeholder": "​",
            "style": "IPY_MODEL_32b559c5887d49f5af34cd4c88711669",
            "value": " 190/190 [00:00&lt;00:00, 2.05kB/s]"
          }
        },
        "d34e11b001554ead8c7b5a8e27b04b06": {
          "model_module": "@jupyter-widgets/base",
          "model_name": "LayoutModel",
          "model_module_version": "1.2.0",
          "state": {
            "_model_module": "@jupyter-widgets/base",
            "_model_module_version": "1.2.0",
            "_model_name": "LayoutModel",
            "_view_count": null,
            "_view_module": "@jupyter-widgets/base",
            "_view_module_version": "1.2.0",
            "_view_name": "LayoutView",
            "align_content": null,
            "align_items": null,
            "align_self": null,
            "border": null,
            "bottom": null,
            "display": null,
            "flex": null,
            "flex_flow": null,
            "grid_area": null,
            "grid_auto_columns": null,
            "grid_auto_flow": null,
            "grid_auto_rows": null,
            "grid_column": null,
            "grid_gap": null,
            "grid_row": null,
            "grid_template_areas": null,
            "grid_template_columns": null,
            "grid_template_rows": null,
            "height": null,
            "justify_content": null,
            "justify_items": null,
            "left": null,
            "margin": null,
            "max_height": null,
            "max_width": null,
            "min_height": null,
            "min_width": null,
            "object_fit": null,
            "object_position": null,
            "order": null,
            "overflow": null,
            "overflow_x": null,
            "overflow_y": null,
            "padding": null,
            "right": null,
            "top": null,
            "visibility": null,
            "width": null
          }
        },
        "34cf342441f947cea0f13a8414454cc4": {
          "model_module": "@jupyter-widgets/base",
          "model_name": "LayoutModel",
          "model_module_version": "1.2.0",
          "state": {
            "_model_module": "@jupyter-widgets/base",
            "_model_module_version": "1.2.0",
            "_model_name": "LayoutModel",
            "_view_count": null,
            "_view_module": "@jupyter-widgets/base",
            "_view_module_version": "1.2.0",
            "_view_name": "LayoutView",
            "align_content": null,
            "align_items": null,
            "align_self": null,
            "border": null,
            "bottom": null,
            "display": null,
            "flex": null,
            "flex_flow": null,
            "grid_area": null,
            "grid_auto_columns": null,
            "grid_auto_flow": null,
            "grid_auto_rows": null,
            "grid_column": null,
            "grid_gap": null,
            "grid_row": null,
            "grid_template_areas": null,
            "grid_template_columns": null,
            "grid_template_rows": null,
            "height": null,
            "justify_content": null,
            "justify_items": null,
            "left": null,
            "margin": null,
            "max_height": null,
            "max_width": null,
            "min_height": null,
            "min_width": null,
            "object_fit": null,
            "object_position": null,
            "order": null,
            "overflow": null,
            "overflow_x": null,
            "overflow_y": null,
            "padding": null,
            "right": null,
            "top": null,
            "visibility": null,
            "width": null
          }
        },
        "5de335920cc34a47b1b1f4835c556e50": {
          "model_module": "@jupyter-widgets/controls",
          "model_name": "DescriptionStyleModel",
          "model_module_version": "1.5.0",
          "state": {
            "_model_module": "@jupyter-widgets/controls",
            "_model_module_version": "1.5.0",
            "_model_name": "DescriptionStyleModel",
            "_view_count": null,
            "_view_module": "@jupyter-widgets/base",
            "_view_module_version": "1.2.0",
            "_view_name": "StyleView",
            "description_width": ""
          }
        },
        "64da0015ad5e4f7391e18487d45ed51d": {
          "model_module": "@jupyter-widgets/base",
          "model_name": "LayoutModel",
          "model_module_version": "1.2.0",
          "state": {
            "_model_module": "@jupyter-widgets/base",
            "_model_module_version": "1.2.0",
            "_model_name": "LayoutModel",
            "_view_count": null,
            "_view_module": "@jupyter-widgets/base",
            "_view_module_version": "1.2.0",
            "_view_name": "LayoutView",
            "align_content": null,
            "align_items": null,
            "align_self": null,
            "border": null,
            "bottom": null,
            "display": null,
            "flex": null,
            "flex_flow": null,
            "grid_area": null,
            "grid_auto_columns": null,
            "grid_auto_flow": null,
            "grid_auto_rows": null,
            "grid_column": null,
            "grid_gap": null,
            "grid_row": null,
            "grid_template_areas": null,
            "grid_template_columns": null,
            "grid_template_rows": null,
            "height": null,
            "justify_content": null,
            "justify_items": null,
            "left": null,
            "margin": null,
            "max_height": null,
            "max_width": null,
            "min_height": null,
            "min_width": null,
            "object_fit": null,
            "object_position": null,
            "order": null,
            "overflow": null,
            "overflow_x": null,
            "overflow_y": null,
            "padding": null,
            "right": null,
            "top": null,
            "visibility": null,
            "width": null
          }
        },
        "0433ba93a1db406dad1b3e62dd95fc80": {
          "model_module": "@jupyter-widgets/controls",
          "model_name": "ProgressStyleModel",
          "model_module_version": "1.5.0",
          "state": {
            "_model_module": "@jupyter-widgets/controls",
            "_model_module_version": "1.5.0",
            "_model_name": "ProgressStyleModel",
            "_view_count": null,
            "_view_module": "@jupyter-widgets/base",
            "_view_module_version": "1.2.0",
            "_view_name": "StyleView",
            "bar_color": null,
            "description_width": ""
          }
        },
        "06a0ff292fdb40b2a5364e56be54e8fd": {
          "model_module": "@jupyter-widgets/base",
          "model_name": "LayoutModel",
          "model_module_version": "1.2.0",
          "state": {
            "_model_module": "@jupyter-widgets/base",
            "_model_module_version": "1.2.0",
            "_model_name": "LayoutModel",
            "_view_count": null,
            "_view_module": "@jupyter-widgets/base",
            "_view_module_version": "1.2.0",
            "_view_name": "LayoutView",
            "align_content": null,
            "align_items": null,
            "align_self": null,
            "border": null,
            "bottom": null,
            "display": null,
            "flex": null,
            "flex_flow": null,
            "grid_area": null,
            "grid_auto_columns": null,
            "grid_auto_flow": null,
            "grid_auto_rows": null,
            "grid_column": null,
            "grid_gap": null,
            "grid_row": null,
            "grid_template_areas": null,
            "grid_template_columns": null,
            "grid_template_rows": null,
            "height": null,
            "justify_content": null,
            "justify_items": null,
            "left": null,
            "margin": null,
            "max_height": null,
            "max_width": null,
            "min_height": null,
            "min_width": null,
            "object_fit": null,
            "object_position": null,
            "order": null,
            "overflow": null,
            "overflow_x": null,
            "overflow_y": null,
            "padding": null,
            "right": null,
            "top": null,
            "visibility": null,
            "width": null
          }
        },
        "32b559c5887d49f5af34cd4c88711669": {
          "model_module": "@jupyter-widgets/controls",
          "model_name": "DescriptionStyleModel",
          "model_module_version": "1.5.0",
          "state": {
            "_model_module": "@jupyter-widgets/controls",
            "_model_module_version": "1.5.0",
            "_model_name": "DescriptionStyleModel",
            "_view_count": null,
            "_view_module": "@jupyter-widgets/base",
            "_view_module_version": "1.2.0",
            "_view_name": "StyleView",
            "description_width": ""
          }
        },
        "7b210c9cc2804e3eae2e16d0d85fee53": {
          "model_module": "@jupyter-widgets/controls",
          "model_name": "HBoxModel",
          "model_module_version": "1.5.0",
          "state": {
            "_dom_classes": [],
            "_model_module": "@jupyter-widgets/controls",
            "_model_module_version": "1.5.0",
            "_model_name": "HBoxModel",
            "_view_count": null,
            "_view_module": "@jupyter-widgets/controls",
            "_view_module_version": "1.5.0",
            "_view_name": "HBoxView",
            "box_style": "",
            "children": [
              "IPY_MODEL_0c65c5d1d5504b6287d0ad96b745cc65",
              "IPY_MODEL_f041f0faff32428f9972e6fb2fad5a81",
              "IPY_MODEL_bddd046ad6f4442fbd6a1a1cafc75e04"
            ],
            "layout": "IPY_MODEL_51961c4b905c48efb8bdb6fc888beab7"
          }
        },
        "0c65c5d1d5504b6287d0ad96b745cc65": {
          "model_module": "@jupyter-widgets/controls",
          "model_name": "HTMLModel",
          "model_module_version": "1.5.0",
          "state": {
            "_dom_classes": [],
            "_model_module": "@jupyter-widgets/controls",
            "_model_module_version": "1.5.0",
            "_model_name": "HTMLModel",
            "_view_count": null,
            "_view_module": "@jupyter-widgets/controls",
            "_view_module_version": "1.5.0",
            "_view_name": "HTMLView",
            "description": "",
            "description_tooltip": null,
            "layout": "IPY_MODEL_8b43089ae1d94b48955d1b3e95d1fa9b",
            "placeholder": "​",
            "style": "IPY_MODEL_559ac162f0154b65aca23cdad7a98a8e",
            "value": "Downloading: 100%"
          }
        },
        "f041f0faff32428f9972e6fb2fad5a81": {
          "model_module": "@jupyter-widgets/controls",
          "model_name": "FloatProgressModel",
          "model_module_version": "1.5.0",
          "state": {
            "_dom_classes": [],
            "_model_module": "@jupyter-widgets/controls",
            "_model_module_version": "1.5.0",
            "_model_name": "FloatProgressModel",
            "_view_count": null,
            "_view_module": "@jupyter-widgets/controls",
            "_view_module_version": "1.5.0",
            "_view_name": "ProgressView",
            "bar_style": "success",
            "description": "",
            "description_tooltip": null,
            "layout": "IPY_MODEL_d23b0f0cf3f946b6938186e0f5ba20ef",
            "max": 10177,
            "min": 0,
            "orientation": "horizontal",
            "style": "IPY_MODEL_ddb3738d46804929bbecce2804ea8f1e",
            "value": 10177
          }
        },
        "bddd046ad6f4442fbd6a1a1cafc75e04": {
          "model_module": "@jupyter-widgets/controls",
          "model_name": "HTMLModel",
          "model_module_version": "1.5.0",
          "state": {
            "_dom_classes": [],
            "_model_module": "@jupyter-widgets/controls",
            "_model_module_version": "1.5.0",
            "_model_name": "HTMLModel",
            "_view_count": null,
            "_view_module": "@jupyter-widgets/controls",
            "_view_module_version": "1.5.0",
            "_view_name": "HTMLView",
            "description": "",
            "description_tooltip": null,
            "layout": "IPY_MODEL_dd44b79d7e7b4066b82107e5eb12bda6",
            "placeholder": "​",
            "style": "IPY_MODEL_88922d38e6b94b2791d0cb13d8711edb",
            "value": " 10.2k/10.2k [00:00&lt;00:00, 275kB/s]"
          }
        },
        "51961c4b905c48efb8bdb6fc888beab7": {
          "model_module": "@jupyter-widgets/base",
          "model_name": "LayoutModel",
          "model_module_version": "1.2.0",
          "state": {
            "_model_module": "@jupyter-widgets/base",
            "_model_module_version": "1.2.0",
            "_model_name": "LayoutModel",
            "_view_count": null,
            "_view_module": "@jupyter-widgets/base",
            "_view_module_version": "1.2.0",
            "_view_name": "LayoutView",
            "align_content": null,
            "align_items": null,
            "align_self": null,
            "border": null,
            "bottom": null,
            "display": null,
            "flex": null,
            "flex_flow": null,
            "grid_area": null,
            "grid_auto_columns": null,
            "grid_auto_flow": null,
            "grid_auto_rows": null,
            "grid_column": null,
            "grid_gap": null,
            "grid_row": null,
            "grid_template_areas": null,
            "grid_template_columns": null,
            "grid_template_rows": null,
            "height": null,
            "justify_content": null,
            "justify_items": null,
            "left": null,
            "margin": null,
            "max_height": null,
            "max_width": null,
            "min_height": null,
            "min_width": null,
            "object_fit": null,
            "object_position": null,
            "order": null,
            "overflow": null,
            "overflow_x": null,
            "overflow_y": null,
            "padding": null,
            "right": null,
            "top": null,
            "visibility": null,
            "width": null
          }
        },
        "8b43089ae1d94b48955d1b3e95d1fa9b": {
          "model_module": "@jupyter-widgets/base",
          "model_name": "LayoutModel",
          "model_module_version": "1.2.0",
          "state": {
            "_model_module": "@jupyter-widgets/base",
            "_model_module_version": "1.2.0",
            "_model_name": "LayoutModel",
            "_view_count": null,
            "_view_module": "@jupyter-widgets/base",
            "_view_module_version": "1.2.0",
            "_view_name": "LayoutView",
            "align_content": null,
            "align_items": null,
            "align_self": null,
            "border": null,
            "bottom": null,
            "display": null,
            "flex": null,
            "flex_flow": null,
            "grid_area": null,
            "grid_auto_columns": null,
            "grid_auto_flow": null,
            "grid_auto_rows": null,
            "grid_column": null,
            "grid_gap": null,
            "grid_row": null,
            "grid_template_areas": null,
            "grid_template_columns": null,
            "grid_template_rows": null,
            "height": null,
            "justify_content": null,
            "justify_items": null,
            "left": null,
            "margin": null,
            "max_height": null,
            "max_width": null,
            "min_height": null,
            "min_width": null,
            "object_fit": null,
            "object_position": null,
            "order": null,
            "overflow": null,
            "overflow_x": null,
            "overflow_y": null,
            "padding": null,
            "right": null,
            "top": null,
            "visibility": null,
            "width": null
          }
        },
        "559ac162f0154b65aca23cdad7a98a8e": {
          "model_module": "@jupyter-widgets/controls",
          "model_name": "DescriptionStyleModel",
          "model_module_version": "1.5.0",
          "state": {
            "_model_module": "@jupyter-widgets/controls",
            "_model_module_version": "1.5.0",
            "_model_name": "DescriptionStyleModel",
            "_view_count": null,
            "_view_module": "@jupyter-widgets/base",
            "_view_module_version": "1.2.0",
            "_view_name": "StyleView",
            "description_width": ""
          }
        },
        "d23b0f0cf3f946b6938186e0f5ba20ef": {
          "model_module": "@jupyter-widgets/base",
          "model_name": "LayoutModel",
          "model_module_version": "1.2.0",
          "state": {
            "_model_module": "@jupyter-widgets/base",
            "_model_module_version": "1.2.0",
            "_model_name": "LayoutModel",
            "_view_count": null,
            "_view_module": "@jupyter-widgets/base",
            "_view_module_version": "1.2.0",
            "_view_name": "LayoutView",
            "align_content": null,
            "align_items": null,
            "align_self": null,
            "border": null,
            "bottom": null,
            "display": null,
            "flex": null,
            "flex_flow": null,
            "grid_area": null,
            "grid_auto_columns": null,
            "grid_auto_flow": null,
            "grid_auto_rows": null,
            "grid_column": null,
            "grid_gap": null,
            "grid_row": null,
            "grid_template_areas": null,
            "grid_template_columns": null,
            "grid_template_rows": null,
            "height": null,
            "justify_content": null,
            "justify_items": null,
            "left": null,
            "margin": null,
            "max_height": null,
            "max_width": null,
            "min_height": null,
            "min_width": null,
            "object_fit": null,
            "object_position": null,
            "order": null,
            "overflow": null,
            "overflow_x": null,
            "overflow_y": null,
            "padding": null,
            "right": null,
            "top": null,
            "visibility": null,
            "width": null
          }
        },
        "ddb3738d46804929bbecce2804ea8f1e": {
          "model_module": "@jupyter-widgets/controls",
          "model_name": "ProgressStyleModel",
          "model_module_version": "1.5.0",
          "state": {
            "_model_module": "@jupyter-widgets/controls",
            "_model_module_version": "1.5.0",
            "_model_name": "ProgressStyleModel",
            "_view_count": null,
            "_view_module": "@jupyter-widgets/base",
            "_view_module_version": "1.2.0",
            "_view_name": "StyleView",
            "bar_color": null,
            "description_width": ""
          }
        },
        "dd44b79d7e7b4066b82107e5eb12bda6": {
          "model_module": "@jupyter-widgets/base",
          "model_name": "LayoutModel",
          "model_module_version": "1.2.0",
          "state": {
            "_model_module": "@jupyter-widgets/base",
            "_model_module_version": "1.2.0",
            "_model_name": "LayoutModel",
            "_view_count": null,
            "_view_module": "@jupyter-widgets/base",
            "_view_module_version": "1.2.0",
            "_view_name": "LayoutView",
            "align_content": null,
            "align_items": null,
            "align_self": null,
            "border": null,
            "bottom": null,
            "display": null,
            "flex": null,
            "flex_flow": null,
            "grid_area": null,
            "grid_auto_columns": null,
            "grid_auto_flow": null,
            "grid_auto_rows": null,
            "grid_column": null,
            "grid_gap": null,
            "grid_row": null,
            "grid_template_areas": null,
            "grid_template_columns": null,
            "grid_template_rows": null,
            "height": null,
            "justify_content": null,
            "justify_items": null,
            "left": null,
            "margin": null,
            "max_height": null,
            "max_width": null,
            "min_height": null,
            "min_width": null,
            "object_fit": null,
            "object_position": null,
            "order": null,
            "overflow": null,
            "overflow_x": null,
            "overflow_y": null,
            "padding": null,
            "right": null,
            "top": null,
            "visibility": null,
            "width": null
          }
        },
        "88922d38e6b94b2791d0cb13d8711edb": {
          "model_module": "@jupyter-widgets/controls",
          "model_name": "DescriptionStyleModel",
          "model_module_version": "1.5.0",
          "state": {
            "_model_module": "@jupyter-widgets/controls",
            "_model_module_version": "1.5.0",
            "_model_name": "DescriptionStyleModel",
            "_view_count": null,
            "_view_module": "@jupyter-widgets/base",
            "_view_module_version": "1.2.0",
            "_view_name": "StyleView",
            "description_width": ""
          }
        },
        "c50bdd3fabb84a6d94cd75c712d58f38": {
          "model_module": "@jupyter-widgets/controls",
          "model_name": "HBoxModel",
          "model_module_version": "1.5.0",
          "state": {
            "_dom_classes": [],
            "_model_module": "@jupyter-widgets/controls",
            "_model_module_version": "1.5.0",
            "_model_name": "HBoxModel",
            "_view_count": null,
            "_view_module": "@jupyter-widgets/controls",
            "_view_module_version": "1.5.0",
            "_view_name": "HBoxView",
            "box_style": "",
            "children": [
              "IPY_MODEL_bf935990a48d4a47b45468d6262e40f4",
              "IPY_MODEL_406b83cb45b248b79948ec0e8f72d994",
              "IPY_MODEL_9014df5ef3a648bc8b43246d7c5071bc"
            ],
            "layout": "IPY_MODEL_dbdec872ce174460bbfb632fd6cdf34a"
          }
        },
        "bf935990a48d4a47b45468d6262e40f4": {
          "model_module": "@jupyter-widgets/controls",
          "model_name": "HTMLModel",
          "model_module_version": "1.5.0",
          "state": {
            "_dom_classes": [],
            "_model_module": "@jupyter-widgets/controls",
            "_model_module_version": "1.5.0",
            "_model_name": "HTMLModel",
            "_view_count": null,
            "_view_module": "@jupyter-widgets/controls",
            "_view_module_version": "1.5.0",
            "_view_name": "HTMLView",
            "description": "",
            "description_tooltip": null,
            "layout": "IPY_MODEL_888a5be96198454eab502e53c64f8544",
            "placeholder": "​",
            "style": "IPY_MODEL_120cf75231e44120ab44163ba313d874",
            "value": "Downloading: 100%"
          }
        },
        "406b83cb45b248b79948ec0e8f72d994": {
          "model_module": "@jupyter-widgets/controls",
          "model_name": "FloatProgressModel",
          "model_module_version": "1.5.0",
          "state": {
            "_dom_classes": [],
            "_model_module": "@jupyter-widgets/controls",
            "_model_module_version": "1.5.0",
            "_model_name": "FloatProgressModel",
            "_view_count": null,
            "_view_module": "@jupyter-widgets/controls",
            "_view_module_version": "1.5.0",
            "_view_name": "ProgressView",
            "bar_style": "success",
            "description": "",
            "description_tooltip": null,
            "layout": "IPY_MODEL_8be577dde8a14ad5a62733024a7b51e7",
            "max": 612,
            "min": 0,
            "orientation": "horizontal",
            "style": "IPY_MODEL_656013c28f124992ac11e1c773baf480",
            "value": 612
          }
        },
        "9014df5ef3a648bc8b43246d7c5071bc": {
          "model_module": "@jupyter-widgets/controls",
          "model_name": "HTMLModel",
          "model_module_version": "1.5.0",
          "state": {
            "_dom_classes": [],
            "_model_module": "@jupyter-widgets/controls",
            "_model_module_version": "1.5.0",
            "_model_name": "HTMLModel",
            "_view_count": null,
            "_view_module": "@jupyter-widgets/controls",
            "_view_module_version": "1.5.0",
            "_view_name": "HTMLView",
            "description": "",
            "description_tooltip": null,
            "layout": "IPY_MODEL_9ab4086b4dfc4583b2b4898627b844a5",
            "placeholder": "​",
            "style": "IPY_MODEL_5db5ecdd41494100badfebdc7b51192c",
            "value": " 612/612 [00:00&lt;00:00, 14.5kB/s]"
          }
        },
        "dbdec872ce174460bbfb632fd6cdf34a": {
          "model_module": "@jupyter-widgets/base",
          "model_name": "LayoutModel",
          "model_module_version": "1.2.0",
          "state": {
            "_model_module": "@jupyter-widgets/base",
            "_model_module_version": "1.2.0",
            "_model_name": "LayoutModel",
            "_view_count": null,
            "_view_module": "@jupyter-widgets/base",
            "_view_module_version": "1.2.0",
            "_view_name": "LayoutView",
            "align_content": null,
            "align_items": null,
            "align_self": null,
            "border": null,
            "bottom": null,
            "display": null,
            "flex": null,
            "flex_flow": null,
            "grid_area": null,
            "grid_auto_columns": null,
            "grid_auto_flow": null,
            "grid_auto_rows": null,
            "grid_column": null,
            "grid_gap": null,
            "grid_row": null,
            "grid_template_areas": null,
            "grid_template_columns": null,
            "grid_template_rows": null,
            "height": null,
            "justify_content": null,
            "justify_items": null,
            "left": null,
            "margin": null,
            "max_height": null,
            "max_width": null,
            "min_height": null,
            "min_width": null,
            "object_fit": null,
            "object_position": null,
            "order": null,
            "overflow": null,
            "overflow_x": null,
            "overflow_y": null,
            "padding": null,
            "right": null,
            "top": null,
            "visibility": null,
            "width": null
          }
        },
        "888a5be96198454eab502e53c64f8544": {
          "model_module": "@jupyter-widgets/base",
          "model_name": "LayoutModel",
          "model_module_version": "1.2.0",
          "state": {
            "_model_module": "@jupyter-widgets/base",
            "_model_module_version": "1.2.0",
            "_model_name": "LayoutModel",
            "_view_count": null,
            "_view_module": "@jupyter-widgets/base",
            "_view_module_version": "1.2.0",
            "_view_name": "LayoutView",
            "align_content": null,
            "align_items": null,
            "align_self": null,
            "border": null,
            "bottom": null,
            "display": null,
            "flex": null,
            "flex_flow": null,
            "grid_area": null,
            "grid_auto_columns": null,
            "grid_auto_flow": null,
            "grid_auto_rows": null,
            "grid_column": null,
            "grid_gap": null,
            "grid_row": null,
            "grid_template_areas": null,
            "grid_template_columns": null,
            "grid_template_rows": null,
            "height": null,
            "justify_content": null,
            "justify_items": null,
            "left": null,
            "margin": null,
            "max_height": null,
            "max_width": null,
            "min_height": null,
            "min_width": null,
            "object_fit": null,
            "object_position": null,
            "order": null,
            "overflow": null,
            "overflow_x": null,
            "overflow_y": null,
            "padding": null,
            "right": null,
            "top": null,
            "visibility": null,
            "width": null
          }
        },
        "120cf75231e44120ab44163ba313d874": {
          "model_module": "@jupyter-widgets/controls",
          "model_name": "DescriptionStyleModel",
          "model_module_version": "1.5.0",
          "state": {
            "_model_module": "@jupyter-widgets/controls",
            "_model_module_version": "1.5.0",
            "_model_name": "DescriptionStyleModel",
            "_view_count": null,
            "_view_module": "@jupyter-widgets/base",
            "_view_module_version": "1.2.0",
            "_view_name": "StyleView",
            "description_width": ""
          }
        },
        "8be577dde8a14ad5a62733024a7b51e7": {
          "model_module": "@jupyter-widgets/base",
          "model_name": "LayoutModel",
          "model_module_version": "1.2.0",
          "state": {
            "_model_module": "@jupyter-widgets/base",
            "_model_module_version": "1.2.0",
            "_model_name": "LayoutModel",
            "_view_count": null,
            "_view_module": "@jupyter-widgets/base",
            "_view_module_version": "1.2.0",
            "_view_name": "LayoutView",
            "align_content": null,
            "align_items": null,
            "align_self": null,
            "border": null,
            "bottom": null,
            "display": null,
            "flex": null,
            "flex_flow": null,
            "grid_area": null,
            "grid_auto_columns": null,
            "grid_auto_flow": null,
            "grid_auto_rows": null,
            "grid_column": null,
            "grid_gap": null,
            "grid_row": null,
            "grid_template_areas": null,
            "grid_template_columns": null,
            "grid_template_rows": null,
            "height": null,
            "justify_content": null,
            "justify_items": null,
            "left": null,
            "margin": null,
            "max_height": null,
            "max_width": null,
            "min_height": null,
            "min_width": null,
            "object_fit": null,
            "object_position": null,
            "order": null,
            "overflow": null,
            "overflow_x": null,
            "overflow_y": null,
            "padding": null,
            "right": null,
            "top": null,
            "visibility": null,
            "width": null
          }
        },
        "656013c28f124992ac11e1c773baf480": {
          "model_module": "@jupyter-widgets/controls",
          "model_name": "ProgressStyleModel",
          "model_module_version": "1.5.0",
          "state": {
            "_model_module": "@jupyter-widgets/controls",
            "_model_module_version": "1.5.0",
            "_model_name": "ProgressStyleModel",
            "_view_count": null,
            "_view_module": "@jupyter-widgets/base",
            "_view_module_version": "1.2.0",
            "_view_name": "StyleView",
            "bar_color": null,
            "description_width": ""
          }
        },
        "9ab4086b4dfc4583b2b4898627b844a5": {
          "model_module": "@jupyter-widgets/base",
          "model_name": "LayoutModel",
          "model_module_version": "1.2.0",
          "state": {
            "_model_module": "@jupyter-widgets/base",
            "_model_module_version": "1.2.0",
            "_model_name": "LayoutModel",
            "_view_count": null,
            "_view_module": "@jupyter-widgets/base",
            "_view_module_version": "1.2.0",
            "_view_name": "LayoutView",
            "align_content": null,
            "align_items": null,
            "align_self": null,
            "border": null,
            "bottom": null,
            "display": null,
            "flex": null,
            "flex_flow": null,
            "grid_area": null,
            "grid_auto_columns": null,
            "grid_auto_flow": null,
            "grid_auto_rows": null,
            "grid_column": null,
            "grid_gap": null,
            "grid_row": null,
            "grid_template_areas": null,
            "grid_template_columns": null,
            "grid_template_rows": null,
            "height": null,
            "justify_content": null,
            "justify_items": null,
            "left": null,
            "margin": null,
            "max_height": null,
            "max_width": null,
            "min_height": null,
            "min_width": null,
            "object_fit": null,
            "object_position": null,
            "order": null,
            "overflow": null,
            "overflow_x": null,
            "overflow_y": null,
            "padding": null,
            "right": null,
            "top": null,
            "visibility": null,
            "width": null
          }
        },
        "5db5ecdd41494100badfebdc7b51192c": {
          "model_module": "@jupyter-widgets/controls",
          "model_name": "DescriptionStyleModel",
          "model_module_version": "1.5.0",
          "state": {
            "_model_module": "@jupyter-widgets/controls",
            "_model_module_version": "1.5.0",
            "_model_name": "DescriptionStyleModel",
            "_view_count": null,
            "_view_module": "@jupyter-widgets/base",
            "_view_module_version": "1.2.0",
            "_view_name": "StyleView",
            "description_width": ""
          }
        },
        "0546ab7cfc0b48aca9e30fb38a99df78": {
          "model_module": "@jupyter-widgets/controls",
          "model_name": "HBoxModel",
          "model_module_version": "1.5.0",
          "state": {
            "_dom_classes": [],
            "_model_module": "@jupyter-widgets/controls",
            "_model_module_version": "1.5.0",
            "_model_name": "HBoxModel",
            "_view_count": null,
            "_view_module": "@jupyter-widgets/controls",
            "_view_module_version": "1.5.0",
            "_view_name": "HBoxView",
            "box_style": "",
            "children": [
              "IPY_MODEL_481f39b91ae046e4bf8b998a811ff639",
              "IPY_MODEL_51e5e3b90fd544ac896180c0675873ad",
              "IPY_MODEL_6607f9dbe6fe4a859dc654d5f11e6d3e"
            ],
            "layout": "IPY_MODEL_1c4f894d9ab74e8cb97b7d51b67f64c5"
          }
        },
        "481f39b91ae046e4bf8b998a811ff639": {
          "model_module": "@jupyter-widgets/controls",
          "model_name": "HTMLModel",
          "model_module_version": "1.5.0",
          "state": {
            "_dom_classes": [],
            "_model_module": "@jupyter-widgets/controls",
            "_model_module_version": "1.5.0",
            "_model_name": "HTMLModel",
            "_view_count": null,
            "_view_module": "@jupyter-widgets/controls",
            "_view_module_version": "1.5.0",
            "_view_name": "HTMLView",
            "description": "",
            "description_tooltip": null,
            "layout": "IPY_MODEL_4c24bf8e81e842b4a52fbb0c428c2245",
            "placeholder": "​",
            "style": "IPY_MODEL_175c9f968efa49fbb1e42b43bd736f6d",
            "value": "Downloading: 100%"
          }
        },
        "51e5e3b90fd544ac896180c0675873ad": {
          "model_module": "@jupyter-widgets/controls",
          "model_name": "FloatProgressModel",
          "model_module_version": "1.5.0",
          "state": {
            "_dom_classes": [],
            "_model_module": "@jupyter-widgets/controls",
            "_model_module_version": "1.5.0",
            "_model_name": "FloatProgressModel",
            "_view_count": null,
            "_view_module": "@jupyter-widgets/controls",
            "_view_module_version": "1.5.0",
            "_view_name": "ProgressView",
            "bar_style": "success",
            "description": "",
            "description_tooltip": null,
            "layout": "IPY_MODEL_0a166533dc0b477cb3ba93ab80f6c652",
            "max": 116,
            "min": 0,
            "orientation": "horizontal",
            "style": "IPY_MODEL_416476f07f584d969f8fd910820480ee",
            "value": 116
          }
        },
        "6607f9dbe6fe4a859dc654d5f11e6d3e": {
          "model_module": "@jupyter-widgets/controls",
          "model_name": "HTMLModel",
          "model_module_version": "1.5.0",
          "state": {
            "_dom_classes": [],
            "_model_module": "@jupyter-widgets/controls",
            "_model_module_version": "1.5.0",
            "_model_name": "HTMLModel",
            "_view_count": null,
            "_view_module": "@jupyter-widgets/controls",
            "_view_module_version": "1.5.0",
            "_view_name": "HTMLView",
            "description": "",
            "description_tooltip": null,
            "layout": "IPY_MODEL_dbc1b244d7394cfc9bb04e8c0397773e",
            "placeholder": "​",
            "style": "IPY_MODEL_02a33984f8964aa08b65117c2f8ce813",
            "value": " 116/116 [00:00&lt;00:00, 3.30kB/s]"
          }
        },
        "1c4f894d9ab74e8cb97b7d51b67f64c5": {
          "model_module": "@jupyter-widgets/base",
          "model_name": "LayoutModel",
          "model_module_version": "1.2.0",
          "state": {
            "_model_module": "@jupyter-widgets/base",
            "_model_module_version": "1.2.0",
            "_model_name": "LayoutModel",
            "_view_count": null,
            "_view_module": "@jupyter-widgets/base",
            "_view_module_version": "1.2.0",
            "_view_name": "LayoutView",
            "align_content": null,
            "align_items": null,
            "align_self": null,
            "border": null,
            "bottom": null,
            "display": null,
            "flex": null,
            "flex_flow": null,
            "grid_area": null,
            "grid_auto_columns": null,
            "grid_auto_flow": null,
            "grid_auto_rows": null,
            "grid_column": null,
            "grid_gap": null,
            "grid_row": null,
            "grid_template_areas": null,
            "grid_template_columns": null,
            "grid_template_rows": null,
            "height": null,
            "justify_content": null,
            "justify_items": null,
            "left": null,
            "margin": null,
            "max_height": null,
            "max_width": null,
            "min_height": null,
            "min_width": null,
            "object_fit": null,
            "object_position": null,
            "order": null,
            "overflow": null,
            "overflow_x": null,
            "overflow_y": null,
            "padding": null,
            "right": null,
            "top": null,
            "visibility": null,
            "width": null
          }
        },
        "4c24bf8e81e842b4a52fbb0c428c2245": {
          "model_module": "@jupyter-widgets/base",
          "model_name": "LayoutModel",
          "model_module_version": "1.2.0",
          "state": {
            "_model_module": "@jupyter-widgets/base",
            "_model_module_version": "1.2.0",
            "_model_name": "LayoutModel",
            "_view_count": null,
            "_view_module": "@jupyter-widgets/base",
            "_view_module_version": "1.2.0",
            "_view_name": "LayoutView",
            "align_content": null,
            "align_items": null,
            "align_self": null,
            "border": null,
            "bottom": null,
            "display": null,
            "flex": null,
            "flex_flow": null,
            "grid_area": null,
            "grid_auto_columns": null,
            "grid_auto_flow": null,
            "grid_auto_rows": null,
            "grid_column": null,
            "grid_gap": null,
            "grid_row": null,
            "grid_template_areas": null,
            "grid_template_columns": null,
            "grid_template_rows": null,
            "height": null,
            "justify_content": null,
            "justify_items": null,
            "left": null,
            "margin": null,
            "max_height": null,
            "max_width": null,
            "min_height": null,
            "min_width": null,
            "object_fit": null,
            "object_position": null,
            "order": null,
            "overflow": null,
            "overflow_x": null,
            "overflow_y": null,
            "padding": null,
            "right": null,
            "top": null,
            "visibility": null,
            "width": null
          }
        },
        "175c9f968efa49fbb1e42b43bd736f6d": {
          "model_module": "@jupyter-widgets/controls",
          "model_name": "DescriptionStyleModel",
          "model_module_version": "1.5.0",
          "state": {
            "_model_module": "@jupyter-widgets/controls",
            "_model_module_version": "1.5.0",
            "_model_name": "DescriptionStyleModel",
            "_view_count": null,
            "_view_module": "@jupyter-widgets/base",
            "_view_module_version": "1.2.0",
            "_view_name": "StyleView",
            "description_width": ""
          }
        },
        "0a166533dc0b477cb3ba93ab80f6c652": {
          "model_module": "@jupyter-widgets/base",
          "model_name": "LayoutModel",
          "model_module_version": "1.2.0",
          "state": {
            "_model_module": "@jupyter-widgets/base",
            "_model_module_version": "1.2.0",
            "_model_name": "LayoutModel",
            "_view_count": null,
            "_view_module": "@jupyter-widgets/base",
            "_view_module_version": "1.2.0",
            "_view_name": "LayoutView",
            "align_content": null,
            "align_items": null,
            "align_self": null,
            "border": null,
            "bottom": null,
            "display": null,
            "flex": null,
            "flex_flow": null,
            "grid_area": null,
            "grid_auto_columns": null,
            "grid_auto_flow": null,
            "grid_auto_rows": null,
            "grid_column": null,
            "grid_gap": null,
            "grid_row": null,
            "grid_template_areas": null,
            "grid_template_columns": null,
            "grid_template_rows": null,
            "height": null,
            "justify_content": null,
            "justify_items": null,
            "left": null,
            "margin": null,
            "max_height": null,
            "max_width": null,
            "min_height": null,
            "min_width": null,
            "object_fit": null,
            "object_position": null,
            "order": null,
            "overflow": null,
            "overflow_x": null,
            "overflow_y": null,
            "padding": null,
            "right": null,
            "top": null,
            "visibility": null,
            "width": null
          }
        },
        "416476f07f584d969f8fd910820480ee": {
          "model_module": "@jupyter-widgets/controls",
          "model_name": "ProgressStyleModel",
          "model_module_version": "1.5.0",
          "state": {
            "_model_module": "@jupyter-widgets/controls",
            "_model_module_version": "1.5.0",
            "_model_name": "ProgressStyleModel",
            "_view_count": null,
            "_view_module": "@jupyter-widgets/base",
            "_view_module_version": "1.2.0",
            "_view_name": "StyleView",
            "bar_color": null,
            "description_width": ""
          }
        },
        "dbc1b244d7394cfc9bb04e8c0397773e": {
          "model_module": "@jupyter-widgets/base",
          "model_name": "LayoutModel",
          "model_module_version": "1.2.0",
          "state": {
            "_model_module": "@jupyter-widgets/base",
            "_model_module_version": "1.2.0",
            "_model_name": "LayoutModel",
            "_view_count": null,
            "_view_module": "@jupyter-widgets/base",
            "_view_module_version": "1.2.0",
            "_view_name": "LayoutView",
            "align_content": null,
            "align_items": null,
            "align_self": null,
            "border": null,
            "bottom": null,
            "display": null,
            "flex": null,
            "flex_flow": null,
            "grid_area": null,
            "grid_auto_columns": null,
            "grid_auto_flow": null,
            "grid_auto_rows": null,
            "grid_column": null,
            "grid_gap": null,
            "grid_row": null,
            "grid_template_areas": null,
            "grid_template_columns": null,
            "grid_template_rows": null,
            "height": null,
            "justify_content": null,
            "justify_items": null,
            "left": null,
            "margin": null,
            "max_height": null,
            "max_width": null,
            "min_height": null,
            "min_width": null,
            "object_fit": null,
            "object_position": null,
            "order": null,
            "overflow": null,
            "overflow_x": null,
            "overflow_y": null,
            "padding": null,
            "right": null,
            "top": null,
            "visibility": null,
            "width": null
          }
        },
        "02a33984f8964aa08b65117c2f8ce813": {
          "model_module": "@jupyter-widgets/controls",
          "model_name": "DescriptionStyleModel",
          "model_module_version": "1.5.0",
          "state": {
            "_model_module": "@jupyter-widgets/controls",
            "_model_module_version": "1.5.0",
            "_model_name": "DescriptionStyleModel",
            "_view_count": null,
            "_view_module": "@jupyter-widgets/base",
            "_view_module_version": "1.2.0",
            "_view_name": "StyleView",
            "description_width": ""
          }
        },
        "846706fae2fe4774b7a42804b483f0b7": {
          "model_module": "@jupyter-widgets/controls",
          "model_name": "HBoxModel",
          "model_module_version": "1.5.0",
          "state": {
            "_dom_classes": [],
            "_model_module": "@jupyter-widgets/controls",
            "_model_module_version": "1.5.0",
            "_model_name": "HBoxModel",
            "_view_count": null,
            "_view_module": "@jupyter-widgets/controls",
            "_view_module_version": "1.5.0",
            "_view_name": "HBoxView",
            "box_style": "",
            "children": [
              "IPY_MODEL_a80428a00e23475abb6d9ffa34db18fa",
              "IPY_MODEL_453787aa5405424f915738e9c4d4c80e",
              "IPY_MODEL_21f168af92ea46e7998a32a8797d1adf"
            ],
            "layout": "IPY_MODEL_02777fe16bb04dba9b1daf82379d9c24"
          }
        },
        "a80428a00e23475abb6d9ffa34db18fa": {
          "model_module": "@jupyter-widgets/controls",
          "model_name": "HTMLModel",
          "model_module_version": "1.5.0",
          "state": {
            "_dom_classes": [],
            "_model_module": "@jupyter-widgets/controls",
            "_model_module_version": "1.5.0",
            "_model_name": "HTMLModel",
            "_view_count": null,
            "_view_module": "@jupyter-widgets/controls",
            "_view_module_version": "1.5.0",
            "_view_name": "HTMLView",
            "description": "",
            "description_tooltip": null,
            "layout": "IPY_MODEL_3f66e7167e094e599e337651b6b4fc2f",
            "placeholder": "​",
            "style": "IPY_MODEL_52cef87fc2f2417e90688f32e989c2af",
            "value": "Downloading: 100%"
          }
        },
        "453787aa5405424f915738e9c4d4c80e": {
          "model_module": "@jupyter-widgets/controls",
          "model_name": "FloatProgressModel",
          "model_module_version": "1.5.0",
          "state": {
            "_dom_classes": [],
            "_model_module": "@jupyter-widgets/controls",
            "_model_module_version": "1.5.0",
            "_model_name": "FloatProgressModel",
            "_view_count": null,
            "_view_module": "@jupyter-widgets/controls",
            "_view_module_version": "1.5.0",
            "_view_name": "ProgressView",
            "bar_style": "success",
            "description": "",
            "description_tooltip": null,
            "layout": "IPY_MODEL_d281a5b85b29410d8363922e642480f7",
            "max": 39265,
            "min": 0,
            "orientation": "horizontal",
            "style": "IPY_MODEL_6d5f07adf3b34201aab48738e0fa5000",
            "value": 39265
          }
        },
        "21f168af92ea46e7998a32a8797d1adf": {
          "model_module": "@jupyter-widgets/controls",
          "model_name": "HTMLModel",
          "model_module_version": "1.5.0",
          "state": {
            "_dom_classes": [],
            "_model_module": "@jupyter-widgets/controls",
            "_model_module_version": "1.5.0",
            "_model_name": "HTMLModel",
            "_view_count": null,
            "_view_module": "@jupyter-widgets/controls",
            "_view_module_version": "1.5.0",
            "_view_name": "HTMLView",
            "description": "",
            "description_tooltip": null,
            "layout": "IPY_MODEL_f6b16c21a1914b52b66928dbc7d66bf3",
            "placeholder": "​",
            "style": "IPY_MODEL_14c4c22b861b4e13a0c41164d2db9350",
            "value": " 39.3k/39.3k [00:00&lt;00:00, 794kB/s]"
          }
        },
        "02777fe16bb04dba9b1daf82379d9c24": {
          "model_module": "@jupyter-widgets/base",
          "model_name": "LayoutModel",
          "model_module_version": "1.2.0",
          "state": {
            "_model_module": "@jupyter-widgets/base",
            "_model_module_version": "1.2.0",
            "_model_name": "LayoutModel",
            "_view_count": null,
            "_view_module": "@jupyter-widgets/base",
            "_view_module_version": "1.2.0",
            "_view_name": "LayoutView",
            "align_content": null,
            "align_items": null,
            "align_self": null,
            "border": null,
            "bottom": null,
            "display": null,
            "flex": null,
            "flex_flow": null,
            "grid_area": null,
            "grid_auto_columns": null,
            "grid_auto_flow": null,
            "grid_auto_rows": null,
            "grid_column": null,
            "grid_gap": null,
            "grid_row": null,
            "grid_template_areas": null,
            "grid_template_columns": null,
            "grid_template_rows": null,
            "height": null,
            "justify_content": null,
            "justify_items": null,
            "left": null,
            "margin": null,
            "max_height": null,
            "max_width": null,
            "min_height": null,
            "min_width": null,
            "object_fit": null,
            "object_position": null,
            "order": null,
            "overflow": null,
            "overflow_x": null,
            "overflow_y": null,
            "padding": null,
            "right": null,
            "top": null,
            "visibility": null,
            "width": null
          }
        },
        "3f66e7167e094e599e337651b6b4fc2f": {
          "model_module": "@jupyter-widgets/base",
          "model_name": "LayoutModel",
          "model_module_version": "1.2.0",
          "state": {
            "_model_module": "@jupyter-widgets/base",
            "_model_module_version": "1.2.0",
            "_model_name": "LayoutModel",
            "_view_count": null,
            "_view_module": "@jupyter-widgets/base",
            "_view_module_version": "1.2.0",
            "_view_name": "LayoutView",
            "align_content": null,
            "align_items": null,
            "align_self": null,
            "border": null,
            "bottom": null,
            "display": null,
            "flex": null,
            "flex_flow": null,
            "grid_area": null,
            "grid_auto_columns": null,
            "grid_auto_flow": null,
            "grid_auto_rows": null,
            "grid_column": null,
            "grid_gap": null,
            "grid_row": null,
            "grid_template_areas": null,
            "grid_template_columns": null,
            "grid_template_rows": null,
            "height": null,
            "justify_content": null,
            "justify_items": null,
            "left": null,
            "margin": null,
            "max_height": null,
            "max_width": null,
            "min_height": null,
            "min_width": null,
            "object_fit": null,
            "object_position": null,
            "order": null,
            "overflow": null,
            "overflow_x": null,
            "overflow_y": null,
            "padding": null,
            "right": null,
            "top": null,
            "visibility": null,
            "width": null
          }
        },
        "52cef87fc2f2417e90688f32e989c2af": {
          "model_module": "@jupyter-widgets/controls",
          "model_name": "DescriptionStyleModel",
          "model_module_version": "1.5.0",
          "state": {
            "_model_module": "@jupyter-widgets/controls",
            "_model_module_version": "1.5.0",
            "_model_name": "DescriptionStyleModel",
            "_view_count": null,
            "_view_module": "@jupyter-widgets/base",
            "_view_module_version": "1.2.0",
            "_view_name": "StyleView",
            "description_width": ""
          }
        },
        "d281a5b85b29410d8363922e642480f7": {
          "model_module": "@jupyter-widgets/base",
          "model_name": "LayoutModel",
          "model_module_version": "1.2.0",
          "state": {
            "_model_module": "@jupyter-widgets/base",
            "_model_module_version": "1.2.0",
            "_model_name": "LayoutModel",
            "_view_count": null,
            "_view_module": "@jupyter-widgets/base",
            "_view_module_version": "1.2.0",
            "_view_name": "LayoutView",
            "align_content": null,
            "align_items": null,
            "align_self": null,
            "border": null,
            "bottom": null,
            "display": null,
            "flex": null,
            "flex_flow": null,
            "grid_area": null,
            "grid_auto_columns": null,
            "grid_auto_flow": null,
            "grid_auto_rows": null,
            "grid_column": null,
            "grid_gap": null,
            "grid_row": null,
            "grid_template_areas": null,
            "grid_template_columns": null,
            "grid_template_rows": null,
            "height": null,
            "justify_content": null,
            "justify_items": null,
            "left": null,
            "margin": null,
            "max_height": null,
            "max_width": null,
            "min_height": null,
            "min_width": null,
            "object_fit": null,
            "object_position": null,
            "order": null,
            "overflow": null,
            "overflow_x": null,
            "overflow_y": null,
            "padding": null,
            "right": null,
            "top": null,
            "visibility": null,
            "width": null
          }
        },
        "6d5f07adf3b34201aab48738e0fa5000": {
          "model_module": "@jupyter-widgets/controls",
          "model_name": "ProgressStyleModel",
          "model_module_version": "1.5.0",
          "state": {
            "_model_module": "@jupyter-widgets/controls",
            "_model_module_version": "1.5.0",
            "_model_name": "ProgressStyleModel",
            "_view_count": null,
            "_view_module": "@jupyter-widgets/base",
            "_view_module_version": "1.2.0",
            "_view_name": "StyleView",
            "bar_color": null,
            "description_width": ""
          }
        },
        "f6b16c21a1914b52b66928dbc7d66bf3": {
          "model_module": "@jupyter-widgets/base",
          "model_name": "LayoutModel",
          "model_module_version": "1.2.0",
          "state": {
            "_model_module": "@jupyter-widgets/base",
            "_model_module_version": "1.2.0",
            "_model_name": "LayoutModel",
            "_view_count": null,
            "_view_module": "@jupyter-widgets/base",
            "_view_module_version": "1.2.0",
            "_view_name": "LayoutView",
            "align_content": null,
            "align_items": null,
            "align_self": null,
            "border": null,
            "bottom": null,
            "display": null,
            "flex": null,
            "flex_flow": null,
            "grid_area": null,
            "grid_auto_columns": null,
            "grid_auto_flow": null,
            "grid_auto_rows": null,
            "grid_column": null,
            "grid_gap": null,
            "grid_row": null,
            "grid_template_areas": null,
            "grid_template_columns": null,
            "grid_template_rows": null,
            "height": null,
            "justify_content": null,
            "justify_items": null,
            "left": null,
            "margin": null,
            "max_height": null,
            "max_width": null,
            "min_height": null,
            "min_width": null,
            "object_fit": null,
            "object_position": null,
            "order": null,
            "overflow": null,
            "overflow_x": null,
            "overflow_y": null,
            "padding": null,
            "right": null,
            "top": null,
            "visibility": null,
            "width": null
          }
        },
        "14c4c22b861b4e13a0c41164d2db9350": {
          "model_module": "@jupyter-widgets/controls",
          "model_name": "DescriptionStyleModel",
          "model_module_version": "1.5.0",
          "state": {
            "_model_module": "@jupyter-widgets/controls",
            "_model_module_version": "1.5.0",
            "_model_name": "DescriptionStyleModel",
            "_view_count": null,
            "_view_module": "@jupyter-widgets/base",
            "_view_module_version": "1.2.0",
            "_view_name": "StyleView",
            "description_width": ""
          }
        },
        "091cf79a787c42928f11599d71332fc8": {
          "model_module": "@jupyter-widgets/controls",
          "model_name": "HBoxModel",
          "model_module_version": "1.5.0",
          "state": {
            "_dom_classes": [],
            "_model_module": "@jupyter-widgets/controls",
            "_model_module_version": "1.5.0",
            "_model_name": "HBoxModel",
            "_view_count": null,
            "_view_module": "@jupyter-widgets/controls",
            "_view_module_version": "1.5.0",
            "_view_name": "HBoxView",
            "box_style": "",
            "children": [
              "IPY_MODEL_840d146c3883416186b72f6e9e2b085f",
              "IPY_MODEL_e5e64a3fa2464b2793a3e8da42c8bb3c",
              "IPY_MODEL_5831c75a219e4c65a2c1cc3151b8027e"
            ],
            "layout": "IPY_MODEL_363933de526e46ad8204e96966c9ef73"
          }
        },
        "840d146c3883416186b72f6e9e2b085f": {
          "model_module": "@jupyter-widgets/controls",
          "model_name": "HTMLModel",
          "model_module_version": "1.5.0",
          "state": {
            "_dom_classes": [],
            "_model_module": "@jupyter-widgets/controls",
            "_model_module_version": "1.5.0",
            "_model_name": "HTMLModel",
            "_view_count": null,
            "_view_module": "@jupyter-widgets/controls",
            "_view_module_version": "1.5.0",
            "_view_name": "HTMLView",
            "description": "",
            "description_tooltip": null,
            "layout": "IPY_MODEL_213f70000ec84bfc893ce6f51922d61f",
            "placeholder": "​",
            "style": "IPY_MODEL_ff37b466783f4ddaa8c8887e498da297",
            "value": "Downloading: 100%"
          }
        },
        "e5e64a3fa2464b2793a3e8da42c8bb3c": {
          "model_module": "@jupyter-widgets/controls",
          "model_name": "FloatProgressModel",
          "model_module_version": "1.5.0",
          "state": {
            "_dom_classes": [],
            "_model_module": "@jupyter-widgets/controls",
            "_model_module_version": "1.5.0",
            "_model_name": "FloatProgressModel",
            "_view_count": null,
            "_view_module": "@jupyter-widgets/controls",
            "_view_module_version": "1.5.0",
            "_view_name": "ProgressView",
            "bar_style": "success",
            "description": "",
            "description_tooltip": null,
            "layout": "IPY_MODEL_ee58d005989445d1b09680073559a071",
            "max": 349,
            "min": 0,
            "orientation": "horizontal",
            "style": "IPY_MODEL_1af4619baa5345ae939a44c298019b9b",
            "value": 349
          }
        },
        "5831c75a219e4c65a2c1cc3151b8027e": {
          "model_module": "@jupyter-widgets/controls",
          "model_name": "HTMLModel",
          "model_module_version": "1.5.0",
          "state": {
            "_dom_classes": [],
            "_model_module": "@jupyter-widgets/controls",
            "_model_module_version": "1.5.0",
            "_model_name": "HTMLModel",
            "_view_count": null,
            "_view_module": "@jupyter-widgets/controls",
            "_view_module_version": "1.5.0",
            "_view_name": "HTMLView",
            "description": "",
            "description_tooltip": null,
            "layout": "IPY_MODEL_73d09e816ac9422e8d6322b34174f946",
            "placeholder": "​",
            "style": "IPY_MODEL_699b160618744aae91ee128dc6e94e9b",
            "value": " 349/349 [00:00&lt;00:00, 10.2kB/s]"
          }
        },
        "363933de526e46ad8204e96966c9ef73": {
          "model_module": "@jupyter-widgets/base",
          "model_name": "LayoutModel",
          "model_module_version": "1.2.0",
          "state": {
            "_model_module": "@jupyter-widgets/base",
            "_model_module_version": "1.2.0",
            "_model_name": "LayoutModel",
            "_view_count": null,
            "_view_module": "@jupyter-widgets/base",
            "_view_module_version": "1.2.0",
            "_view_name": "LayoutView",
            "align_content": null,
            "align_items": null,
            "align_self": null,
            "border": null,
            "bottom": null,
            "display": null,
            "flex": null,
            "flex_flow": null,
            "grid_area": null,
            "grid_auto_columns": null,
            "grid_auto_flow": null,
            "grid_auto_rows": null,
            "grid_column": null,
            "grid_gap": null,
            "grid_row": null,
            "grid_template_areas": null,
            "grid_template_columns": null,
            "grid_template_rows": null,
            "height": null,
            "justify_content": null,
            "justify_items": null,
            "left": null,
            "margin": null,
            "max_height": null,
            "max_width": null,
            "min_height": null,
            "min_width": null,
            "object_fit": null,
            "object_position": null,
            "order": null,
            "overflow": null,
            "overflow_x": null,
            "overflow_y": null,
            "padding": null,
            "right": null,
            "top": null,
            "visibility": null,
            "width": null
          }
        },
        "213f70000ec84bfc893ce6f51922d61f": {
          "model_module": "@jupyter-widgets/base",
          "model_name": "LayoutModel",
          "model_module_version": "1.2.0",
          "state": {
            "_model_module": "@jupyter-widgets/base",
            "_model_module_version": "1.2.0",
            "_model_name": "LayoutModel",
            "_view_count": null,
            "_view_module": "@jupyter-widgets/base",
            "_view_module_version": "1.2.0",
            "_view_name": "LayoutView",
            "align_content": null,
            "align_items": null,
            "align_self": null,
            "border": null,
            "bottom": null,
            "display": null,
            "flex": null,
            "flex_flow": null,
            "grid_area": null,
            "grid_auto_columns": null,
            "grid_auto_flow": null,
            "grid_auto_rows": null,
            "grid_column": null,
            "grid_gap": null,
            "grid_row": null,
            "grid_template_areas": null,
            "grid_template_columns": null,
            "grid_template_rows": null,
            "height": null,
            "justify_content": null,
            "justify_items": null,
            "left": null,
            "margin": null,
            "max_height": null,
            "max_width": null,
            "min_height": null,
            "min_width": null,
            "object_fit": null,
            "object_position": null,
            "order": null,
            "overflow": null,
            "overflow_x": null,
            "overflow_y": null,
            "padding": null,
            "right": null,
            "top": null,
            "visibility": null,
            "width": null
          }
        },
        "ff37b466783f4ddaa8c8887e498da297": {
          "model_module": "@jupyter-widgets/controls",
          "model_name": "DescriptionStyleModel",
          "model_module_version": "1.5.0",
          "state": {
            "_model_module": "@jupyter-widgets/controls",
            "_model_module_version": "1.5.0",
            "_model_name": "DescriptionStyleModel",
            "_view_count": null,
            "_view_module": "@jupyter-widgets/base",
            "_view_module_version": "1.2.0",
            "_view_name": "StyleView",
            "description_width": ""
          }
        },
        "ee58d005989445d1b09680073559a071": {
          "model_module": "@jupyter-widgets/base",
          "model_name": "LayoutModel",
          "model_module_version": "1.2.0",
          "state": {
            "_model_module": "@jupyter-widgets/base",
            "_model_module_version": "1.2.0",
            "_model_name": "LayoutModel",
            "_view_count": null,
            "_view_module": "@jupyter-widgets/base",
            "_view_module_version": "1.2.0",
            "_view_name": "LayoutView",
            "align_content": null,
            "align_items": null,
            "align_self": null,
            "border": null,
            "bottom": null,
            "display": null,
            "flex": null,
            "flex_flow": null,
            "grid_area": null,
            "grid_auto_columns": null,
            "grid_auto_flow": null,
            "grid_auto_rows": null,
            "grid_column": null,
            "grid_gap": null,
            "grid_row": null,
            "grid_template_areas": null,
            "grid_template_columns": null,
            "grid_template_rows": null,
            "height": null,
            "justify_content": null,
            "justify_items": null,
            "left": null,
            "margin": null,
            "max_height": null,
            "max_width": null,
            "min_height": null,
            "min_width": null,
            "object_fit": null,
            "object_position": null,
            "order": null,
            "overflow": null,
            "overflow_x": null,
            "overflow_y": null,
            "padding": null,
            "right": null,
            "top": null,
            "visibility": null,
            "width": null
          }
        },
        "1af4619baa5345ae939a44c298019b9b": {
          "model_module": "@jupyter-widgets/controls",
          "model_name": "ProgressStyleModel",
          "model_module_version": "1.5.0",
          "state": {
            "_model_module": "@jupyter-widgets/controls",
            "_model_module_version": "1.5.0",
            "_model_name": "ProgressStyleModel",
            "_view_count": null,
            "_view_module": "@jupyter-widgets/base",
            "_view_module_version": "1.2.0",
            "_view_name": "StyleView",
            "bar_color": null,
            "description_width": ""
          }
        },
        "73d09e816ac9422e8d6322b34174f946": {
          "model_module": "@jupyter-widgets/base",
          "model_name": "LayoutModel",
          "model_module_version": "1.2.0",
          "state": {
            "_model_module": "@jupyter-widgets/base",
            "_model_module_version": "1.2.0",
            "_model_name": "LayoutModel",
            "_view_count": null,
            "_view_module": "@jupyter-widgets/base",
            "_view_module_version": "1.2.0",
            "_view_name": "LayoutView",
            "align_content": null,
            "align_items": null,
            "align_self": null,
            "border": null,
            "bottom": null,
            "display": null,
            "flex": null,
            "flex_flow": null,
            "grid_area": null,
            "grid_auto_columns": null,
            "grid_auto_flow": null,
            "grid_auto_rows": null,
            "grid_column": null,
            "grid_gap": null,
            "grid_row": null,
            "grid_template_areas": null,
            "grid_template_columns": null,
            "grid_template_rows": null,
            "height": null,
            "justify_content": null,
            "justify_items": null,
            "left": null,
            "margin": null,
            "max_height": null,
            "max_width": null,
            "min_height": null,
            "min_width": null,
            "object_fit": null,
            "object_position": null,
            "order": null,
            "overflow": null,
            "overflow_x": null,
            "overflow_y": null,
            "padding": null,
            "right": null,
            "top": null,
            "visibility": null,
            "width": null
          }
        },
        "699b160618744aae91ee128dc6e94e9b": {
          "model_module": "@jupyter-widgets/controls",
          "model_name": "DescriptionStyleModel",
          "model_module_version": "1.5.0",
          "state": {
            "_model_module": "@jupyter-widgets/controls",
            "_model_module_version": "1.5.0",
            "_model_name": "DescriptionStyleModel",
            "_view_count": null,
            "_view_module": "@jupyter-widgets/base",
            "_view_module_version": "1.2.0",
            "_view_name": "StyleView",
            "description_width": ""
          }
        },
        "bd57815258ab42c8bfbc040b659f8d38": {
          "model_module": "@jupyter-widgets/controls",
          "model_name": "HBoxModel",
          "model_module_version": "1.5.0",
          "state": {
            "_dom_classes": [],
            "_model_module": "@jupyter-widgets/controls",
            "_model_module_version": "1.5.0",
            "_model_name": "HBoxModel",
            "_view_count": null,
            "_view_module": "@jupyter-widgets/controls",
            "_view_module_version": "1.5.0",
            "_view_name": "HBoxView",
            "box_style": "",
            "children": [
              "IPY_MODEL_19fb8793a67943c597436b1e9de0ad92",
              "IPY_MODEL_ce0dfa7f961041a790dbd383064bc668",
              "IPY_MODEL_233020ffb66644ab86ce28d78d62de89"
            ],
            "layout": "IPY_MODEL_67822174ef8f464ab6603f6cd6be171d"
          }
        },
        "19fb8793a67943c597436b1e9de0ad92": {
          "model_module": "@jupyter-widgets/controls",
          "model_name": "HTMLModel",
          "model_module_version": "1.5.0",
          "state": {
            "_dom_classes": [],
            "_model_module": "@jupyter-widgets/controls",
            "_model_module_version": "1.5.0",
            "_model_name": "HTMLModel",
            "_view_count": null,
            "_view_module": "@jupyter-widgets/controls",
            "_view_module_version": "1.5.0",
            "_view_name": "HTMLView",
            "description": "",
            "description_tooltip": null,
            "layout": "IPY_MODEL_343034be34964902bad5c9b7b9515a51",
            "placeholder": "​",
            "style": "IPY_MODEL_bf6c239ddfdf4792b18a867035149b44",
            "value": "Downloading: 100%"
          }
        },
        "ce0dfa7f961041a790dbd383064bc668": {
          "model_module": "@jupyter-widgets/controls",
          "model_name": "FloatProgressModel",
          "model_module_version": "1.5.0",
          "state": {
            "_dom_classes": [],
            "_model_module": "@jupyter-widgets/controls",
            "_model_module_version": "1.5.0",
            "_model_name": "FloatProgressModel",
            "_view_count": null,
            "_view_module": "@jupyter-widgets/controls",
            "_view_module_version": "1.5.0",
            "_view_name": "ProgressView",
            "bar_style": "success",
            "description": "",
            "description_tooltip": null,
            "layout": "IPY_MODEL_95cdc3908aba4121a09cecfd6f08d25d",
            "max": 90888945,
            "min": 0,
            "orientation": "horizontal",
            "style": "IPY_MODEL_efede31e1dc14d9ebd5d51ad3e668c67",
            "value": 90888945
          }
        },
        "233020ffb66644ab86ce28d78d62de89": {
          "model_module": "@jupyter-widgets/controls",
          "model_name": "HTMLModel",
          "model_module_version": "1.5.0",
          "state": {
            "_dom_classes": [],
            "_model_module": "@jupyter-widgets/controls",
            "_model_module_version": "1.5.0",
            "_model_name": "HTMLModel",
            "_view_count": null,
            "_view_module": "@jupyter-widgets/controls",
            "_view_module_version": "1.5.0",
            "_view_name": "HTMLView",
            "description": "",
            "description_tooltip": null,
            "layout": "IPY_MODEL_95d7d109c4f842258669a901268851cd",
            "placeholder": "​",
            "style": "IPY_MODEL_e0191882b5c749ed94cdff6aa1311c3e",
            "value": " 90.9M/90.9M [00:02&lt;00:00, 35.0MB/s]"
          }
        },
        "67822174ef8f464ab6603f6cd6be171d": {
          "model_module": "@jupyter-widgets/base",
          "model_name": "LayoutModel",
          "model_module_version": "1.2.0",
          "state": {
            "_model_module": "@jupyter-widgets/base",
            "_model_module_version": "1.2.0",
            "_model_name": "LayoutModel",
            "_view_count": null,
            "_view_module": "@jupyter-widgets/base",
            "_view_module_version": "1.2.0",
            "_view_name": "LayoutView",
            "align_content": null,
            "align_items": null,
            "align_self": null,
            "border": null,
            "bottom": null,
            "display": null,
            "flex": null,
            "flex_flow": null,
            "grid_area": null,
            "grid_auto_columns": null,
            "grid_auto_flow": null,
            "grid_auto_rows": null,
            "grid_column": null,
            "grid_gap": null,
            "grid_row": null,
            "grid_template_areas": null,
            "grid_template_columns": null,
            "grid_template_rows": null,
            "height": null,
            "justify_content": null,
            "justify_items": null,
            "left": null,
            "margin": null,
            "max_height": null,
            "max_width": null,
            "min_height": null,
            "min_width": null,
            "object_fit": null,
            "object_position": null,
            "order": null,
            "overflow": null,
            "overflow_x": null,
            "overflow_y": null,
            "padding": null,
            "right": null,
            "top": null,
            "visibility": null,
            "width": null
          }
        },
        "343034be34964902bad5c9b7b9515a51": {
          "model_module": "@jupyter-widgets/base",
          "model_name": "LayoutModel",
          "model_module_version": "1.2.0",
          "state": {
            "_model_module": "@jupyter-widgets/base",
            "_model_module_version": "1.2.0",
            "_model_name": "LayoutModel",
            "_view_count": null,
            "_view_module": "@jupyter-widgets/base",
            "_view_module_version": "1.2.0",
            "_view_name": "LayoutView",
            "align_content": null,
            "align_items": null,
            "align_self": null,
            "border": null,
            "bottom": null,
            "display": null,
            "flex": null,
            "flex_flow": null,
            "grid_area": null,
            "grid_auto_columns": null,
            "grid_auto_flow": null,
            "grid_auto_rows": null,
            "grid_column": null,
            "grid_gap": null,
            "grid_row": null,
            "grid_template_areas": null,
            "grid_template_columns": null,
            "grid_template_rows": null,
            "height": null,
            "justify_content": null,
            "justify_items": null,
            "left": null,
            "margin": null,
            "max_height": null,
            "max_width": null,
            "min_height": null,
            "min_width": null,
            "object_fit": null,
            "object_position": null,
            "order": null,
            "overflow": null,
            "overflow_x": null,
            "overflow_y": null,
            "padding": null,
            "right": null,
            "top": null,
            "visibility": null,
            "width": null
          }
        },
        "bf6c239ddfdf4792b18a867035149b44": {
          "model_module": "@jupyter-widgets/controls",
          "model_name": "DescriptionStyleModel",
          "model_module_version": "1.5.0",
          "state": {
            "_model_module": "@jupyter-widgets/controls",
            "_model_module_version": "1.5.0",
            "_model_name": "DescriptionStyleModel",
            "_view_count": null,
            "_view_module": "@jupyter-widgets/base",
            "_view_module_version": "1.2.0",
            "_view_name": "StyleView",
            "description_width": ""
          }
        },
        "95cdc3908aba4121a09cecfd6f08d25d": {
          "model_module": "@jupyter-widgets/base",
          "model_name": "LayoutModel",
          "model_module_version": "1.2.0",
          "state": {
            "_model_module": "@jupyter-widgets/base",
            "_model_module_version": "1.2.0",
            "_model_name": "LayoutModel",
            "_view_count": null,
            "_view_module": "@jupyter-widgets/base",
            "_view_module_version": "1.2.0",
            "_view_name": "LayoutView",
            "align_content": null,
            "align_items": null,
            "align_self": null,
            "border": null,
            "bottom": null,
            "display": null,
            "flex": null,
            "flex_flow": null,
            "grid_area": null,
            "grid_auto_columns": null,
            "grid_auto_flow": null,
            "grid_auto_rows": null,
            "grid_column": null,
            "grid_gap": null,
            "grid_row": null,
            "grid_template_areas": null,
            "grid_template_columns": null,
            "grid_template_rows": null,
            "height": null,
            "justify_content": null,
            "justify_items": null,
            "left": null,
            "margin": null,
            "max_height": null,
            "max_width": null,
            "min_height": null,
            "min_width": null,
            "object_fit": null,
            "object_position": null,
            "order": null,
            "overflow": null,
            "overflow_x": null,
            "overflow_y": null,
            "padding": null,
            "right": null,
            "top": null,
            "visibility": null,
            "width": null
          }
        },
        "efede31e1dc14d9ebd5d51ad3e668c67": {
          "model_module": "@jupyter-widgets/controls",
          "model_name": "ProgressStyleModel",
          "model_module_version": "1.5.0",
          "state": {
            "_model_module": "@jupyter-widgets/controls",
            "_model_module_version": "1.5.0",
            "_model_name": "ProgressStyleModel",
            "_view_count": null,
            "_view_module": "@jupyter-widgets/base",
            "_view_module_version": "1.2.0",
            "_view_name": "StyleView",
            "bar_color": null,
            "description_width": ""
          }
        },
        "95d7d109c4f842258669a901268851cd": {
          "model_module": "@jupyter-widgets/base",
          "model_name": "LayoutModel",
          "model_module_version": "1.2.0",
          "state": {
            "_model_module": "@jupyter-widgets/base",
            "_model_module_version": "1.2.0",
            "_model_name": "LayoutModel",
            "_view_count": null,
            "_view_module": "@jupyter-widgets/base",
            "_view_module_version": "1.2.0",
            "_view_name": "LayoutView",
            "align_content": null,
            "align_items": null,
            "align_self": null,
            "border": null,
            "bottom": null,
            "display": null,
            "flex": null,
            "flex_flow": null,
            "grid_area": null,
            "grid_auto_columns": null,
            "grid_auto_flow": null,
            "grid_auto_rows": null,
            "grid_column": null,
            "grid_gap": null,
            "grid_row": null,
            "grid_template_areas": null,
            "grid_template_columns": null,
            "grid_template_rows": null,
            "height": null,
            "justify_content": null,
            "justify_items": null,
            "left": null,
            "margin": null,
            "max_height": null,
            "max_width": null,
            "min_height": null,
            "min_width": null,
            "object_fit": null,
            "object_position": null,
            "order": null,
            "overflow": null,
            "overflow_x": null,
            "overflow_y": null,
            "padding": null,
            "right": null,
            "top": null,
            "visibility": null,
            "width": null
          }
        },
        "e0191882b5c749ed94cdff6aa1311c3e": {
          "model_module": "@jupyter-widgets/controls",
          "model_name": "DescriptionStyleModel",
          "model_module_version": "1.5.0",
          "state": {
            "_model_module": "@jupyter-widgets/controls",
            "_model_module_version": "1.5.0",
            "_model_name": "DescriptionStyleModel",
            "_view_count": null,
            "_view_module": "@jupyter-widgets/base",
            "_view_module_version": "1.2.0",
            "_view_name": "StyleView",
            "description_width": ""
          }
        },
        "7ae57b44ea8d46ceb4bd810867bf95cc": {
          "model_module": "@jupyter-widgets/controls",
          "model_name": "HBoxModel",
          "model_module_version": "1.5.0",
          "state": {
            "_dom_classes": [],
            "_model_module": "@jupyter-widgets/controls",
            "_model_module_version": "1.5.0",
            "_model_name": "HBoxModel",
            "_view_count": null,
            "_view_module": "@jupyter-widgets/controls",
            "_view_module_version": "1.5.0",
            "_view_name": "HBoxView",
            "box_style": "",
            "children": [
              "IPY_MODEL_9b38d183c9134a1ab8878cbd9f2d7137",
              "IPY_MODEL_d69cff12666f44b4b302ab3cd127cbec",
              "IPY_MODEL_fecf949d34d5481f8b27afe9fe5bdb96"
            ],
            "layout": "IPY_MODEL_ef8c328c26ae49e1888d5743d58d605d"
          }
        },
        "9b38d183c9134a1ab8878cbd9f2d7137": {
          "model_module": "@jupyter-widgets/controls",
          "model_name": "HTMLModel",
          "model_module_version": "1.5.0",
          "state": {
            "_dom_classes": [],
            "_model_module": "@jupyter-widgets/controls",
            "_model_module_version": "1.5.0",
            "_model_name": "HTMLModel",
            "_view_count": null,
            "_view_module": "@jupyter-widgets/controls",
            "_view_module_version": "1.5.0",
            "_view_name": "HTMLView",
            "description": "",
            "description_tooltip": null,
            "layout": "IPY_MODEL_fab0dfb3d9f046d98bfd76a30a0bf923",
            "placeholder": "​",
            "style": "IPY_MODEL_b72038ab3b52452c8d90b3476cd8b14d",
            "value": "Downloading: 100%"
          }
        },
        "d69cff12666f44b4b302ab3cd127cbec": {
          "model_module": "@jupyter-widgets/controls",
          "model_name": "FloatProgressModel",
          "model_module_version": "1.5.0",
          "state": {
            "_dom_classes": [],
            "_model_module": "@jupyter-widgets/controls",
            "_model_module_version": "1.5.0",
            "_model_name": "FloatProgressModel",
            "_view_count": null,
            "_view_module": "@jupyter-widgets/controls",
            "_view_module_version": "1.5.0",
            "_view_name": "ProgressView",
            "bar_style": "success",
            "description": "",
            "description_tooltip": null,
            "layout": "IPY_MODEL_92116ac4f717416988b65604e55cb50e",
            "max": 53,
            "min": 0,
            "orientation": "horizontal",
            "style": "IPY_MODEL_8997c594b037439a87d6fa8813fee7f2",
            "value": 53
          }
        },
        "fecf949d34d5481f8b27afe9fe5bdb96": {
          "model_module": "@jupyter-widgets/controls",
          "model_name": "HTMLModel",
          "model_module_version": "1.5.0",
          "state": {
            "_dom_classes": [],
            "_model_module": "@jupyter-widgets/controls",
            "_model_module_version": "1.5.0",
            "_model_name": "HTMLModel",
            "_view_count": null,
            "_view_module": "@jupyter-widgets/controls",
            "_view_module_version": "1.5.0",
            "_view_name": "HTMLView",
            "description": "",
            "description_tooltip": null,
            "layout": "IPY_MODEL_dc374c4e5ab54b13a64833e0fa094bd5",
            "placeholder": "​",
            "style": "IPY_MODEL_5fad4a06d3d04d8bb56ed39b10483ee6",
            "value": " 53.0/53.0 [00:00&lt;00:00, 1.61kB/s]"
          }
        },
        "ef8c328c26ae49e1888d5743d58d605d": {
          "model_module": "@jupyter-widgets/base",
          "model_name": "LayoutModel",
          "model_module_version": "1.2.0",
          "state": {
            "_model_module": "@jupyter-widgets/base",
            "_model_module_version": "1.2.0",
            "_model_name": "LayoutModel",
            "_view_count": null,
            "_view_module": "@jupyter-widgets/base",
            "_view_module_version": "1.2.0",
            "_view_name": "LayoutView",
            "align_content": null,
            "align_items": null,
            "align_self": null,
            "border": null,
            "bottom": null,
            "display": null,
            "flex": null,
            "flex_flow": null,
            "grid_area": null,
            "grid_auto_columns": null,
            "grid_auto_flow": null,
            "grid_auto_rows": null,
            "grid_column": null,
            "grid_gap": null,
            "grid_row": null,
            "grid_template_areas": null,
            "grid_template_columns": null,
            "grid_template_rows": null,
            "height": null,
            "justify_content": null,
            "justify_items": null,
            "left": null,
            "margin": null,
            "max_height": null,
            "max_width": null,
            "min_height": null,
            "min_width": null,
            "object_fit": null,
            "object_position": null,
            "order": null,
            "overflow": null,
            "overflow_x": null,
            "overflow_y": null,
            "padding": null,
            "right": null,
            "top": null,
            "visibility": null,
            "width": null
          }
        },
        "fab0dfb3d9f046d98bfd76a30a0bf923": {
          "model_module": "@jupyter-widgets/base",
          "model_name": "LayoutModel",
          "model_module_version": "1.2.0",
          "state": {
            "_model_module": "@jupyter-widgets/base",
            "_model_module_version": "1.2.0",
            "_model_name": "LayoutModel",
            "_view_count": null,
            "_view_module": "@jupyter-widgets/base",
            "_view_module_version": "1.2.0",
            "_view_name": "LayoutView",
            "align_content": null,
            "align_items": null,
            "align_self": null,
            "border": null,
            "bottom": null,
            "display": null,
            "flex": null,
            "flex_flow": null,
            "grid_area": null,
            "grid_auto_columns": null,
            "grid_auto_flow": null,
            "grid_auto_rows": null,
            "grid_column": null,
            "grid_gap": null,
            "grid_row": null,
            "grid_template_areas": null,
            "grid_template_columns": null,
            "grid_template_rows": null,
            "height": null,
            "justify_content": null,
            "justify_items": null,
            "left": null,
            "margin": null,
            "max_height": null,
            "max_width": null,
            "min_height": null,
            "min_width": null,
            "object_fit": null,
            "object_position": null,
            "order": null,
            "overflow": null,
            "overflow_x": null,
            "overflow_y": null,
            "padding": null,
            "right": null,
            "top": null,
            "visibility": null,
            "width": null
          }
        },
        "b72038ab3b52452c8d90b3476cd8b14d": {
          "model_module": "@jupyter-widgets/controls",
          "model_name": "DescriptionStyleModel",
          "model_module_version": "1.5.0",
          "state": {
            "_model_module": "@jupyter-widgets/controls",
            "_model_module_version": "1.5.0",
            "_model_name": "DescriptionStyleModel",
            "_view_count": null,
            "_view_module": "@jupyter-widgets/base",
            "_view_module_version": "1.2.0",
            "_view_name": "StyleView",
            "description_width": ""
          }
        },
        "92116ac4f717416988b65604e55cb50e": {
          "model_module": "@jupyter-widgets/base",
          "model_name": "LayoutModel",
          "model_module_version": "1.2.0",
          "state": {
            "_model_module": "@jupyter-widgets/base",
            "_model_module_version": "1.2.0",
            "_model_name": "LayoutModel",
            "_view_count": null,
            "_view_module": "@jupyter-widgets/base",
            "_view_module_version": "1.2.0",
            "_view_name": "LayoutView",
            "align_content": null,
            "align_items": null,
            "align_self": null,
            "border": null,
            "bottom": null,
            "display": null,
            "flex": null,
            "flex_flow": null,
            "grid_area": null,
            "grid_auto_columns": null,
            "grid_auto_flow": null,
            "grid_auto_rows": null,
            "grid_column": null,
            "grid_gap": null,
            "grid_row": null,
            "grid_template_areas": null,
            "grid_template_columns": null,
            "grid_template_rows": null,
            "height": null,
            "justify_content": null,
            "justify_items": null,
            "left": null,
            "margin": null,
            "max_height": null,
            "max_width": null,
            "min_height": null,
            "min_width": null,
            "object_fit": null,
            "object_position": null,
            "order": null,
            "overflow": null,
            "overflow_x": null,
            "overflow_y": null,
            "padding": null,
            "right": null,
            "top": null,
            "visibility": null,
            "width": null
          }
        },
        "8997c594b037439a87d6fa8813fee7f2": {
          "model_module": "@jupyter-widgets/controls",
          "model_name": "ProgressStyleModel",
          "model_module_version": "1.5.0",
          "state": {
            "_model_module": "@jupyter-widgets/controls",
            "_model_module_version": "1.5.0",
            "_model_name": "ProgressStyleModel",
            "_view_count": null,
            "_view_module": "@jupyter-widgets/base",
            "_view_module_version": "1.2.0",
            "_view_name": "StyleView",
            "bar_color": null,
            "description_width": ""
          }
        },
        "dc374c4e5ab54b13a64833e0fa094bd5": {
          "model_module": "@jupyter-widgets/base",
          "model_name": "LayoutModel",
          "model_module_version": "1.2.0",
          "state": {
            "_model_module": "@jupyter-widgets/base",
            "_model_module_version": "1.2.0",
            "_model_name": "LayoutModel",
            "_view_count": null,
            "_view_module": "@jupyter-widgets/base",
            "_view_module_version": "1.2.0",
            "_view_name": "LayoutView",
            "align_content": null,
            "align_items": null,
            "align_self": null,
            "border": null,
            "bottom": null,
            "display": null,
            "flex": null,
            "flex_flow": null,
            "grid_area": null,
            "grid_auto_columns": null,
            "grid_auto_flow": null,
            "grid_auto_rows": null,
            "grid_column": null,
            "grid_gap": null,
            "grid_row": null,
            "grid_template_areas": null,
            "grid_template_columns": null,
            "grid_template_rows": null,
            "height": null,
            "justify_content": null,
            "justify_items": null,
            "left": null,
            "margin": null,
            "max_height": null,
            "max_width": null,
            "min_height": null,
            "min_width": null,
            "object_fit": null,
            "object_position": null,
            "order": null,
            "overflow": null,
            "overflow_x": null,
            "overflow_y": null,
            "padding": null,
            "right": null,
            "top": null,
            "visibility": null,
            "width": null
          }
        },
        "5fad4a06d3d04d8bb56ed39b10483ee6": {
          "model_module": "@jupyter-widgets/controls",
          "model_name": "DescriptionStyleModel",
          "model_module_version": "1.5.0",
          "state": {
            "_model_module": "@jupyter-widgets/controls",
            "_model_module_version": "1.5.0",
            "_model_name": "DescriptionStyleModel",
            "_view_count": null,
            "_view_module": "@jupyter-widgets/base",
            "_view_module_version": "1.2.0",
            "_view_name": "StyleView",
            "description_width": ""
          }
        },
        "5461b6dd00744081afa222e28cc4163d": {
          "model_module": "@jupyter-widgets/controls",
          "model_name": "HBoxModel",
          "model_module_version": "1.5.0",
          "state": {
            "_dom_classes": [],
            "_model_module": "@jupyter-widgets/controls",
            "_model_module_version": "1.5.0",
            "_model_name": "HBoxModel",
            "_view_count": null,
            "_view_module": "@jupyter-widgets/controls",
            "_view_module_version": "1.5.0",
            "_view_name": "HBoxView",
            "box_style": "",
            "children": [
              "IPY_MODEL_974bf143efed48a6abbbbe9f36d63bab",
              "IPY_MODEL_f9bb6ac3021a4984bc80d1a3a3f89f05",
              "IPY_MODEL_9c01533297554d5991036a1b64f4c5c3"
            ],
            "layout": "IPY_MODEL_156b8855bcbe42028ac9bfca3773bdae"
          }
        },
        "974bf143efed48a6abbbbe9f36d63bab": {
          "model_module": "@jupyter-widgets/controls",
          "model_name": "HTMLModel",
          "model_module_version": "1.5.0",
          "state": {
            "_dom_classes": [],
            "_model_module": "@jupyter-widgets/controls",
            "_model_module_version": "1.5.0",
            "_model_name": "HTMLModel",
            "_view_count": null,
            "_view_module": "@jupyter-widgets/controls",
            "_view_module_version": "1.5.0",
            "_view_name": "HTMLView",
            "description": "",
            "description_tooltip": null,
            "layout": "IPY_MODEL_48bebb8883b54c1cbd11d0e55af00378",
            "placeholder": "​",
            "style": "IPY_MODEL_451c7a40391143b5bdba885483126b16",
            "value": "Downloading: 100%"
          }
        },
        "f9bb6ac3021a4984bc80d1a3a3f89f05": {
          "model_module": "@jupyter-widgets/controls",
          "model_name": "FloatProgressModel",
          "model_module_version": "1.5.0",
          "state": {
            "_dom_classes": [],
            "_model_module": "@jupyter-widgets/controls",
            "_model_module_version": "1.5.0",
            "_model_name": "FloatProgressModel",
            "_view_count": null,
            "_view_module": "@jupyter-widgets/controls",
            "_view_module_version": "1.5.0",
            "_view_name": "ProgressView",
            "bar_style": "success",
            "description": "",
            "description_tooltip": null,
            "layout": "IPY_MODEL_50a3946744604928a026eb705cc5a355",
            "max": 112,
            "min": 0,
            "orientation": "horizontal",
            "style": "IPY_MODEL_9bf89f4dd75f4e4491d58402c4eed879",
            "value": 112
          }
        },
        "9c01533297554d5991036a1b64f4c5c3": {
          "model_module": "@jupyter-widgets/controls",
          "model_name": "HTMLModel",
          "model_module_version": "1.5.0",
          "state": {
            "_dom_classes": [],
            "_model_module": "@jupyter-widgets/controls",
            "_model_module_version": "1.5.0",
            "_model_name": "HTMLModel",
            "_view_count": null,
            "_view_module": "@jupyter-widgets/controls",
            "_view_module_version": "1.5.0",
            "_view_name": "HTMLView",
            "description": "",
            "description_tooltip": null,
            "layout": "IPY_MODEL_a5d28b7484ad43f6918d8b73af870220",
            "placeholder": "​",
            "style": "IPY_MODEL_4d805097ec2c40e0a7928b4493f73749",
            "value": " 112/112 [00:00&lt;00:00, 2.00kB/s]"
          }
        },
        "156b8855bcbe42028ac9bfca3773bdae": {
          "model_module": "@jupyter-widgets/base",
          "model_name": "LayoutModel",
          "model_module_version": "1.2.0",
          "state": {
            "_model_module": "@jupyter-widgets/base",
            "_model_module_version": "1.2.0",
            "_model_name": "LayoutModel",
            "_view_count": null,
            "_view_module": "@jupyter-widgets/base",
            "_view_module_version": "1.2.0",
            "_view_name": "LayoutView",
            "align_content": null,
            "align_items": null,
            "align_self": null,
            "border": null,
            "bottom": null,
            "display": null,
            "flex": null,
            "flex_flow": null,
            "grid_area": null,
            "grid_auto_columns": null,
            "grid_auto_flow": null,
            "grid_auto_rows": null,
            "grid_column": null,
            "grid_gap": null,
            "grid_row": null,
            "grid_template_areas": null,
            "grid_template_columns": null,
            "grid_template_rows": null,
            "height": null,
            "justify_content": null,
            "justify_items": null,
            "left": null,
            "margin": null,
            "max_height": null,
            "max_width": null,
            "min_height": null,
            "min_width": null,
            "object_fit": null,
            "object_position": null,
            "order": null,
            "overflow": null,
            "overflow_x": null,
            "overflow_y": null,
            "padding": null,
            "right": null,
            "top": null,
            "visibility": null,
            "width": null
          }
        },
        "48bebb8883b54c1cbd11d0e55af00378": {
          "model_module": "@jupyter-widgets/base",
          "model_name": "LayoutModel",
          "model_module_version": "1.2.0",
          "state": {
            "_model_module": "@jupyter-widgets/base",
            "_model_module_version": "1.2.0",
            "_model_name": "LayoutModel",
            "_view_count": null,
            "_view_module": "@jupyter-widgets/base",
            "_view_module_version": "1.2.0",
            "_view_name": "LayoutView",
            "align_content": null,
            "align_items": null,
            "align_self": null,
            "border": null,
            "bottom": null,
            "display": null,
            "flex": null,
            "flex_flow": null,
            "grid_area": null,
            "grid_auto_columns": null,
            "grid_auto_flow": null,
            "grid_auto_rows": null,
            "grid_column": null,
            "grid_gap": null,
            "grid_row": null,
            "grid_template_areas": null,
            "grid_template_columns": null,
            "grid_template_rows": null,
            "height": null,
            "justify_content": null,
            "justify_items": null,
            "left": null,
            "margin": null,
            "max_height": null,
            "max_width": null,
            "min_height": null,
            "min_width": null,
            "object_fit": null,
            "object_position": null,
            "order": null,
            "overflow": null,
            "overflow_x": null,
            "overflow_y": null,
            "padding": null,
            "right": null,
            "top": null,
            "visibility": null,
            "width": null
          }
        },
        "451c7a40391143b5bdba885483126b16": {
          "model_module": "@jupyter-widgets/controls",
          "model_name": "DescriptionStyleModel",
          "model_module_version": "1.5.0",
          "state": {
            "_model_module": "@jupyter-widgets/controls",
            "_model_module_version": "1.5.0",
            "_model_name": "DescriptionStyleModel",
            "_view_count": null,
            "_view_module": "@jupyter-widgets/base",
            "_view_module_version": "1.2.0",
            "_view_name": "StyleView",
            "description_width": ""
          }
        },
        "50a3946744604928a026eb705cc5a355": {
          "model_module": "@jupyter-widgets/base",
          "model_name": "LayoutModel",
          "model_module_version": "1.2.0",
          "state": {
            "_model_module": "@jupyter-widgets/base",
            "_model_module_version": "1.2.0",
            "_model_name": "LayoutModel",
            "_view_count": null,
            "_view_module": "@jupyter-widgets/base",
            "_view_module_version": "1.2.0",
            "_view_name": "LayoutView",
            "align_content": null,
            "align_items": null,
            "align_self": null,
            "border": null,
            "bottom": null,
            "display": null,
            "flex": null,
            "flex_flow": null,
            "grid_area": null,
            "grid_auto_columns": null,
            "grid_auto_flow": null,
            "grid_auto_rows": null,
            "grid_column": null,
            "grid_gap": null,
            "grid_row": null,
            "grid_template_areas": null,
            "grid_template_columns": null,
            "grid_template_rows": null,
            "height": null,
            "justify_content": null,
            "justify_items": null,
            "left": null,
            "margin": null,
            "max_height": null,
            "max_width": null,
            "min_height": null,
            "min_width": null,
            "object_fit": null,
            "object_position": null,
            "order": null,
            "overflow": null,
            "overflow_x": null,
            "overflow_y": null,
            "padding": null,
            "right": null,
            "top": null,
            "visibility": null,
            "width": null
          }
        },
        "9bf89f4dd75f4e4491d58402c4eed879": {
          "model_module": "@jupyter-widgets/controls",
          "model_name": "ProgressStyleModel",
          "model_module_version": "1.5.0",
          "state": {
            "_model_module": "@jupyter-widgets/controls",
            "_model_module_version": "1.5.0",
            "_model_name": "ProgressStyleModel",
            "_view_count": null,
            "_view_module": "@jupyter-widgets/base",
            "_view_module_version": "1.2.0",
            "_view_name": "StyleView",
            "bar_color": null,
            "description_width": ""
          }
        },
        "a5d28b7484ad43f6918d8b73af870220": {
          "model_module": "@jupyter-widgets/base",
          "model_name": "LayoutModel",
          "model_module_version": "1.2.0",
          "state": {
            "_model_module": "@jupyter-widgets/base",
            "_model_module_version": "1.2.0",
            "_model_name": "LayoutModel",
            "_view_count": null,
            "_view_module": "@jupyter-widgets/base",
            "_view_module_version": "1.2.0",
            "_view_name": "LayoutView",
            "align_content": null,
            "align_items": null,
            "align_self": null,
            "border": null,
            "bottom": null,
            "display": null,
            "flex": null,
            "flex_flow": null,
            "grid_area": null,
            "grid_auto_columns": null,
            "grid_auto_flow": null,
            "grid_auto_rows": null,
            "grid_column": null,
            "grid_gap": null,
            "grid_row": null,
            "grid_template_areas": null,
            "grid_template_columns": null,
            "grid_template_rows": null,
            "height": null,
            "justify_content": null,
            "justify_items": null,
            "left": null,
            "margin": null,
            "max_height": null,
            "max_width": null,
            "min_height": null,
            "min_width": null,
            "object_fit": null,
            "object_position": null,
            "order": null,
            "overflow": null,
            "overflow_x": null,
            "overflow_y": null,
            "padding": null,
            "right": null,
            "top": null,
            "visibility": null,
            "width": null
          }
        },
        "4d805097ec2c40e0a7928b4493f73749": {
          "model_module": "@jupyter-widgets/controls",
          "model_name": "DescriptionStyleModel",
          "model_module_version": "1.5.0",
          "state": {
            "_model_module": "@jupyter-widgets/controls",
            "_model_module_version": "1.5.0",
            "_model_name": "DescriptionStyleModel",
            "_view_count": null,
            "_view_module": "@jupyter-widgets/base",
            "_view_module_version": "1.2.0",
            "_view_name": "StyleView",
            "description_width": ""
          }
        },
        "66b2cd46c7fb41628c52aa4d9c8bfcd1": {
          "model_module": "@jupyter-widgets/controls",
          "model_name": "HBoxModel",
          "model_module_version": "1.5.0",
          "state": {
            "_dom_classes": [],
            "_model_module": "@jupyter-widgets/controls",
            "_model_module_version": "1.5.0",
            "_model_name": "HBoxModel",
            "_view_count": null,
            "_view_module": "@jupyter-widgets/controls",
            "_view_module_version": "1.5.0",
            "_view_name": "HBoxView",
            "box_style": "",
            "children": [
              "IPY_MODEL_79d82df29365492791cc84024dbf72d3",
              "IPY_MODEL_85c1b16b76d741af83a7a79f7b58a052",
              "IPY_MODEL_406b421dada04143901a9f205e258ef8"
            ],
            "layout": "IPY_MODEL_095fd78540ef408bb7ad880b555acf29"
          }
        },
        "79d82df29365492791cc84024dbf72d3": {
          "model_module": "@jupyter-widgets/controls",
          "model_name": "HTMLModel",
          "model_module_version": "1.5.0",
          "state": {
            "_dom_classes": [],
            "_model_module": "@jupyter-widgets/controls",
            "_model_module_version": "1.5.0",
            "_model_name": "HTMLModel",
            "_view_count": null,
            "_view_module": "@jupyter-widgets/controls",
            "_view_module_version": "1.5.0",
            "_view_name": "HTMLView",
            "description": "",
            "description_tooltip": null,
            "layout": "IPY_MODEL_f318df63196249449146cfa872be860f",
            "placeholder": "​",
            "style": "IPY_MODEL_8f35333fa97345748a9a352eb678e45f",
            "value": "Downloading: 100%"
          }
        },
        "85c1b16b76d741af83a7a79f7b58a052": {
          "model_module": "@jupyter-widgets/controls",
          "model_name": "FloatProgressModel",
          "model_module_version": "1.5.0",
          "state": {
            "_dom_classes": [],
            "_model_module": "@jupyter-widgets/controls",
            "_model_module_version": "1.5.0",
            "_model_name": "FloatProgressModel",
            "_view_count": null,
            "_view_module": "@jupyter-widgets/controls",
            "_view_module_version": "1.5.0",
            "_view_name": "ProgressView",
            "bar_style": "success",
            "description": "",
            "description_tooltip": null,
            "layout": "IPY_MODEL_0843cdb530a046859c6f054e25a3e92f",
            "max": 466247,
            "min": 0,
            "orientation": "horizontal",
            "style": "IPY_MODEL_19c4e72ab7a744b69972cd114f7e2926",
            "value": 466247
          }
        },
        "406b421dada04143901a9f205e258ef8": {
          "model_module": "@jupyter-widgets/controls",
          "model_name": "HTMLModel",
          "model_module_version": "1.5.0",
          "state": {
            "_dom_classes": [],
            "_model_module": "@jupyter-widgets/controls",
            "_model_module_version": "1.5.0",
            "_model_name": "HTMLModel",
            "_view_count": null,
            "_view_module": "@jupyter-widgets/controls",
            "_view_module_version": "1.5.0",
            "_view_name": "HTMLView",
            "description": "",
            "description_tooltip": null,
            "layout": "IPY_MODEL_114179e56564403d9cde314a26020c3b",
            "placeholder": "​",
            "style": "IPY_MODEL_799cc439d1a94d48834ce7756a3fbec5",
            "value": " 466k/466k [00:00&lt;00:00, 4.75MB/s]"
          }
        },
        "095fd78540ef408bb7ad880b555acf29": {
          "model_module": "@jupyter-widgets/base",
          "model_name": "LayoutModel",
          "model_module_version": "1.2.0",
          "state": {
            "_model_module": "@jupyter-widgets/base",
            "_model_module_version": "1.2.0",
            "_model_name": "LayoutModel",
            "_view_count": null,
            "_view_module": "@jupyter-widgets/base",
            "_view_module_version": "1.2.0",
            "_view_name": "LayoutView",
            "align_content": null,
            "align_items": null,
            "align_self": null,
            "border": null,
            "bottom": null,
            "display": null,
            "flex": null,
            "flex_flow": null,
            "grid_area": null,
            "grid_auto_columns": null,
            "grid_auto_flow": null,
            "grid_auto_rows": null,
            "grid_column": null,
            "grid_gap": null,
            "grid_row": null,
            "grid_template_areas": null,
            "grid_template_columns": null,
            "grid_template_rows": null,
            "height": null,
            "justify_content": null,
            "justify_items": null,
            "left": null,
            "margin": null,
            "max_height": null,
            "max_width": null,
            "min_height": null,
            "min_width": null,
            "object_fit": null,
            "object_position": null,
            "order": null,
            "overflow": null,
            "overflow_x": null,
            "overflow_y": null,
            "padding": null,
            "right": null,
            "top": null,
            "visibility": null,
            "width": null
          }
        },
        "f318df63196249449146cfa872be860f": {
          "model_module": "@jupyter-widgets/base",
          "model_name": "LayoutModel",
          "model_module_version": "1.2.0",
          "state": {
            "_model_module": "@jupyter-widgets/base",
            "_model_module_version": "1.2.0",
            "_model_name": "LayoutModel",
            "_view_count": null,
            "_view_module": "@jupyter-widgets/base",
            "_view_module_version": "1.2.0",
            "_view_name": "LayoutView",
            "align_content": null,
            "align_items": null,
            "align_self": null,
            "border": null,
            "bottom": null,
            "display": null,
            "flex": null,
            "flex_flow": null,
            "grid_area": null,
            "grid_auto_columns": null,
            "grid_auto_flow": null,
            "grid_auto_rows": null,
            "grid_column": null,
            "grid_gap": null,
            "grid_row": null,
            "grid_template_areas": null,
            "grid_template_columns": null,
            "grid_template_rows": null,
            "height": null,
            "justify_content": null,
            "justify_items": null,
            "left": null,
            "margin": null,
            "max_height": null,
            "max_width": null,
            "min_height": null,
            "min_width": null,
            "object_fit": null,
            "object_position": null,
            "order": null,
            "overflow": null,
            "overflow_x": null,
            "overflow_y": null,
            "padding": null,
            "right": null,
            "top": null,
            "visibility": null,
            "width": null
          }
        },
        "8f35333fa97345748a9a352eb678e45f": {
          "model_module": "@jupyter-widgets/controls",
          "model_name": "DescriptionStyleModel",
          "model_module_version": "1.5.0",
          "state": {
            "_model_module": "@jupyter-widgets/controls",
            "_model_module_version": "1.5.0",
            "_model_name": "DescriptionStyleModel",
            "_view_count": null,
            "_view_module": "@jupyter-widgets/base",
            "_view_module_version": "1.2.0",
            "_view_name": "StyleView",
            "description_width": ""
          }
        },
        "0843cdb530a046859c6f054e25a3e92f": {
          "model_module": "@jupyter-widgets/base",
          "model_name": "LayoutModel",
          "model_module_version": "1.2.0",
          "state": {
            "_model_module": "@jupyter-widgets/base",
            "_model_module_version": "1.2.0",
            "_model_name": "LayoutModel",
            "_view_count": null,
            "_view_module": "@jupyter-widgets/base",
            "_view_module_version": "1.2.0",
            "_view_name": "LayoutView",
            "align_content": null,
            "align_items": null,
            "align_self": null,
            "border": null,
            "bottom": null,
            "display": null,
            "flex": null,
            "flex_flow": null,
            "grid_area": null,
            "grid_auto_columns": null,
            "grid_auto_flow": null,
            "grid_auto_rows": null,
            "grid_column": null,
            "grid_gap": null,
            "grid_row": null,
            "grid_template_areas": null,
            "grid_template_columns": null,
            "grid_template_rows": null,
            "height": null,
            "justify_content": null,
            "justify_items": null,
            "left": null,
            "margin": null,
            "max_height": null,
            "max_width": null,
            "min_height": null,
            "min_width": null,
            "object_fit": null,
            "object_position": null,
            "order": null,
            "overflow": null,
            "overflow_x": null,
            "overflow_y": null,
            "padding": null,
            "right": null,
            "top": null,
            "visibility": null,
            "width": null
          }
        },
        "19c4e72ab7a744b69972cd114f7e2926": {
          "model_module": "@jupyter-widgets/controls",
          "model_name": "ProgressStyleModel",
          "model_module_version": "1.5.0",
          "state": {
            "_model_module": "@jupyter-widgets/controls",
            "_model_module_version": "1.5.0",
            "_model_name": "ProgressStyleModel",
            "_view_count": null,
            "_view_module": "@jupyter-widgets/base",
            "_view_module_version": "1.2.0",
            "_view_name": "StyleView",
            "bar_color": null,
            "description_width": ""
          }
        },
        "114179e56564403d9cde314a26020c3b": {
          "model_module": "@jupyter-widgets/base",
          "model_name": "LayoutModel",
          "model_module_version": "1.2.0",
          "state": {
            "_model_module": "@jupyter-widgets/base",
            "_model_module_version": "1.2.0",
            "_model_name": "LayoutModel",
            "_view_count": null,
            "_view_module": "@jupyter-widgets/base",
            "_view_module_version": "1.2.0",
            "_view_name": "LayoutView",
            "align_content": null,
            "align_items": null,
            "align_self": null,
            "border": null,
            "bottom": null,
            "display": null,
            "flex": null,
            "flex_flow": null,
            "grid_area": null,
            "grid_auto_columns": null,
            "grid_auto_flow": null,
            "grid_auto_rows": null,
            "grid_column": null,
            "grid_gap": null,
            "grid_row": null,
            "grid_template_areas": null,
            "grid_template_columns": null,
            "grid_template_rows": null,
            "height": null,
            "justify_content": null,
            "justify_items": null,
            "left": null,
            "margin": null,
            "max_height": null,
            "max_width": null,
            "min_height": null,
            "min_width": null,
            "object_fit": null,
            "object_position": null,
            "order": null,
            "overflow": null,
            "overflow_x": null,
            "overflow_y": null,
            "padding": null,
            "right": null,
            "top": null,
            "visibility": null,
            "width": null
          }
        },
        "799cc439d1a94d48834ce7756a3fbec5": {
          "model_module": "@jupyter-widgets/controls",
          "model_name": "DescriptionStyleModel",
          "model_module_version": "1.5.0",
          "state": {
            "_model_module": "@jupyter-widgets/controls",
            "_model_module_version": "1.5.0",
            "_model_name": "DescriptionStyleModel",
            "_view_count": null,
            "_view_module": "@jupyter-widgets/base",
            "_view_module_version": "1.2.0",
            "_view_name": "StyleView",
            "description_width": ""
          }
        },
        "168cfbd19a0845e1b57a964dfb110983": {
          "model_module": "@jupyter-widgets/controls",
          "model_name": "HBoxModel",
          "model_module_version": "1.5.0",
          "state": {
            "_dom_classes": [],
            "_model_module": "@jupyter-widgets/controls",
            "_model_module_version": "1.5.0",
            "_model_name": "HBoxModel",
            "_view_count": null,
            "_view_module": "@jupyter-widgets/controls",
            "_view_module_version": "1.5.0",
            "_view_name": "HBoxView",
            "box_style": "",
            "children": [
              "IPY_MODEL_e8b4b3204c014c6cad19db4f1444d9ce",
              "IPY_MODEL_458fde2ee2f6495bbbab4e4a03e59a73",
              "IPY_MODEL_e66ce8e284554c0ca514379a24eee167"
            ],
            "layout": "IPY_MODEL_60f6021378dd47ba8e47010bcfe0e53e"
          }
        },
        "e8b4b3204c014c6cad19db4f1444d9ce": {
          "model_module": "@jupyter-widgets/controls",
          "model_name": "HTMLModel",
          "model_module_version": "1.5.0",
          "state": {
            "_dom_classes": [],
            "_model_module": "@jupyter-widgets/controls",
            "_model_module_version": "1.5.0",
            "_model_name": "HTMLModel",
            "_view_count": null,
            "_view_module": "@jupyter-widgets/controls",
            "_view_module_version": "1.5.0",
            "_view_name": "HTMLView",
            "description": "",
            "description_tooltip": null,
            "layout": "IPY_MODEL_88c2bcbcce174dec920d6e7443e6f2cc",
            "placeholder": "​",
            "style": "IPY_MODEL_e00be8f386974cf2b41eb217843b58fd",
            "value": "Downloading: 100%"
          }
        },
        "458fde2ee2f6495bbbab4e4a03e59a73": {
          "model_module": "@jupyter-widgets/controls",
          "model_name": "FloatProgressModel",
          "model_module_version": "1.5.0",
          "state": {
            "_dom_classes": [],
            "_model_module": "@jupyter-widgets/controls",
            "_model_module_version": "1.5.0",
            "_model_name": "FloatProgressModel",
            "_view_count": null,
            "_view_module": "@jupyter-widgets/controls",
            "_view_module_version": "1.5.0",
            "_view_name": "ProgressView",
            "bar_style": "success",
            "description": "",
            "description_tooltip": null,
            "layout": "IPY_MODEL_6b6990fc56d944879b887f2099176f0a",
            "max": 350,
            "min": 0,
            "orientation": "horizontal",
            "style": "IPY_MODEL_221bb05a57cf42308fdb7128404f7181",
            "value": 350
          }
        },
        "e66ce8e284554c0ca514379a24eee167": {
          "model_module": "@jupyter-widgets/controls",
          "model_name": "HTMLModel",
          "model_module_version": "1.5.0",
          "state": {
            "_dom_classes": [],
            "_model_module": "@jupyter-widgets/controls",
            "_model_module_version": "1.5.0",
            "_model_name": "HTMLModel",
            "_view_count": null,
            "_view_module": "@jupyter-widgets/controls",
            "_view_module_version": "1.5.0",
            "_view_name": "HTMLView",
            "description": "",
            "description_tooltip": null,
            "layout": "IPY_MODEL_687f2b30b03a49ddb9ed86cae60617eb",
            "placeholder": "​",
            "style": "IPY_MODEL_76f786cfd1a74a59ba2bea1936bb9ac8",
            "value": " 350/350 [00:00&lt;00:00, 8.80kB/s]"
          }
        },
        "60f6021378dd47ba8e47010bcfe0e53e": {
          "model_module": "@jupyter-widgets/base",
          "model_name": "LayoutModel",
          "model_module_version": "1.2.0",
          "state": {
            "_model_module": "@jupyter-widgets/base",
            "_model_module_version": "1.2.0",
            "_model_name": "LayoutModel",
            "_view_count": null,
            "_view_module": "@jupyter-widgets/base",
            "_view_module_version": "1.2.0",
            "_view_name": "LayoutView",
            "align_content": null,
            "align_items": null,
            "align_self": null,
            "border": null,
            "bottom": null,
            "display": null,
            "flex": null,
            "flex_flow": null,
            "grid_area": null,
            "grid_auto_columns": null,
            "grid_auto_flow": null,
            "grid_auto_rows": null,
            "grid_column": null,
            "grid_gap": null,
            "grid_row": null,
            "grid_template_areas": null,
            "grid_template_columns": null,
            "grid_template_rows": null,
            "height": null,
            "justify_content": null,
            "justify_items": null,
            "left": null,
            "margin": null,
            "max_height": null,
            "max_width": null,
            "min_height": null,
            "min_width": null,
            "object_fit": null,
            "object_position": null,
            "order": null,
            "overflow": null,
            "overflow_x": null,
            "overflow_y": null,
            "padding": null,
            "right": null,
            "top": null,
            "visibility": null,
            "width": null
          }
        },
        "88c2bcbcce174dec920d6e7443e6f2cc": {
          "model_module": "@jupyter-widgets/base",
          "model_name": "LayoutModel",
          "model_module_version": "1.2.0",
          "state": {
            "_model_module": "@jupyter-widgets/base",
            "_model_module_version": "1.2.0",
            "_model_name": "LayoutModel",
            "_view_count": null,
            "_view_module": "@jupyter-widgets/base",
            "_view_module_version": "1.2.0",
            "_view_name": "LayoutView",
            "align_content": null,
            "align_items": null,
            "align_self": null,
            "border": null,
            "bottom": null,
            "display": null,
            "flex": null,
            "flex_flow": null,
            "grid_area": null,
            "grid_auto_columns": null,
            "grid_auto_flow": null,
            "grid_auto_rows": null,
            "grid_column": null,
            "grid_gap": null,
            "grid_row": null,
            "grid_template_areas": null,
            "grid_template_columns": null,
            "grid_template_rows": null,
            "height": null,
            "justify_content": null,
            "justify_items": null,
            "left": null,
            "margin": null,
            "max_height": null,
            "max_width": null,
            "min_height": null,
            "min_width": null,
            "object_fit": null,
            "object_position": null,
            "order": null,
            "overflow": null,
            "overflow_x": null,
            "overflow_y": null,
            "padding": null,
            "right": null,
            "top": null,
            "visibility": null,
            "width": null
          }
        },
        "e00be8f386974cf2b41eb217843b58fd": {
          "model_module": "@jupyter-widgets/controls",
          "model_name": "DescriptionStyleModel",
          "model_module_version": "1.5.0",
          "state": {
            "_model_module": "@jupyter-widgets/controls",
            "_model_module_version": "1.5.0",
            "_model_name": "DescriptionStyleModel",
            "_view_count": null,
            "_view_module": "@jupyter-widgets/base",
            "_view_module_version": "1.2.0",
            "_view_name": "StyleView",
            "description_width": ""
          }
        },
        "6b6990fc56d944879b887f2099176f0a": {
          "model_module": "@jupyter-widgets/base",
          "model_name": "LayoutModel",
          "model_module_version": "1.2.0",
          "state": {
            "_model_module": "@jupyter-widgets/base",
            "_model_module_version": "1.2.0",
            "_model_name": "LayoutModel",
            "_view_count": null,
            "_view_module": "@jupyter-widgets/base",
            "_view_module_version": "1.2.0",
            "_view_name": "LayoutView",
            "align_content": null,
            "align_items": null,
            "align_self": null,
            "border": null,
            "bottom": null,
            "display": null,
            "flex": null,
            "flex_flow": null,
            "grid_area": null,
            "grid_auto_columns": null,
            "grid_auto_flow": null,
            "grid_auto_rows": null,
            "grid_column": null,
            "grid_gap": null,
            "grid_row": null,
            "grid_template_areas": null,
            "grid_template_columns": null,
            "grid_template_rows": null,
            "height": null,
            "justify_content": null,
            "justify_items": null,
            "left": null,
            "margin": null,
            "max_height": null,
            "max_width": null,
            "min_height": null,
            "min_width": null,
            "object_fit": null,
            "object_position": null,
            "order": null,
            "overflow": null,
            "overflow_x": null,
            "overflow_y": null,
            "padding": null,
            "right": null,
            "top": null,
            "visibility": null,
            "width": null
          }
        },
        "221bb05a57cf42308fdb7128404f7181": {
          "model_module": "@jupyter-widgets/controls",
          "model_name": "ProgressStyleModel",
          "model_module_version": "1.5.0",
          "state": {
            "_model_module": "@jupyter-widgets/controls",
            "_model_module_version": "1.5.0",
            "_model_name": "ProgressStyleModel",
            "_view_count": null,
            "_view_module": "@jupyter-widgets/base",
            "_view_module_version": "1.2.0",
            "_view_name": "StyleView",
            "bar_color": null,
            "description_width": ""
          }
        },
        "687f2b30b03a49ddb9ed86cae60617eb": {
          "model_module": "@jupyter-widgets/base",
          "model_name": "LayoutModel",
          "model_module_version": "1.2.0",
          "state": {
            "_model_module": "@jupyter-widgets/base",
            "_model_module_version": "1.2.0",
            "_model_name": "LayoutModel",
            "_view_count": null,
            "_view_module": "@jupyter-widgets/base",
            "_view_module_version": "1.2.0",
            "_view_name": "LayoutView",
            "align_content": null,
            "align_items": null,
            "align_self": null,
            "border": null,
            "bottom": null,
            "display": null,
            "flex": null,
            "flex_flow": null,
            "grid_area": null,
            "grid_auto_columns": null,
            "grid_auto_flow": null,
            "grid_auto_rows": null,
            "grid_column": null,
            "grid_gap": null,
            "grid_row": null,
            "grid_template_areas": null,
            "grid_template_columns": null,
            "grid_template_rows": null,
            "height": null,
            "justify_content": null,
            "justify_items": null,
            "left": null,
            "margin": null,
            "max_height": null,
            "max_width": null,
            "min_height": null,
            "min_width": null,
            "object_fit": null,
            "object_position": null,
            "order": null,
            "overflow": null,
            "overflow_x": null,
            "overflow_y": null,
            "padding": null,
            "right": null,
            "top": null,
            "visibility": null,
            "width": null
          }
        },
        "76f786cfd1a74a59ba2bea1936bb9ac8": {
          "model_module": "@jupyter-widgets/controls",
          "model_name": "DescriptionStyleModel",
          "model_module_version": "1.5.0",
          "state": {
            "_model_module": "@jupyter-widgets/controls",
            "_model_module_version": "1.5.0",
            "_model_name": "DescriptionStyleModel",
            "_view_count": null,
            "_view_module": "@jupyter-widgets/base",
            "_view_module_version": "1.2.0",
            "_view_name": "StyleView",
            "description_width": ""
          }
        },
        "ff25dcec3e244aabaeb6b27231c497d1": {
          "model_module": "@jupyter-widgets/controls",
          "model_name": "HBoxModel",
          "model_module_version": "1.5.0",
          "state": {
            "_dom_classes": [],
            "_model_module": "@jupyter-widgets/controls",
            "_model_module_version": "1.5.0",
            "_model_name": "HBoxModel",
            "_view_count": null,
            "_view_module": "@jupyter-widgets/controls",
            "_view_module_version": "1.5.0",
            "_view_name": "HBoxView",
            "box_style": "",
            "children": [
              "IPY_MODEL_a2e313072e9b40819955aeb369bd1f7d",
              "IPY_MODEL_30898c0d914c4d9ab0f08b09f60a595c",
              "IPY_MODEL_57061c49edab4e3f871bb24a22b6b8f9"
            ],
            "layout": "IPY_MODEL_bf995a3bfb6846f8beb6eb4ad26418bb"
          }
        },
        "a2e313072e9b40819955aeb369bd1f7d": {
          "model_module": "@jupyter-widgets/controls",
          "model_name": "HTMLModel",
          "model_module_version": "1.5.0",
          "state": {
            "_dom_classes": [],
            "_model_module": "@jupyter-widgets/controls",
            "_model_module_version": "1.5.0",
            "_model_name": "HTMLModel",
            "_view_count": null,
            "_view_module": "@jupyter-widgets/controls",
            "_view_module_version": "1.5.0",
            "_view_name": "HTMLView",
            "description": "",
            "description_tooltip": null,
            "layout": "IPY_MODEL_2625e38db56c489fb1b2fbce198d8da6",
            "placeholder": "​",
            "style": "IPY_MODEL_197348fbb4ba447c898891d07d2ad3e7",
            "value": "Downloading: 100%"
          }
        },
        "30898c0d914c4d9ab0f08b09f60a595c": {
          "model_module": "@jupyter-widgets/controls",
          "model_name": "FloatProgressModel",
          "model_module_version": "1.5.0",
          "state": {
            "_dom_classes": [],
            "_model_module": "@jupyter-widgets/controls",
            "_model_module_version": "1.5.0",
            "_model_name": "FloatProgressModel",
            "_view_count": null,
            "_view_module": "@jupyter-widgets/controls",
            "_view_module_version": "1.5.0",
            "_view_name": "ProgressView",
            "bar_style": "success",
            "description": "",
            "description_tooltip": null,
            "layout": "IPY_MODEL_5423bdcfe4ed49199c4bea8f340cd34f",
            "max": 13156,
            "min": 0,
            "orientation": "horizontal",
            "style": "IPY_MODEL_3dab7a935825479c81371d2178c8b26d",
            "value": 13156
          }
        },
        "57061c49edab4e3f871bb24a22b6b8f9": {
          "model_module": "@jupyter-widgets/controls",
          "model_name": "HTMLModel",
          "model_module_version": "1.5.0",
          "state": {
            "_dom_classes": [],
            "_model_module": "@jupyter-widgets/controls",
            "_model_module_version": "1.5.0",
            "_model_name": "HTMLModel",
            "_view_count": null,
            "_view_module": "@jupyter-widgets/controls",
            "_view_module_version": "1.5.0",
            "_view_name": "HTMLView",
            "description": "",
            "description_tooltip": null,
            "layout": "IPY_MODEL_ead3a0c747fa493ba13da6fc82d75254",
            "placeholder": "​",
            "style": "IPY_MODEL_b8d450366337426aa18bb575dd54c383",
            "value": " 13.2k/13.2k [00:00&lt;00:00, 246kB/s]"
          }
        },
        "bf995a3bfb6846f8beb6eb4ad26418bb": {
          "model_module": "@jupyter-widgets/base",
          "model_name": "LayoutModel",
          "model_module_version": "1.2.0",
          "state": {
            "_model_module": "@jupyter-widgets/base",
            "_model_module_version": "1.2.0",
            "_model_name": "LayoutModel",
            "_view_count": null,
            "_view_module": "@jupyter-widgets/base",
            "_view_module_version": "1.2.0",
            "_view_name": "LayoutView",
            "align_content": null,
            "align_items": null,
            "align_self": null,
            "border": null,
            "bottom": null,
            "display": null,
            "flex": null,
            "flex_flow": null,
            "grid_area": null,
            "grid_auto_columns": null,
            "grid_auto_flow": null,
            "grid_auto_rows": null,
            "grid_column": null,
            "grid_gap": null,
            "grid_row": null,
            "grid_template_areas": null,
            "grid_template_columns": null,
            "grid_template_rows": null,
            "height": null,
            "justify_content": null,
            "justify_items": null,
            "left": null,
            "margin": null,
            "max_height": null,
            "max_width": null,
            "min_height": null,
            "min_width": null,
            "object_fit": null,
            "object_position": null,
            "order": null,
            "overflow": null,
            "overflow_x": null,
            "overflow_y": null,
            "padding": null,
            "right": null,
            "top": null,
            "visibility": null,
            "width": null
          }
        },
        "2625e38db56c489fb1b2fbce198d8da6": {
          "model_module": "@jupyter-widgets/base",
          "model_name": "LayoutModel",
          "model_module_version": "1.2.0",
          "state": {
            "_model_module": "@jupyter-widgets/base",
            "_model_module_version": "1.2.0",
            "_model_name": "LayoutModel",
            "_view_count": null,
            "_view_module": "@jupyter-widgets/base",
            "_view_module_version": "1.2.0",
            "_view_name": "LayoutView",
            "align_content": null,
            "align_items": null,
            "align_self": null,
            "border": null,
            "bottom": null,
            "display": null,
            "flex": null,
            "flex_flow": null,
            "grid_area": null,
            "grid_auto_columns": null,
            "grid_auto_flow": null,
            "grid_auto_rows": null,
            "grid_column": null,
            "grid_gap": null,
            "grid_row": null,
            "grid_template_areas": null,
            "grid_template_columns": null,
            "grid_template_rows": null,
            "height": null,
            "justify_content": null,
            "justify_items": null,
            "left": null,
            "margin": null,
            "max_height": null,
            "max_width": null,
            "min_height": null,
            "min_width": null,
            "object_fit": null,
            "object_position": null,
            "order": null,
            "overflow": null,
            "overflow_x": null,
            "overflow_y": null,
            "padding": null,
            "right": null,
            "top": null,
            "visibility": null,
            "width": null
          }
        },
        "197348fbb4ba447c898891d07d2ad3e7": {
          "model_module": "@jupyter-widgets/controls",
          "model_name": "DescriptionStyleModel",
          "model_module_version": "1.5.0",
          "state": {
            "_model_module": "@jupyter-widgets/controls",
            "_model_module_version": "1.5.0",
            "_model_name": "DescriptionStyleModel",
            "_view_count": null,
            "_view_module": "@jupyter-widgets/base",
            "_view_module_version": "1.2.0",
            "_view_name": "StyleView",
            "description_width": ""
          }
        },
        "5423bdcfe4ed49199c4bea8f340cd34f": {
          "model_module": "@jupyter-widgets/base",
          "model_name": "LayoutModel",
          "model_module_version": "1.2.0",
          "state": {
            "_model_module": "@jupyter-widgets/base",
            "_model_module_version": "1.2.0",
            "_model_name": "LayoutModel",
            "_view_count": null,
            "_view_module": "@jupyter-widgets/base",
            "_view_module_version": "1.2.0",
            "_view_name": "LayoutView",
            "align_content": null,
            "align_items": null,
            "align_self": null,
            "border": null,
            "bottom": null,
            "display": null,
            "flex": null,
            "flex_flow": null,
            "grid_area": null,
            "grid_auto_columns": null,
            "grid_auto_flow": null,
            "grid_auto_rows": null,
            "grid_column": null,
            "grid_gap": null,
            "grid_row": null,
            "grid_template_areas": null,
            "grid_template_columns": null,
            "grid_template_rows": null,
            "height": null,
            "justify_content": null,
            "justify_items": null,
            "left": null,
            "margin": null,
            "max_height": null,
            "max_width": null,
            "min_height": null,
            "min_width": null,
            "object_fit": null,
            "object_position": null,
            "order": null,
            "overflow": null,
            "overflow_x": null,
            "overflow_y": null,
            "padding": null,
            "right": null,
            "top": null,
            "visibility": null,
            "width": null
          }
        },
        "3dab7a935825479c81371d2178c8b26d": {
          "model_module": "@jupyter-widgets/controls",
          "model_name": "ProgressStyleModel",
          "model_module_version": "1.5.0",
          "state": {
            "_model_module": "@jupyter-widgets/controls",
            "_model_module_version": "1.5.0",
            "_model_name": "ProgressStyleModel",
            "_view_count": null,
            "_view_module": "@jupyter-widgets/base",
            "_view_module_version": "1.2.0",
            "_view_name": "StyleView",
            "bar_color": null,
            "description_width": ""
          }
        },
        "ead3a0c747fa493ba13da6fc82d75254": {
          "model_module": "@jupyter-widgets/base",
          "model_name": "LayoutModel",
          "model_module_version": "1.2.0",
          "state": {
            "_model_module": "@jupyter-widgets/base",
            "_model_module_version": "1.2.0",
            "_model_name": "LayoutModel",
            "_view_count": null,
            "_view_module": "@jupyter-widgets/base",
            "_view_module_version": "1.2.0",
            "_view_name": "LayoutView",
            "align_content": null,
            "align_items": null,
            "align_self": null,
            "border": null,
            "bottom": null,
            "display": null,
            "flex": null,
            "flex_flow": null,
            "grid_area": null,
            "grid_auto_columns": null,
            "grid_auto_flow": null,
            "grid_auto_rows": null,
            "grid_column": null,
            "grid_gap": null,
            "grid_row": null,
            "grid_template_areas": null,
            "grid_template_columns": null,
            "grid_template_rows": null,
            "height": null,
            "justify_content": null,
            "justify_items": null,
            "left": null,
            "margin": null,
            "max_height": null,
            "max_width": null,
            "min_height": null,
            "min_width": null,
            "object_fit": null,
            "object_position": null,
            "order": null,
            "overflow": null,
            "overflow_x": null,
            "overflow_y": null,
            "padding": null,
            "right": null,
            "top": null,
            "visibility": null,
            "width": null
          }
        },
        "b8d450366337426aa18bb575dd54c383": {
          "model_module": "@jupyter-widgets/controls",
          "model_name": "DescriptionStyleModel",
          "model_module_version": "1.5.0",
          "state": {
            "_model_module": "@jupyter-widgets/controls",
            "_model_module_version": "1.5.0",
            "_model_name": "DescriptionStyleModel",
            "_view_count": null,
            "_view_module": "@jupyter-widgets/base",
            "_view_module_version": "1.2.0",
            "_view_name": "StyleView",
            "description_width": ""
          }
        },
        "89a5baad5aee415eb6fd9e307d48b353": {
          "model_module": "@jupyter-widgets/controls",
          "model_name": "HBoxModel",
          "model_module_version": "1.5.0",
          "state": {
            "_dom_classes": [],
            "_model_module": "@jupyter-widgets/controls",
            "_model_module_version": "1.5.0",
            "_model_name": "HBoxModel",
            "_view_count": null,
            "_view_module": "@jupyter-widgets/controls",
            "_view_module_version": "1.5.0",
            "_view_name": "HBoxView",
            "box_style": "",
            "children": [
              "IPY_MODEL_5822278aac8d4c4e9ee9be8d597ef892",
              "IPY_MODEL_b68a2c59ea374fc1839fdb4a7b7d478a",
              "IPY_MODEL_21020fefd5fa482ab98a9c4d85fa31d4"
            ],
            "layout": "IPY_MODEL_550711986bad406698e42a7e8137329a"
          }
        },
        "5822278aac8d4c4e9ee9be8d597ef892": {
          "model_module": "@jupyter-widgets/controls",
          "model_name": "HTMLModel",
          "model_module_version": "1.5.0",
          "state": {
            "_dom_classes": [],
            "_model_module": "@jupyter-widgets/controls",
            "_model_module_version": "1.5.0",
            "_model_name": "HTMLModel",
            "_view_count": null,
            "_view_module": "@jupyter-widgets/controls",
            "_view_module_version": "1.5.0",
            "_view_name": "HTMLView",
            "description": "",
            "description_tooltip": null,
            "layout": "IPY_MODEL_061bd8452d9c433f89836de509f95ba3",
            "placeholder": "​",
            "style": "IPY_MODEL_36c3abca6c40488b9d3a8b03f3fa609b",
            "value": "Downloading: 100%"
          }
        },
        "b68a2c59ea374fc1839fdb4a7b7d478a": {
          "model_module": "@jupyter-widgets/controls",
          "model_name": "FloatProgressModel",
          "model_module_version": "1.5.0",
          "state": {
            "_dom_classes": [],
            "_model_module": "@jupyter-widgets/controls",
            "_model_module_version": "1.5.0",
            "_model_name": "FloatProgressModel",
            "_view_count": null,
            "_view_module": "@jupyter-widgets/controls",
            "_view_module_version": "1.5.0",
            "_view_name": "ProgressView",
            "bar_style": "success",
            "description": "",
            "description_tooltip": null,
            "layout": "IPY_MODEL_566e1e7427cd475fb3aaee36748ae564",
            "max": 231508,
            "min": 0,
            "orientation": "horizontal",
            "style": "IPY_MODEL_8fc3ba09e5264c72a8bbb1851a8e1d91",
            "value": 231508
          }
        },
        "21020fefd5fa482ab98a9c4d85fa31d4": {
          "model_module": "@jupyter-widgets/controls",
          "model_name": "HTMLModel",
          "model_module_version": "1.5.0",
          "state": {
            "_dom_classes": [],
            "_model_module": "@jupyter-widgets/controls",
            "_model_module_version": "1.5.0",
            "_model_name": "HTMLModel",
            "_view_count": null,
            "_view_module": "@jupyter-widgets/controls",
            "_view_module_version": "1.5.0",
            "_view_name": "HTMLView",
            "description": "",
            "description_tooltip": null,
            "layout": "IPY_MODEL_b7745b641f554c348e92f529867afb73",
            "placeholder": "​",
            "style": "IPY_MODEL_d86eb525b9bb42d5baee78b3af31948d",
            "value": " 232k/232k [00:00&lt;00:00, 1.95MB/s]"
          }
        },
        "550711986bad406698e42a7e8137329a": {
          "model_module": "@jupyter-widgets/base",
          "model_name": "LayoutModel",
          "model_module_version": "1.2.0",
          "state": {
            "_model_module": "@jupyter-widgets/base",
            "_model_module_version": "1.2.0",
            "_model_name": "LayoutModel",
            "_view_count": null,
            "_view_module": "@jupyter-widgets/base",
            "_view_module_version": "1.2.0",
            "_view_name": "LayoutView",
            "align_content": null,
            "align_items": null,
            "align_self": null,
            "border": null,
            "bottom": null,
            "display": null,
            "flex": null,
            "flex_flow": null,
            "grid_area": null,
            "grid_auto_columns": null,
            "grid_auto_flow": null,
            "grid_auto_rows": null,
            "grid_column": null,
            "grid_gap": null,
            "grid_row": null,
            "grid_template_areas": null,
            "grid_template_columns": null,
            "grid_template_rows": null,
            "height": null,
            "justify_content": null,
            "justify_items": null,
            "left": null,
            "margin": null,
            "max_height": null,
            "max_width": null,
            "min_height": null,
            "min_width": null,
            "object_fit": null,
            "object_position": null,
            "order": null,
            "overflow": null,
            "overflow_x": null,
            "overflow_y": null,
            "padding": null,
            "right": null,
            "top": null,
            "visibility": null,
            "width": null
          }
        },
        "061bd8452d9c433f89836de509f95ba3": {
          "model_module": "@jupyter-widgets/base",
          "model_name": "LayoutModel",
          "model_module_version": "1.2.0",
          "state": {
            "_model_module": "@jupyter-widgets/base",
            "_model_module_version": "1.2.0",
            "_model_name": "LayoutModel",
            "_view_count": null,
            "_view_module": "@jupyter-widgets/base",
            "_view_module_version": "1.2.0",
            "_view_name": "LayoutView",
            "align_content": null,
            "align_items": null,
            "align_self": null,
            "border": null,
            "bottom": null,
            "display": null,
            "flex": null,
            "flex_flow": null,
            "grid_area": null,
            "grid_auto_columns": null,
            "grid_auto_flow": null,
            "grid_auto_rows": null,
            "grid_column": null,
            "grid_gap": null,
            "grid_row": null,
            "grid_template_areas": null,
            "grid_template_columns": null,
            "grid_template_rows": null,
            "height": null,
            "justify_content": null,
            "justify_items": null,
            "left": null,
            "margin": null,
            "max_height": null,
            "max_width": null,
            "min_height": null,
            "min_width": null,
            "object_fit": null,
            "object_position": null,
            "order": null,
            "overflow": null,
            "overflow_x": null,
            "overflow_y": null,
            "padding": null,
            "right": null,
            "top": null,
            "visibility": null,
            "width": null
          }
        },
        "36c3abca6c40488b9d3a8b03f3fa609b": {
          "model_module": "@jupyter-widgets/controls",
          "model_name": "DescriptionStyleModel",
          "model_module_version": "1.5.0",
          "state": {
            "_model_module": "@jupyter-widgets/controls",
            "_model_module_version": "1.5.0",
            "_model_name": "DescriptionStyleModel",
            "_view_count": null,
            "_view_module": "@jupyter-widgets/base",
            "_view_module_version": "1.2.0",
            "_view_name": "StyleView",
            "description_width": ""
          }
        },
        "566e1e7427cd475fb3aaee36748ae564": {
          "model_module": "@jupyter-widgets/base",
          "model_name": "LayoutModel",
          "model_module_version": "1.2.0",
          "state": {
            "_model_module": "@jupyter-widgets/base",
            "_model_module_version": "1.2.0",
            "_model_name": "LayoutModel",
            "_view_count": null,
            "_view_module": "@jupyter-widgets/base",
            "_view_module_version": "1.2.0",
            "_view_name": "LayoutView",
            "align_content": null,
            "align_items": null,
            "align_self": null,
            "border": null,
            "bottom": null,
            "display": null,
            "flex": null,
            "flex_flow": null,
            "grid_area": null,
            "grid_auto_columns": null,
            "grid_auto_flow": null,
            "grid_auto_rows": null,
            "grid_column": null,
            "grid_gap": null,
            "grid_row": null,
            "grid_template_areas": null,
            "grid_template_columns": null,
            "grid_template_rows": null,
            "height": null,
            "justify_content": null,
            "justify_items": null,
            "left": null,
            "margin": null,
            "max_height": null,
            "max_width": null,
            "min_height": null,
            "min_width": null,
            "object_fit": null,
            "object_position": null,
            "order": null,
            "overflow": null,
            "overflow_x": null,
            "overflow_y": null,
            "padding": null,
            "right": null,
            "top": null,
            "visibility": null,
            "width": null
          }
        },
        "8fc3ba09e5264c72a8bbb1851a8e1d91": {
          "model_module": "@jupyter-widgets/controls",
          "model_name": "ProgressStyleModel",
          "model_module_version": "1.5.0",
          "state": {
            "_model_module": "@jupyter-widgets/controls",
            "_model_module_version": "1.5.0",
            "_model_name": "ProgressStyleModel",
            "_view_count": null,
            "_view_module": "@jupyter-widgets/base",
            "_view_module_version": "1.2.0",
            "_view_name": "StyleView",
            "bar_color": null,
            "description_width": ""
          }
        },
        "b7745b641f554c348e92f529867afb73": {
          "model_module": "@jupyter-widgets/base",
          "model_name": "LayoutModel",
          "model_module_version": "1.2.0",
          "state": {
            "_model_module": "@jupyter-widgets/base",
            "_model_module_version": "1.2.0",
            "_model_name": "LayoutModel",
            "_view_count": null,
            "_view_module": "@jupyter-widgets/base",
            "_view_module_version": "1.2.0",
            "_view_name": "LayoutView",
            "align_content": null,
            "align_items": null,
            "align_self": null,
            "border": null,
            "bottom": null,
            "display": null,
            "flex": null,
            "flex_flow": null,
            "grid_area": null,
            "grid_auto_columns": null,
            "grid_auto_flow": null,
            "grid_auto_rows": null,
            "grid_column": null,
            "grid_gap": null,
            "grid_row": null,
            "grid_template_areas": null,
            "grid_template_columns": null,
            "grid_template_rows": null,
            "height": null,
            "justify_content": null,
            "justify_items": null,
            "left": null,
            "margin": null,
            "max_height": null,
            "max_width": null,
            "min_height": null,
            "min_width": null,
            "object_fit": null,
            "object_position": null,
            "order": null,
            "overflow": null,
            "overflow_x": null,
            "overflow_y": null,
            "padding": null,
            "right": null,
            "top": null,
            "visibility": null,
            "width": null
          }
        },
        "d86eb525b9bb42d5baee78b3af31948d": {
          "model_module": "@jupyter-widgets/controls",
          "model_name": "DescriptionStyleModel",
          "model_module_version": "1.5.0",
          "state": {
            "_model_module": "@jupyter-widgets/controls",
            "_model_module_version": "1.5.0",
            "_model_name": "DescriptionStyleModel",
            "_view_count": null,
            "_view_module": "@jupyter-widgets/base",
            "_view_module_version": "1.2.0",
            "_view_name": "StyleView",
            "description_width": ""
          }
        }
      }
    }
  },
  "cells": [
    {
      "cell_type": "markdown",
      "metadata": {
        "id": "view-in-github",
        "colab_type": "text"
      },
      "source": [
        "<a href=\"https://colab.research.google.com/github/OmkarKotwalProject/McDonalds_Work/blob/main/McDonalds_Work.ipynb\" target=\"_parent\"><img src=\"https://colab.research.google.com/assets/colab-badge.svg\" alt=\"Open In Colab\"/></a>"
      ]
    },
    {
      "cell_type": "markdown",
      "source": [
        "# Importing libraries and loading the dataset"
      ],
      "metadata": {
        "id": "W30MPWpO6vVf"
      }
    },
    {
      "cell_type": "code",
      "execution_count": 1,
      "metadata": {
        "id": "BNME5SDEgttV",
        "colab": {
          "base_uri": "https://localhost:8080/"
        },
        "outputId": "cbdfa266-383c-4ef2-89df-7ebf96afca97"
      },
      "outputs": [
        {
          "output_type": "stream",
          "name": "stderr",
          "text": [
            "/usr/local/lib/python3.7/dist-packages/nltk/twitter/__init__.py:20: UserWarning: The twython library has not been installed. Some functionality from the twitter package will not be available.\n",
            "  warnings.warn(\"The twython library has not been installed. \"\n"
          ]
        }
      ],
      "source": [
        "from warnings import filterwarnings\n",
        "import matplotlib.pyplot as plt\n",
        "import numpy as np\n",
        "from PIL import Image\n",
        "import pandas as pd\n",
        "import nltk\n",
        "import re\n",
        "from nltk.corpus import stopwords\n",
        "import gensim\n",
        "from nltk.sentiment import SentimentIntensityAnalyzer\n",
        "from sklearn.ensemble import RandomForestClassifier\n",
        "from sklearn.linear_model import LogisticRegression\n",
        "from sklearn.model_selection import cross_val_score, GridSearchCV, cross_validate\n",
        "import sklearn.metrics as sm\n",
        "from sklearn.preprocessing import LabelEncoder\n",
        "from textblob import Word, TextBlob\n",
        "from wordcloud import WordCloud"
      ]
    },
    {
      "cell_type": "code",
      "source": [
        "import warnings\n",
        "warnings.filterwarnings(\"ignore\")"
      ],
      "metadata": {
        "id": "lBAc0gu6bvHl"
      },
      "execution_count": 2,
      "outputs": []
    },
    {
      "cell_type": "code",
      "source": [
        "!pip install pyspellchecker\n",
        "!pip install Counter\n",
        "\n",
        "nltk.download(\"stopwords\")\n",
        "nltk.download(\"punkt\")\n",
        "nltk.download(\"wordnet\")"
      ],
      "metadata": {
        "id": "BnaTV4NDhArY",
        "colab": {
          "base_uri": "https://localhost:8080/"
        },
        "outputId": "f494ea01-dfad-47e4-8686-6cb8fa75c734"
      },
      "execution_count": 3,
      "outputs": [
        {
          "output_type": "stream",
          "name": "stdout",
          "text": [
            "Collecting pyspellchecker\n",
            "  Downloading pyspellchecker-0.6.3-py3-none-any.whl (2.7 MB)\n",
            "\u001b[K     |████████████████████████████████| 2.7 MB 5.1 MB/s \n",
            "\u001b[?25hInstalling collected packages: pyspellchecker\n",
            "Successfully installed pyspellchecker-0.6.3\n",
            "Collecting Counter\n",
            "  Downloading Counter-1.0.0.tar.gz (5.2 kB)\n",
            "Building wheels for collected packages: Counter\n",
            "  Building wheel for Counter (setup.py) ... \u001b[?25l\u001b[?25hdone\n",
            "  Created wheel for Counter: filename=Counter-1.0.0-py3-none-any.whl size=5411 sha256=f3b9688ceb3379d4b8433d0cea722800a5193dfa8aa422ac30a864ee535b697a\n",
            "  Stored in directory: /root/.cache/pip/wheels/f9/15/75/7a0462a00beb08e391f5da370ca409b56781d2501dba083fa3\n",
            "Successfully built Counter\n",
            "Installing collected packages: Counter\n",
            "Successfully installed Counter-1.0.0\n",
            "[nltk_data] Downloading package stopwords to /root/nltk_data...\n",
            "[nltk_data]   Unzipping corpora/stopwords.zip.\n",
            "[nltk_data] Downloading package punkt to /root/nltk_data...\n",
            "[nltk_data]   Unzipping tokenizers/punkt.zip.\n",
            "[nltk_data] Downloading package wordnet to /root/nltk_data...\n",
            "[nltk_data]   Unzipping corpora/wordnet.zip.\n"
          ]
        },
        {
          "output_type": "execute_result",
          "data": {
            "text/plain": [
              "True"
            ]
          },
          "metadata": {},
          "execution_count": 3
        }
      ]
    },
    {
      "cell_type": "code",
      "source": [
        "pd.set_option(\"display.max_rows\",500)\n",
        "pd.set_option(\"display.max_columns\",None)\n",
        "pd.set_option(\"display.max_colwidth\",None)"
      ],
      "metadata": {
        "id": "GVMP4--KhCQY"
      },
      "execution_count": 4,
      "outputs": []
    },
    {
      "cell_type": "code",
      "source": [
        "from google.colab import drive\n",
        "drive.mount('/content/drive/')"
      ],
      "metadata": {
        "colab": {
          "base_uri": "https://localhost:8080/"
        },
        "id": "8AT68QXPmLpr",
        "outputId": "129a7b5e-cf83-4105-b172-5cdb9a7b1fa4"
      },
      "execution_count": 5,
      "outputs": [
        {
          "output_type": "stream",
          "name": "stdout",
          "text": [
            "Mounted at /content/drive/\n"
          ]
        }
      ]
    },
    {
      "cell_type": "code",
      "source": [
        "cd /content/drive/MyDrive/CUSTOMER_REVIEWS/ScrapedReviews/PROJECT SCRAPED REVIEWS/McDonalds 3k/"
      ],
      "metadata": {
        "colab": {
          "base_uri": "https://localhost:8080/"
        },
        "id": "XpuV3xAOmgGU",
        "outputId": "d45c6dab-c390-4770-801f-14b22da7ee8c"
      },
      "execution_count": 6,
      "outputs": [
        {
          "output_type": "stream",
          "name": "stdout",
          "text": [
            "/content/drive/MyDrive/CUSTOMER_REVIEWS/ScrapedReviews/PROJECT SCRAPED REVIEWS/McDonalds 3k\n"
          ]
        }
      ]
    },
    {
      "cell_type": "code",
      "source": [
        "df = pd.read_excel('All_Reviews_MD.xlsx')"
      ],
      "metadata": {
        "id": "KXVmUTnem2Ic"
      },
      "execution_count": 7,
      "outputs": []
    },
    {
      "cell_type": "code",
      "source": [
        "#Keeping the original as it is.\n",
        "df_review=df "
      ],
      "metadata": {
        "id": "_G0u4TwdhF0P"
      },
      "execution_count": 8,
      "outputs": []
    },
    {
      "cell_type": "markdown",
      "source": [
        "THIS IS A BACKUP LOAD OF ORIGINAL DATAFRAME, ONLY USE IF something goes wrong and need to load the dataset again"
      ],
      "metadata": {
        "id": "0sjTtfl8hXVv"
      }
    },
    {
      "cell_type": "code",
      "source": [
        "# #FOR EMPTYING THE DATAFRAME\n",
        "#df_review.drop(columns=['Review','Sentiment'],inplace=True)"
      ],
      "metadata": {
        "id": "FmB4Vx4mhTdX"
      },
      "execution_count": 9,
      "outputs": []
    },
    {
      "cell_type": "code",
      "source": [
        "# #FOR RELOADING WITH ORIGINAL RAW DATA\n",
        "# df= pd.read_excel(io.BytesIO(uploaded['All_Reviews_PH.xlsx']))\n",
        "# df_review=df"
      ],
      "metadata": {
        "id": "fUT8lNKphZ7D"
      },
      "execution_count": 10,
      "outputs": []
    },
    {
      "cell_type": "markdown",
      "source": [
        "BACKUP CODE END"
      ],
      "metadata": {
        "id": "Eb00yeaIhbUW"
      }
    },
    {
      "cell_type": "code",
      "source": [
        "print(df_review.head())\n",
        "print(df_review.shape)"
      ],
      "metadata": {
        "id": "SNcyc9BNheK8",
        "colab": {
          "base_uri": "https://localhost:8080/"
        },
        "outputId": "4e17e216-ceb2-4a04-ccbe-ad25cf1544cc"
      },
      "execution_count": 11,
      "outputs": [
        {
          "output_type": "stream",
          "name": "stdout",
          "text": [
            "                                                                                                     Review  \\\n",
            "0  Sitting arrangement is really bad, kept on moving here and there not happy, they should take care for it   \n",
            "1                                                               Spacious.. Friendly, kind and helpful staff   \n",
            "2                                  Always very crowded, non co-operative staff, will never advice to visit.   \n",
            "3                                                                                            Amazing places   \n",
            "4                                               Not service are good.always take time on single order also.   \n",
            "\n",
            "   Sentiment  \n",
            "0          0  \n",
            "1          1  \n",
            "2          0  \n",
            "3          1  \n",
            "4          0  \n",
            "(3016, 2)\n"
          ]
        }
      ]
    },
    {
      "cell_type": "markdown",
      "source": [
        "HOW MANY POSITIVE REVIEWS, HOW MANY NEGATIVE REVIEWS"
      ],
      "metadata": {
        "id": "QAkbXMaiiFJi"
      }
    },
    {
      "cell_type": "code",
      "source": [
        "print(df_review[df_review['Sentiment']==1].count())\n",
        "print(df_review[df_review['Sentiment']==0].count())"
      ],
      "metadata": {
        "id": "Yu-jdb8BiC9q",
        "colab": {
          "base_uri": "https://localhost:8080/"
        },
        "outputId": "14e658e0-6d0f-42d3-908e-680772dccf58"
      },
      "execution_count": 12,
      "outputs": [
        {
          "output_type": "stream",
          "name": "stdout",
          "text": [
            "Review       2212\n",
            "Sentiment    2212\n",
            "dtype: int64\n",
            "Review       804\n",
            "Sentiment    804\n",
            "dtype: int64\n"
          ]
        }
      ]
    },
    {
      "cell_type": "code",
      "source": [
        "print(df_review['Sentiment'].astype(int))"
      ],
      "metadata": {
        "id": "xD_VF10_nMbt",
        "colab": {
          "base_uri": "https://localhost:8080/"
        },
        "outputId": "a4d3c08a-5824-474f-ed6d-8924301c5eef"
      },
      "execution_count": 13,
      "outputs": [
        {
          "output_type": "stream",
          "name": "stdout",
          "text": [
            "0       0\n",
            "1       1\n",
            "2       0\n",
            "3       1\n",
            "4       0\n",
            "       ..\n",
            "3011    1\n",
            "3012    1\n",
            "3013    1\n",
            "3014    1\n",
            "3015    1\n",
            "Name: Sentiment, Length: 3016, dtype: int64\n"
          ]
        }
      ]
    },
    {
      "cell_type": "markdown",
      "source": [
        "#PRE-PROCESSING!"
      ],
      "metadata": {
        "id": "VySQpt6ziGEf"
      }
    },
    {
      "cell_type": "markdown",
      "source": [
        "1. Removing digits [\\d]"
      ],
      "metadata": {
        "id": "ZQgIqj8Lhpzh"
      }
    },
    {
      "cell_type": "code",
      "source": [
        "#REMOVING NUMBERS \n",
        "df_review['Review']=df_review['Review'].replace('\\d+','',regex=True)"
      ],
      "metadata": {
        "id": "fClOpgDxhfhG"
      },
      "execution_count": 14,
      "outputs": []
    },
    {
      "cell_type": "markdown",
      "source": [
        "2. Replacing special characters by empty space ‘ ‘ and dealing with any character that occurs more than twice: yummmmy => yummy\n"
      ],
      "metadata": {
        "id": "afSs8fk4iseM"
      }
    },
    {
      "cell_type": "code",
      "source": [
        "df_review['Review']=df_review['Review'].replace('\\n', ' ',regex=True)\n",
        "df_review['Review']=df_review['Review'].replace(('[^!|^.|^,|^;|^-|^@|^\\w\\s]'),\"\", regex = True)\n",
        "for i in range(len(df_review)):\n",
        "  sentence=df_review['Review'][i]\n",
        "  sentence=sentence.replace('.', ' ')\n",
        "  sentence=sentence.replace(',', ' ')\n",
        "  sentence=sentence.replace('!', ' ')\n",
        "  sentence=sentence.replace('.', ' ')\n",
        "  sentence=sentence.replace(';', ' ')\n",
        "  sentence=sentence.replace('-', ' ')\n",
        "  sentence=sentence.replace('@', ' ')\n",
        "  sentence=sentence.replace(')', ' ')\n",
        "  sentence=sentence.replace('(', ' ')\n",
        "  sentence=sentence.replace('{', ' ')\n",
        "  sentence=sentence.replace('}', ' ')\n",
        "\n",
        "  sentence=re.sub(r'(.)\\1+', r'\\1\\1',sentence)   # yummmyyy => yummyy,  '     '=>'  '  #This line will remove char which occures more than 2 times consecutively.\n",
        "  df_review['Review'][i]=sentence\n",
        "print(df_review.head(10))"
      ],
      "metadata": {
        "id": "3iScAlLbippf",
        "colab": {
          "base_uri": "https://localhost:8080/"
        },
        "outputId": "d1bd74c0-b61f-4945-9702-d00d61e7c3fe"
      },
      "execution_count": 15,
      "outputs": [
        {
          "output_type": "stream",
          "name": "stdout",
          "text": [
            "                                                                                                                              Review  \\\n",
            "0                           Sitting arrangement is really bad  kept on moving here and there not happy  they should take care for it   \n",
            "1                                                                                         Spacious  Friendly  kind and helpful staff   \n",
            "2                                                            Always very crowded  non cooperative staff  will never advice to visit    \n",
            "3                                                                                                                     Amazing places   \n",
            "4                                                                        Not service are good always take time on single order also    \n",
            "5                                                                             Great place  quick service  food was tasty like alwats   \n",
            "6                                                                         Pathetic service no covid regulations are followed by them   \n",
            "7                                                           my order was late and also my food was cold thats why it was not taste     \n",
            "8   Food was not at all fresh  May be it was not freshly made  Felt like it was not prepared today  it was prepared two days before    \n",
            "9  second time hot choclate leaked  both d burger totally wet  cant eat last time same thing was done  bt no response from your side   \n",
            "\n",
            "   Sentiment  \n",
            "0          0  \n",
            "1          1  \n",
            "2          0  \n",
            "3          1  \n",
            "4          0  \n",
            "5          1  \n",
            "6          0  \n",
            "7          0  \n",
            "8          0  \n",
            "9          0  \n"
          ]
        }
      ]
    },
    {
      "cell_type": "markdown",
      "source": [
        "3. REMOVING CHARACTERS WHICH ONLY OCCUR ONCE! ALSO REPLACING TWO CONSECUTIVE SPACES BY ONE"
      ],
      "metadata": {
        "id": "bdWNbhPji4L_"
      }
    },
    {
      "cell_type": "code",
      "source": [
        "cnter=0\n",
        "while(cnter<2):\n",
        "  for i in range(len(df_review)):\n",
        "    new_sentence=\" \"\n",
        "    sentence=df_review['Review'][i]    #get the row i.e. sentence\n",
        "    words=sentence.split()  #makes a list of the words in the sentence\n",
        "    for word in words:      #check every words length and if it is less than 2, remove it\n",
        "      if len(word)<2:\n",
        "        words.remove(word)\n",
        "    new_sentence=new_sentence.join(words) #Create a new sentence by joining all the words in the list with \" \" as a separator\n",
        "    df_review['Review'][i]=new_sentence   #replace current row i.e. sentence by the new sentence\n",
        "  cnter=cnter+1"
      ],
      "metadata": {
        "id": "JOk7DMjKi0EA"
      },
      "execution_count": 16,
      "outputs": []
    },
    {
      "cell_type": "code",
      "source": [
        "print(df_review.head(5))"
      ],
      "metadata": {
        "id": "cg0XUF_Il7aL",
        "colab": {
          "base_uri": "https://localhost:8080/"
        },
        "outputId": "2ab39ab2-3647-491f-96d3-290b166cfbcb"
      },
      "execution_count": 17,
      "outputs": [
        {
          "output_type": "stream",
          "name": "stdout",
          "text": [
            "                                                                                                   Review  \\\n",
            "0  Sitting arrangement is really bad kept on moving here and there not happy they should take care for it   \n",
            "1                                                                Spacious Friendly kind and helpful staff   \n",
            "2                                    Always very crowded non cooperative staff will never advice to visit   \n",
            "3                                                                                          Amazing places   \n",
            "4                                              Not service are good always take time on single order also   \n",
            "\n",
            "   Sentiment  \n",
            "0          0  \n",
            "1          1  \n",
            "2          0  \n",
            "3          1  \n",
            "4          0  \n"
          ]
        }
      ]
    },
    {
      "cell_type": "markdown",
      "source": [
        "4. Print the rows with Missing NAN values"
      ],
      "metadata": {
        "id": "KtX3c5zLmCJj"
      }
    },
    {
      "cell_type": "code",
      "source": [
        "print(df_review[df_review.isna().any(axis=1)])"
      ],
      "metadata": {
        "id": "csLu4yhnmAtZ",
        "colab": {
          "base_uri": "https://localhost:8080/"
        },
        "outputId": "fdae729f-ba11-4e8a-86ee-fba8805e3a80"
      },
      "execution_count": 18,
      "outputs": [
        {
          "output_type": "stream",
          "name": "stdout",
          "text": [
            "Empty DataFrame\n",
            "Columns: [Review, Sentiment]\n",
            "Index: []\n"
          ]
        }
      ]
    },
    {
      "cell_type": "markdown",
      "source": [
        "4. FINDING MISSPELLED WORDS AND CORRECTING THEM!\n",
        "\n",
        "Algorithm used for correcting words:\n",
        "\n",
        "    Create a list of misspelled words found in the dataset.\n",
        "    Create a list of correctly spelled words found in the dataset.\n",
        "    Use similar() function of 'SequenceMatcher' for finding similarity between words from both lists. If it is greater than 0.8, create a dictionary (dict['misspelled word'=correctly spelled word.\n",
        "    Now traverse the dataset, while checking a row, extract its misspelled words, check if misspelled word is in the dictionary, if it is then replace it with correctly spelled word.\n",
        "\n"
      ],
      "metadata": {
        "id": "erSdkkf4nQrO"
      }
    },
    {
      "cell_type": "code",
      "source": [
        "#This creates a list of sets of misspelled words found in each row.\n",
        "from spellchecker import SpellChecker\n",
        "spell=SpellChecker()\n",
        "mis_list=[]\n",
        "for i in range(len(df_review)):\n",
        "  sentence=df_review['Review'][i].split()\n",
        "  mis_sent=spell.unknown(sentence)\n",
        "  mis_list.append(mis_sent)\n",
        "  if set() in mis_list:\n",
        "    mis_list.remove(set())\n",
        "print(\"first 50 row's Misspelled words but they are in [{misspelled words list from row 1},{misspelled words list from row 2}]: \",mis_list[0:50])"
      ],
      "metadata": {
        "id": "gaiIkuYgnNym",
        "colab": {
          "base_uri": "https://localhost:8080/"
        },
        "outputId": "f69b721b-cf2f-4304-b4ec-c4365538591e"
      },
      "execution_count": 19,
      "outputs": [
        {
          "output_type": "stream",
          "name": "stdout",
          "text": [
            "first 50 row's Misspelled words but they are in [{misspelled words list from row 1},{misspelled words list from row 2}]:  [{'alwats'}, {'covid'}, {'bt', 'choclate'}, {'mcd', 'dnt'}, {'donalds', 'mc'}, {'tikki'}, {'estable'}, {'dilevery', 'contactless'}, {'coverd'}, {'mcpuff'}, {'tikki', 'mc'}, {'mcaloo', 'tikki', 'chesse'}, {'tikki', 'tomotoes'}, {'tikki', 'chatapata'}, {'mixfries', 'sider', 'mcdonaldspricepiri', 'mcdits', 'piri', 'theflavourjunction', '__for', 'frieslocation'}, {'sanitization'}, {'kfc'}, {'mcpuff', 'mutar', 'kabab'}, {'donalds', 'mc'}, {'hygienefoodrecommendation'}, {'foodwarden', 'donalds', 'tejasawant', 'mc'}, {'quntity', 'varietys'}, {'mc'}, {'mcfries', 'cripsy', 'mc'}, {'obvio'}, {'contactless'}, {'mcaloo', 'tikki', 'tikkis', 'tamatos'}, {'mc'}, {'tht'}, {'borivali', 'mcveggie', 'mcd', 'mc'}, {'mc'}, {'covid'}, {'differemt', 'ehuch', 'ambiemce', 'lovved', 'waitong'}, {'maharajamac'}, {'mc'}, {'mc'}, {'schezwan', 'mc'}, {'tikki', 'st', 'minimised'}, {'mcpuff', 'mc', 'chatpata', 'deffers'}, {'mcaloo', 'tikki', 'rs'}, {'donalds', 'zomato', 'mc'}, {'piri'}, {'favs', 'tikkas'}, {'mc'}, {'ppt', 'rs'}, {'renovationcopying'}, {'tikki', 'snd', 'mc'}, {'borivali'}, {'coldrinks'}, {'tikki', 'mccafe', 'mcd', 'sv', 'mcaloo', 'borivali', 'kora'}]\n"
          ]
        }
      ]
    },
    {
      "cell_type": "code",
      "source": [
        "#Creating a list of misspelled words. (Basically extracting each set element from the mis_list and putting it into mis_mis_list)\n",
        "\n",
        "from collections import Counter\n",
        "mis_mis_list=[]\n",
        "for i in mis_list:\n",
        "  for j in i:\n",
        "    mis_mis_list.append(j.lower())   #just making the words lower before appending to mis_mis_list\n",
        "\n",
        "print(\"first 50 Misspelled words:\",mis_mis_list[0:50]) #LIST OF MISSPELLED WORDS   \n",
        "print(\"Total misspelled words: \",len(mis_mis_list)) #Note: this list is not a 'unique mispelled words' list, it has repeated occurences of them.\n",
        "\n",
        "\n",
        "#Finding common words and their occurrences in the mis_mis_list #Just a trial code for common words finder.\n",
        "cnt=Counter(mis_mis_list)\n",
        "cmmn=cnt.most_common(100)   \n",
        "print(cmmn)"
      ],
      "metadata": {
        "id": "e_0CmYqNn5gm",
        "colab": {
          "base_uri": "https://localhost:8080/"
        },
        "outputId": "e76038ca-4b3c-4821-b235-e45fa6fbf7f7"
      },
      "execution_count": 20,
      "outputs": [
        {
          "output_type": "stream",
          "name": "stdout",
          "text": [
            "first 50 Misspelled words: ['alwats', 'covid', 'bt', 'choclate', 'mcd', 'dnt', 'donalds', 'mc', 'tikki', 'estable', 'dilevery', 'contactless', 'coverd', 'mcpuff', 'tikki', 'mc', 'mcaloo', 'tikki', 'chesse', 'tikki', 'tomotoes', 'tikki', 'chatapata', 'mixfries', 'sider', 'mcdonaldspricepiri', 'mcdits', 'piri', 'theflavourjunction', '__for', 'frieslocation', 'sanitization', 'kfc', 'mcpuff', 'mutar', 'kabab', 'donalds', 'mc', 'hygienefoodrecommendation', 'foodwarden', 'donalds', 'tejasawant', 'mc', 'quntity', 'varietys', 'mc', 'mcfries', 'cripsy', 'mc', 'obvio']\n",
            "Total misspelled words:  2116\n",
            "[('mc', 257), ('mcd', 192), ('tikki', 110), ('borivali', 79), ('donalds', 72), ('mccafe', 56), ('zomato', 31), ('mcspicy', 28), ('rs', 27), ('mcaloo', 25), ('piri', 25), ('chinchwad', 23), ('macd', 22), ('mcveggie', 20), ('sv', 16), ('kandivali', 16), ('mcflurry', 16), ('kora', 15), ('mcds', 15), ('sakinaka', 13), ('mcpuff', 12), ('nd', 12), ('pm', 11), ('mcchicken', 11), ('pcmc', 10), ('chatpata', 9), ('kabab', 8), ('ds', 8), ('yumm', 8), ('dahisar', 8), ('nonveg', 8), ('shraddha', 8), ('covid', 7), ('bt', 7), ('contactless', 7), ('ppl', 6), ('st', 5), ('maxican', 5), ('frnds', 5), ('café', 5), ('bday', 5), ('hrs', 5), ('aaloo', 5), ('pls', 5), ('pimpri', 5), ('choclate', 4), ('kfc', 4), ('andheri', 4), ('mcdelivery', 4), ('nt', 4), ('recieved', 4), ('akhilesh', 4), ('sanitization', 3), ('favs', 3), ('vfm', 3), ('ambeince', 3), ('mcdonals', 3), ('mcswirl', 3), ('paytm', 3), ('plz', 3), ('alloo', 3), ('boriwali', 3), ('mcegg', 3), ('yummyy', 3), ('mcafe', 3), ('mccafé', 3), ('mcmaharaja', 3), ('mccafes', 3), ('walkable', 3), ('meetups', 3), ('jain', 3), ('mr', 3), ('favourate', 3), ('ll', 3), ('collegians', 3), ('mcgrill', 3), ('mecdonalds', 3), ('th', 3), ('periperi', 3), ('wala', 3), ('marol', 3), ('gst', 3), ('dnt', 2), ('dilevery', 2), ('chesse', 2), ('chatapata', 2), ('mixfries', 2), ('sider', 2), ('mcdonaldspricepiri', 2), ('mcdits', 2), ('theflavourjunction', 2), ('__for', 2), ('frieslocation', 2), ('mutar', 2), ('tikkis', 2), ('schezwan', 2), ('deffers', 2), ('snd', 2), ('coldrinks', 2), ('afternoon', 2)]\n"
          ]
        }
      ]
    },
    {
      "cell_type": "code",
      "source": [
        "#REMOVING NAMES FROM THE LIST of misspelled words\n",
        "names_list=['mc','donalds','mcdonalds','mcd','mccafe','tikki','zomato','mcspicy','chinchwad','mcveggie','sv','kandivali','mcflurry',\n",
        "            'sakinaka','mcpuff','pm','pcmc','chatpata','dahisar','nonveg','shraddha','covid','contactless','pimpri','kfc','andheri'\n",
        "            'mcdelivery','mcswirl','akhilesh','paytm','mcegg','mcmaharaja','jain','meetups','periperi','mcaloo']\n",
        "for name in names_list:\n",
        "  for j in range(len(mis_mis_list)):\n",
        "    if name in mis_mis_list:\n",
        "      mis_mis_list.remove(name)\n",
        "print(\"Final Misspelled words list after removing names: (Showing only first 50) \",mis_mis_list[0:50]) #This is the list of misseplled words!\n",
        "\n",
        "\n",
        "\n",
        "#Trial code for common words finder, again.\n",
        "cnt=Counter(mis_mis_list)\n",
        "cmmn=cnt.most_common(100)   #Finding common words and their occurrences in the mis_mis_list     \n",
        "print(cmmn)    "
      ],
      "metadata": {
        "id": "SHuSKHpjq37y",
        "colab": {
          "base_uri": "https://localhost:8080/"
        },
        "outputId": "621fc2a6-50e7-4471-a4e8-e7042a482de8"
      },
      "execution_count": 21,
      "outputs": [
        {
          "output_type": "stream",
          "name": "stdout",
          "text": [
            "Final Misspelled words list after removing names: (Showing only first 50)  ['alwats', 'bt', 'choclate', 'dnt', 'estable', 'dilevery', 'coverd', 'chesse', 'tomotoes', 'chatapata', 'mixfries', 'sider', 'mcdonaldspricepiri', 'mcdits', 'piri', 'theflavourjunction', '__for', 'frieslocation', 'sanitization', 'mutar', 'kabab', 'hygienefoodrecommendation', 'foodwarden', 'tejasawant', 'quntity', 'varietys', 'mcfries', 'cripsy', 'obvio', 'tikkis', 'tamatos', 'tht', 'borivali', 'differemt', 'ehuch', 'ambiemce', 'lovved', 'waitong', 'maharajamac', 'schezwan', 'st', 'minimised', 'deffers', 'rs', 'piri', 'favs', 'tikkas', 'ppt', 'rs', 'renovationcopying']\n",
            "[('borivali', 79), ('rs', 27), ('piri', 25), ('macd', 22), ('kora', 15), ('mcds', 15), ('nd', 12), ('mcchicken', 11), ('kabab', 8), ('ds', 8), ('yumm', 8), ('bt', 7), ('ppl', 6), ('st', 5), ('maxican', 5), ('frnds', 5), ('café', 5), ('bday', 5), ('hrs', 5), ('aaloo', 5), ('pls', 5), ('choclate', 4), ('andheri', 4), ('mcdelivery', 4), ('nt', 4), ('recieved', 4), ('sanitization', 3), ('favs', 3), ('vfm', 3), ('ambeince', 3), ('mcdonals', 3), ('plz', 3), ('alloo', 3), ('boriwali', 3), ('yummyy', 3), ('mcafe', 3), ('mccafé', 3), ('mccafes', 3), ('walkable', 3), ('mr', 3), ('favourate', 3), ('ll', 3), ('collegians', 3), ('mcgrill', 3), ('mecdonalds', 3), ('th', 3), ('wala', 3), ('marol', 3), ('gst', 3), ('dnt', 2), ('dilevery', 2), ('chesse', 2), ('chatapata', 2), ('mixfries', 2), ('sider', 2), ('mcdonaldspricepiri', 2), ('mcdits', 2), ('theflavourjunction', 2), ('__for', 2), ('frieslocation', 2), ('mutar', 2), ('tikkis', 2), ('schezwan', 2), ('deffers', 2), ('snd', 2), ('coldrinks', 2), ('afternoon', 2), ('frappes', 2), ('aalu', 2), ('alltime', 2), ('clg', 2), ('cheesey', 2), ('offeres', 2), ('selfservice', 2), ('spicies', 2), ('vegie', 2), ('flury', 2), ('seatings', 2), ('wellmaintained', 2), ('afterall', 2), ('asual', 2), ('md', 2), ('hygenic', 2), ('panner', 2), ('swiggy', 2), ('okayish', 2), ('ccd', 2), ('frds', 2), ('korakendra', 2), ('maharaj', 2), ('filetofish', 2), ('oftenly', 2), ('indianised', 2), ('locatable', 2), ('togethers', 2), ('qty', 2), ('baloons', 2), ('hr', 2), ('timepass', 2), ('ms', 2)]\n"
          ]
        }
      ]
    },
    {
      "cell_type": "code",
      "source": [
        "#Finding a list of correctly spelled words!\n",
        "#first, just creating a list of words found in the dataset\n",
        "correct_word_list=[]\n",
        "for i in range(len(df_review)):\n",
        "  sentence=df_review['Review'][i]\n",
        "  words=sentence.split()\n",
        "  for word in words:\n",
        "    correct_word_list.append(word.lower())\n",
        "print(correct_word_list[0:50])\n"
      ],
      "metadata": {
        "id": "3jNeDo6Fq-tD",
        "colab": {
          "base_uri": "https://localhost:8080/"
        },
        "outputId": "dbb8e96c-151e-47a3-ea2c-012bd1ab1912"
      },
      "execution_count": 22,
      "outputs": [
        {
          "output_type": "stream",
          "name": "stdout",
          "text": [
            "['sitting', 'arrangement', 'is', 'really', 'bad', 'kept', 'on', 'moving', 'here', 'and', 'there', 'not', 'happy', 'they', 'should', 'take', 'care', 'for', 'it', 'spacious', 'friendly', 'kind', 'and', 'helpful', 'staff', 'always', 'very', 'crowded', 'non', 'cooperative', 'staff', 'will', 'never', 'advice', 'to', 'visit', 'amazing', 'places', 'not', 'service', 'are', 'good', 'always', 'take', 'time', 'on', 'single', 'order', 'also', 'great']\n"
          ]
        }
      ]
    },
    {
      "cell_type": "code",
      "source": [
        "#We have to make both lists mis_mis_list and correct_words_list contain unique words, not repeated words or 'remove' won't work!\n",
        "print(\"total of all words of misspelled word list:\",len(mis_mis_list))\n",
        "print(\"total of all words of correct word list+misspelled word list:\",len(correct_word_list))\n",
        "mis_mis_list=list(set(mis_mis_list))\n",
        "correct_word_list=list(set(correct_word_list))\n",
        "print(\"total of unique words of misspelled word list:\",len(mis_mis_list))\n",
        "print(\"total of unique words of correct word list+missplled word list:\",len(correct_word_list))\n",
        "print(\"total of unique words of names list:\",len(names_list))"
      ],
      "metadata": {
        "id": "I8QXqbOxrajm",
        "colab": {
          "base_uri": "https://localhost:8080/"
        },
        "outputId": "0462cf93-7702-41b5-9767-0535471187b9"
      },
      "execution_count": 23,
      "outputs": [
        {
          "output_type": "stream",
          "name": "stdout",
          "text": [
            "total of all words of misspelled word list: 1127\n",
            "total of all words of correct word list+misspelled word list: 70299\n",
            "total of unique words of misspelled word list: 730\n",
            "total of unique words of correct word list+missplled word list: 4784\n",
            "total of unique words of names list: 35\n"
          ]
        }
      ]
    },
    {
      "cell_type": "code",
      "source": [
        "print(\"correct word list length before removing misspelled words and names:\",len(correct_word_list))\n",
        "names_list=['mc','donalds','mcdonalds','mcd','mccafe','tikki','zomato','mcspicy','chinchwad','mcveggie','sv','kandivali','mcflurry',\n",
        "            'sakinaka','mcpuff','pm','pcmc','chatpata','dahisar','nonveg','shraddha','covid','contactless','pimpri','kfc','andheri'\n",
        "            'mcdelivery','mcswirl','akhilesh','paytm','mcegg','mcmaharaja','jain','meetups','periperi','mcaloo']\n",
        "cnt=0\n",
        "#Removing misspelled words from correct_word_list, found in mis_mis_list\n",
        "for w in mis_mis_list:\n",
        "  if w in correct_word_list:\n",
        "    correct_word_list.remove(w)\n",
        "\n",
        "#Removing names from correct_word_list, found in names_list\n",
        "for n in names_list:\n",
        "  if n in correct_word_list:\n",
        "    correct_word_list.remove(n) \n",
        "print(\"correct word list length after removing misspelled words and names:\",len(correct_word_list))"
      ],
      "metadata": {
        "id": "nojJNd99rl3W",
        "colab": {
          "base_uri": "https://localhost:8080/"
        },
        "outputId": "5b3cd809-30eb-4f60-85e2-80c629c85c03"
      },
      "execution_count": 24,
      "outputs": [
        {
          "output_type": "stream",
          "name": "stdout",
          "text": [
            "correct word list length before removing misspelled words and names: 4784\n",
            "correct word list length after removing misspelled words and names: 4020\n"
          ]
        }
      ]
    },
    {
      "cell_type": "code",
      "source": [
        "#Checking similarity between words from correct_word_list and mis_mis_list, if its more than 0.8, \n",
        "#do dictionary[misspelled word]=correct word\n",
        "#TAKES 1 MINUTE+\n",
        "from difflib import SequenceMatcher       #Library used for checking similarity\n",
        "\n",
        "def similar(a, b):\n",
        "    return SequenceMatcher(None, a, b).ratio()    #Function to check similarity!\n",
        "\n",
        "dictionary={}\n",
        "cnt=0\n",
        "for cor_word in correct_word_list:\n",
        "  for mis_word in mis_mis_list:\n",
        "    ratio=similar(cor_word,mis_word)\n",
        "    if(ratio>0.8):\n",
        "      cnt=cnt+1\n",
        "      dictionary[mis_word]=cor_word\n",
        "      #print(\"Correct word:\",cor_word,\"    misspelled word:\",mis_word,\"      Ratio:\",ratio)\n",
        "print(\"This many words can be corrected: \",cnt)"
      ],
      "metadata": {
        "id": "X0ExGkCpr9Nd",
        "colab": {
          "base_uri": "https://localhost:8080/"
        },
        "outputId": "4ef7a38e-0a8c-4652-fa78-3c0953c7cc60"
      },
      "execution_count": 25,
      "outputs": [
        {
          "output_type": "stream",
          "name": "stdout",
          "text": [
            "This many words can be corrected:  472\n"
          ]
        }
      ]
    },
    {
      "cell_type": "code",
      "source": [
        "#Replacing the misspelled words with correct words\n",
        "#Takes almost 10 seconds\n",
        "words_corrected_cnt=0\n",
        "for i in range(len(df_review)):\n",
        "  sentence=(df_review['Review'][i]).lower()\n",
        "  \n",
        "  misspelled_words=spell.unknown(sentence.split())\n",
        "  #print(\"list:\",misspelled_words)\n",
        "  for misword in misspelled_words:\n",
        "    if misword in dictionary:\n",
        "      correct_word=dictionary[misword]\n",
        "      print(\"before:\",sentence)\n",
        "      print(\"misspelled word: \",misword,\"     \",\"correct word:\",correct_word)\n",
        "      print(\"After:\",sentence)\n",
        "      sentence=sentence.replace(misword,correct_word)\n",
        "      words_corrected_cnt=words_corrected_cnt+1\n",
        "  df_review['Review'][i]=sentence\n",
        "  "
      ],
      "metadata": {
        "id": "eS9XmL8osK61",
        "colab": {
          "base_uri": "https://localhost:8080/"
        },
        "outputId": "5058a253-a461-47ce-d662-1fa26c66b8ae"
      },
      "execution_count": 26,
      "outputs": [
        {
          "output_type": "stream",
          "name": "stdout",
          "text": [
            "before: great place quick service food was tasty like alwats\n",
            "misspelled word:  alwats       correct word: always\n",
            "After: great place quick service food was tasty like alwats\n",
            "before: second time hot choclate leaked both burger totally wet cant eat last time same thing was done bt no response from your side\n",
            "misspelled word:  choclate       correct word: chocolates\n",
            "After: second time hot choclate leaked both burger totally wet cant eat last time same thing was done bt no response from your side\n",
            "before: it was burnt tasted like hell for the first time being my fav meal from mcd but dnt know why it tasted like fried twice and smelled bad\n",
            "misspelled word:  dnt       correct word: dont\n",
            "After: it was burnt tasted like hell for the first time being my fav meal from mcd but dnt know why it tasted like fried twice and smelled bad\n",
            "before: it took an hour for the order the food was cold and fries were not estable as they were very soggy by the time received the order extremely disappointed want my money back\n",
            "misspelled word:  estable       correct word: eatable\n",
            "After: it took an hour for the order the food was cold and fries were not estable as they were very soggy by the time received the order extremely disappointed want my money back\n",
            "before: packaging for coffee needs to be changed as there was lot of spilling and the lid was coverd with tapes and it was sticky the paper that the order came in was dripping from one side as the coffee had spilled in it\n",
            "misspelled word:  coverd       correct word: covered\n",
            "After: packaging for coffee needs to be changed as there was lot of spilling and the lid was coverd with tapes and it was sticky the paper that the order came in was dripping from one side as the coffee had spilled in it\n",
            "before: no cheese added in mcaloo tikki have ordered with chesse why this always repeat yes\n",
            "misspelled word:  chesse       correct word: cheese\n",
            "After: no cheese added in mcaloo tikki have ordered with chesse why this always repeat yes\n",
            "before: you guys cant even serve proper mac aloo tikki burger im observing it since three times and your shit reason always pops up mam we ran out of tomotoes always\n",
            "misspelled word:  tomotoes       correct word: tomatoes\n",
            "After: you guys cant even serve proper mac aloo tikki burger im observing it since three times and your shit reason always pops up mam we ran out of tomotoes always\n",
            "before: in frame piri piri frieslocation mcdonaldspricepiri piri spice mixfries ratings reviews should we really review mcdits very famous place on several locations which are easily accessible the fries over there are really tasty especially the ones with peri peri people who like spicy food should definitely try it out they taste really well with any burger the fries are crispy and fresh they are the perfect sider for any dish __for more amazing food pics follow our account on instagram theflavourjunction\n",
            "misspelled word:  sider       correct word: side\n",
            "After: in frame piri piri frieslocation mcdonaldspricepiri piri spice mixfries ratings reviews should we really review mcdits very famous place on several locations which are easily accessible the fries over there are really tasty especially the ones with peri peri people who like spicy food should definitely try it out they taste really well with any burger the fries are crispy and fresh they are the perfect sider for any dish __for more amazing food pics follow our account on instagram theflavourjunction\n",
            "before: the safest mcdonalds ever the way the staff is handling during the pandemic deserves an award they dont allow people sitting close to each other in order to avoid spread of germs and also the staff is allocated on the main door they dont allow you in unless there is space inside so that people have plenty of distance and it doesnt get crowded temperature check and sanitization is done with excellency the food is amazing as usual\n",
            "misspelled word:  sanitization       correct word: sanitation\n",
            "After: the safest mcdonalds ever the way the staff is handling during the pandemic deserves an award they dont allow people sitting close to each other in order to avoid spread of germs and also the staff is allocated on the main door they dont allow you in unless there is space inside so that people have plenty of distance and it doesnt get crowded temperature check and sanitization is done with excellency the food is amazing as usual\n",
            "before: spacious outlet with seating arrangements very well organised ambience is been good we tried veg pizza mcpuff which was nice with mutar bhaji in it and wrap is been tasty also tried chicken kabab burger the kabab was really crisp and with sausage in it was too yummy and alongwith this coke float and shakes serves the purpose to fill your hunger food quality\n",
            "misspelled word:  mutar       correct word: mustard\n",
            "After: spacious outlet with seating arrangements very well organised ambience is been good we tried veg pizza mcpuff which was nice with mutar bhaji in it and wrap is been tasty also tried chicken kabab burger the kabab was really crisp and with sausage in it was too yummy and alongwith this coke float and shakes serves the purpose to fill your hunger food quality\n",
            "before: the best place to hangout im loving this place since childhood taste is good they serve fresh food the staff is polite and surrounding is clean they have varietys of burgers and fries this place needs no introduction their product is also consistent in terms of quality quntity and taste prices are reasonable\n",
            "misspelled word:  quntity       correct word: quantity\n",
            "After: the best place to hangout im loving this place since childhood taste is good they serve fresh food the staff is polite and surrounding is clean they have varietys of burgers and fries this place needs no introduction their product is also consistent in terms of quality quntity and taste prices are reasonable\n",
            "before: the best place to hangout im loving this place since childhood taste is good they serve fresh food the staff is polite and surrounding is clean they have varietys of burgers and fries this place needs no introduction their product is also consistent in terms of quality quantity and taste prices are reasonable\n",
            "misspelled word:  varietys       correct word: varieties\n",
            "After: the best place to hangout im loving this place since childhood taste is good they serve fresh food the staff is polite and surrounding is clean they have varietys of burgers and fries this place needs no introduction their product is also consistent in terms of quality quantity and taste prices are reasonable\n",
            "before: was here waiting for friend tried their mc veggie burger mcfries and oreo cookie shake the burger was good the cripsy patty in it was amazing mc fries were also good oreo shale was chilled but didnt liked the taste of it it was not very good it was too sweet\n",
            "misspelled word:  mcfries       correct word: fries\n",
            "After: was here waiting for friend tried their mc veggie burger mcfries and oreo cookie shake the burger was good the cripsy patty in it was amazing mc fries were also good oreo shale was chilled but didnt liked the taste of it it was not very good it was too sweet\n",
            "before: was here waiting for friend tried their mc veggie burger fries and oreo cookie shake the burger was good the cripsy patty in it was amazing mc fries were also good oreo shale was chilled but didnt liked the taste of it it was not very good it was too sweet\n",
            "misspelled word:  cripsy       correct word: crispy\n",
            "After: was here waiting for friend tried their mc veggie burger fries and oreo cookie shake the burger was good the cripsy patty in it was amazing mc fries were also good oreo shale was chilled but didnt liked the taste of it it was not very good it was too sweet\n",
            "before: favorite place to hangout service is not tht good but food is awesome\n",
            "misspelled word:  tht       correct word: that\n",
            "After: favorite place to hangout service is not tht good but food is awesome\n",
            "before: loved the quality and quantity of the food lovved the ambiemce sitting area and waitong area everything is systematic if we talk about the food then it is awesome you will get many different burgers and also differemt fries available here everything is healthy and clear you will also find here the best cafe ehuch serves worlds best coffee also some cookies and pastries full of chocolate thank you for serving us\n",
            "misspelled word:  differemt       correct word: different\n",
            "After: loved the quality and quantity of the food lovved the ambiemce sitting area and waitong area everything is systematic if we talk about the food then it is awesome you will get many different burgers and also differemt fries available here everything is healthy and clear you will also find here the best cafe ehuch serves worlds best coffee also some cookies and pastries full of chocolate thank you for serving us\n",
            "before: loved the quality and quantity of the food lovved the ambiemce sitting area and waitong area everything is systematic if we talk about the food then it is awesome you will get many different burgers and also different fries available here everything is healthy and clear you will also find here the best cafe ehuch serves worlds best coffee also some cookies and pastries full of chocolate thank you for serving us\n",
            "misspelled word:  ambiemce       correct word: ambience\n",
            "After: loved the quality and quantity of the food lovved the ambiemce sitting area and waitong area everything is systematic if we talk about the food then it is awesome you will get many different burgers and also different fries available here everything is healthy and clear you will also find here the best cafe ehuch serves worlds best coffee also some cookies and pastries full of chocolate thank you for serving us\n",
            "before: loved the quality and quantity of the food lovved the ambience sitting area and waitong area everything is systematic if we talk about the food then it is awesome you will get many different burgers and also different fries available here everything is healthy and clear you will also find here the best cafe ehuch serves worlds best coffee also some cookies and pastries full of chocolate thank you for serving us\n",
            "misspelled word:  lovved       correct word: loved\n",
            "After: loved the quality and quantity of the food lovved the ambience sitting area and waitong area everything is systematic if we talk about the food then it is awesome you will get many different burgers and also different fries available here everything is healthy and clear you will also find here the best cafe ehuch serves worlds best coffee also some cookies and pastries full of chocolate thank you for serving us\n",
            "before: loved the quality and quantity of the food loved the ambience sitting area and waitong area everything is systematic if we talk about the food then it is awesome you will get many different burgers and also different fries available here everything is healthy and clear you will also find here the best cafe ehuch serves worlds best coffee also some cookies and pastries full of chocolate thank you for serving us\n",
            "misspelled word:  waitong       correct word: waiting\n",
            "After: loved the quality and quantity of the food loved the ambience sitting area and waitong area everything is systematic if we talk about the food then it is awesome you will get many different burgers and also different fries available here everything is healthy and clear you will also find here the best cafe ehuch serves worlds best coffee also some cookies and pastries full of chocolate thank you for serving us\n",
            "before: the best place to hangout like to spend hours there editing writing and reading books watching series also to spend time with my loved ones have meeting and birthday parties like their fries alot and maharajamac it is best place am missing that alot in this lockdown\n",
            "misspelled word:  maharajamac       correct word: maharaja\n",
            "After: the best place to hangout like to spend hours there editing writing and reading books watching series also to spend time with my loved ones have meeting and birthday parties like their fries alot and maharajamac it is best place am missing that alot in this lockdown\n",
            "before: this place needs no introduction their product is consistent across the country in terms of quantity quality and taste the only point of differentiation would be their service which definitely deffers from place to place this is one of the oldest out of macdonalds in mumbai its been here more than decade now they only have an indoor dining finding place to sit during weekends could be task sometimes also they dont having parking for wheelers but wheelers can park inside the compound things weve tried and liked are cappuccino chatpata naan pizza mcpuff mocha peri peri fries mc veggie taste service ambience hygiene\n",
            "misspelled word:  deffers       correct word: differs\n",
            "After: this place needs no introduction their product is consistent across the country in terms of quantity quality and taste the only point of differentiation would be their service which definitely deffers from place to place this is one of the oldest out of macdonalds in mumbai its been here more than decade now they only have an indoor dining finding place to sit during weekends could be task sometimes also they dont having parking for wheelers but wheelers can park inside the compound things weve tried and liked are cappuccino chatpata naan pizza mcpuff mocha peri peri fries mc veggie taste service ambience hygiene\n",
            "before: mcdonalds is one of my favourites joint this is one of the options usually prefer as absolutely love their concept they have some amazing burgers have not yet tried paneer tikkas but will try it soon the mexican patty and veggie delight are my favs heard they have good option for non vegetarians as well am pure veg so have never tasted though will surely visit it again\n",
            "misspelled word:  favs       correct word: fav\n",
            "After: mcdonalds is one of my favourites joint this is one of the options usually prefer as absolutely love their concept they have some amazing burgers have not yet tried paneer tikkas but will try it soon the mexican patty and veggie delight are my favs heard they have good option for non vegetarians as well am pure veg so have never tasted though will surely visit it again\n",
            "before: the ambience is soo big and good the ambience and environment is just pleasant paneer wrap the paneer is very soft and tasty with all veggies wrapped inside it mouth watering gives the amazing taste and spices must try mc aloo tikki meal this meal includes burger fries and coke it gives the complete food to you the fries are amazing the burger is also very tasty snd mouth watering must try must visit this amazing place for your appetite\n",
            "misspelled word:  snd       correct word: send\n",
            "After: the ambience is soo big and good the ambience and environment is just pleasant paneer wrap the paneer is very soft and tasty with all veggies wrapped inside it mouth watering gives the amazing taste and spices must try mc aloo tikki meal this meal includes burger fries and coke it gives the complete food to you the fries are amazing the burger is also very tasty snd mouth watering must try must visit this amazing place for your appetite\n",
            "before: yesterday visited mcdonald and loved macchicken burger and enjoy every bite it was delicious behaviour of staff is very politely to every customer and very chill atmosphere and background music is awesome\n",
            "misspelled word:  macchicken       correct word: chicken\n",
            "After: yesterday visited mcdonald and loved macchicken burger and enjoy every bite it was delicious behaviour of staff is very politely to every customer and very chill atmosphere and background music is awesome\n",
            "before: like the chocolate wrrap its very tatsy\n",
            "misspelled word:  wrrap       correct word: wrap\n",
            "After: like the chocolate wrrap its very tatsy\n",
            "before: location its situated on rm bhattad road and is close to my house and prefer eating here many times it is the place is hygienic and open from am to am making it the best place to gorge on some morning breakfast but tend to mostly go there in the afternoon and mostly prefer having mc spicy chicken meal sometimes along with mexican cheesy fries mostly prefer veg mexican aloo tikki meal mexican cheesy fries although feel the quantity of these should be more also use to like having potato wedges but now they have become bit costly then first introduced pizza puff it tastes like pizza but its like small packet of happiness what like is its small yet great for starters along with meals non veg mc spicy chicken meal mc chicken meal mc chicken maharaja meal mc nuggets although they are too costly now but really tasty too breakfast veg spinach and corn brioche hash browns mc muffin non veg sausage mc muffin without egg drinks cappuccino and coke yes they do refill coke if required desserts just love the walnut brownie with hot gooey chocolate sauce served along with the soft serve if you are running low on money you can simply go for soft serve also like the crunchy mc flurry what do not prefer mc egg do not like eggs especially half prepared and gooey ones if thats your go to you should have it mc aloo tikki tikki is great but there is only tomato which sticks to the palate their chocolate muffin its too dry and hard not at all spongy also do not prefer mc spicy paneer burger although its exotic kinda with red cabbage lettuce and all but the paneer in it tends to become very much like rubber and cannot be eaten although liked americano coffee but its black coffee that you can make at home for like rs maximum and so feel its too costly for that much cost got it cuz didnt know its simple black coffee what have had and like watermelon squash frappes chocolate milkshake potato wedges pizza puff peri peri fries chai latte and much more\n",
            "misspelled word:  frappes       correct word: frappe\n",
            "After: location its situated on rm bhattad road and is close to my house and prefer eating here many times it is the place is hygienic and open from am to am making it the best place to gorge on some morning breakfast but tend to mostly go there in the afternoon and mostly prefer having mc spicy chicken meal sometimes along with mexican cheesy fries mostly prefer veg mexican aloo tikki meal mexican cheesy fries although feel the quantity of these should be more also use to like having potato wedges but now they have become bit costly then first introduced pizza puff it tastes like pizza but its like small packet of happiness what like is its small yet great for starters along with meals non veg mc spicy chicken meal mc chicken meal mc chicken maharaja meal mc nuggets although they are too costly now but really tasty too breakfast veg spinach and corn brioche hash browns mc muffin non veg sausage mc muffin without egg drinks cappuccino and coke yes they do refill coke if required desserts just love the walnut brownie with hot gooey chocolate sauce served along with the soft serve if you are running low on money you can simply go for soft serve also like the crunchy mc flurry what do not prefer mc egg do not like eggs especially half prepared and gooey ones if thats your go to you should have it mc aloo tikki tikki is great but there is only tomato which sticks to the palate their chocolate muffin its too dry and hard not at all spongy also do not prefer mc spicy paneer burger although its exotic kinda with red cabbage lettuce and all but the paneer in it tends to become very much like rubber and cannot be eaten although liked americano coffee but its black coffee that you can make at home for like rs maximum and so feel its too costly for that much cost got it cuz didnt know its simple black coffee what have had and like watermelon squash frappes chocolate milkshake potato wedges pizza puff peri peri fries chai latte and much more\n",
            "before: the best place to hang out and to dine in the taste is awesome and fabolous and the quantity is also ni taste hygine\n",
            "misspelled word:  hygine       correct word: hygiene\n",
            "After: the best place to hang out and to dine in the taste is awesome and fabolous and the quantity is also ni taste hygine\n",
            "before: mcdonalds is like everyones all time favourite and good hangout spot which is also very pocket friendly place would recommend you to try mac veggie burger veg puff obviously peri peri fries coke float oreo mac flurry mac aalu tiki burger ratings food service quality like the taste of food great ambeince the order received with short time huge place to sit and hangout with friends and family the quality at the best the staff behavior was good\n",
            "misspelled word:  ambeince       correct word: ambience\n",
            "After: mcdonalds is like everyones all time favourite and good hangout spot which is also very pocket friendly place would recommend you to try mac veggie burger veg puff obviously peri peri fries coke float oreo mac flurry mac aalu tiki burger ratings food service quality like the taste of food great ambeince the order received with short time huge place to sit and hangout with friends and family the quality at the best the staff behavior was good\n",
            "before: mcdonalds happy mealsa and chocolate brownie flurry are my favorite gave even tried their maharaja burger and spicy chicken wraps\n",
            "misspelled word:  mealsa       correct word: meals\n",
            "After: mcdonalds happy mealsa and chocolate brownie flurry are my favorite gave even tried their maharaja burger and spicy chicken wraps\n",
            "before: it is wonderful outlet in borivali west with huge seating capacity they can organize birthday party for kids and service is really good my all time favorite is maxican mac allo tikki any time we can have that rate is very reasonable\n",
            "misspelled word:  maxican       correct word: mexican\n",
            "After: it is wonderful outlet in borivali west with huge seating capacity they can organize birthday party for kids and service is really good my all time favorite is maxican mac allo tikki any time we can have that rate is very reasonable\n",
            "before: this is first of macd franchise in borivali amazing location at the heart of hustling bustling place in borivali hardworking staff quality upto the bench mark of mcdonalds enjoy with your family and friends\n",
            "misspelled word:  macd       correct word: mad\n",
            "After: this is first of macd franchise in borivali amazing location at the heart of hustling bustling place in borivali hardworking staff quality upto the bench mark of mcdonalds enjoy with your family and friends\n",
            "before: the best place to chill with friends they have the best burger oredered mc aloo tikki and masala wedges the tikki was perfectly cooked and the taste of veggies was good thee masala weges were fried in good oil they were hot and spicy and it was served with sauce\n",
            "misspelled word:  oredered       correct word: ordered\n",
            "After: the best place to chill with friends they have the best burger oredered mc aloo tikki and masala wedges the tikki was perfectly cooked and the taste of veggies was good thee masala weges were fried in good oil they were hot and spicy and it was served with sauce\n",
            "before: the best place to chill with friends they have the best burger ordered mc aloo tikki and masala wedges the tikki was perfectly cooked and the taste of veggies was good thee masala weges were fried in good oil they were hot and spicy and it was served with sauce\n",
            "misspelled word:  weges       correct word: wedges\n",
            "After: the best place to chill with friends they have the best burger ordered mc aloo tikki and masala wedges the tikki was perfectly cooked and the taste of veggies was good thee masala weges were fried in good oil they were hot and spicy and it was served with sauce\n",
            "before: mchicken meal is the only thing have at all mcdonalds outlets nothing else made me wanna try it get some more non veg option with actually different ingredients than just new names\n",
            "misspelled word:  mchicken       correct word: chicken\n",
            "After: mchicken meal is the only thing have at all mcdonalds outlets nothing else made me wanna try it get some more non veg option with actually different ingredients than just new names\n",
            "before: like the burger very much here its spacious and hygiene the the staff is very supportive and friendly tried for the following thing mexican burgerits little bit spicy and the taste is just awesome aloo tiki the aloo is tiki is not comparatively good but its average the coffe didnt liked the coffe but for the burger no doubt this is the best and it will be the best do visit this\n",
            "misspelled word:  burgerits       correct word: burgers\n",
            "After: like the burger very much here its spacious and hygiene the the staff is very supportive and friendly tried for the following thing mexican burgerits little bit spicy and the taste is just awesome aloo tiki the aloo is tiki is not comparatively good but its average the coffe didnt liked the coffe but for the burger no doubt this is the best and it will be the best do visit this\n",
            "before: one of the largest outlet of macdonalds in borivali great ambeince the order received with short time huge place to sit and hangout with friends and family the quality at the best the staff behavior was good recently tried hot fudge stwaberry was awesome one should definitely try once overall great place to have fun food quality quantity money worth\n",
            "misspelled word:  stwaberry       correct word: strawberry\n",
            "After: one of the largest outlet of macdonalds in borivali great ambeince the order received with short time huge place to sit and hangout with friends and family the quality at the best the staff behavior was good recently tried hot fudge stwaberry was awesome one should definitely try once overall great place to have fun food quality quantity money worth\n",
            "before: one of the largest outlet of macdonalds in borivali great ambeince the order received with short time huge place to sit and hangout with friends and family the quality at the best the staff behavior was good recently tried hot fudge strawberry was awesome one should definitely try once overall great place to have fun food quality quantity money worth\n",
            "misspelled word:  ambeince       correct word: ambience\n",
            "After: one of the largest outlet of macdonalds in borivali great ambeince the order received with short time huge place to sit and hangout with friends and family the quality at the best the staff behavior was good recently tried hot fudge strawberry was awesome one should definitely try once overall great place to have fun food quality quantity money worth\n",
            "before: hello im an reqular customer of this mcd cone to clg near to this mcd always come here to enjoy and have fun also to celebrate my friends birthday\n",
            "misspelled word:  reqular       correct word: regular\n",
            "After: hello im an reqular customer of this mcd cone to clg near to this mcd always come here to enjoy and have fun also to celebrate my friends birthday\n",
            "before: great place for hangouts recently visited with my friends and ordered veg mac puff maxican cheesey fries mc aloo tikki mc maharaja burger and coke float also their quality of burgers and fries is up to the mark and they have many offers this place is pocketfriendly service is good in all its best place when you want to spend some time family friends and loved ones\n",
            "misspelled word:  cheesey       correct word: cheesy\n",
            "After: great place for hangouts recently visited with my friends and ordered veg mac puff maxican cheesey fries mc aloo tikki mc maharaja burger and coke float also their quality of burgers and fries is up to the mark and they have many offers this place is pocketfriendly service is good in all its best place when you want to spend some time family friends and loved ones\n",
            "before: great place for hangouts recently visited with my friends and ordered veg mac puff maxican cheesy fries mc aloo tikki mc maharaja burger and coke float also their quality of burgers and fries is up to the mark and they have many offers this place is pocketfriendly service is good in all its best place when you want to spend some time family friends and loved ones\n",
            "misspelled word:  maxican       correct word: mexican\n",
            "After: great place for hangouts recently visited with my friends and ordered veg mac puff maxican cheesy fries mc aloo tikki mc maharaja burger and coke float also their quality of burgers and fries is up to the mark and they have many offers this place is pocketfriendly service is good in all its best place when you want to spend some time family friends and loved ones\n",
            "before: ordered for veg macpuff coke float veg burger good food quick service friendly staff washroom is clean they can provide good offeres overall recommended for good food and to spend quality time\n",
            "misspelled word:  offeres       correct word: coffees\n",
            "After: ordered for veg macpuff coke float veg burger good food quick service friendly staff washroom is clean they can provide good offeres overall recommended for good food and to spend quality time\n",
            "before: love this place been here many times beofre me and my frnds love this place for its food taste and prize ambience is also beautiful will visit it again soon\n",
            "misspelled word:  frnds       correct word: friends\n",
            "After: love this place been here many times beofre me and my frnds love this place for its food taste and prize ambience is also beautiful will visit it again soon\n",
            "before: love this place been here many times beofre me and my friends love this place for its food taste and prize ambience is also beautiful will visit it again soon\n",
            "misspelled word:  beofre       correct word: before\n",
            "After: love this place been here many times beofre me and my friends love this place for its food taste and prize ambience is also beautiful will visit it again soon\n",
            "before: only place where person can go without thinking and satisfyingly eat in short budget too variety of food offer is just too much and the cafe is amazing\n",
            "misspelled word:  satisfyingly       correct word: satisfying\n",
            "After: only place where person can go without thinking and satisfyingly eat in short budget too variety of food offer is just too much and the cafe is amazing\n",
            "before: taste of mcdonalds is same in almost every outlets it is worlds largest food chain it has been the best hangout place for teenagers as well as family every mcdonalds outlets are always seen to be crowded recently visited mcdonalds borivali west outlet have been visiting this place since very long time and it is always crowded was here with my friends and this is great hangout place too we ordered mcaloo tikki burger have been having this burger from my school days and till date the taste of this burger has never changed bit one of my favourite burger from mcdonalds chicken mcnuggets chicken pieces were tender and soft the juicy chicken nuggets tasted too good this adds another dish in my favourites mcspicy chicken burger spicy sauces juicy chicken patty and soft buns make it very delicious meal masala wedges potato strips mixed with spices took it just to taste and it wasnt that good chatpata naan chicken kebab this was an amazing dish recommended by the staff itself it had crispy chicken patty inside wrap naan and the taste was awesome the sauces and spicies in the naan were going too good with the crispy chicken patty ambience great place to hangout with friends and family or do some desk work of office the place is crowded but quite on weekends it is quite difficult to get seats here staff staff is polite and they recommend the best they are friendly and know how to respect their customers\n",
            "misspelled word:  spicies       correct word: spice\n",
            "After: taste of mcdonalds is same in almost every outlets it is worlds largest food chain it has been the best hangout place for teenagers as well as family every mcdonalds outlets are always seen to be crowded recently visited mcdonalds borivali west outlet have been visiting this place since very long time and it is always crowded was here with my friends and this is great hangout place too we ordered mcaloo tikki burger have been having this burger from my school days and till date the taste of this burger has never changed bit one of my favourite burger from mcdonalds chicken mcnuggets chicken pieces were tender and soft the juicy chicken nuggets tasted too good this adds another dish in my favourites mcspicy chicken burger spicy sauces juicy chicken patty and soft buns make it very delicious meal masala wedges potato strips mixed with spices took it just to taste and it wasnt that good chatpata naan chicken kebab this was an amazing dish recommended by the staff itself it had crispy chicken patty inside wrap naan and the taste was awesome the sauces and spicies in the naan were going too good with the crispy chicken patty ambience great place to hangout with friends and family or do some desk work of office the place is crowded but quite on weekends it is quite difficult to get seats here staff staff is polite and they recommend the best they are friendly and know how to respect their customers\n",
            "before: this is our constant place in borivli for hop skip meal this is situated near borivli station its always packed all through the day and maybe you gotta wait in the evenings the place is huge and nice we order our favs mc spicy chicken burger mea tjis is medium spiced and yumm the peri peri fries are just awesome the quantity is bit low though we then ordered chicken kebeb burger which has tge best spicies and sauce and is spicy the taste is awesome and our fav over here the prices are good nice place for quick hangout their swirls here are yumm and must try especially the chocolate swirl\n",
            "misspelled word:  spicies       correct word: spice\n",
            "After: this is our constant place in borivli for hop skip meal this is situated near borivli station its always packed all through the day and maybe you gotta wait in the evenings the place is huge and nice we order our favs mc spicy chicken burger mea tjis is medium spiced and yumm the peri peri fries are just awesome the quantity is bit low though we then ordered chicken kebeb burger which has tge best spicies and sauce and is spicy the taste is awesome and our fav over here the prices are good nice place for quick hangout their swirls here are yumm and must try especially the chocolate swirl\n",
            "before: this is our constant place in borivli for hop skip meal this is situated near borivli station its always packed all through the day and maybe you gotta wait in the evenings the place is huge and nice we order our favs mc spicy chicken burger mea tjis is medium spiced and yumm the peri peri fries are just awesome the quantity is bit low though we then ordered chicken kebeb burger which has tge best spice and sauce and is spicy the taste is awesome and our fav over here the prices are good nice place for quick hangout their swirls here are yumm and must try especially the chocolate swirl\n",
            "misspelled word:  favs       correct word: fav\n",
            "After: this is our constant place in borivli for hop skip meal this is situated near borivli station its always packed all through the day and maybe you gotta wait in the evenings the place is huge and nice we order our favs mc spicy chicken burger mea tjis is medium spiced and yumm the peri peri fries are just awesome the quantity is bit low though we then ordered chicken kebeb burger which has tge best spice and sauce and is spicy the taste is awesome and our fav over here the prices are good nice place for quick hangout their swirls here are yumm and must try especially the chocolate swirl\n",
            "before: this is our constant place in borivli for hop skip meal this is situated near borivli station its always packed all through the day and maybe you gotta wait in the evenings the place is huge and nice we order our fav mc spicy chicken burger mea tjis is medium spiced and yumm the peri peri fries are just awesome the quantity is bit low though we then ordered chicken kebeb burger which has tge best spice and sauce and is spicy the taste is awesome and our fav over here the prices are good nice place for quick hangout their swirls here are yumm and must try especially the chocolate swirl\n",
            "misspelled word:  yumm       correct word: yum\n",
            "After: this is our constant place in borivli for hop skip meal this is situated near borivli station its always packed all through the day and maybe you gotta wait in the evenings the place is huge and nice we order our fav mc spicy chicken burger mea tjis is medium spiced and yumm the peri peri fries are just awesome the quantity is bit low though we then ordered chicken kebeb burger which has tge best spice and sauce and is spicy the taste is awesome and our fav over here the prices are good nice place for quick hangout their swirls here are yumm and must try especially the chocolate swirl\n",
            "before: mcdoalds is everyone common favourte food in mcdonalds you must check out american mud pie the wraps etc they are really amazing to have it friendly staff and food being always apprciated\n",
            "misspelled word:  favourte       correct word: favour\n",
            "After: mcdoalds is everyone common favourte food in mcdonalds you must check out american mud pie the wraps etc they are really amazing to have it friendly staff and food being always apprciated\n",
            "before: mcdoalds is everyone common favour food in mcdonalds you must check out american mud pie the wraps etc they are really amazing to have it friendly staff and food being always apprciated\n",
            "misspelled word:  apprciated       correct word: appreciates\n",
            "After: mcdoalds is everyone common favour food in mcdonalds you must check out american mud pie the wraps etc they are really amazing to have it friendly staff and food being always apprciated\n",
            "before: mcdoalds is everyone common favour food in mcdonalds you must check out american mud pie the wraps etc they are really amazing to have it friendly staff and food being always appreciates\n",
            "misspelled word:  mcdoalds       correct word: macdonalds\n",
            "After: mcdoalds is everyone common favour food in mcdonalds you must check out american mud pie the wraps etc they are really amazing to have it friendly staff and food being always appreciates\n",
            "before: nice spacious place with hygienic food to eat visited this place with few of my friend and we ordered several things viz mc aloo rikki french fries mc vegie meal each of the food was very good\n",
            "misspelled word:  vegie       correct word: veggie\n",
            "After: nice spacious place with hygienic food to eat visited this place with few of my friend and we ordered several things viz mc aloo rikki french fries mc vegie meal each of the food was very good\n",
            "before: mcdonalds my all time favourite for burgers and wraps mc chicken burger and mc maharaja new are my fav at this time chicken nuggets and mccaffe are must try\n",
            "misspelled word:  mccaffe       correct word: caffe\n",
            "After: mcdonalds my all time favourite for burgers and wraps mc chicken burger and mc maharaja new are my fav at this time chicken nuggets and mccaffe are must try\n",
            "before: the place is good and nice the ambiance is good place is quite and clean the food is amazing and tasty the peri peri fries was good mad tasty the mc aloo tikki was good and nice the mc flury was nice and good and very tasty the mc flury was very cold the service was good and nice\n",
            "misspelled word:  flury       correct word: flurry\n",
            "After: the place is good and nice the ambiance is good place is quite and clean the food is amazing and tasty the peri peri fries was good mad tasty the mc aloo tikki was good and nice the mc flury was nice and good and very tasty the mc flury was very cold the service was good and nice\n",
            "before: as were vegeratians we love mcdonalds india as we have lot of vegetarian options we had aloo tikki burger and maharaja veg burger the maharaja burger was huge and was quite mouthful for the kids bit on the spicy side though good place to visit with family\n",
            "misspelled word:  vegeratians       correct word: vegetarians\n",
            "After: as were vegeratians we love mcdonalds india as we have lot of vegetarian options we had aloo tikki burger and maharaja veg burger the maharaja burger was huge and was quite mouthful for the kids bit on the spicy side though good place to visit with family\n",
            "before: visited this outlet with my friends after my classes to have breakfast the breakfast menu is quite reasonable one can take quick bite of it tried kabab burger it was very tasty the bun of burger was made of whole wheat grain seatings are well organised ambience is good staff is cooperative service is good\n",
            "misspelled word:  seatings       correct word: eating\n",
            "After: visited this outlet with my friends after my classes to have breakfast the breakfast menu is quite reasonable one can take quick bite of it tried kabab burger it was very tasty the bun of burger was made of whole wheat grain seatings are well organised ambience is good staff is cooperative service is good\n",
            "before: spacious outlet with seating arrangements very well organised ambience is been good we tried veg pizza mcpuff which was nice with mutar bhaji in it and wrap is been tasty also tried chicken kabab burger the kabab was really crisp and with sausage in it it was too yummy and alongwith this coke float and shakes serves the purpose to fill your hunger\n",
            "misspelled word:  mutar       correct word: mustard\n",
            "After: spacious outlet with seating arrangements very well organised ambience is been good we tried veg pizza mcpuff which was nice with mutar bhaji in it and wrap is been tasty also tried chicken kabab burger the kabab was really crisp and with sausage in it it was too yummy and alongwith this coke float and shakes serves the purpose to fill your hunger\n",
            "before: mcdonals is the place which has lost his charms the fries was my favorite since long but recently tried and was disappointed by the size of the fries and they werent crispy as before\n",
            "misspelled word:  mcdonals       correct word: macdonalds\n",
            "After: mcdonals is the place which has lost his charms the fries was my favorite since long but recently tried and was disappointed by the size of the fries and they werent crispy as before\n",
            "before: there was an offer showing of and had placed an order of rs after discount which git rejected by the outlet and money was refunded to paytm immediatley afyer mins tried placing the order again and at that time couldnt apply the offer even though it was displaying to my surprise after placung the order without discount it got accepted so if do not wish to give discounts why do even want to display it dnt think mcdonalds requires such branding\n",
            "misspelled word:  placung       correct word: placing\n",
            "After: there was an offer showing of and had placed an order of rs after discount which git rejected by the outlet and money was refunded to paytm immediatley afyer mins tried placing the order again and at that time couldnt apply the offer even though it was displaying to my surprise after placung the order without discount it got accepted so if do not wish to give discounts why do even want to display it dnt think mcdonalds requires such branding\n",
            "before: there was an offer showing of and had placed an order of rs after discount which git rejected by the outlet and money was refunded to paytm immediatley afyer mins tried placing the order again and at that time couldnt apply the offer even though it was displaying to my surprise after placing the order without discount it got accepted so if do not wish to give discounts why do even want to display it dnt think mcdonalds requires such branding\n",
            "misspelled word:  dnt       correct word: dont\n",
            "After: there was an offer showing of and had placed an order of rs after discount which git rejected by the outlet and money was refunded to paytm immediatley afyer mins tried placing the order again and at that time couldnt apply the offer even though it was displaying to my surprise after placing the order without discount it got accepted so if do not wish to give discounts why do even want to display it dnt think mcdonalds requires such branding\n",
            "before: there was an offer showing of and had placed an order of rs after discount which git rejected by the outlet and money was refunded to paytm immediatley afyer mins tried placing the order again and at that time couldont apply the offer even though it was displaying to my surprise after placing the order without discount it got accepted so if do not wish to give discounts why do even want to display it dont think mcdonalds requires such branding\n",
            "misspelled word:  immediatley       correct word: immediate\n",
            "After: there was an offer showing of and had placed an order of rs after discount which git rejected by the outlet and money was refunded to paytm immediatley afyer mins tried placing the order again and at that time couldont apply the offer even though it was displaying to my surprise after placing the order without discount it got accepted so if do not wish to give discounts why do even want to display it dont think mcdonalds requires such branding\n",
            "before: tried their mcveggie meal no doubt it was the best as usual loved their new offers of fries love this outlet compare to others because of service and the seatings\n",
            "misspelled word:  seatings       correct word: eating\n",
            "After: tried their mcveggie meal no doubt it was the best as usual loved their new offers of fries love this outlet compare to others because of service and the seatings\n",
            "before: when was in my college me and my college friends we use to get small amount of pocket money and in that we use to hangout and our favorite place to chill and eat food was at mcdonalds mac veggie aloo tiki pizza puff cockfloat icecream with chocolate flavor and most of my favorite mac flurry still go crazy to have it place is wellmaintained and also good to click pictures\n",
            "misspelled word:  wellmaintained       correct word: maintained\n",
            "After: when was in my college me and my college friends we use to get small amount of pocket money and in that we use to hangout and our favorite place to chill and eat food was at mcdonalds mac veggie aloo tiki pizza puff cockfloat icecream with chocolate flavor and most of my favorite mac flurry still go crazy to have it place is wellmaintained and also good to click pictures\n",
            "before: this place has very good ambience the service in this brach is very fast full staff is trained and customer friendly during pm to pm there is more crowd qnd on daily basis you get place to sit easily it is easy to locate as it is in lively place the dishes which had selected from the menu were maharaja mac regular coke mc veggie american cheese supreme found all of these dishes tasty would suggest everyone to go and have meal with someone whom you find special\n",
            "misspelled word:  brach       correct word: branch\n",
            "After: this place has very good ambience the service in this brach is very fast full staff is trained and customer friendly during pm to pm there is more crowd qnd on daily basis you get place to sit easily it is easy to locate as it is in lively place the dishes which had selected from the menu were maharaja mac regular coke mc veggie american cheese supreme found all of these dishes tasty would suggest everyone to go and have meal with someone whom you find special\n",
            "before: when we were in our junior college all of us use to get very less pocket money and the craziness of entering college was huge with all new friends so to make great memories and enjoy we had this one great option mac donalds bhukh lagi mac donalds paise nai mac donalds friends birthday mac donalds patch up ya break up chalo mac donalds so this is our stlye of making effective memories of new college life and new friends from mac alloo to coke float from fries to mac puff it was great time all thanks to mac donalds\n",
            "misspelled word:  alloo       correct word: aloo\n",
            "After: when we were in our junior college all of us use to get very less pocket money and the craziness of entering college was huge with all new friends so to make great memories and enjoy we had this one great option mac donalds bhukh lagi mac donalds paise nai mac donalds friends birthday mac donalds patch up ya break up chalo mac donalds so this is our stlye of making effective memories of new college life and new friends from mac alloo to coke float from fries to mac puff it was great time all thanks to mac donalds\n",
            "before: place where one can spend as much time they want and afterall its mcdonalds where you can start from your breakfast and end upto dinner im loving it the new mac donald in borivali donbosco is great place to visit ambiance is good they have new systems to order the food food of mac donald is asual great we often go there for breakfast or to have meal staff are very friendly its happy place always\n",
            "misspelled word:  asual       correct word: casual\n",
            "After: place where one can spend as much time they want and afterall its mcdonalds where you can start from your breakfast and end upto dinner im loving it the new mac donald in borivali donbosco is great place to visit ambiance is good they have new systems to order the food food of mac donald is asual great we often go there for breakfast or to have meal staff are very friendly its happy place always\n",
            "before: mcdonalds the best place to eat burgers french fries softys and many more well maintained good enough space well organised interior the place is always filled with college students they come to chill after college good service staff is also great and friendly light music in background must visit guys for fun\n",
            "misspelled word:  softys       correct word: softy\n",
            "After: mcdonalds the best place to eat burgers french fries softys and many more well maintained good enough space well organised interior the place is always filled with college students they come to chill after college good service staff is also great and friendly light music in background must visit guys for fun\n",
            "before: this place has good ambience and atmosphere the surrounding over the place is clean and there are trees outside it gives beautiful picture while sitting inside the mcdonalds the staff are neat and provide good service to the customers there had mexican allu tikki peri peri fries and coke the mexican allu tikki was made nicely and was tasty the peri peri are mine favourite one they are love it was soft hot and spicy as always\n",
            "misspelled word:  allu       correct word: all\n",
            "After: this place has good ambience and atmosphere the surrounding over the place is clean and there are trees outside it gives beautiful picture while sitting inside the mcdonalds the staff are neat and provide good service to the customers there had mexican allu tikki peri peri fries and coke the mexican allu tikki was made nicely and was tasty the peri peri are mine favourite one they are love it was soft hot and spicy as always\n",
            "before: had ordered from mac had received less alloo tikki had ordered received only one what todo want refund or one allo ticcki right now\n",
            "misspelled word:  alloo       correct word: aloo\n",
            "After: had ordered from mac had received less alloo tikki had ordered received only one what todo want refund or one allo ticcki right now\n",
            "before: wohoo if you are burning in summer that this drink is such made for you just barry fruit chill with barry so cooln awesome soft drink\n",
            "misspelled word:  cooln       correct word: cooling\n",
            "After: wohoo if you are burning in summer that this drink is such made for you just barry fruit chill with barry so cooln awesome soft drink\n",
            "before: friendly staff the service was quick enough the food was very much delecious we had good time there best friends for friends to sit and have fun my group enjoyed alot\n",
            "misspelled word:  delecious       correct word: delicious\n",
            "After: friendly staff the service was quick enough the food was very much delecious we had good time there best friends for friends to sit and have fun my group enjoyed alot\n",
            "before: mcdonald is one of the best places to have burgers fries it is best place for vegetarians as well as for nonvegetarians the prices are not too high and the service is also really good the overall experience of mcdonalds was good so guys go and enjoy your meal\n",
            "misspelled word:  nonvegetarians       correct word: vegetarians\n",
            "After: mcdonald is one of the best places to have burgers fries it is best place for vegetarians as well as for nonvegetarians the prices are not too high and the service is also really good the overall experience of mcdonalds was good so guys go and enjoy your meal\n",
            "before: macd always had great moments with you\n",
            "misspelled word:  macd       correct word: mad\n",
            "After: macd always had great moments with you\n",
            "before: bestt fries really love the fries out here special visit mcdonald for there fries they amazing love it do try all of them if you still havent\n",
            "misspelled word:  bestt       correct word: best\n",
            "After: bestt fries really love the fries out here special visit mcdonald for there fries they amazing love it do try all of them if you still havent\n",
            "before: hey friends theres always backup plan in every tasks but have you thought of any backup friendly place mcdonalds is exactly as we want it to cheaper tastiest and hygenic too this outlet is bit more perfect than any others chatpata naan yummyy nothing can ever replace it chicken kebab naan is more perfect than the vegan one all time favourite mexican fries always makes my mouth watery in deserts mostly prefer brownies cause theyre cheaper and tasty too ratings are on my opinions only chatpata naan mexican fries mc aloo tikki im pretty much sure everyone enjoys it thankyou\n",
            "misspelled word:  hygenic       correct word: hygienic\n",
            "After: hey friends theres always backup plan in every tasks but have you thought of any backup friendly place mcdonalds is exactly as we want it to cheaper tastiest and hygenic too this outlet is bit more perfect than any others chatpata naan yummyy nothing can ever replace it chicken kebab naan is more perfect than the vegan one all time favourite mexican fries always makes my mouth watery in deserts mostly prefer brownies cause theyre cheaper and tasty too ratings are on my opinions only chatpata naan mexican fries mc aloo tikki im pretty much sure everyone enjoys it thankyou\n",
            "before: hey friends theres always backup plan in every tasks but have you thought of any backup friendly place mcdonalds is exactly as we want it to cheaper tastiest and hygienic too this outlet is bit more perfect than any others chatpata naan yummyy nothing can ever replace it chicken kebab naan is more perfect than the vegan one all time favourite mexican fries always makes my mouth watery in deserts mostly prefer brownies cause theyre cheaper and tasty too ratings are on my opinions only chatpata naan mexican fries mc aloo tikki im pretty much sure everyone enjoys it thankyou\n",
            "misspelled word:  yummyy       correct word: yummy\n",
            "After: hey friends theres always backup plan in every tasks but have you thought of any backup friendly place mcdonalds is exactly as we want it to cheaper tastiest and hygienic too this outlet is bit more perfect than any others chatpata naan yummyy nothing can ever replace it chicken kebab naan is more perfect than the vegan one all time favourite mexican fries always makes my mouth watery in deserts mostly prefer brownies cause theyre cheaper and tasty too ratings are on my opinions only chatpata naan mexican fries mc aloo tikki im pretty much sure everyone enjoys it thankyou\n",
            "before: mcdonalds is true fast food plce they get you your food in mins to mins max the staff is very polite love the panner wrap so much spicy and tasty you can also get the veggis they are just too good\n",
            "misspelled word:  veggis       correct word: veggie\n",
            "After: mcdonalds is true fast food plce they get you your food in mins to mins max the staff is very polite love the panner wrap so much spicy and tasty you can also get the veggis they are just too good\n",
            "before: mcdonalds is true fast food plce they get you your food in mins to mins max the staff is very polite love the panner wrap so much spicy and tasty you can also get the veggie they are just too good\n",
            "misspelled word:  plce       correct word: place\n",
            "After: mcdonalds is true fast food plce they get you your food in mins to mins max the staff is very polite love the panner wrap so much spicy and tasty you can also get the veggie they are just too good\n",
            "before: mcdonalds is true fast food place they get you your food in mins to mins max the staff is very polite love the panner wrap so much spicy and tasty you can also get the veggie they are just too good\n",
            "misspelled word:  panner       correct word: paneer\n",
            "After: mcdonalds is true fast food place they get you your food in mins to mins max the staff is very polite love the panner wrap so much spicy and tasty you can also get the veggie they are just too good\n",
            "before: mcdonalds serves some amazing yummy food with pocket friendly budget variety of burger wraps sides and drinks they also have mcafe which has some amazing caffeine induced drinks\n",
            "misspelled word:  mcafe       correct word: cafe\n",
            "After: mcdonalds serves some amazing yummy food with pocket friendly budget variety of burger wraps sides and drinks they also have mcafe which has some amazing caffeine induced drinks\n",
            "before: mcdonalds is one of the oldest burger joints and the taste is intact till now tried mcchicken its one of the tastiest chicken burger you can have here really love having this burger over here you should definitely try this out here overall had good experience\n",
            "misspelled word:  mcchicken       correct word: chicken\n",
            "After: mcdonalds is one of the oldest burger joints and the taste is intact till now tried mcchicken its one of the tastiest chicken burger you can have here really love having this burger over here you should definitely try this out here overall had good experience\n",
            "before: wide ambience great service staff is friendly food is just awesome must try expresso brownie shake and spicy chicken burger overall greatt\n",
            "misspelled word:  greatt       correct word: great\n",
            "After: wide ambience great service staff is friendly food is just awesome must try expresso brownie shake and spicy chicken burger overall greatt\n",
            "before: this is our regular going mac outlet it is nice decorated and well maintained outlet with good parking place interiors and cleanliness service also nice delivery also promt with good packaging overall stars for this outlet nice for kids party\n",
            "misspelled word:  promt       correct word: prompt\n",
            "After: this is our regular going mac outlet it is nice decorated and well maintained outlet with good parking place interiors and cleanliness service also nice delivery also promt with good packaging overall stars for this outlet nice for kids party\n",
            "before: ordered online from mcdonalds app to try out the burgers in whole wheat bread and it was good and loved the move from mcdonalds for introducing whole wheat options for bread as preferr wheat flour over white flour packing was good and delivery was on time and enjoyed food as usual\n",
            "misspelled word:  preferr       correct word: preferred\n",
            "After: ordered online from mcdonalds app to try out the burgers in whole wheat bread and it was good and loved the move from mcdonalds for introducing whole wheat options for bread as preferr wheat flour over white flour packing was good and delivery was on time and enjoyed food as usual\n",
            "before: osm taste love to eat burger with fries enjoy lot with mcdonalds food thank you so much mcdonalds for gaving nic tast to eat\n",
            "misspelled word:  gaving       correct word: saving\n",
            "After: osm taste love to eat burger with fries enjoy lot with mcdonalds food thank you so much mcdonalds for gaving nic tast to eat\n",
            "before: ordered veg maharaja cheese burger it was nice tasty order was really fast and good also tried french fries it was nice and crispy just loved macd\n",
            "misspelled word:  macd       correct word: mad\n",
            "After: ordered veg maharaja cheese burger it was nice tasty order was really fast and good also tried french fries it was nice and crispy just loved macd\n",
            "before: my childhood favourite place used to always have fries and acoke here because they provide low cost meals as everyone knows mcdonalds is famous for fries burgers and coke but this place has added my more things in their menu so everyone should definitely try their new dishes always have fries with peri peri masala this place has one of the best masala with is added on fries should definitely try with coke had maharaja chicken burger which was huge filled with chicken patty veggies mayonnaise\n",
            "misspelled word:  acoke       correct word: coke\n",
            "After: my childhood favourite place used to always have fries and acoke here because they provide low cost meals as everyone knows mcdonalds is famous for fries burgers and coke but this place has added my more things in their menu so everyone should definitely try their new dishes always have fries with peri peri masala this place has one of the best masala with is added on fries should definitely try with coke had maharaja chicken burger which was huge filled with chicken patty veggies mayonnaise\n",
            "before: usually prefer it if am in mood to eat fast food especially burgers it is standard mcd outlet it tends to get cowded during weekends chicken wrap cold coffee and chicken mc grill are my fav viniz use this promo code to get rs off on your order of rs or above\n",
            "misspelled word:  cowded       correct word: crowed\n",
            "After: usually prefer it if am in mood to eat fast food especially burgers it is standard mcd outlet it tends to get cowded during weekends chicken wrap cold coffee and chicken mc grill are my fav viniz use this promo code to get rs off on your order of rs or above\n",
            "before: mcdonalds one of my favourite outlet frequently visit mcd guyzz you would love mcd in every aspect let it be food ambiance or toys you receive with meal always take bite of mc aloo tikki pizza puff french fries coke float maharaja mac espresso and all are yumm the cherry on the cake is that its absolutely pocket friendly need to give party to your friends mcdonalds always welcomes you you would love it enjoy guyzz\n",
            "misspelled word:  yumm       correct word: yum\n",
            "After: mcdonalds one of my favourite outlet frequently visit mcd guyzz you would love mcd in every aspect let it be food ambiance or toys you receive with meal always take bite of mc aloo tikki pizza puff french fries coke float maharaja mac espresso and all are yumm the cherry on the cake is that its absolutely pocket friendly need to give party to your friends mcdonalds always welcomes you you would love it enjoy guyzz\n",
            "before: tried new food item veg rice bowl to be very honest it was not at all good plus the service here is really not that great ac was not swtiched on it was really humid outside the attendants should listen to customers\n",
            "misspelled word:  swtiched       correct word: switched\n",
            "After: tried new food item veg rice bowl to be very honest it was not at all good plus the service here is really not that great ac was not swtiched on it was really humid outside the attendants should listen to customers\n",
            "before: food servings ambience service vfm this outlet is one of the biggest mcdonalds outlet in the whole of mumbai they have huge floor space and also small banquettes type room for kids birthday party one small suggestions from my side is to increase the number of cash counters by they are not enough for the space and crowd they attract what ordered mcpaneer mcmaharaja\n",
            "misspelled word:  mcpaneer       correct word: paneer\n",
            "After: food servings ambience service vfm this outlet is one of the biggest mcdonalds outlet in the whole of mumbai they have huge floor space and also small banquettes type room for kids birthday party one small suggestions from my side is to increase the number of cash counters by they are not enough for the space and crowd they attract what ordered mcpaneer mcmaharaja\n",
            "before: my favorite mcdonalds at the time when there were very less outlets in mumbai think after andheri it was this borivali mcd every thing here is same as other ouets\n",
            "misspelled word:  ouets       correct word: outlets\n",
            "After: my favorite mcdonalds at the time when there were very less outlets in mumbai think after andheri it was this borivali mcd every thing here is same as other ouets\n",
            "before: mcdonalds outlet located in borivali west sv road one of the best place for having quick bite with friends ambience is really good and has separate section for parties take away facility is also available tried veg maharajamc and mcflurry oreo soft drinks are also available average cost for peope may approx service is quite fast and good food ambience service\n",
            "misspelled word:  maharajamc       correct word: maharaja\n",
            "After: mcdonalds outlet located in borivali west sv road one of the best place for having quick bite with friends ambience is really good and has separate section for parties take away facility is also available tried veg maharajamc and mcflurry oreo soft drinks are also available average cost for peope may approx service is quite fast and good food ambience service\n",
            "before: place where we can hangout with frds an old place with frds after clg after renovation its look beautiful best place for bday celebration\n",
            "misspelled word:  bday       correct word: day\n",
            "After: place where we can hangout with frds an old place with frds after clg after renovation its look beautiful best place for bday celebration\n",
            "before: very disappointed with new rice bowl test both veg non veg testless heavy gravy used more of corn high in spice piece of chicken nuggets come sapreatly which again dry not recommended\n",
            "misspelled word:  testless       correct word: tasteless\n",
            "After: very disappointed with new rice bowl test both veg non veg testless heavy gravy used more of corn high in spice piece of chicken nuggets come sapreatly which again dry not recommended\n",
            "before: mcd is my another home nowadays mostly visits this mcds borivali outlet love everything about mcd their food service ambience everything if youre thinking that taste of mccafes drinks is same in all outlet then you are wrong like milshakes of borivali outlet more than andheri outlet you might have wondered if am loving mcd so much then why im giving stars here because they gave me little less cheese in maxican cheesey fries well guess thats luck factor\n",
            "misspelled word:  milshakes       correct word: milkshakes\n",
            "After: mcd is my another home nowadays mostly visits this mcds borivali outlet love everything about mcd their food service ambience everything if youre thinking that taste of mccafes drinks is same in all outlet then you are wrong like milshakes of borivali outlet more than andheri outlet you might have wondered if am loving mcd so much then why im giving stars here because they gave me little less cheese in maxican cheesey fries well guess thats luck factor\n",
            "before: mcd is my another home nowadays mostly visits this mcds borivali outlet love everything about mcd their food service ambience everything if youre thinking that taste of mccafes drinks is same in all outlet then you are wrong like milkshakes of borivali outlet more than andheri outlet you might have wondered if am loving mcd so much then why im giving stars here because they gave me little less cheese in maxican cheesey fries well guess thats luck factor\n",
            "misspelled word:  maxican       correct word: mexican\n",
            "After: mcd is my another home nowadays mostly visits this mcds borivali outlet love everything about mcd their food service ambience everything if youre thinking that taste of mccafes drinks is same in all outlet then you are wrong like milkshakes of borivali outlet more than andheri outlet you might have wondered if am loving mcd so much then why im giving stars here because they gave me little less cheese in maxican cheesey fries well guess thats luck factor\n",
            "before: mcd is my another home nowadays mostly visits this mcds borivali outlet love everything about mcd their food service ambience everything if youre thinking that taste of mccafes drinks is same in all outlet then you are wrong like milkshakes of borivali outlet more than andheri outlet you might have wondered if am loving mcd so much then why im giving stars here because they gave me little less cheese in mexican cheesey fries well guess thats luck factor\n",
            "misspelled word:  cheesey       correct word: cheesy\n",
            "After: mcd is my another home nowadays mostly visits this mcds borivali outlet love everything about mcd their food service ambience everything if youre thinking that taste of mccafes drinks is same in all outlet then you are wrong like milkshakes of borivali outlet more than andheri outlet you might have wondered if am loving mcd so much then why im giving stars here because they gave me little less cheese in mexican cheesey fries well guess thats luck factor\n",
            "before: mcd is my another home nowadays mostly visits this mcds borivali outlet love everything about mcd their food service ambience everything if youre thinking that taste of mccafes drinks is same in all outlet then you are wrong like milkshakes of borivali outlet more than andheri outlet you might have wondered if am loving mcd so much then why im giving stars here because they gave me little less cheese in mexican cheesy fries well guess thats luck factor\n",
            "misspelled word:  mccafes       correct word: cafes\n",
            "After: mcd is my another home nowadays mostly visits this mcds borivali outlet love everything about mcd their food service ambience everything if youre thinking that taste of mccafes drinks is same in all outlet then you are wrong like milkshakes of borivali outlet more than andheri outlet you might have wondered if am loving mcd so much then why im giving stars here because they gave me little less cheese in mexican cheesy fries well guess thats luck factor\n",
            "before: no chang with delivery person and not so polait\n",
            "misspelled word:  polait       correct word: polite\n",
            "After: no chang with delivery person and not so polait\n",
            "before: we had been there its at centre of borivali from flyover or station its nearer and walkable we were at take away ordered pizza puff and maxican burger and cold drinks burger puff both were fresh hot nice in taste and delicious one thing want to highlight is they dont give straw with cold drink after plastic ban which is quite difficult to drink cold drinks place is good to eat and spacious\n",
            "misspelled word:  maxican       correct word: mexican\n",
            "After: we had been there its at centre of borivali from flyover or station its nearer and walkable we were at take away ordered pizza puff and maxican burger and cold drinks burger puff both were fresh hot nice in taste and delicious one thing want to highlight is they dont give straw with cold drink after plastic ban which is quite difficult to drink cold drinks place is good to eat and spacious\n",
            "before: im lovin it ba da ba ba ba the most selling product of mcdonalds in india mcaloo tikki burger the combination of potato and peas patty with special indian spices coated with breadcrumbs served with sweet tomato mayo fresh onions and tomatoes in regular bun eattss truecooks yougottaeatthis cleaneating eatfamous foodstagram eats igfood goodeats foodie yum foodphotography buzzfeedfood instaphoto foodvsco foodpics foodlover foodforthough foodisfuel foodcoma fooddiary foodgram foodspotting foodshare foodart foodforfoodies foodoftheday foodstyling trencher_man_\n",
            "misspelled word:  cleaneating       correct word: cleaning\n",
            "After: im lovin it ba da ba ba ba the most selling product of mcdonalds in india mcaloo tikki burger the combination of potato and peas patty with special indian spices coated with breadcrumbs served with sweet tomato mayo fresh onions and tomatoes in regular bun eattss truecooks yougottaeatthis cleaneating eatfamous foodstagram eats igfood goodeats foodie yum foodphotography buzzfeedfood instaphoto foodvsco foodpics foodlover foodforthough foodisfuel foodcoma fooddiary foodgram foodspotting foodshare foodart foodforfoodies foodoftheday foodstyling trencher_man_\n",
            "before: nice outlet good sitting arrangement and mcdy food is alwys good nd testy but eat maharaj mac chicken chicken was not fresh as eat alwys so dont like the test\n",
            "misspelled word:  maharaj       correct word: maharaja\n",
            "After: nice outlet good sitting arrangement and mcdy food is alwys good nd testy but eat maharaj mac chicken chicken was not fresh as eat alwys so dont like the test\n",
            "before: mcdonalds is near to my home this is the best place for me and my friends for celebrating party mine favorite is here mc aaloo tikki cold coffee\n",
            "misspelled word:  aaloo       correct word: aloo\n",
            "After: mcdonalds is near to my home this is the best place for me and my friends for celebrating party mine favorite is here mc aaloo tikki cold coffee\n",
            "before: mcdonalds is the worlds largest restaurant chain by revenue serving over million customers daily in over countries across approximately outlets as of although mcdonalds is known for its hamburgers they also sell cheeseburgers chicken products french fries breakfastitems softdrinks milkshakes wraps and desserts introduction courtesy mcdonalds we had the following items from their la carte mexican cheesy fries mc chicken kebab fries coke chocolate smoothie mc chicken peri peri fries veg nonveg mexicancheesyfries the crisp of the fries is gently balanced by the combination of these tangy and cheesy sauces mcchickenkebab mcchicken these are the some of the most commonly served burgers at mc donalds each of these burgers have their burger patty of kebab simple salted fried flavour wrapped with veggies and tasty mayo and mint sauce these patties are then supported with soft buns dressed with sesame seeds periperifires regularfries the regular fries are strips of potato deep fried in oil and salted just perfect enough to suit our taste they provide peri peri powder sachet along with paper bag using which you can throughly mix the fries with the spicy powder chocolatesmoothie the smoothie is the best thing ive ever tried at mc donalds it is supposedly softy ice cream whipped along with chocolate its simply like symphony in my mouth food taste the food here is extremely tasty and delicious and just what you need for break quantity price efficiency the quantity here us just fine but its nothing as compared to burger king staff the staff here is kind and helpful dont think you would have any problem with the staff ambiance you might think no macdonalds has great ambiance but beg to differ your opinion in the noon or early afternoons the staff is least bothered about sanitation there are flies around the place the tables arent cleaned quickly the previous customers trash is laying right there know the best food reviews of your favourite restaurants leave the reviewing to me and eating to you say goodbye to dietand give your taste buds new chaska follow us for more such finger licking updates uid uid\n",
            "misspelled word:  mcchicken       correct word: chicken\n",
            "After: mcdonalds is the worlds largest restaurant chain by revenue serving over million customers daily in over countries across approximately outlets as of although mcdonalds is known for its hamburgers they also sell cheeseburgers chicken products french fries breakfastitems softdrinks milkshakes wraps and desserts introduction courtesy mcdonalds we had the following items from their la carte mexican cheesy fries mc chicken kebab fries coke chocolate smoothie mc chicken peri peri fries veg nonveg mexicancheesyfries the crisp of the fries is gently balanced by the combination of these tangy and cheesy sauces mcchickenkebab mcchicken these are the some of the most commonly served burgers at mc donalds each of these burgers have their burger patty of kebab simple salted fried flavour wrapped with veggies and tasty mayo and mint sauce these patties are then supported with soft buns dressed with sesame seeds periperifires regularfries the regular fries are strips of potato deep fried in oil and salted just perfect enough to suit our taste they provide peri peri powder sachet along with paper bag using which you can throughly mix the fries with the spicy powder chocolatesmoothie the smoothie is the best thing ive ever tried at mc donalds it is supposedly softy ice cream whipped along with chocolate its simply like symphony in my mouth food taste the food here is extremely tasty and delicious and just what you need for break quantity price efficiency the quantity here us just fine but its nothing as compared to burger king staff the staff here is kind and helpful dont think you would have any problem with the staff ambiance you might think no macdonalds has great ambiance but beg to differ your opinion in the noon or early afternoons the staff is least bothered about sanitation there are flies around the place the tables arent cleaned quickly the previous customers trash is laying right there know the best food reviews of your favourite restaurants leave the reviewing to me and eating to you say goodbye to dietand give your taste buds new chaska follow us for more such finger licking updates uid uid\n",
            "before: visited last week with friends the ambience was good service was prompt and seating arrangments were good mcspicy chicken is my personal favourite mc aloo tikki is the one if you are planiing for pocket friendly meal also tried mango smoothie it was delicious and lip smacking mcdonalds is very good place to hangout with friends overall good experince\n",
            "misspelled word:  planiing       correct word: planning\n",
            "After: visited last week with friends the ambience was good service was prompt and seating arrangments were good mcspicy chicken is my personal favourite mc aloo tikki is the one if you are planiing for pocket friendly meal also tried mango smoothie it was delicious and lip smacking mcdonalds is very good place to hangout with friends overall good experince\n",
            "before: it is mcd been there ate all always good spacious staff is good service is good mcchicken spicy favourite cold coffee another favourite\n",
            "misspelled word:  mcchicken       correct word: chicken\n",
            "After: it is mcd been there ate all always good spacious staff is good service is good mcchicken spicy favourite cold coffee another favourite\n",
            "before: loacated boriwali best nice place to spend time with frnds family good service with awesome test service food value for money\n",
            "misspelled word:  loacated       correct word: locate\n",
            "After: loacated boriwali best nice place to spend time with frnds family good service with awesome test service food value for money\n",
            "before: locate boriwali best nice place to spend time with frnds family good service with awesome test service food value for money\n",
            "misspelled word:  frnds       correct word: friends\n",
            "After: locate boriwali best nice place to spend time with frnds family good service with awesome test service food value for money\n",
            "before: it is located at kora kendra on the sv road nice and cozy place for all they also have fast delivery window from where they often give take away order it is very quick it is large place so oftenly there is no seating problems sonetimes the order takes too much time due to the crowd honestly loved this place\n",
            "misspelled word:  oftenly       correct word: often\n",
            "After: it is located at kora kendra on the sv road nice and cozy place for all they also have fast delivery window from where they often give take away order it is very quick it is large place so oftenly there is no seating problems sonetimes the order takes too much time due to the crowd honestly loved this place\n",
            "before: it is located at kora kendra on the sv road nice and cozy place for all they also have fast delivery window from where they often give take away order it is very quick it is large place so often there is no seating problems sonetimes the order takes too much time due to the crowd honestly loved this place\n",
            "misspelled word:  sonetimes       correct word: sometime\n",
            "After: it is located at kora kendra on the sv road nice and cozy place for all they also have fast delivery window from where they often give take away order it is very quick it is large place so often there is no seating problems sonetimes the order takes too much time due to the crowd honestly loved this place\n",
            "before: had stopped going to mc donalds as always had the feeling that what they show on the high contrast screens and what we get is totally different but never felt that my unintentional visit to the outlet had made day and thats the only thing thats going to bring me back to mc donalds and its nothing else that simple freshly baked waffle with classic accompaniments and coffee am big waffle lover and have tasted them in all the outlets near by but this simple breakfast treat stole the top slot in serving the best waffle the baked delight was made right in from of my eyes and could catch the aroma of the fresh baking it was crunchy from outside and soft and warm from inside the pancake syrup and chocolate sauce was as per my liking just one suggestion found the accompaniment are bit less in quantity if you order the pcs waffle so they should work on it and also the pancake syrup must be part of regular order and the remaining accompaniments must be charged nobody like to enjoy waffle without pancake syrup it was nice enjoying and satisfying breakfast and it will surely bring me back to have some more of it in the coming days\n",
            "misspelled word:  pcs       correct word: pics\n",
            "After: had stopped going to mc donalds as always had the feeling that what they show on the high contrast screens and what we get is totally different but never felt that my unintentional visit to the outlet had made day and thats the only thing thats going to bring me back to mc donalds and its nothing else that simple freshly baked waffle with classic accompaniments and coffee am big waffle lover and have tasted them in all the outlets near by but this simple breakfast treat stole the top slot in serving the best waffle the baked delight was made right in from of my eyes and could catch the aroma of the fresh baking it was crunchy from outside and soft and warm from inside the pancake syrup and chocolate sauce was as per my liking just one suggestion found the accompaniment are bit less in quantity if you order the pcs waffle so they should work on it and also the pancake syrup must be part of regular order and the remaining accompaniments must be charged nobody like to enjoy waffle without pancake syrup it was nice enjoying and satisfying breakfast and it will surely bring me back to have some more of it in the coming days\n",
            "before: no description needed think mcdonals is everyones fav place always pleasure to hog here good ambiance is something adore in every mcd outlet\n",
            "misspelled word:  mcdonals       correct word: macdonalds\n",
            "After: no description needed think mcdonals is everyones fav place always pleasure to hog here good ambiance is something adore in every mcd outlet\n",
            "before: best fries best burgers best service its mcd comeon how can someone fault mcdonalds we ordered aaloo tikki burger american cheese supreme burger fries and coke the fries mcdonalds serve are amazing and you wont get such fries anywhere\n",
            "misspelled word:  aaloo       correct word: aloo\n",
            "After: best fries best burgers best service its mcd comeon how can someone fault mcdonalds we ordered aaloo tikki burger american cheese supreme burger fries and coke the fries mcdonalds serve are amazing and you wont get such fries anywhere\n",
            "before: good good bloody good they open early they always have the entire breakfast menu which is rare to find in macd the staff is helpful and cooperative location is too good\n",
            "misspelled word:  macd       correct word: mad\n",
            "After: good good bloody good they open early they always have the entire breakfast menu which is rare to find in macd the staff is helpful and cooperative location is too good\n",
            "before: burger lover yess then try out this one one of the best outlet of mcdonalds all over with amazing service also its interior and the building where it is located is quite amazing one of the best place to have burgers fries and much more their deserts are also purely amazing not only this outlet but all over mcdonalds is quite famous for its quick series always great place to hangout with family and friends\n",
            "misspelled word:  yess       correct word: yes\n",
            "After: burger lover yess then try out this one one of the best outlet of mcdonalds all over with amazing service also its interior and the building where it is located is quite amazing one of the best place to have burgers fries and much more their deserts are also purely amazing not only this outlet but all over mcdonalds is quite famous for its quick series always great place to hangout with family and friends\n",
            "before: one of the best mcdonalds have ever been usually visit there for coffee or breakfast the service here is fast and they try to serve you fast as they can it little old mcd one of the first to open in mumbai they even have mcafe here its little crowded always and also has party area for small celebrations\n",
            "misspelled word:  mcafe       correct word: cafe\n",
            "After: one of the best mcdonalds have ever been usually visit there for coffee or breakfast the service here is fast and they try to serve you fast as they can it little old mcd one of the first to open in mumbai they even have mcafe here its little crowded always and also has party area for small celebrations\n",
            "before: ambience unhygienic with most tables containing leftovers from the previous meal food could be rated if was served mcdonalds borivali west is probably our worst eatingout rather trying to experience the tables were dirty with ketchup splashed and sugar sachets lying below the tables we went there for quick breakfast and ordered meals with cappucinos and after minutes of wait time on inquiring we were told it would take minutes more more than an hour for fast food while dining in really when trying to talk to the guy at the counter naresh he walked away in midconversation we asked to meet the manager but there was none and wait staff was introduced as the manager we left at that and did not even ask for refund or anything else mcdonalds prides itself on customer satisfaction and this outlet definitely needs an upgrade not recommended at all\n",
            "misspelled word:  midconversation       correct word: conversation\n",
            "After: ambience unhygienic with most tables containing leftovers from the previous meal food could be rated if was served mcdonalds borivali west is probably our worst eatingout rather trying to experience the tables were dirty with ketchup splashed and sugar sachets lying below the tables we went there for quick breakfast and ordered meals with cappucinos and after minutes of wait time on inquiring we were told it would take minutes more more than an hour for fast food while dining in really when trying to talk to the guy at the counter naresh he walked away in midconversation we asked to meet the manager but there was none and wait staff was introduced as the manager we left at that and did not even ask for refund or anything else mcdonalds prides itself on customer satisfaction and this outlet definitely needs an upgrade not recommended at all\n",
            "before: ambience unhygienic with most tables containing leftovers from the previous meal food could be rated if was served mcdonalds borivali west is probably our worst eatingout rather trying to experience the tables were dirty with ketchup splashed and sugar sachets lying below the tables we went there for quick breakfast and ordered meals with cappucinos and after minutes of wait time on inquiring we were told it would take minutes more more than an hour for fast food while dining in really when trying to talk to the guy at the counter naresh he walked away in conversation we asked to meet the manager but there was none and wait staff was introduced as the manager we left at that and did not even ask for refund or anything else mcdonalds prides itself on customer satisfaction and this outlet definitely needs an upgrade not recommended at all\n",
            "misspelled word:  cappucinos       correct word: cappuccino\n",
            "After: ambience unhygienic with most tables containing leftovers from the previous meal food could be rated if was served mcdonalds borivali west is probably our worst eatingout rather trying to experience the tables were dirty with ketchup splashed and sugar sachets lying below the tables we went there for quick breakfast and ordered meals with cappucinos and after minutes of wait time on inquiring we were told it would take minutes more more than an hour for fast food while dining in really when trying to talk to the guy at the counter naresh he walked away in conversation we asked to meet the manager but there was none and wait staff was introduced as the manager we left at that and did not even ask for refund or anything else mcdonalds prides itself on customer satisfaction and this outlet definitely needs an upgrade not recommended at all\n",
            "before: very nice place on the center of kora kendre junction best hangout place for youths family and friends you will enjoy the place along with the food\n",
            "misspelled word:  kendre       correct word: kendra\n",
            "After: very nice place on the center of kora kendre junction best hangout place for youths family and friends you will enjoy the place along with the food\n",
            "before: enjoy taste and yongstar like mcdonald\n",
            "misspelled word:  yongstar       correct word: youngster\n",
            "After: enjoy taste and yongstar like mcdonald\n",
            "before: seating is not adequatestaff is not at all helpfull\n",
            "misspelled word:  helpfull       correct word: helpful\n",
            "After: seating is not adequatestaff is not at all helpfull\n",
            "before: yummy softy and burgger\n",
            "misspelled word:  burgger       correct word: burgers\n",
            "After: yummy softy and burgger\n",
            "before: place to visit with friends spacious and decent crowd fantastic interior and best mcd outlet in suburbs chicken nugets and mexican cheesy fries is preferable for other then burgers and normal fries food price quantity burger enough for one person perry perry fries is all time preferable bike parking is available inside and you should prefer to go at odd days\n",
            "misspelled word:  nugets       correct word: nuggets\n",
            "After: place to visit with friends spacious and decent crowd fantastic interior and best mcd outlet in suburbs chicken nugets and mexican cheesy fries is preferable for other then burgers and normal fries food price quantity burger enough for one person perry perry fries is all time preferable bike parking is available inside and you should prefer to go at odd days\n",
            "before: have forever been huge loyal fan of strawberry shake from mcdonalds visited this place after quite while and loved the change in the ambience and the menu tried new italian burger the bread has lovely essence of the italian herbs the burger patty inside is same as mcchicken though over all it tasted well definitely try\n",
            "misspelled word:  mcchicken       correct word: chicken\n",
            "After: have forever been huge loyal fan of strawberry shake from mcdonalds visited this place after quite while and loved the change in the ambience and the menu tried new italian burger the bread has lovely essence of the italian herbs the burger patty inside is same as mcchicken though over all it tasted well definitely try\n",
            "before: lovely way to start your day with breakfast at mcdonalds hot coffeehash brownssandwich food breakfast is always good option here service indianised joint slow service but warm and courteous staff ambience well its standard all across music not to comment did not like it at all experience best part was food all else was fairly ok\n",
            "misspelled word:  coffeehash       correct word: coffees\n",
            "After: lovely way to start your day with breakfast at mcdonalds hot coffeehash brownssandwich food breakfast is always good option here service indianised joint slow service but warm and courteous staff ambience well its standard all across music not to comment did not like it at all experience best part was food all else was fairly ok\n",
            "before: lovely way to start your day with breakfast at mcdonalds hot coffees brownssandwich food breakfast is always good option here service indianised joint slow service but warm and courteous staff ambience well its standard all across music not to comment did not like it at all experience best part was food all else was fairly ok\n",
            "misspelled word:  indianised       correct word: indians\n",
            "After: lovely way to start your day with breakfast at mcdonalds hot coffees brownssandwich food breakfast is always good option here service indianised joint slow service but warm and courteous staff ambience well its standard all across music not to comment did not like it at all experience best part was food all else was fairly ok\n",
            "before: hunger ki bajao mcd me chale jao thanks ton to this one only food stop for serving delicious tummyfilling varietues of snacks right from morning till night you have always been with us thank you for the food and the pocket friendly prices that you have\n",
            "misspelled word:  varietues       correct word: varieties\n",
            "After: hunger ki bajao mcd me chale jao thanks ton to this one only food stop for serving delicious tummyfilling varietues of snacks right from morning till night you have always been with us thank you for the food and the pocket friendly prices that you have\n",
            "before: its very saddening to say that past days very poor service from mcdonalds borivali after mentioning no lettuces and more of jalapeño get the reverse of what requested more of lettuces and jus one jalapeño ring yesterday also same thing order for chicken kebab wrap and egg saucy wrap comes in the staff rudely says shud have checked the order suppose to eat the wraps burgers in frnt of the delivery person to check whats received actually and moreover says since its sunday order is bound to get delayed its nothing new what an attitude sry mcdonalds borivali bt youll have lost regular customer due to such attitude my advice to youll pls check what the customer has requested then parcel stuff be humble to customers when speaking on phone again horrible experience thought guys would improve but no placed an order at on through the app due to borivali branch being heavy the order got automatically linked to kandivali branch order no kandl as football branch is over over over loaded with orders at around we receive call saying that kandivali branch cant deliver as they dont fall into the deliver zone after much argument with all the store manager and call centre guys deepak rahul and rajesh we had to cancel the order as they said it wud take another mins to deliver the order as kandivali branch wasnt ready to deliver the concerned ppl said cancel the order re order the same very bad service thought guys would improve but no was wrong now no more mcdonalds norespectforregularclients\n",
            "misspelled word:  pls       correct word: pals\n",
            "After: its very saddening to say that past days very poor service from mcdonalds borivali after mentioning no lettuces and more of jalapeño get the reverse of what requested more of lettuces and jus one jalapeño ring yesterday also same thing order for chicken kebab wrap and egg saucy wrap comes in the staff rudely says shud have checked the order suppose to eat the wraps burgers in frnt of the delivery person to check whats received actually and moreover says since its sunday order is bound to get delayed its nothing new what an attitude sry mcdonalds borivali bt youll have lost regular customer due to such attitude my advice to youll pls check what the customer has requested then parcel stuff be humble to customers when speaking on phone again horrible experience thought guys would improve but no placed an order at on through the app due to borivali branch being heavy the order got automatically linked to kandivali branch order no kandl as football branch is over over over loaded with orders at around we receive call saying that kandivali branch cant deliver as they dont fall into the deliver zone after much argument with all the store manager and call centre guys deepak rahul and rajesh we had to cancel the order as they said it wud take another mins to deliver the order as kandivali branch wasnt ready to deliver the concerned ppl said cancel the order re order the same very bad service thought guys would improve but no was wrong now no more mcdonalds norespectforregularclients\n",
            "before: its very saddening to say that past days very poor service from mcdonalds borivali after mentioning no lettuces and more of jalapeño get the reverse of what requested more of lettuces and jus one jalapeño ring yesterday also same thing order for chicken kebab wrap and egg saucy wrap comes in the staff rudely says shud have checked the order suppose to eat the wraps burgers in frnt of the delivery person to check whats received actually and moreover says since its sunday order is bound to get delayed its nothing new what an attitude sry mcdonalds borivali bt youll have lost regular customer due to such attitude my advice to youll pals check what the customer has requested then parcel stuff be humble to customers when speaking on phone again horrible experience thought guys would improve but no placed an order at on through the app due to borivali branch being heavy the order got automatically linked to kandivali branch order no kandl as football branch is over over over loaded with orders at around we receive call saying that kandivali branch cant deliver as they dont fall into the deliver zone after much argument with all the store manager and call centre guys deepak rahul and rajesh we had to cancel the order as they said it wud take another mins to deliver the order as kandivali branch wasnt ready to deliver the concerned ppl said cancel the order re order the same very bad service thought guys would improve but no was wrong now no more mcdonalds norespectforregularclients\n",
            "misspelled word:  frnt       correct word: front\n",
            "After: its very saddening to say that past days very poor service from mcdonalds borivali after mentioning no lettuces and more of jalapeño get the reverse of what requested more of lettuces and jus one jalapeño ring yesterday also same thing order for chicken kebab wrap and egg saucy wrap comes in the staff rudely says shud have checked the order suppose to eat the wraps burgers in frnt of the delivery person to check whats received actually and moreover says since its sunday order is bound to get delayed its nothing new what an attitude sry mcdonalds borivali bt youll have lost regular customer due to such attitude my advice to youll pals check what the customer has requested then parcel stuff be humble to customers when speaking on phone again horrible experience thought guys would improve but no placed an order at on through the app due to borivali branch being heavy the order got automatically linked to kandivali branch order no kandl as football branch is over over over loaded with orders at around we receive call saying that kandivali branch cant deliver as they dont fall into the deliver zone after much argument with all the store manager and call centre guys deepak rahul and rajesh we had to cancel the order as they said it wud take another mins to deliver the order as kandivali branch wasnt ready to deliver the concerned ppl said cancel the order re order the same very bad service thought guys would improve but no was wrong now no more mcdonalds norespectforregularclients\n",
            "before: its very saddening to say that past days very poor service from mcdonalds borivali after mentioning no lettuces and more of jalapeño get the reverse of what requested more of lettuces and jus one jalapeño ring yesterday also same thing order for chicken kebab wrap and egg saucy wrap comes in the staff rudely says shud have checked the order suppose to eat the wraps burgers in front of the delivery person to check whats received actually and moreover says since its sunday order is bound to get delayed its nothing new what an attitude sry mcdonalds borivali bt youll have lost regular customer due to such attitude my advice to youll pals check what the customer has requested then parcel stuff be humble to customers when speaking on phone again horrible experience thought guys would improve but no placed an order at on through the app due to borivali branch being heavy the order got automatically linked to kandivali branch order no kandl as football branch is over over over loaded with orders at around we receive call saying that kandivali branch cant deliver as they dont fall into the deliver zone after much argument with all the store manager and call centre guys deepak rahul and rajesh we had to cancel the order as they said it wud take another mins to deliver the order as kandivali branch wasnt ready to deliver the concerned ppl said cancel the order re order the same very bad service thought guys would improve but no was wrong now no more mcdonalds norespectforregularclients\n",
            "misspelled word:  jalapeño       correct word: jalapeno\n",
            "After: its very saddening to say that past days very poor service from mcdonalds borivali after mentioning no lettuces and more of jalapeño get the reverse of what requested more of lettuces and jus one jalapeño ring yesterday also same thing order for chicken kebab wrap and egg saucy wrap comes in the staff rudely says shud have checked the order suppose to eat the wraps burgers in front of the delivery person to check whats received actually and moreover says since its sunday order is bound to get delayed its nothing new what an attitude sry mcdonalds borivali bt youll have lost regular customer due to such attitude my advice to youll pals check what the customer has requested then parcel stuff be humble to customers when speaking on phone again horrible experience thought guys would improve but no placed an order at on through the app due to borivali branch being heavy the order got automatically linked to kandivali branch order no kandl as football branch is over over over loaded with orders at around we receive call saying that kandivali branch cant deliver as they dont fall into the deliver zone after much argument with all the store manager and call centre guys deepak rahul and rajesh we had to cancel the order as they said it wud take another mins to deliver the order as kandivali branch wasnt ready to deliver the concerned ppl said cancel the order re order the same very bad service thought guys would improve but no was wrong now no more mcdonalds norespectforregularclients\n",
            "before: the favourite weekend hangout place great food very clean serves bith veg and non veg never eat fish burger here\n",
            "misspelled word:  bith       correct word: bit\n",
            "After: the favourite weekend hangout place great food very clean serves bith veg and non veg never eat fish burger here\n",
            "before: mcdonalds is the perfect place to order from for your midinight or evening snack cravings we tried the maharaja and the spicy paneer burger meals and the are worth try\n",
            "misspelled word:  midinight       correct word: midnight\n",
            "After: mcdonalds is the perfect place to order from for your midinight or evening snack cravings we tried the maharaja and the spicy paneer burger meals and the are worth try\n",
            "before: very nice services and wishes to bday ppl great feeling\n",
            "misspelled word:  bday       correct word: day\n",
            "After: very nice services and wishes to bday ppl great feeling\n",
            "before: one of the my favourite place where like to go often during my college timesnice foodnice interior decorstaff as well good\n",
            "misspelled word:  foodnice       correct word: foodie\n",
            "After: one of the my favourite place where like to go often during my college timesnice foodnice interior decorstaff as well good\n",
            "before: north mumbais first and iconic\n",
            "misspelled word:  mumbais       correct word: mumbai\n",
            "After: north mumbais first and iconic\n",
            "before: awesome place for small kids birthday parties excellent service good locational advantage of being popular joint for youngesters\n",
            "misspelled word:  youngesters       correct word: youngster\n",
            "After: awesome place for small kids birthday parties excellent service good locational advantage of being popular joint for youngesters\n",
            "before: awesome place for small kids birthday parties excellent service good locational advantage of being popular joint for youngster\n",
            "misspelled word:  locational       correct word: locations\n",
            "After: awesome place for small kids birthday parties excellent service good locational advantage of being popular joint for youngster\n",
            "before: located at the heart of borivali east west junction this area is known because of mcdonalds there always fan of fries and chicken mcgill wrap the oreo ice creams are good too this place is usually crowded on weekends also good place for kids to have their bday or christmas celebration\n",
            "misspelled word:  bday       correct word: day\n",
            "After: located at the heart of borivali east west junction this area is known because of mcdonalds there always fan of fries and chicken mcgill wrap the oreo ice creams are good too this place is usually crowded on weekends also good place for kids to have their bday or christmas celebration\n",
            "before: yes the food was good and recommend the new bannana mc flurry and be sure to buy something from the lady who sells snacks outside mcd her snacks are as tasty as the burgers and wraps in mcd\n",
            "misspelled word:  bannana       correct word: banana\n",
            "After: yes the food was good and recommend the new bannana mc flurry and be sure to buy something from the lady who sells snacks outside mcd her snacks are as tasty as the burgers and wraps in mcd\n",
            "before: ads show such wonderful burgers however reality is exactly opposite of it the pattie is small and mayo quantity is so less that you can hardly taste it\n",
            "misspelled word:  pattie       correct word: patties\n",
            "After: ads show such wonderful burgers however reality is exactly opposite of it the pattie is small and mayo quantity is so less that you can hardly taste it\n",
            "before: just like any other macd parking can be problem\n",
            "misspelled word:  macd       correct word: mad\n",
            "After: just like any other macd parking can be problem\n",
            "before: all time favourite place to have good quality snack the taste remains the same each time you buy burger or fries worlds best which cannot beat any other fries whatsoever wheresoever mcdelivery wins heart quick swift and convincing delivery with no mistake ever\n",
            "misspelled word:  mcdelivery       correct word: delivery\n",
            "After: all time favourite place to have good quality snack the taste remains the same each time you buy burger or fries worlds best which cannot beat any other fries whatsoever wheresoever mcdelivery wins heart quick swift and convincing delivery with no mistake ever\n",
            "before: nice locationa lil too crowded\n",
            "misspelled word:  locationa       correct word: locations\n",
            "After: nice locationa lil too crowded\n",
            "before: one of the best mcd know in suburbs this is an individual outlet located near sv road borivali it looks classy and is located in fancy looking building and has good space to sit will not review the food however the desserts here are favourate and they have separate counter outside for takeaway you may get your bike and find easy parking inside order delivery is quick and queue management is better then most of the mcd considering the above will rate this one of the best mcd in suburbs\n",
            "misspelled word:  favourate       correct word: favoured\n",
            "After: one of the best mcd know in suburbs this is an individual outlet located near sv road borivali it looks classy and is located in fancy looking building and has good space to sit will not review the food however the desserts here are favourate and they have separate counter outside for takeaway you may get your bike and find easy parking inside order delivery is quick and queue management is better then most of the mcd considering the above will rate this one of the best mcd in suburbs\n",
            "before: celebrating gudi padwa superb ambience very nice enjoyed\n",
            "misspelled word:  gudi       correct word: gud\n",
            "After: celebrating gudi padwa superb ambience very nice enjoyed\n",
            "before: best place for formal meetings and get togethers\n",
            "misspelled word:  togethers       correct word: together\n",
            "After: best place for formal meetings and get togethers\n",
            "before: all facilties at the same price available here as found in any mcd only thing didnt like about this place they dont serve filter coffee and lebanese burger\n",
            "misspelled word:  facilties       correct word: facilities\n",
            "After: all facilties at the same price available here as found in any mcd only thing didnt like about this place they dont serve filter coffee and lebanese burger\n",
            "before: worst ever mcdonalds outlet ever at every outlet breakfast is from amam and menu changes at am where in this outlet there am is am and what stupid reason the manager gives is hamare system mein na ko bajte hai translation is in our system its am at am secondly theire mccafe machines dont work days month pathetic outlet ever would have given zero stars if it was possible\n",
            "misspelled word:  amam       correct word: mam\n",
            "After: worst ever mcdonalds outlet ever at every outlet breakfast is from amam and menu changes at am where in this outlet there am is am and what stupid reason the manager gives is hamare system mein na ko bajte hai translation is in our system its am at am secondly theire mccafe machines dont work days month pathetic outlet ever would have given zero stars if it was possible\n",
            "before: worst ever mcdonalds outlet ever at every outlet breakfast is from mam and menu changes at am where in this outlet there am is am and what stupid reason the manager gives is hamare system mein na ko bajte hai translation is in our system its am at am secondly theire mccafe machines dont work days month pathetic outlet ever would have given zero stars if it was possible\n",
            "misspelled word:  theire       correct word: there\n",
            "After: worst ever mcdonalds outlet ever at every outlet breakfast is from mam and menu changes at am where in this outlet there am is am and what stupid reason the manager gives is hamare system mein na ko bajte hai translation is in our system its am at am secondly theire mccafe machines dont work days month pathetic outlet ever would have given zero stars if it was possible\n",
            "before: too conjusted in evening\n",
            "misspelled word:  conjusted       correct word: confused\n",
            "After: too conjusted in evening\n",
            "before: check out my live video review on mcdonalds at httpsyoutu bewevttep food service prompt ambiance standard hygiene dirty wash basin energyatmosphere young and calm couple zone value for money quality of ingredients dishesitems ordered mc maharaja junior mexican aloo tikki and waffles with maple mc maharaja junior well was pretty impressed with the taste of the burger ingredients were fresh sauce was well paired with the burger its also on the spicy side perfect for my palate guess should have gone for the actually big mc maharaja am sure would have hogged that with ease so this one here is winner for me mexican aloo tikki honesty not big fan of vegetarian food but nonetheless its important for me to explore new foods so here is my view on this burger its tasty the mexican element in it didnt come out as much though so this is what think aloo tikki for me is like american vada pav vada is the same pav turns to burger buns and chutney becomes the mayonnaise humble suggestion would be to add some dominant mexican flavors to the patty waffles come on man you cant be serving waffles all soggy and soft the worst part is that to eat those dry looking waffles had to buy maple are you serious its the same pan cake batter that goes into waffle machine and gets baked if mcdonalds gave me maple and butter with my pancakes then why not with my waffles the waffles were disappointment note if you like my reviews and wish to see more kindly follow me on the following zomato aaryan sharma instagram aaryansharma_ facebook page aaryan sharmas food world youtube httpsww youtube comchannelucrdcvgfgfkxmhblolcyq\n",
            "misspelled word:  sharmas       correct word: sharma\n",
            "After: check out my live video review on mcdonalds at httpsyoutu bewevttep food service prompt ambiance standard hygiene dirty wash basin energyatmosphere young and calm couple zone value for money quality of ingredients dishesitems ordered mc maharaja junior mexican aloo tikki and waffles with maple mc maharaja junior well was pretty impressed with the taste of the burger ingredients were fresh sauce was well paired with the burger its also on the spicy side perfect for my palate guess should have gone for the actually big mc maharaja am sure would have hogged that with ease so this one here is winner for me mexican aloo tikki honesty not big fan of vegetarian food but nonetheless its important for me to explore new foods so here is my view on this burger its tasty the mexican element in it didnt come out as much though so this is what think aloo tikki for me is like american vada pav vada is the same pav turns to burger buns and chutney becomes the mayonnaise humble suggestion would be to add some dominant mexican flavors to the patty waffles come on man you cant be serving waffles all soggy and soft the worst part is that to eat those dry looking waffles had to buy maple are you serious its the same pan cake batter that goes into waffle machine and gets baked if mcdonalds gave me maple and butter with my pancakes then why not with my waffles the waffles were disappointment note if you like my reviews and wish to see more kindly follow me on the following zomato aaryan sharma instagram aaryansharma_ facebook page aaryan sharmas food world youtube httpsww youtube comchannelucrdcvgfgfkxmhblolcyq\n",
            "before: never have never will ever find replacement for mcdonalds fries can share my ice cream chocolates but not mcd fries best part well everything this place just doesnt happen to hold million memories but their fries now the perri perri ones be it any burger or wrap will truly make you say im lovin it everything top notch\n",
            "misspelled word:  perri       correct word: peri\n",
            "After: never have never will ever find replacement for mcdonalds fries can share my ice cream chocolates but not mcd fries best part well everything this place just doesnt happen to hold million memories but their fries now the perri perri ones be it any burger or wrap will truly make you say im lovin it everything top notch\n",
            "before: who has my iced tea made to perfection loud cheers for mcdonalds absolutely love their mccafe their cookies are baked to order their breakfast is small but oh so perfectly filling and cannot do without either the chicken grill wrap or mexican fries psplease bring back cheesy fries\n",
            "misspelled word:  psplease       correct word: please\n",
            "After: who has my iced tea made to perfection loud cheers for mcdonalds absolutely love their mccafe their cookies are baked to order their breakfast is small but oh so perfectly filling and cannot do without either the chicken grill wrap or mexican fries psplease bring back cheesy fries\n",
            "before: always prefer to go here as mcdonalds is one of my favourate burger joint and inlove to be here much crowed place always hard to find table if in huge group so always prefer takeaway service is quite good\n",
            "misspelled word:  favourate       correct word: favoured\n",
            "After: always prefer to go here as mcdonalds is one of my favourate burger joint and inlove to be here much crowed place always hard to find table if in huge group so always prefer takeaway service is quite good\n",
            "before: visited my favorite food joint located at borivali on weekend in the morning for breakfast guess what the counters were not manned so unprofessional had to ask the manager is there someone to take my order post that service was quick both the order and the receipt the egg and cheese mcmuffin meal with the hash brown and coke large were just right to begin the day the restaurant was clean and the washroom dry and stacked\n",
            "misspelled word:  mcmuffin       correct word: muffin\n",
            "After: visited my favorite food joint located at borivali on weekend in the morning for breakfast guess what the counters were not manned so unprofessional had to ask the manager is there someone to take my order post that service was quick both the order and the receipt the egg and cheese mcmuffin meal with the hash brown and coke large were just right to begin the day the restaurant was clean and the washroom dry and stacked\n",
            "before: easy access and its macd\n",
            "misspelled word:  macd       correct word: mad\n",
            "After: easy access and its macd\n",
            "before: the one mcdonalds with great service and open late nights with people storming in even then their cold coffee is somehow the best compared to the other mcdonalds ive been to their home delievery is always less than minutes no matter what never had any issues with them\n",
            "misspelled word:  delievery       correct word: delivers\n",
            "After: the one mcdonalds with great service and open late nights with people storming in even then their cold coffee is somehow the best compared to the other mcdonalds ive been to their home delievery is always less than minutes no matter what never had any issues with them\n",
            "before: mc donalds has become more of house hold name in usa and since the time it has come to india it has established itself quite well and think that they have also become default snack location for college students schoolkids and elders the food option they have satisfies anyone who is really hungry and mc veggie burger is one of the most favoured burgers in the town mc donalds did not want to tagged just as burger outlet in the process of changing they started the mc café which is premium coffee shop within mc donalds the entrance for both remains same but the idea is that they would serve some premium coffee in the outlet the concept mc café started first in australia and it seems to have picked up across many outlets across the globe this is the place where you can get some quality coffees instead of going to some premium outlets you can come to mc donalds have the food and along with that take some good coffee food the outlet has mc donalds where have tried the burgers like mc veggie burger along with coke and french fries coffeestea in the coffees they have quite an options including expresso expresso macchiato americano cappuccino it is nice that mc donalds have got involved in serving such wonderful treats in terms of coffee to people apart from the hot coffee varieties they also have options like cold brewed iced teas cold coffee frappes cream can be added the mugs in which the hot coffees are served is brown in colour with mc café written on it colour is same as coffee bean colour this outlet has changed drastically with the addition of mc café you feel more relaxed considering that apart from the food there are some wonderful desert options basically the options for the customers have increased would surely visit again soon twitter yash_gosalia instagram yashh_gosalia\n",
            "misspelled word:  coffeestea       correct word: coffees\n",
            "After: mc donalds has become more of house hold name in usa and since the time it has come to india it has established itself quite well and think that they have also become default snack location for college students schoolkids and elders the food option they have satisfies anyone who is really hungry and mc veggie burger is one of the most favoured burgers in the town mc donalds did not want to tagged just as burger outlet in the process of changing they started the mc café which is premium coffee shop within mc donalds the entrance for both remains same but the idea is that they would serve some premium coffee in the outlet the concept mc café started first in australia and it seems to have picked up across many outlets across the globe this is the place where you can get some quality coffees instead of going to some premium outlets you can come to mc donalds have the food and along with that take some good coffee food the outlet has mc donalds where have tried the burgers like mc veggie burger along with coke and french fries coffeestea in the coffees they have quite an options including expresso expresso macchiato americano cappuccino it is nice that mc donalds have got involved in serving such wonderful treats in terms of coffee to people apart from the hot coffee varieties they also have options like cold brewed iced teas cold coffee frappes cream can be added the mugs in which the hot coffees are served is brown in colour with mc café written on it colour is same as coffee bean colour this outlet has changed drastically with the addition of mc café you feel more relaxed considering that apart from the food there are some wonderful desert options basically the options for the customers have increased would surely visit again soon twitter yash_gosalia instagram yashh_gosalia\n",
            "before: mc donalds has become more of house hold name in usa and since the time it has come to india it has established itself quite well and think that they have also become default snack location for college students schoolkids and elders the food option they have satisfies anyone who is really hungry and mc veggie burger is one of the most favoured burgers in the town mc donalds did not want to tagged just as burger outlet in the process of changing they started the mc café which is premium coffee shop within mc donalds the entrance for both remains same but the idea is that they would serve some premium coffee in the outlet the concept mc café started first in australia and it seems to have picked up across many outlets across the globe this is the place where you can get some quality coffees instead of going to some premium outlets you can come to mc donalds have the food and along with that take some good coffee food the outlet has mc donalds where have tried the burgers like mc veggie burger along with coke and french fries coffees in the coffees they have quite an options including expresso expresso macchiato americano cappuccino it is nice that mc donalds have got involved in serving such wonderful treats in terms of coffee to people apart from the hot coffee varieties they also have options like cold brewed iced teas cold coffee frappes cream can be added the mugs in which the hot coffees are served is brown in colour with mc café written on it colour is same as coffee bean colour this outlet has changed drastically with the addition of mc café you feel more relaxed considering that apart from the food there are some wonderful desert options basically the options for the customers have increased would surely visit again soon twitter yash_gosalia instagram yashh_gosalia\n",
            "misspelled word:  frappes       correct word: frappe\n",
            "After: mc donalds has become more of house hold name in usa and since the time it has come to india it has established itself quite well and think that they have also become default snack location for college students schoolkids and elders the food option they have satisfies anyone who is really hungry and mc veggie burger is one of the most favoured burgers in the town mc donalds did not want to tagged just as burger outlet in the process of changing they started the mc café which is premium coffee shop within mc donalds the entrance for both remains same but the idea is that they would serve some premium coffee in the outlet the concept mc café started first in australia and it seems to have picked up across many outlets across the globe this is the place where you can get some quality coffees instead of going to some premium outlets you can come to mc donalds have the food and along with that take some good coffee food the outlet has mc donalds where have tried the burgers like mc veggie burger along with coke and french fries coffees in the coffees they have quite an options including expresso expresso macchiato americano cappuccino it is nice that mc donalds have got involved in serving such wonderful treats in terms of coffee to people apart from the hot coffee varieties they also have options like cold brewed iced teas cold coffee frappes cream can be added the mugs in which the hot coffees are served is brown in colour with mc café written on it colour is same as coffee bean colour this outlet has changed drastically with the addition of mc café you feel more relaxed considering that apart from the food there are some wonderful desert options basically the options for the customers have increased would surely visit again soon twitter yash_gosalia instagram yashh_gosalia\n",
            "before: small area there is not so much area to sit togetherit is always fullthere is need to add more tables and chairs otherwise the food and the service is excellence\n",
            "misspelled word:  togetherit       correct word: together\n",
            "After: small area there is not so much area to sit togetherit is always fullthere is need to add more tables and chairs otherwise the food and the service is excellence\n",
            "before: the ambience here is too good nd the service to the customers is also at its high point it also provide bike parkings for the customers\n",
            "misspelled word:  parkings       correct word: parking\n",
            "After: the ambience here is too good nd the service to the customers is also at its high point it also provide bike parkings for the customers\n",
            "before: krishna parth moon are very mcdonalds person\n",
            "misspelled word:  parth       correct word: part\n",
            "After: krishna parth moon are very mcdonalds person\n",
            "before: mcdonalds has always been my favourite place as kid wed wait for the weekend to go get the toy of the day the new mahàraja mac its very delicious must try this one\n",
            "misspelled word:  mahàraja       correct word: maharaja\n",
            "After: mcdonalds has always been my favourite place as kid wed wait for the weekend to go get the toy of the day the new mahàraja mac its very delicious must try this one\n",
            "before: now know this place doesnt need to be reviewed tried out the new indi mcspicy they have just added some spicy sauce to their normal one their shakes are good and the piri piri fries is way better than the normal one ordering meal is beneficial and is filling\n",
            "misspelled word:  indi       correct word: india\n",
            "After: now know this place doesnt need to be reviewed tried out the new indi mcspicy they have just added some spicy sauce to their normal one their shakes are good and the piri piri fries is way better than the normal one ordering meal is beneficial and is filling\n",
            "before: usually crowded nice place to go in groups servixe is quite good\n",
            "misspelled word:  servixe       correct word: service\n",
            "After: usually crowded nice place to go in groups servixe is quite good\n",
            "before: if you are going through chill of winters around road near kora kendra in borivali west just step in mcdonalds mccafe it is one of the newly opened coffee bar and if it is started by mcd your expectations are definately high right but it does not disappoint at all the newly opened section of mccafe offers quite different flavors of cafes as in masala chai does sound vibrant isnt it also the strawberry ice tea does come with the cool whipped cream surprise and tastes yumm as well we had ordered caffecino alongwith strawberry ice tea and chocochip muffins loaded with choco sauce which were baked to perfection the barista lady was quite cooperative so we had good options to choose from but the muffins were bit expensive for single muffin was definately on higher side and the chocolate sauce was bombed with another bucks totally on higher end the best part about mccafe was the coffee was definately priced well not so expensive and worth the price was sure the view which cafe offers is also the highlight of the cafe so will definately recommend one cuppa coffee at mccafe for one time for sure\n",
            "misspelled word:  caffecino       correct word: caffeine\n",
            "After: if you are going through chill of winters around road near kora kendra in borivali west just step in mcdonalds mccafe it is one of the newly opened coffee bar and if it is started by mcd your expectations are definately high right but it does not disappoint at all the newly opened section of mccafe offers quite different flavors of cafes as in masala chai does sound vibrant isnt it also the strawberry ice tea does come with the cool whipped cream surprise and tastes yumm as well we had ordered caffecino alongwith strawberry ice tea and chocochip muffins loaded with choco sauce which were baked to perfection the barista lady was quite cooperative so we had good options to choose from but the muffins were bit expensive for single muffin was definately on higher side and the chocolate sauce was bombed with another bucks totally on higher end the best part about mccafe was the coffee was definately priced well not so expensive and worth the price was sure the view which cafe offers is also the highlight of the cafe so will definately recommend one cuppa coffee at mccafe for one time for sure\n",
            "before: if you are going through chill of winters around road near kora kendra in borivali west just step in mcdonalds mccafe it is one of the newly opened coffee bar and if it is started by mcd your expectations are definately high right but it does not disappoint at all the newly opened section of mccafe offers quite different flavors of cafes as in masala chai does sound vibrant isnt it also the strawberry ice tea does come with the cool whipped cream surprise and tastes yumm as well we had ordered caffeine alongwith strawberry ice tea and chocochip muffins loaded with choco sauce which were baked to perfection the barista lady was quite cooperative so we had good options to choose from but the muffins were bit expensive for single muffin was definately on higher side and the chocolate sauce was bombed with another bucks totally on higher end the best part about mccafe was the coffee was definately priced well not so expensive and worth the price was sure the view which cafe offers is also the highlight of the cafe so will definately recommend one cuppa coffee at mccafe for one time for sure\n",
            "misspelled word:  yumm       correct word: yum\n",
            "After: if you are going through chill of winters around road near kora kendra in borivali west just step in mcdonalds mccafe it is one of the newly opened coffee bar and if it is started by mcd your expectations are definately high right but it does not disappoint at all the newly opened section of mccafe offers quite different flavors of cafes as in masala chai does sound vibrant isnt it also the strawberry ice tea does come with the cool whipped cream surprise and tastes yumm as well we had ordered caffeine alongwith strawberry ice tea and chocochip muffins loaded with choco sauce which were baked to perfection the barista lady was quite cooperative so we had good options to choose from but the muffins were bit expensive for single muffin was definately on higher side and the chocolate sauce was bombed with another bucks totally on higher end the best part about mccafe was the coffee was definately priced well not so expensive and worth the price was sure the view which cafe offers is also the highlight of the cafe so will definately recommend one cuppa coffee at mccafe for one time for sure\n",
            "before: the most most crowded place and its the story that lasts each time you visit this place favourite hangout for everyone the idea of mccafe is not bad but it seems way more expensive and the coffee or the iced tea is just okay personal favourites mcspicy chicken french fries chicken masala grill dont know why they introduced that paneer pockets simply waste love mcflurry too they are different and tasty service value for money taste_\n",
            "misspelled word:  taste_       correct word: taste\n",
            "After: the most most crowded place and its the story that lasts each time you visit this place favourite hangout for everyone the idea of mccafe is not bad but it seems way more expensive and the coffee or the iced tea is just okay personal favourites mcspicy chicken french fries chicken masala grill dont know why they introduced that paneer pockets simply waste love mcflurry too they are different and tasty service value for money taste_\n",
            "before: normal mcd stuff is fine here nothing extraordinary but you should definitely try choco chip cookie here it is huge in size almost equal to size of roti it tastes super duper yumm it has taste of chocolate butter and cookie dough mean it was heaven if have sweet tooth plus there was an offer but two cookie and get cold coffee free which was jackpot for me as love cold coffee at mcd though taste of cold coffee has deteriorated little still cookie covered up for it\n",
            "misspelled word:  yumm       correct word: yum\n",
            "After: normal mcd stuff is fine here nothing extraordinary but you should definitely try choco chip cookie here it is huge in size almost equal to size of roti it tastes super duper yumm it has taste of chocolate butter and cookie dough mean it was heaven if have sweet tooth plus there was an offer but two cookie and get cold coffee free which was jackpot for me as love cold coffee at mcd though taste of cold coffee has deteriorated little still cookie covered up for it\n",
            "before: mc spicy was good the crowd as usual mostly students luckly we got nice table quickly enjoyed the new peri peri masala refreshing taste dont understand why they put so much ice in the coke even after requesting less ice guess the amount of salt in fries is above daily recommended level mcdonalds is such nice place why dont they make it more healthier for us less salt and less ice is anyone listening anyway its fun to be here im lovin it\n",
            "misspelled word:  luckly       correct word: luckily\n",
            "After: mc spicy was good the crowd as usual mostly students luckly we got nice table quickly enjoyed the new peri peri masala refreshing taste dont understand why they put so much ice in the coke even after requesting less ice guess the amount of salt in fries is above daily recommended level mcdonalds is such nice place why dont they make it more healthier for us less salt and less ice is anyone listening anyway its fun to be here im lovin it\n",
            "before: this borivali mac outlet was my favourite untill today what happened today in the outlet kitchen left me shocked and speechless the kitchen staff actually picked up burger patti she dropped on the floor and put it back in the burger she was preparing because ahe realised was witness to this and objected aloud did she throw it in the bin mean serious is this the hygiene mac maintains small innocent children actually crave to go to mac and this is what serve the management seriously needs to rethink people reading this please make sure ur burgers made in front of for sure am not going to this outlet again duty manager ms naik hopefully you have taken some action on todays event in your restaurant macdonalds borivalimac\n",
            "misspelled word:  naik       correct word: nai\n",
            "After: this borivali mac outlet was my favourite untill today what happened today in the outlet kitchen left me shocked and speechless the kitchen staff actually picked up burger patti she dropped on the floor and put it back in the burger she was preparing because ahe realised was witness to this and objected aloud did she throw it in the bin mean serious is this the hygiene mac maintains small innocent children actually crave to go to mac and this is what serve the management seriously needs to rethink people reading this please make sure ur burgers made in front of for sure am not going to this outlet again duty manager ms naik hopefully you have taken some action on todays event in your restaurant macdonalds borivalimac\n",
            "before: hours for fries ordered home delivery aloo tikki meal recieved it without fries informed mcd latter they delivered burned fries again informed them this time no response for hours when contacted agreed to deliver then poor customer response\n",
            "misspelled word:  recieved       correct word: received\n",
            "After: hours for fries ordered home delivery aloo tikki meal recieved it without fries informed mcd latter they delivered burned fries again informed them this time no response for hours when contacted agreed to deliver then poor customer response\n",
            "before: every time you enter this outlet of mcdonald the first word which will come out of your mouth will be wtf its always crowded no matter what time you enter whether its am or pm and on top of that of the time they keep their half of the section closed for party all yesterday was here to check new arrival which is panner pockets after masala grill its been my favourite panner pockets are small version of its cousin veg puff but better in taste for sure dont know for what the reason the staff here who prepares the food is so busy or what that they always reduce the amount of mayo which goes in burgers and wraps have visited multiple outlets the one which is in dahisar is better than any other outlets because their you can actually taste the mayo patice rather than bun\n",
            "misspelled word:  patice       correct word: patience\n",
            "After: every time you enter this outlet of mcdonald the first word which will come out of your mouth will be wtf its always crowded no matter what time you enter whether its am or pm and on top of that of the time they keep their half of the section closed for party all yesterday was here to check new arrival which is panner pockets after masala grill its been my favourite panner pockets are small version of its cousin veg puff but better in taste for sure dont know for what the reason the staff here who prepares the food is so busy or what that they always reduce the amount of mayo which goes in burgers and wraps have visited multiple outlets the one which is in dahisar is better than any other outlets because their you can actually taste the mayo patice rather than bun\n",
            "before: every time you enter this outlet of mcdonald the first word which will come out of your mouth will be wtf its always crowded no matter what time you enter whether its am or pm and on top of that of the time they keep their half of the section closed for party all yesterday was here to check new arrival which is panner pockets after masala grill its been my favourite panner pockets are small version of its cousin veg puff but better in taste for sure dont know for what the reason the staff here who prepares the food is so busy or what that they always reduce the amount of mayo which goes in burgers and wraps have visited multiple outlets the one which is in dahisar is better than any other outlets because their you can actually taste the mayo patience rather than bun\n",
            "misspelled word:  panner       correct word: paneer\n",
            "After: every time you enter this outlet of mcdonald the first word which will come out of your mouth will be wtf its always crowded no matter what time you enter whether its am or pm and on top of that of the time they keep their half of the section closed for party all yesterday was here to check new arrival which is panner pockets after masala grill its been my favourite panner pockets are small version of its cousin veg puff but better in taste for sure dont know for what the reason the staff here who prepares the food is so busy or what that they always reduce the amount of mayo which goes in burgers and wraps have visited multiple outlets the one which is in dahisar is better than any other outlets because their you can actually taste the mayo patience rather than bun\n",
            "before: this is my favourite spot when want to find quick bite joint post and not go away from borivali ofcose mcd menu is universal and there is nothing to complain about what like about this place is it always has happening crowd and live atmosphere all the time\n",
            "misspelled word:  ofcose       correct word: ofcourse\n",
            "After: this is my favourite spot when want to find quick bite joint post and not go away from borivali ofcose mcd menu is universal and there is nothing to complain about what like about this place is it always has happening crowd and live atmosphere all the time\n",
            "before: decent staff and decent service greaat place if going with friends you can hangout there with great options in food of std quality near to station and nice ambience\n",
            "misspelled word:  greaat       correct word: great\n",
            "After: decent staff and decent service greaat place if going with friends you can hangout there with great options in food of std quality near to station and nice ambience\n",
            "before: according to me all mcds should have mccafes coz its value for money other cafes are too expensive love the way mcd is adding up to their menu had lovely mcflurrybanana caramel oreo\n",
            "misspelled word:  mccafes       correct word: cafes\n",
            "After: according to me all mcds should have mccafes coz its value for money other cafes are too expensive love the way mcd is adding up to their menu had lovely mcflurrybanana caramel oreo\n",
            "before: mac still managed their cost and quality well balanced the otherside where vada pav in mumbai selling at rs macd still manage the cost of their quality food at nominal prices of rs to rs like mac puff mac aloo tikki coke float soft serve etc likes the mac aloo tikki and maharaja in veg non veg doesnt tastes that good brownie with soft serve is ma favourita but kfc has better if compare with macd banana flavoured soft serve also tastes good new mac caffe is having some good cold stuffs like vanilla frappe chocolate frappe is also nice to have ordered chicken maharaja too its very difficult to eat it jumbo in size\n",
            "misspelled word:  macd       correct word: mad\n",
            "After: mac still managed their cost and quality well balanced the otherside where vada pav in mumbai selling at rs macd still manage the cost of their quality food at nominal prices of rs to rs like mac puff mac aloo tikki coke float soft serve etc likes the mac aloo tikki and maharaja in veg non veg doesnt tastes that good brownie with soft serve is ma favourita but kfc has better if compare with macd banana flavoured soft serve also tastes good new mac caffe is having some good cold stuffs like vanilla frappe chocolate frappe is also nice to have ordered chicken maharaja too its very difficult to eat it jumbo in size\n",
            "before: mac still managed their cost and quality well balanced the otherside where vada pav in mumbai selling at rs mad still manage the cost of their quality food at nominal prices of rs to rs like mac puff mac aloo tikki coke float soft serve etc likes the mac aloo tikki and maharaja in veg non veg doesnt tastes that good brownie with soft serve is ma favourita but kfc has better if compare with mad banana flavoured soft serve also tastes good new mac caffe is having some good cold stuffs like vanilla frappe chocolate frappe is also nice to have ordered chicken maharaja too its very difficult to eat it jumbo in size\n",
            "misspelled word:  favourita       correct word: favourite\n",
            "After: mac still managed their cost and quality well balanced the otherside where vada pav in mumbai selling at rs mad still manage the cost of their quality food at nominal prices of rs to rs like mac puff mac aloo tikki coke float soft serve etc likes the mac aloo tikki and maharaja in veg non veg doesnt tastes that good brownie with soft serve is ma favourita but kfc has better if compare with mad banana flavoured soft serve also tastes good new mac caffe is having some good cold stuffs like vanilla frappe chocolate frappe is also nice to have ordered chicken maharaja too its very difficult to eat it jumbo in size\n",
            "before: ac is alwys nt working and its vry dirty all other mc donalds quite clean neat as compared dis one its big dats the bst part bt wats useif its hot dirty\n",
            "misspelled word:  vry       correct word: vary\n",
            "After: ac is alwys nt working and its vry dirty all other mc donalds quite clean neat as compared dis one its big dats the bst part bt wats useif its hot dirty\n",
            "before: ac is alwys nt working and its vary dirty all other mc donalds quite clean neat as compared dis one its big dats the bst part bt wats useif its hot dirty\n",
            "misspelled word:  bst       correct word: best\n",
            "After: ac is alwys nt working and its vary dirty all other mc donalds quite clean neat as compared dis one its big dats the bst part bt wats useif its hot dirty\n",
            "before: love burgers and mcdonalds is the best place to go for good burger the food is consistently good and the fries are always hot good variety have eaten all the burgers on the menu and with the exception of the mcsalad theyre all good the mc flurry is my favourite thing on their menu the berry flavour mc flurry is too good dont like the mcpuff or the veg wraps the mcspicy chicken is very good quick service and good staff\n",
            "misspelled word:  mcsalad       correct word: salad\n",
            "After: love burgers and mcdonalds is the best place to go for good burger the food is consistently good and the fries are always hot good variety have eaten all the burgers on the menu and with the exception of the mcsalad theyre all good the mc flurry is my favourite thing on their menu the berry flavour mc flurry is too good dont like the mcpuff or the veg wraps the mcspicy chicken is very good quick service and good staff\n",
            "before: this macd is located on corner of always jam sv road like any other outlet this one is also really crowded with good service good staff perfect place to chill out with friends or family\n",
            "misspelled word:  macd       correct word: mad\n",
            "After: this macd is located on corner of always jam sv road like any other outlet this one is also really crowded with good service good staff perfect place to chill out with friends or family\n",
            "before: outlet where first time had my mcburger was kid that time and being the first time liked their burgers service is pretty good\n",
            "misspelled word:  mcburger       correct word: burger\n",
            "After: outlet where first time had my mcburger was kid that time and being the first time liked their burgers service is pretty good\n",
            "before: ordered food from here or should say thrown away food fries were soggy as though cooked hours back mc veggie lacked mayo the amount of mayo was very very less salad was also missing the lettuce in the burger was stale size of the saucy alloo wrap was not worth the price and it was not saucy either horrible food the burger which used to eat years back was rather big and juicy with good amount of mayo quality has totally degraded star rating for mc flurry orea which was little better in taste\n",
            "misspelled word:  alloo       correct word: aloo\n",
            "After: ordered food from here or should say thrown away food fries were soggy as though cooked hours back mc veggie lacked mayo the amount of mayo was very very less salad was also missing the lettuce in the burger was stale size of the saucy alloo wrap was not worth the price and it was not saucy either horrible food the burger which used to eat years back was rather big and juicy with good amount of mayo quality has totally degraded star rating for mc flurry orea which was little better in taste\n",
            "before: once which was my perfect adda is no better place to be the staff has changed worst thing mcdonalds didnt have ketchup the last time went making me furious on the management order was misinterpreted which made me even more angry cant help wondering this was the place is used to hangout hours with my buds rating only was the same reason\n",
            "misspelled word:  adda       correct word: add\n",
            "After: once which was my perfect adda is no better place to be the staff has changed worst thing mcdonalds didnt have ketchup the last time went making me furious on the management order was misinterpreted which made me even more angry cant help wondering this was the place is used to hangout hours with my buds rating only was the same reason\n",
            "before: best for landmar\n",
            "misspelled word:  landmar       correct word: landmark\n",
            "After: best for landmar\n",
            "before: im never bored of mcdonald just amazing burgers their burgers are very good lower budget burgers dont give you much taste of the tikki inside but the rest are very good mcspicy chicken is all time hit its just perfect blend of well cooked chicken with perfect spice and taste delicious the chicken in it is nice in quantity chicken maharaja is huge but does not taste that good since the chicken pattice is small in it it has lot of other things which again takes up the taste of good burger chicken royal also does not taste that good mcchicken is nice sufficient chicken pattice size to give you taste of chicken they have started with double patty tried mcspicy chicken and mcchicken mcspicy is not that good with double pattice but mcchicken is just awesomely delicious with double pattice things to try mcspicy chicken and mcchicken double patty\n",
            "misspelled word:  pattice       correct word: patties\n",
            "After: im never bored of mcdonald just amazing burgers their burgers are very good lower budget burgers dont give you much taste of the tikki inside but the rest are very good mcspicy chicken is all time hit its just perfect blend of well cooked chicken with perfect spice and taste delicious the chicken in it is nice in quantity chicken maharaja is huge but does not taste that good since the chicken pattice is small in it it has lot of other things which again takes up the taste of good burger chicken royal also does not taste that good mcchicken is nice sufficient chicken pattice size to give you taste of chicken they have started with double patty tried mcspicy chicken and mcchicken mcspicy is not that good with double pattice but mcchicken is just awesomely delicious with double pattice things to try mcspicy chicken and mcchicken double patty\n",
            "before: im never bored of mcdonald just amazing burgers their burgers are very good lower budget burgers dont give you much taste of the tikki inside but the rest are very good mcspicy chicken is all time hit its just perfect blend of well cooked chicken with perfect spice and taste delicious the chicken in it is nice in quantity chicken maharaja is huge but does not taste that good since the chicken patties is small in it it has lot of other things which again takes up the taste of good burger chicken royal also does not taste that good mcchicken is nice sufficient chicken patties size to give you taste of chicken they have started with double patty tried mcspicy chicken and mcchicken mcspicy is not that good with double patties but mcchicken is just awesomely delicious with double patties things to try mcspicy chicken and mcchicken double patty\n",
            "misspelled word:  mcchicken       correct word: chicken\n",
            "After: im never bored of mcdonald just amazing burgers their burgers are very good lower budget burgers dont give you much taste of the tikki inside but the rest are very good mcspicy chicken is all time hit its just perfect blend of well cooked chicken with perfect spice and taste delicious the chicken in it is nice in quantity chicken maharaja is huge but does not taste that good since the chicken patties is small in it it has lot of other things which again takes up the taste of good burger chicken royal also does not taste that good mcchicken is nice sufficient chicken patties size to give you taste of chicken they have started with double patty tried mcspicy chicken and mcchicken mcspicy is not that good with double patties but mcchicken is just awesomely delicious with double patties things to try mcspicy chicken and mcchicken double patty\n",
            "before: this place really needs some renovation more cleanliness ofcourse mcd food nevr changes but it does matter if hav enuf clients who want to enjoy the place with the food\n",
            "misspelled word:  nevr       correct word: never\n",
            "After: this place really needs some renovation more cleanliness ofcourse mcd food nevr changes but it does matter if hav enuf clients who want to enjoy the place with the food\n",
            "before: mcdonald is one fast food chain where the food is very consistent through out india last words this mcd has potential to be one of the best mcd outlet in mumbai their location is great they just need to work on the cleaning the flooring and table areas ambiance standard mcd ambiance at great location food standard mcd food service good front register servive but needs to work on eating area cleaning\n",
            "misspelled word:  servive       correct word: service\n",
            "After: mcdonald is one fast food chain where the food is very consistent through out india last words this mcd has potential to be one of the best mcd outlet in mumbai their location is great they just need to work on the cleaning the flooring and table areas ambiance standard mcd ambiance at great location food standard mcd food service good front register servive but needs to work on eating area cleaning\n",
            "before: am lpving it one of best macd\n",
            "misspelled word:  macd       correct word: mad\n",
            "After: am lpving it one of best macd\n",
            "before: am lpving it one of best mad\n",
            "misspelled word:  lpving       correct word: loving\n",
            "After: am lpving it one of best mad\n",
            "before: sunday evening incidently brought us to mcdonalds this outlet has large area and is crowded to full screaming children and harassed parents as usual we had chicken mcgrill meal and veg burgers and spicy chicken coke to wash it down we were offered free spicy chicken service was quick and efficient we couldnt find seat inside the restaurant and hence we had to have our bite standing no complaints as we didnt plan an elaborate sit down meal would give an overall rating of for the service the food require no rating as it tastes consistent which ever outlet you go to\n",
            "misspelled word:  mcgrill       correct word: mcgill\n",
            "After: sunday evening incidently brought us to mcdonalds this outlet has large area and is crowded to full screaming children and harassed parents as usual we had chicken mcgrill meal and veg burgers and spicy chicken coke to wash it down we were offered free spicy chicken service was quick and efficient we couldnt find seat inside the restaurant and hence we had to have our bite standing no complaints as we didnt plan an elaborate sit down meal would give an overall rating of for the service the food require no rating as it tastes consistent which ever outlet you go to\n",
            "before: do anyone need to describe mcd no borivali branch mcd is as same that of other mcds fast service ia the plus point large sitting space better music parking space for wheeler but itss more lovers place than family place you can book the private hall which is avilable there for small personal party\n",
            "misspelled word:  avilable       correct word: unavailable\n",
            "After: do anyone need to describe mcd no borivali branch mcd is as same that of other mcds fast service ia the plus point large sitting space better music parking space for wheeler but itss more lovers place than family place you can book the private hall which is avilable there for small personal party\n",
            "before: exellent\n",
            "misspelled word:  exellent       correct word: excellent\n",
            "After: exellent\n",
            "before: pls send fresh food\n",
            "misspelled word:  pls       correct word: pals\n",
            "After: pls send fresh food\n",
            "before: despite adding cooking instruction for french fries to do double dip times to fry to make it crispy mac donalds oulet in pcmc mumbai pune express way provides soft soggy french fries\n",
            "misspelled word:  oulet       correct word: opulent\n",
            "After: despite adding cooking instruction for french fries to do double dip times to fry to make it crispy mac donalds oulet in pcmc mumbai pune express way provides soft soggy french fries\n",
            "before: didnt receive my order snd the delivery boye said it will take time but never brought the order\n",
            "misspelled word:  boye       correct word: boy\n",
            "After: didnt receive my order snd the delivery boye said it will take time but never brought the order\n",
            "before: didnt receive my order snd the delivery boy said it will take time but never brought the order\n",
            "misspelled word:  snd       correct word: send\n",
            "After: didnt receive my order snd the delivery boy said it will take time but never brought the order\n",
            "before: wet food delivered and there was no packaging in such pendemic situation this is not at all acceptable completely disappointed worst experience with zomato\n",
            "misspelled word:  pendemic       correct word: pandemic\n",
            "After: wet food delivered and there was no packaging in such pendemic situation this is not at all acceptable completely disappointed worst experience with zomato\n",
            "before: we dont receive chill souch\n",
            "misspelled word:  souch       correct word: such\n",
            "After: we dont receive chill souch\n",
            "before: it was really good tastyy\n",
            "misspelled word:  tastyy       correct word: tasty\n",
            "After: it was really good tastyy\n",
            "before: double patty burger came as single patty burger dissappointed\n",
            "misspelled word:  dissappointed       correct word: disappoint\n",
            "After: double patty burger came as single patty burger dissappointed\n",
            "before: ordered chicken maharaja mac mcspicy chicken burger fries and cold coke recently before talking about the meal must say that from food preparation to presentation everything was just perfect the packaging was ecofriendly and pristine too happy eating not only this was in awe of the way the chicken maharaja mac was packed and presented usually not every restaurant takes care of such minutest details but mcdonalds does its juicy grilled chicken patty was wellfitted between the two buns and none of its ingredients were spilled jalapenos onions tomatoes shredded lettuce cheese all its ingredients were cooked to perfection and made this wholesome burger special honestly the mcspicy chicken burger was no less it was really spicy delicious as the name says and brought out the best flavour of the chicken and did you know that the chicken used by them goes through unique quality tests to ensure food safety and hygiene this is so amazing do even have to say anything about their super spicy crunchy piri piri fries we all know that it has got no competition am loving it had the cold coke at the end to satiate my thirst during the delivery the rider made sure to wear mask gloves maintain social distance and sanitize his hands it was completely safe and contactless delivery and the rider kept their promise of golden guarantee of safety and hygiene extra safe great taste food experience amazingly\n",
            "misspelled word:  ecofriendly       correct word: friendly\n",
            "After: ordered chicken maharaja mac mcspicy chicken burger fries and cold coke recently before talking about the meal must say that from food preparation to presentation everything was just perfect the packaging was ecofriendly and pristine too happy eating not only this was in awe of the way the chicken maharaja mac was packed and presented usually not every restaurant takes care of such minutest details but mcdonalds does its juicy grilled chicken patty was wellfitted between the two buns and none of its ingredients were spilled jalapenos onions tomatoes shredded lettuce cheese all its ingredients were cooked to perfection and made this wholesome burger special honestly the mcspicy chicken burger was no less it was really spicy delicious as the name says and brought out the best flavour of the chicken and did you know that the chicken used by them goes through unique quality tests to ensure food safety and hygiene this is so amazing do even have to say anything about their super spicy crunchy piri piri fries we all know that it has got no competition am loving it had the cold coke at the end to satiate my thirst during the delivery the rider made sure to wear mask gloves maintain social distance and sanitize his hands it was completely safe and contactless delivery and the rider kept their promise of golden guarantee of safety and hygiene extra safe great taste food experience amazingly\n",
            "before: it was good however coke lealed during transportation\n",
            "misspelled word:  lealed       correct word: leaked\n",
            "After: it was good however coke lealed during transportation\n",
            "before: no sugar saches were given and even cappuccino was at normal temperature\n",
            "misspelled word:  saches       correct word: spaces\n",
            "After: no sugar saches were given and even cappuccino was at normal temperature\n",
            "before: chicken maharaja mac test was good but not macd test even bread and chicken patty looks stale\n",
            "misspelled word:  macd       correct word: mad\n",
            "After: chicken maharaja mac test was good but not macd test even bread and chicken patty looks stale\n",
            "before: the fries were very soggy also we recieved order very late\n",
            "misspelled word:  recieved       correct word: received\n",
            "After: the fries were very soggy also we recieved order very late\n",
            "before: the taste was not good as we expected the packing was the worst ever seen in macd and theres no fuzz in coke and the fries is very soft and sticky prefer you to go to the macd the purchase your food\n",
            "misspelled word:  macd       correct word: mad\n",
            "After: the taste was not good as we expected the packing was the worst ever seen in macd and theres no fuzz in coke and the fries is very soft and sticky prefer you to go to the macd the purchase your food\n",
            "before: good food equals to good day is the motto love to follow like to have heavy breakfast and mcdonalds always gets me the yummiest cravings and fullfilling breakfast my regular order at mcdonalds is masala mcegg which is filled with steamy egg patty topped with some spicy masala seasoning onions and very tasty harbanero sauce crispy peri peri fries and cup of freshly brewed cappuccino from mccafe completes my meal theres still more to this mcspicy chicken burger which was filled with tender juicy chicken patty coated with crunchy batter the creamy sauce and crunchy lettuce made the layers more interesting it was the first time ordered mcspicy chicken and must say its added to my carvings for more list now cant get enough of mcdonalds ever can eat it at anytime of the day and believe that most of you couldnt agree more\n",
            "misspelled word:  fullfilling       correct word: fulfilling\n",
            "After: good food equals to good day is the motto love to follow like to have heavy breakfast and mcdonalds always gets me the yummiest cravings and fullfilling breakfast my regular order at mcdonalds is masala mcegg which is filled with steamy egg patty topped with some spicy masala seasoning onions and very tasty harbanero sauce crispy peri peri fries and cup of freshly brewed cappuccino from mccafe completes my meal theres still more to this mcspicy chicken burger which was filled with tender juicy chicken patty coated with crunchy batter the creamy sauce and crunchy lettuce made the layers more interesting it was the first time ordered mcspicy chicken and must say its added to my carvings for more list now cant get enough of mcdonalds ever can eat it at anytime of the day and believe that most of you couldnt agree more\n",
            "before: coffee cup was leaking like anything my whole pck was dripped in coffee\n",
            "misspelled word:  pck       correct word: pack\n",
            "After: coffee cup was leaking like anything my whole pck was dripped in coffee\n",
            "before: had ordered mc spicy chiken burger with cheese there was no cheese in it though paid extra for the cheese also there was very less mayonnaise in the mc veggies sad to recieve such an order from mc donalds\n",
            "misspelled word:  recieve       correct word: receive\n",
            "After: had ordered mc spicy chiken burger with cheese there was no cheese in it though paid extra for the cheese also there was very less mayonnaise in the mc veggies sad to recieve such an order from mc donalds\n",
            "before: had ordered mc spicy chiken burger with cheese there was no cheese in it though paid extra for the cheese also there was very less mayonnaise in the mc veggies sad to receive such an order from mc donalds\n",
            "misspelled word:  chiken       correct word: chicken\n",
            "After: had ordered mc spicy chiken burger with cheese there was no cheese in it though paid extra for the cheese also there was very less mayonnaise in the mc veggies sad to receive such an order from mc donalds\n",
            "before: your delivery person picked wrong items from mcdonalds instead of mcfrappe he picked two pepsi very sad performance didnt expect this from such renowned organization refund my back\n",
            "misspelled word:  mcfrappe       correct word: frappe\n",
            "After: your delivery person picked wrong items from mcdonalds instead of mcfrappe he picked two pepsi very sad performance didnt expect this from such renowned organization refund my back\n",
            "before: very cold burgers offer not receive order above mcd veggie free im dispointed dont like service and product package also poor spicy burger not giving box package for\n",
            "misspelled word:  dispointed       correct word: disappointed\n",
            "After: very cold burgers offer not receive order above mcd veggie free im dispointed dont like service and product package also poor spicy burger not giving box package for\n",
            "before: very late delivery and cold and raw food recieved\n",
            "misspelled word:  recieved       correct word: received\n",
            "After: very late delivery and cold and raw food recieved\n",
            "before: called macd for assistant but that guy on phone was talking so rudely\n",
            "misspelled word:  macd       correct word: mad\n",
            "After: called macd for assistant but that guy on phone was talking so rudely\n",
            "before: with burger and strips they gave only ketchup and when called the mc they say get only ketchup with burger and went to mc all the time this never happened to me wht the hell is this will they take customer granted when we place food online dint cheat ppl for small profits\n",
            "misspelled word:  wht       correct word: what\n",
            "After: with burger and strips they gave only ketchup and when called the mc they say get only ketchup with burger and went to mc all the time this never happened to me wht the hell is this will they take customer granted when we place food online dint cheat ppl for small profits\n",
            "before: french fries and sausce where mixed together they should not be mixed\n",
            "misspelled word:  sausce       correct word: sauces\n",
            "After: french fries and sausce where mixed together they should not be mixed\n",
            "before: the meal didnt tatste yet but the delivery person was so unprofessional and he abused me\n",
            "misspelled word:  tatste       correct word: taste\n",
            "After: the meal didnt tatste yet but the delivery person was so unprofessional and he abused me\n",
            "before: ordered mcchicken instead received mc veggies\n",
            "misspelled word:  mcchicken       correct word: chicken\n",
            "After: ordered mcchicken instead received mc veggies\n",
            "before: it was yummy jst loved it\n",
            "misspelled word:  jst       correct word: just\n",
            "After: it was yummy jst loved it\n",
            "before: found hair inside one of my mc vegiee really surprising to see this\n",
            "misspelled word:  vegiee       correct word: veggie\n",
            "After: found hair inside one of my mc vegiee really surprising to see this\n",
            "before: to try their combos they are amazing and affordable service at their best fudge is really amzing must try\n",
            "misspelled word:  amzing       correct word: amazing\n",
            "After: to try their combos they are amazing and affordable service at their best fudge is really amzing must try\n",
            "before: okay so was there after lockdown employees are good they ask you to place the order online to save the time cause the queue for offline order is longg its good idea to place online order and eat there it will take just minutes clean atmosphere should visit\n",
            "misspelled word:  longg       correct word: long\n",
            "After: okay so was there after lockdown employees are good they ask you to place the order online to save the time cause the queue for offline order is longg its good idea to place online order and eat there it will take just minutes clean atmosphere should visit\n",
            "before: visited mcdonalds after really long time the lockdown made it locked at home was craving for their fries on various occasions but was restricted due to precautions needed during the covid lockdown mcdonalds have started contactless takeout service you need to place your order and receive it simple as it sounds but done to perfection its quite difficult to ensure zerocontact food pickup yet they managed it it was completely contactless and is done for takeaway and for drivethru counters option of contactless and cashless payments available at ordering area takeaway counters and drivethru through upi or tap pay option sealing all delivery bags with tape with the bill stuck on the back of the bag for both mcdelivery service thirdparty orders designated social distancing markings for all customers at the takeaway window protective gear worn by the employees including masks and gloves ordered the below items from their app burgers mcspicy paneer burger mcspicy chicken double patty burger sides mexican cheesy fries chicken mcnuggets peices beverage hot chocolate absolutely loved my mcspicy double patty burger too good my friend did enjoy his paneer burger the mcd fries are my favorite and added cheese om the top were tempting clubbed it with the hot chocolate and mcnuggets would call this my ideal meal here\n",
            "misspelled word:  mcdelivery       correct word: delivery\n",
            "After: visited mcdonalds after really long time the lockdown made it locked at home was craving for their fries on various occasions but was restricted due to precautions needed during the covid lockdown mcdonalds have started contactless takeout service you need to place your order and receive it simple as it sounds but done to perfection its quite difficult to ensure zerocontact food pickup yet they managed it it was completely contactless and is done for takeaway and for drivethru counters option of contactless and cashless payments available at ordering area takeaway counters and drivethru through upi or tap pay option sealing all delivery bags with tape with the bill stuck on the back of the bag for both mcdelivery service thirdparty orders designated social distancing markings for all customers at the takeaway window protective gear worn by the employees including masks and gloves ordered the below items from their app burgers mcspicy paneer burger mcspicy chicken double patty burger sides mexican cheesy fries chicken mcnuggets peices beverage hot chocolate absolutely loved my mcspicy double patty burger too good my friend did enjoy his paneer burger the mcd fries are my favorite and added cheese om the top were tempting clubbed it with the hot chocolate and mcnuggets would call this my ideal meal here\n",
            "before: visited mcdonalds after really long time the lockdown made it locked at home was craving for their fries on various occasions but was restricted due to precautions needed during the covid lockdown mcdonalds have started contactless takeout service you need to place your order and receive it simple as it sounds but done to perfection its quite difficult to ensure zerocontact food pickup yet they managed it it was completely contactless and is done for takeaway and for drivethru counters option of contactless and cashless payments available at ordering area takeaway counters and drivethru through upi or tap pay option sealing all delivery bags with tape with the bill stuck on the back of the bag for both delivery service thirdparty orders designated social distancing markings for all customers at the takeaway window protective gear worn by the employees including masks and gloves ordered the below items from their app burgers mcspicy paneer burger mcspicy chicken double patty burger sides mexican cheesy fries chicken mcnuggets peices beverage hot chocolate absolutely loved my mcspicy double patty burger too good my friend did enjoy his paneer burger the mcd fries are my favorite and added cheese om the top were tempting clubbed it with the hot chocolate and mcnuggets would call this my ideal meal here\n",
            "misspelled word:  peices       correct word: pieces\n",
            "After: visited mcdonalds after really long time the lockdown made it locked at home was craving for their fries on various occasions but was restricted due to precautions needed during the covid lockdown mcdonalds have started contactless takeout service you need to place your order and receive it simple as it sounds but done to perfection its quite difficult to ensure zerocontact food pickup yet they managed it it was completely contactless and is done for takeaway and for drivethru counters option of contactless and cashless payments available at ordering area takeaway counters and drivethru through upi or tap pay option sealing all delivery bags with tape with the bill stuck on the back of the bag for both delivery service thirdparty orders designated social distancing markings for all customers at the takeaway window protective gear worn by the employees including masks and gloves ordered the below items from their app burgers mcspicy paneer burger mcspicy chicken double patty burger sides mexican cheesy fries chicken mcnuggets peices beverage hot chocolate absolutely loved my mcspicy double patty burger too good my friend did enjoy his paneer burger the mcd fries are my favorite and added cheese om the top were tempting clubbed it with the hot chocolate and mcnuggets would call this my ideal meal here\n",
            "before: macd is our all time favorite for munching love the way they maintain hygiene and most importantly the place is near by home so we gotta be there whenever we want loved frenchfries and softy ice cream love the way my baby lick on softy\n",
            "misspelled word:  macd       correct word: mad\n",
            "After: macd is our all time favorite for munching love the way they maintain hygiene and most importantly the place is near by home so we gotta be there whenever we want loved frenchfries and softy ice cream love the way my baby lick on softy\n",
            "before: usually crowded and bit expensive however like mcdonalds lot and visit quite often staff members are courteous and helpful not fan of the latte or veg mcgrill but like the nuggets and chicken wrap lot\n",
            "misspelled word:  mcgrill       correct word: mcgill\n",
            "After: usually crowded and bit expensive however like mcdonalds lot and visit quite often staff members are courteous and helpful not fan of the latte or veg mcgrill but like the nuggets and chicken wrap lot\n",
            "before: mc donalds is the most known fast food center when it comes to burger initially kids were most attracted towards mc donalds because of the special offers of happy meals but as the time passes not only kids but teenagers and adults are also fascinated about mc donalds burgers and fries initially they provide burgers and fries but later they came up with different tempting beverages one of its outlet is in pimpri chinchwad area they provide excellent and speedy services and talking about the ambience its classy and alot comfy to chill with friends family and companions they frequently came up with lots exciting combos whenever visit mcd first look out for their combos now heres the food stuff had here mc spicy paneer burger with paneer as patty coated with butter and deep fried it tastes spicy and lucious the fresh cabbage leaves and lots of mayonnaise enhances its taste to another level this is my must item to have here whenever visit this place peri peri fries though mc is known for their burgers but lately the center of attraction here is fries they serve the best quality and tastiest fries peri peri fries here are normal fries with sachet of peri peri spices which we have to sprinkle on the fries and this combination is spicy and tasty usually dont eat spicy but tried this for the first time chocolate shake mc serves the most thick and soothy chocolate shake you can ever have you can also have it with nice swirl of whipped cream\n",
            "misspelled word:  soothy       correct word: smooth\n",
            "After: mc donalds is the most known fast food center when it comes to burger initially kids were most attracted towards mc donalds because of the special offers of happy meals but as the time passes not only kids but teenagers and adults are also fascinated about mc donalds burgers and fries initially they provide burgers and fries but later they came up with different tempting beverages one of its outlet is in pimpri chinchwad area they provide excellent and speedy services and talking about the ambience its classy and alot comfy to chill with friends family and companions they frequently came up with lots exciting combos whenever visit mcd first look out for their combos now heres the food stuff had here mc spicy paneer burger with paneer as patty coated with butter and deep fried it tastes spicy and lucious the fresh cabbage leaves and lots of mayonnaise enhances its taste to another level this is my must item to have here whenever visit this place peri peri fries though mc is known for their burgers but lately the center of attraction here is fries they serve the best quality and tastiest fries peri peri fries here are normal fries with sachet of peri peri spices which we have to sprinkle on the fries and this combination is spicy and tasty usually dont eat spicy but tried this for the first time chocolate shake mc serves the most thick and soothy chocolate shake you can ever have you can also have it with nice swirl of whipped cream\n",
            "before: very good place often vist good food quality and best service only at evening less space to occupy fast order coffee served very well\n",
            "misspelled word:  vist       correct word: visit\n",
            "After: very good place often vist good food quality and best service only at evening less space to occupy fast order coffee served very well\n",
            "before: mcdonalds outlet is located in chinchwad priemier plaza near hastakala this outlet is not at all good they dont even serve the burger hot and fresh and tgeir menu is too confusing not at all satisfied\n",
            "misspelled word:  priemier       correct word: premier\n",
            "After: mcdonalds outlet is located in chinchwad priemier plaza near hastakala this outlet is not at all good they dont even serve the burger hot and fresh and tgeir menu is too confusing not at all satisfied\n",
            "before: great food great service must visit place great place to hangout with friends must try mc aaloo tikki meal\n",
            "misspelled word:  aaloo       correct word: aloo\n",
            "After: great food great service must visit place great place to hangout with friends must try mc aaloo tikki meal\n",
            "before: the prompt service swhat liked the most about this place another point there are not many mc who mai tain their hygiene in pune where as this place affers you all love to visit here every time its something new\n",
            "misspelled word:  swhat       correct word: what\n",
            "After: the prompt service swhat liked the most about this place another point there are not many mc who mai tain their hygiene in pune where as this place affers you all love to visit here every time its something new\n",
            "before: the prompt service what liked the most about this place another point there are not many mc who mai tain their hygiene in pune where as this place affers you all love to visit here every time its something new\n",
            "misspelled word:  affers       correct word: offers\n",
            "After: the prompt service what liked the most about this place another point there are not many mc who mai tain their hygiene in pune where as this place affers you all love to visit here every time its something new\n",
            "before: the experience was great we were served really well quickly akhilesh setved us really well\n",
            "misspelled word:  setved       correct word: seated\n",
            "After: the experience was great we were served really well quickly akhilesh setved us really well\n",
            "before: good place to hangout with friends very large place large numbers of people can be accomated easily healty and tasty food indeed\n",
            "misspelled word:  accomated       correct word: accomodate\n",
            "After: good place to hangout with friends very large place large numbers of people can be accomated easily healty and tasty food indeed\n",
            "before: love mc maharaja this is my favourite burger lovr all the dressing of this burger and just like to have it amazing experience in this mcd\n",
            "misspelled word:  lovr       correct word: lover\n",
            "After: love mc maharaja this is my favourite burger lovr all the dressing of this burger and just like to have it amazing experience in this mcd\n",
            "before: liked chicken kabab naan along with that sweet capachono its perfecf combination to have\n",
            "misspelled word:  perfecf       correct word: perfect\n",
            "After: liked chicken kabab naan along with that sweet capachono its perfecf combination to have\n",
            "before: very nice place ambience is good food quality excellent got to food place nice place to hang out anytime can have mc chicken burger anytime staff is very very friendly and co operativee\n",
            "misspelled word:  operativee       correct word: cooperative\n",
            "After: very nice place ambience is good food quality excellent got to food place nice place to hang out anytime can have mc chicken burger anytime staff is very very friendly and co operativee\n",
            "before: loved american mud pie and chocolatechip muffin really enjoy at mcd chinchwad and am willing to come here agan\n",
            "misspelled word:  chocolatechip       correct word: chocolate\n",
            "After: loved american mud pie and chocolatechip muffin really enjoy at mcd chinchwad and am willing to come here agan\n",
            "before: loved american mud pie and chocolate muffin really enjoy at mcd chinchwad and am willing to come here agan\n",
            "misspelled word:  agan       correct word: again\n",
            "After: loved american mud pie and chocolate muffin really enjoy at mcd chinchwad and am willing to come here agan\n",
            "before: liked the mc aloo tikki burger with that cold coffee and fries wonderd that the order was given me in min that was amazing\n",
            "misspelled word:  wonderd       correct word: wonder\n",
            "After: liked the mc aloo tikki burger with that cold coffee and fries wonderd that the order was given me in min that was amazing\n",
            "before: my favorite dessert is mc oreo flurry it was tasty and yummy am loving it ialso like chocolate shake\n",
            "misspelled word:  ialso       correct word: also\n",
            "After: my favorite dessert is mc oreo flurry it was tasty and yummy am loving it ialso like chocolate shake\n",
            "before: enjoyed our meal with perfectly balances burgier crunchy fries andnfrappe good place to chill out with friend polite staff good service\n",
            "misspelled word:  burgier       correct word: burgers\n",
            "After: enjoyed our meal with perfectly balances burgier crunchy fries andnfrappe good place to chill out with friend polite staff good service\n",
            "before: feeling great in mecdonalds am regular scince year love mc egge really love this place and all the menu are really delicious one and the place is vey delightful happy to be part of this\n",
            "misspelled word:  egge       correct word: egg\n",
            "After: feeling great in mecdonalds am regular scince year love mc egge really love this place and all the menu are really delicious one and the place is vey delightful happy to be part of this\n",
            "before: feeling great in mecdonalds am regular scince year love mc egg really love this place and all the menu are really delicious one and the place is vey delightful happy to be part of this\n",
            "misspelled word:  scince       correct word: since\n",
            "After: feeling great in mecdonalds am regular scince year love mc egg really love this place and all the menu are really delicious one and the place is vey delightful happy to be part of this\n",
            "before: feeling great in mecdonalds am regular since year love mc egg really love this place and all the menu are really delicious one and the place is vey delightful happy to be part of this\n",
            "misspelled word:  mecdonalds       correct word: macdonalds\n",
            "After: feeling great in mecdonalds am regular since year love mc egg really love this place and all the menu are really delicious one and the place is vey delightful happy to be part of this\n",
            "before: good to see the clean and hyeginic place wonderful experience of the day in mcd chinchwad service were excellent am it\n",
            "misspelled word:  hyeginic       correct word: hygienic\n",
            "After: good to see the clean and hyeginic place wonderful experience of the day in mcd chinchwad service were excellent am it\n",
            "before: am foodie love the fast food very much my favorite food is mecdonalds food love and french fries love the day when it is th august the decore is awesome\n",
            "misspelled word:  decore       correct word: decor\n",
            "After: am foodie love the fast food very much my favorite food is mecdonalds food love and french fries love the day when it is th august the decore is awesome\n",
            "before: am foodie love the fast food very much my favorite food is mecdonalds food love and french fries love the day when it is th august the decor is awesome\n",
            "misspelled word:  mecdonalds       correct word: macdonalds\n",
            "After: am foodie love the fast food very much my favorite food is mecdonalds food love and french fries love the day when it is th august the decor is awesome\n",
            "before: love peri peri fries my favorite place pizza puff is very yumm best place to enjoy with friends and family today had fun here with shraddha\n",
            "misspelled word:  yumm       correct word: yum\n",
            "After: love peri peri fries my favorite place pizza puff is very yumm best place to enjoy with friends and family today had fun here with shraddha\n",
            "before: have alwys been macd fan since childhood and alwys end up having naan kebab and pizza puff is my favourite since have been going to macd\n",
            "misspelled word:  macd       correct word: mad\n",
            "After: have alwys been macd fan since childhood and alwys end up having naan kebab and pizza puff is my favourite since have been going to macd\n",
            "before: friendly environment tasty food love crunch flury it was awesome day in mcdonald chinchwad as usual loved it\n",
            "misspelled word:  flury       correct word: flurry\n",
            "After: friendly environment tasty food love crunch flury it was awesome day in mcdonald chinchwad as usual loved it\n",
            "before: mac is always bst for me when it comes to fast food its my first priority always eats mac ds food and main thing is never ever get bored to eat this food because of food everything its fast service also so this is best\n",
            "misspelled word:  bst       correct word: best\n",
            "After: mac is always bst for me when it comes to fast food its my first priority always eats mac ds food and main thing is never ever get bored to eat this food because of food everything its fast service also so this is best\n",
            "before: my favourite place enjoy here lot with my friends and family lovely food and best quality love mc alok tikki burger my favourite drink is american mud pie\n",
            "misspelled word:  alok       correct word: alo\n",
            "After: my favourite place enjoy here lot with my friends and family lovely food and best quality love mc alok tikki burger my favourite drink is american mud pie\n",
            "before: its delicious makes our mood well it just refreshs our mind keep it up good staff good maintainace have good deals with awesome varieties just mcd\n",
            "misspelled word:  refreshs       correct word: refresh\n",
            "After: its delicious makes our mood well it just refreshs our mind keep it up good staff good maintainace have good deals with awesome varieties just mcd\n",
            "before: its delicious makes our mood well it just refresh our mind keep it up good staff good maintainace have good deals with awesome varieties just mcd\n",
            "misspelled word:  maintainace       correct word: maintained\n",
            "After: its delicious makes our mood well it just refresh our mind keep it up good staff good maintainace have good deals with awesome varieties just mcd\n",
            "before: very nice place with friends we can enjoy here the food quality and service is greati had great experience with my fried and will cime here again\n",
            "misspelled word:  greati       correct word: great\n",
            "After: very nice place with friends we can enjoy here the food quality and service is greati had great experience with my fried and will cime here again\n",
            "before: nyc serivice nyc people everything is awesome this place is great to enjoy with friends love it bt the cold drink is not too good bt the burger quality is good\n",
            "misspelled word:  serivice       correct word: service\n",
            "After: nyc serivice nyc people everything is awesome this place is great to enjoy with friends love it bt the cold drink is not too good bt the burger quality is good\n",
            "before: nice ambience good food great place to visit with excellant service mc chicken is must and peri peri fries with mexican sauce and cappuccino are must\n",
            "misspelled word:  excellant       correct word: excellent\n",
            "After: nice ambience good food great place to visit with excellant service mc chicken is must and peri peri fries with mexican sauce and cappuccino are must\n",
            "before: all the ambience and entertainment is good had very good experience here ordered nice bowl and was very yumm loved it the service and quality is excellent\n",
            "misspelled word:  yumm       correct word: yum\n",
            "After: all the ambience and entertainment is good had very good experience here ordered nice bowl and was very yumm loved it the service and quality is excellent\n",
            "before: nice meal we njoying lot veg and nonveg maharaja was just awesome we had fun while having it best place and meal to hang out with your dear one loved it\n",
            "misspelled word:  njoying       correct word: enjoying\n",
            "After: nice meal we njoying lot veg and nonveg maharaja was just awesome we had fun while having it best place and meal to hang out with your dear one loved it\n",
            "before: today is my birthday andi got surprise cake from mecdonalds andi was very happy to see it their service and staff is very nice and they are polite thanks you so much will visit again\n",
            "misspelled word:  mecdonalds       correct word: macdonalds\n",
            "After: today is my birthday andi got surprise cake from mecdonalds andi was very happy to see it their service and staff is very nice and they are polite thanks you so much will visit again\n",
            "before: the taste is very good do prefer this cheesy fries everytime whenever im hungry its very good for taste and this type of fries is not availavle else where leaving mcd the taste of burger is also very good\n",
            "misspelled word:  availavle       correct word: available\n",
            "After: the taste is very good do prefer this cheesy fries everytime whenever im hungry its very good for taste and this type of fries is not availavle else where leaving mcd the taste of burger is also very good\n",
            "before: im loving this place this place is good for hangout food quality is vary good sarvice so fast this is family friendly outlet so loving it\n",
            "misspelled word:  sarvice       correct word: service\n",
            "After: im loving this place this place is good for hangout food quality is vary good sarvice so fast this is family friendly outlet so loving it\n",
            "before: very crowdy please but fine good service and staf also good over all ill like to say good offers are also good or ill like to say best and also ther are polite\n",
            "misspelled word:  staf       correct word: staff\n",
            "After: very crowdy please but fine good service and staf also good over all ill like to say good offers are also good or ill like to say best and also ther are polite\n",
            "before: always like macd\n",
            "misspelled word:  macd       correct word: mad\n",
            "After: always like macd\n",
            "before: macd is always better option when you want to grab some quick food waited for mins to take my parcel but my love for their veg puff is eternal so waited for that long time and finally received it veg puff was not that tasty that always used to love from macd itself fries were too soggy\n",
            "misspelled word:  macd       correct word: mad\n",
            "After: macd is always better option when you want to grab some quick food waited for mins to take my parcel but my love for their veg puff is eternal so waited for that long time and finally received it veg puff was not that tasty that always used to love from macd itself fries were too soggy\n",
            "before: bad delivery the fries were all soggy and halfcooked the burger was measly on the filling they added fanta although didnt even order it and worst of all the amount on the hardcopy of the invoice didnt matach that on the app mc dees should reimburse for such bad food\n",
            "misspelled word:  matach       correct word: match\n",
            "After: bad delivery the fries were all soggy and halfcooked the burger was measly on the filling they added fanta although didnt even order it and worst of all the amount on the hardcopy of the invoice didnt matach that on the app mc dees should reimburse for such bad food\n",
            "before: mc donalds all time favourite mc donald amazing varieties of food best place to chill with your friends and family you guys can celebrate your frnds birthday party or your family member huge place to visit and enjoy the day varieties of snaks best qualities of food in cheap rate there are many people who like mcdonalds burger snaks very much even who dont like it they will also start loving it its just amazing good food good taste keep getting hungry keep searching for food\n",
            "misspelled word:  snaks       correct word: snacks\n",
            "After: mc donalds all time favourite mc donald amazing varieties of food best place to chill with your friends and family you guys can celebrate your frnds birthday party or your family member huge place to visit and enjoy the day varieties of snaks best qualities of food in cheap rate there are many people who like mcdonalds burger snaks very much even who dont like it they will also start loving it its just amazing good food good taste keep getting hungry keep searching for food\n",
            "before: mc donalds all time favourite mc donald amazing varieties of food best place to chill with your friends and family you guys can celebrate your frnds birthday party or your family member huge place to visit and enjoy the day varieties of snacks best qualities of food in cheap rate there are many people who like mcdonalds burger snacks very much even who dont like it they will also start loving it its just amazing good food good taste keep getting hungry keep searching for food\n",
            "misspelled word:  frnds       correct word: friends\n",
            "After: mc donalds all time favourite mc donald amazing varieties of food best place to chill with your friends and family you guys can celebrate your frnds birthday party or your family member huge place to visit and enjoy the day varieties of snacks best qualities of food in cheap rate there are many people who like mcdonalds burger snacks very much even who dont like it they will also start loving it its just amazing good food good taste keep getting hungry keep searching for food\n",
            "before: hello everybody this is inform you guys to please check whether the parcel is not open had ordered mcveggie which was good until found broken piece of sauce cover inside the burger yes you are reading it right it was inside the burger because dont eat sauce so was pretty sure that it wasnt me that piece came in burger bymistake very disappointed with the food we earn with efforts to satisfy our needs but you people are playing with us dont know what else is happening out there wish to delete this app and dont find interesting anymore for mcdonalds\n",
            "misspelled word:  bymistake       correct word: mistake\n",
            "After: hello everybody this is inform you guys to please check whether the parcel is not open had ordered mcveggie which was good until found broken piece of sauce cover inside the burger yes you are reading it right it was inside the burger because dont eat sauce so was pretty sure that it wasnt me that piece came in burger bymistake very disappointed with the food we earn with efforts to satisfy our needs but you people are playing with us dont know what else is happening out there wish to delete this app and dont find interesting anymore for mcdonalds\n",
            "before: cocke and ice tea machines are always not working\n",
            "misspelled word:  cocke       correct word: cock\n",
            "After: cocke and ice tea machines are always not working\n",
            "before: nice place for fullfilling breakfast\n",
            "misspelled word:  fullfilling       correct word: fulfilling\n",
            "After: nice place for fullfilling breakfast\n",
            "before: good taste and ambeince to enjoy mcd burgers and meal parking is available outside takeaway and credit card is accepted\n",
            "misspelled word:  ambeince       correct word: ambience\n",
            "After: good taste and ambeince to enjoy mcd burgers and meal parking is available outside takeaway and credit card is accepted\n",
            "before: coffee quality was low as compared to other macds always crowded\n",
            "misspelled word:  macds       correct word: macs\n",
            "After: coffee quality was low as compared to other macds always crowded\n",
            "before: late delivery cold fries no chrispyness invalid quantity asked for large but quantity was of regular completely disappointed\n",
            "misspelled word:  chrispyness       correct word: crispiness\n",
            "After: late delivery cold fries no chrispyness invalid quantity asked for large but quantity was of regular completely disappointed\n",
            "before: nice place testy food best for foodies cheesyy\n",
            "misspelled word:  cheesyy       correct word: cheesy\n",
            "After: nice place testy food best for foodies cheesyy\n",
            "before: macdonalds is always preffered when want to have fast food this store is open till am so its good for midnight hunger for veg mcveggie is best and in non veg love mc spicy chicken\n",
            "misspelled word:  preffered       correct word: preferred\n",
            "After: macdonalds is always preffered when want to have fast food this store is open till am so its good for midnight hunger for veg mcveggie is best and in non veg love mc spicy chicken\n",
            "before: worst service ordered two veg burger parcel counter person replied me rudely that cant order only burger he forced me to ordered full meal burger fries and choklet shake then he booked my order and said card is not acceptable only cash paid cash took that parcel and reached home then come to know that they have not packed properly and all drink flown in bag totally messed up also noticed that they havent packed piri piri masala for which already paid worst of worst service they are defaming name of macdi am regular visiter of macdi but this experience was horrible\n",
            "misspelled word:  visiter       correct word: visited\n",
            "After: worst service ordered two veg burger parcel counter person replied me rudely that cant order only burger he forced me to ordered full meal burger fries and choklet shake then he booked my order and said card is not acceptable only cash paid cash took that parcel and reached home then come to know that they have not packed properly and all drink flown in bag totally messed up also noticed that they havent packed piri piri masala for which already paid worst of worst service they are defaming name of macdi am regular visiter of macdi but this experience was horrible\n",
            "before: very bad we ordered mc vegie burger it was all dey without sauce inspire of telling them they did not make it upto mark it was dry burger\n",
            "misspelled word:  vegie       correct word: veggie\n",
            "After: very bad we ordered mc vegie burger it was all dey without sauce inspire of telling them they did not make it upto mark it was dry burger\n",
            "before: its so crowded even during week days the mango smoothie is so yummyy chicken nuggets chicken kabab burger paneer wrap ripe mango drink everything was very tasty just loved it\n",
            "misspelled word:  yummyy       correct word: yummy\n",
            "After: its so crowded even during week days the mango smoothie is so yummyy chicken nuggets chicken kabab burger paneer wrap ripe mango drink everything was very tasty just loved it\n",
            "before: mcdonalds menu is standard across locations only varies is the service and maintaining mcd standards this outlet would never serve cokefanta float unless insist and make noise this outlet is well known for cancelling mcdelivery orders personal times experience once got small insect on burger good it happened before we started eating called manager and got replacement\n",
            "misspelled word:  mcdelivery       correct word: delivery\n",
            "After: mcdonalds menu is standard across locations only varies is the service and maintaining mcd standards this outlet would never serve cokefanta float unless insist and make noise this outlet is well known for cancelling mcdelivery orders personal times experience once got small insect on burger good it happened before we started eating called manager and got replacement\n",
            "before: probably the only decent place in chinchwad area where you can sit for long and have good time with friends family partner service is good as well mac chicken maharaja big burger with decks of meat and bun less veggies meat was cold barbecue patte not great chicken wrap was better than any mcdonalds burger liked it why should you go if want to spend quality time in that area service mcdonalds food range\n",
            "misspelled word:  patte       correct word: patties\n",
            "After: probably the only decent place in chinchwad area where you can sit for long and have good time with friends family partner service is good as well mac chicken maharaja big burger with decks of meat and bun less veggies meat was cold barbecue patte not great chicken wrap was better than any mcdonalds burger liked it why should you go if want to spend quality time in that area service mcdonalds food range\n",
            "before: awesome place to hangout easy to notice from road parking lot structure is not available but you can park vehicle in shopping mall parking area seating arrangement is good and has entrance for mccoffee you need to wait little more than burger nearby you can visit shop at crossword big bazar brand factory and many other brands\n",
            "misspelled word:  mccoffee       correct word: coffee\n",
            "After: awesome place to hangout easy to notice from road parking lot structure is not available but you can park vehicle in shopping mall parking area seating arrangement is good and has entrance for mccoffee you need to wait little more than burger nearby you can visit shop at crossword big bazar brand factory and many other brands\n",
            "before: wait fr order to much time take fr order food is tasty specially choclate shake its lovely\n",
            "misspelled word:  choclate       correct word: chocolates\n",
            "After: wait fr order to much time take fr order food is tasty specially choclate shake its lovely\n",
            "before: ordered meals one bhuji paav meal and two egg chesse burger meal the cold coffee was good but cant say that about egg cheese burger and burji paav the service was also very slow so slow that half an hour we were waiting for our hash brown but they could not provide hence we forgot and left and they did not bother to call us also\n",
            "misspelled word:  paav       correct word: pav\n",
            "After: ordered meals one bhuji paav meal and two egg chesse burger meal the cold coffee was good but cant say that about egg cheese burger and burji paav the service was also very slow so slow that half an hour we were waiting for our hash brown but they could not provide hence we forgot and left and they did not bother to call us also\n",
            "before: ordered meals one bhuji pav meal and two egg chesse burger meal the cold coffee was good but cant say that about egg cheese burger and burji pav the service was also very slow so slow that half an hour we were waiting for our hash brown but they could not provide hence we forgot and left and they did not bother to call us also\n",
            "misspelled word:  chesse       correct word: cheese\n",
            "After: ordered meals one bhuji pav meal and two egg chesse burger meal the cold coffee was good but cant say that about egg cheese burger and burji pav the service was also very slow so slow that half an hour we were waiting for our hash brown but they could not provide hence we forgot and left and they did not bother to call us also\n",
            "before: mcd always considered as go to place for any occasion be it casual or for tummy full experience am regular visitor at this chinchwad outlet and been visiting this resto from last to years and till date experience is really good sharing the experience of recent visit ordered mc spicy paneer and mc spicy chicken chicken maharaj meal and veg maharaja meal good tummy full option to go for and above items are highly recommended to go for just one weekend observation no que management all of sudden the counter guy may ask you to move to next counter this can be accepted considering technical glitch or weekend rush management but above point is acceptable and can be ignored in view of the yummy food options regards food for all all for food\n",
            "misspelled word:  maharaj       correct word: maharaja\n",
            "After: mcd always considered as go to place for any occasion be it casual or for tummy full experience am regular visitor at this chinchwad outlet and been visiting this resto from last to years and till date experience is really good sharing the experience of recent visit ordered mc spicy paneer and mc spicy chicken chicken maharaj meal and veg maharaja meal good tummy full option to go for and above items are highly recommended to go for just one weekend observation no que management all of sudden the counter guy may ask you to move to next counter this can be accepted considering technical glitch or weekend rush management but above point is acceptable and can be ignored in view of the yummy food options regards food for all all for food\n",
            "before: as usual good macd food can improve the service bit\n",
            "misspelled word:  macd       correct word: mad\n",
            "After: as usual good macd food can improve the service bit\n",
            "before: everyones favourite place to enjoy aaloo tikki\n",
            "misspelled word:  aaloo       correct word: aloo\n",
            "After: everyones favourite place to enjoy aaloo tikki\n",
            "before: great place to hang out spending time with friends but sometimes they took lots of time to give your order even for basic mc aalo tikki takes too much time to deliver sometimes\n",
            "misspelled word:  aalo       correct word: alo\n",
            "After: great place to hang out spending time with friends but sometimes they took lots of time to give your order even for basic mc aalo tikki takes too much time to deliver sometimes\n",
            "before: as all other mcdonald they serve good options choclate variety can attract people\n",
            "misspelled word:  choclate       correct word: chocolates\n",
            "After: as all other mcdonald they serve good options choclate variety can attract people\n",
            "before: seeing the ratings and reading the reviews of the fellow foodies about this particular outlet left me stunned because had one of the better experience in recent times from mcd outlet but as they say experience at places vary from person to person located at premier plaza mall this place is buzzing with people each and every time ambience and seating arrangement is just like any other outlet staff were courteous and friendly too had one of the best freshly cooked mcchicken burger from mcd in recent times loved the crispiness of the chicken most of the outlets of mcd serve the cold chicken piece wrapped inside burger but found this one as an exception overall good experience at this particular outlet and wont think twice before coming to this particular joint again cheers\n",
            "misspelled word:  mcchicken       correct word: chicken\n",
            "After: seeing the ratings and reading the reviews of the fellow foodies about this particular outlet left me stunned because had one of the better experience in recent times from mcd outlet but as they say experience at places vary from person to person located at premier plaza mall this place is buzzing with people each and every time ambience and seating arrangement is just like any other outlet staff were courteous and friendly too had one of the best freshly cooked mcchicken burger from mcd in recent times loved the crispiness of the chicken most of the outlets of mcd serve the cold chicken piece wrapped inside burger but found this one as an exception overall good experience at this particular outlet and wont think twice before coming to this particular joint again cheers\n",
            "before: been here many times nice outlet with good service maxican burger is my favorite here one of few places open at pm in pcmc hence saviour for midnight cravings\n",
            "misspelled word:  maxican       correct word: mexican\n",
            "After: been here many times nice outlet with good service maxican burger is my favorite here one of few places open at pm in pcmc hence saviour for midnight cravings\n",
            "before: nice place but bit conjested\n",
            "misspelled word:  conjested       correct word: congested\n",
            "After: nice place but bit conjested\n",
            "before: what food amazing spicey\n",
            "misspelled word:  spicey       correct word: spicy\n",
            "After: what food amazing spicey\n",
            "before: this burgerr with french fries burger is my favorite food to eat and dis maharaja veg non veg die heart fan of dis\n",
            "misspelled word:  burgerr       correct word: burgers\n",
            "After: this burgerr with french fries burger is my favorite food to eat and dis maharaja veg non veg die heart fan of dis\n",
            "before: great place to dinein good crowd good service\n",
            "misspelled word:  dinein       correct word: dining\n",
            "After: great place to dinein good crowd good service\n",
            "before: its good location went here couple of times first thing noticed that it is so hot inside acs are not working properly also has lot of rush of big bazzar customers pick up your seat first than order if you go here at evening of weekends\n",
            "misspelled word:  bazzar       correct word: bazar\n",
            "After: its good location went here couple of times first thing noticed that it is so hot inside acs are not working properly also has lot of rush of big bazzar customers pick up your seat first than order if you go here at evening of weekends\n",
            "before: mcd always good place to hang out with frnds\n",
            "misspelled word:  frnds       correct word: friends\n",
            "After: mcd always good place to hang out with frnds\n",
            "before: pocket friendly fast food place good location as we have big cinemas around dont have anything new to update as macd is same everywhere love french fries with piri piri though dont like the burgers\n",
            "misspelled word:  macd       correct word: mad\n",
            "After: pocket friendly fast food place good location as we have big cinemas around dont have anything new to update as macd is same everywhere love french fries with piri piri though dont like the burgers\n",
            "before: pretty crowded all through the week mcdonalds remains the preferred jointused to be my preferred joint too aeons ago for their indianised cheap burgers and likes this outlet was closed down some time back for renovation and now it boasts of an opulent ambiance bogged down by mediocre food went in for some late night hunger pangs and tried out their new lebanese and mexican mcaloo tikki burgers which though tad better than their bad generic mcaloo tikki burgers but still can improve on many counts specially the lebanese ones that are nowhere close to the authentic shawarmas service though is quick yet the guys across the counter here arent the kindest you would meet since they cater to humongous crowds at times and bit of that frustrations can be seen\n",
            "misspelled word:  indianised       correct word: indians\n",
            "After: pretty crowded all through the week mcdonalds remains the preferred jointused to be my preferred joint too aeons ago for their indianised cheap burgers and likes this outlet was closed down some time back for renovation and now it boasts of an opulent ambiance bogged down by mediocre food went in for some late night hunger pangs and tried out their new lebanese and mexican mcaloo tikki burgers which though tad better than their bad generic mcaloo tikki burgers but still can improve on many counts specially the lebanese ones that are nowhere close to the authentic shawarmas service though is quick yet the guys across the counter here arent the kindest you would meet since they cater to humongous crowds at times and bit of that frustrations can be seen\n",
            "before: bday party place for me\n",
            "misspelled word:  bday       correct word: day\n",
            "After: bday party place for me\n",
            "before: new ambience an upgraded bigger place to sit good staffbetter than the previous untrained staff new menu adds overall good place theyve managed to cope up with the bad feedbacks received previously\n",
            "misspelled word:  feedbacks       correct word: feedback\n",
            "After: new ambience an upgraded bigger place to sit good staffbetter than the previous untrained staff new menu adds overall good place theyve managed to cope up with the bad feedbacks received previously\n",
            "before: had chance to taste some good burgers from mc outside india here tried mc spicy and found it horrible special masalas in it made it very taste pathetic\n",
            "misspelled word:  masalas       correct word: masala\n",
            "After: had chance to taste some good burgers from mc outside india here tried mc spicy and found it horrible special masalas in it made it very taste pathetic\n",
            "before: located in premier plaza this joint of mcdonalds is quite crowded every evening its perfect spot for quick reststop for the customers the different thing about this joint is that it also has mccafe counter ambiance the place is situated facing the old mumbaipune highway its well lit up and the place is well decorated the music is mild and the seating area is quite large service crowded the place slower is the service and this holds true for this joint too the service is mind numbingly slow especially that of mccafes the place is kept clean by the staff no issues there\n",
            "misspelled word:  mccafes       correct word: cafes\n",
            "After: located in premier plaza this joint of mcdonalds is quite crowded every evening its perfect spot for quick reststop for the customers the different thing about this joint is that it also has mccafe counter ambiance the place is situated facing the old mumbaipune highway its well lit up and the place is well decorated the music is mild and the seating area is quite large service crowded the place slower is the service and this holds true for this joint too the service is mind numbingly slow especially that of mccafes the place is kept clean by the staff no issues there\n",
            "before: always crowded and to make it more difficult they started serving only desserts at an window inside the mall the so called another window which have rarely seen open is outside the mall so if you thinking of rentering the mall you have to go thr the checking process again this mcd never has updated toys with their meal those always out of stock\n",
            "misspelled word:  rentering       correct word: entering\n",
            "After: always crowded and to make it more difficult they started serving only desserts at an window inside the mall the so called another window which have rarely seen open is outside the mall so if you thinking of rentering the mall you have to go thr the checking process again this mcd never has updated toys with their meal those always out of stock\n",
            "before: always crowded and to make it more difficult they started serving only desserts at an window inside the mall the so called another window which have rarely seen open is outside the mall so if you thinking of entering the mall you have to go thr the checking process again this mcd never has updated toys with their meal those always out of stock\n",
            "misspelled word:  thr       correct word: ther\n",
            "After: always crowded and to make it more difficult they started serving only desserts at an window inside the mall the so called another window which have rarely seen open is outside the mall so if you thinking of entering the mall you have to go thr the checking process again this mcd never has updated toys with their meal those always out of stock\n",
            "before: can be better good food and amazing environment to enjoy less place available to sit due to co struction there is some problems crowdy place need to expand proper no place for waiting for food\n",
            "misspelled word:  struction       correct word: instructions\n",
            "After: can be better good food and amazing environment to enjoy less place available to sit due to co struction there is some problems crowdy place need to expand proper no place for waiting for food\n",
            "before: nice place usually very crowded but good chicken mcgrill is really good peri peri fries pizza mac puff but day by day it is getting costlier coupons dont work there mac cafe is mediocre ambience seating wise it is good and service too they need to improve bit on taste desserts always get thumbs up\n",
            "misspelled word:  mcgrill       correct word: mcgill\n",
            "After: nice place usually very crowded but good chicken mcgrill is really good peri peri fries pizza mac puff but day by day it is getting costlier coupons dont work there mac cafe is mediocre ambience seating wise it is good and service too they need to improve bit on taste desserts always get thumbs up\n",
            "before: overcrowded poor service and missing items on your order when you reach home have been fooled many times by mcd while have drivethru or takenaway orders they usually succumb to the pressure when there is huge demand from the crowd and do not recover from it until the shop closes think they should open another outlet inaround pimpri which can do home delivery or handle the crowd better had liking to their mcspicy paneerchicken burger filet fish burger and the egg series of burgers but the crowded outlet with sluggish service is huge let down\n",
            "misspelled word:  inaround       correct word: around\n",
            "After: overcrowded poor service and missing items on your order when you reach home have been fooled many times by mcd while have drivethru or takenaway orders they usually succumb to the pressure when there is huge demand from the crowd and do not recover from it until the shop closes think they should open another outlet inaround pimpri which can do home delivery or handle the crowd better had liking to their mcspicy paneerchicken burger filet fish burger and the egg series of burgers but the crowded outlet with sluggish service is huge let down\n",
            "before: overcrowded poor service and missing items on your order when you reach home have been fooled many times by mcd while have drivethru or takenaway orders they usually succumb to the pressure when there is huge demand from the crowd and do not recover from it until the shop closes think they should open another outlet around pimpri which can do home delivery or handle the crowd better had liking to their mcspicy paneerchicken burger filet fish burger and the egg series of burgers but the crowded outlet with sluggish service is huge let down\n",
            "misspelled word:  takenaway       correct word: takeaways\n",
            "After: overcrowded poor service and missing items on your order when you reach home have been fooled many times by mcd while have drivethru or takenaway orders they usually succumb to the pressure when there is huge demand from the crowd and do not recover from it until the shop closes think they should open another outlet around pimpri which can do home delivery or handle the crowd better had liking to their mcspicy paneerchicken burger filet fish burger and the egg series of burgers but the crowded outlet with sluggish service is huge let down\n",
            "before: have been visiting mcds in more than cities in india find the food and quality same most of the time the only thing that changes is staff behavior and cleanliness visited this mcd at pm it was crowded and when tried to find table the one found wasnt clean so had to change the table which was irritating because the table spacing was in such way that only one person can move between two tables at time and second thing felt while sitting was you might accidentally touch the person sitting behind you as the chairs were very closely placed they should remove some tables to make more space so that people can at least move freely without worrying about someones tray to fall while moving and one more thing which didnt like was one staff member who was shouting the order numbers there was no need to keep shouting the number when the person showed you the bill indicating that thats hisher order number\n",
            "misspelled word:  hisher       correct word: higher\n",
            "After: have been visiting mcds in more than cities in india find the food and quality same most of the time the only thing that changes is staff behavior and cleanliness visited this mcd at pm it was crowded and when tried to find table the one found wasnt clean so had to change the table which was irritating because the table spacing was in such way that only one person can move between two tables at time and second thing felt while sitting was you might accidentally touch the person sitting behind you as the chairs were very closely placed they should remove some tables to make more space so that people can at least move freely without worrying about someones tray to fall while moving and one more thing which didnt like was one staff member who was shouting the order numbers there was no need to keep shouting the number when the person showed you the bill indicating that thats hisher order number\n",
            "before: staff of this outlet is always in their own world god knows what they are thinking serving customers for them seems like burden may be they work for long hours food served here is average staff working here is not at all bothered if youcustomers get place to sit they dont care you ask them about any product be it burgers or for that matter any product they serve they seldom have info abt it they lack thorough product knowledge\n",
            "misspelled word:  youcustomers       correct word: customers\n",
            "After: staff of this outlet is always in their own world god knows what they are thinking serving customers for them seems like burden may be they work for long hours food served here is average staff working here is not at all bothered if youcustomers get place to sit they dont care you ask them about any product be it burgers or for that matter any product they serve they seldom have info abt it they lack thorough product knowledge\n",
            "before: what mc donalds show on tv in their ads is never served in any of theeir mc outlets bet on that the quantity matters almost every where in chinchwad mc donalds after the manager mr vikrant pande left the place has become strict no for me and my family ac doesnt works properly unhiegenic some times the staff puts lesser quantity of sauses like the mayonaese and other salads this is worst place to visit when one is paying around for burger\n",
            "misspelled word:  theeir       correct word: their\n",
            "After: what mc donalds show on tv in their ads is never served in any of theeir mc outlets bet on that the quantity matters almost every where in chinchwad mc donalds after the manager mr vikrant pande left the place has become strict no for me and my family ac doesnt works properly unhiegenic some times the staff puts lesser quantity of sauses like the mayonaese and other salads this is worst place to visit when one is paying around for burger\n",
            "before: what mc donalds show on tv in their ads is never served in any of their mc outlets bet on that the quantity matters almost every where in chinchwad mc donalds after the manager mr vikrant pande left the place has become strict no for me and my family ac doesnt works properly unhiegenic some times the staff puts lesser quantity of sauses like the mayonaese and other salads this is worst place to visit when one is paying around for burger\n",
            "misspelled word:  sauses       correct word: amuses\n",
            "After: what mc donalds show on tv in their ads is never served in any of their mc outlets bet on that the quantity matters almost every where in chinchwad mc donalds after the manager mr vikrant pande left the place has become strict no for me and my family ac doesnt works properly unhiegenic some times the staff puts lesser quantity of sauses like the mayonaese and other salads this is worst place to visit when one is paying around for burger\n",
            "before: what mc donalds show on tv in their ads is never served in any of their mc outlets bet on that the quantity matters almost every where in chinchwad mc donalds after the manager mr vikrant pande left the place has become strict no for me and my family ac doesnt works properly unhiegenic some times the staff puts lesser quantity of amuses like the mayonaese and other salads this is worst place to visit when one is paying around for burger\n",
            "misspelled word:  mayonaese       correct word: mayonnaise\n",
            "After: what mc donalds show on tv in their ads is never served in any of their mc outlets bet on that the quantity matters almost every where in chinchwad mc donalds after the manager mr vikrant pande left the place has become strict no for me and my family ac doesnt works properly unhiegenic some times the staff puts lesser quantity of amuses like the mayonaese and other salads this is worst place to visit when one is paying around for burger\n",
            "before: the food quality is good no doubts but the new system which is implemented in mcdonalds is worst when someone arrives at the locaion you will be asked to order online from their app which directly means they are promoting downloads and traffic of the app for this only you have to wait for to mins outside store then waitbagain at the order counter there also one counter is operational idle in the mean time if coupon time expire you have to order normally aslo seats for dine in not properly managed actions required on management point of view\n",
            "misspelled word:  locaion       correct word: locations\n",
            "After: the food quality is good no doubts but the new system which is implemented in mcdonalds is worst when someone arrives at the locaion you will be asked to order online from their app which directly means they are promoting downloads and traffic of the app for this only you have to wait for to mins outside store then waitbagain at the order counter there also one counter is operational idle in the mean time if coupon time expire you have to order normally aslo seats for dine in not properly managed actions required on management point of view\n",
            "before: had ordered large meal have recieved the chocolate shake in small can and on addition to that portion is empty\n",
            "misspelled word:  recieved       correct word: received\n",
            "After: had ordered large meal have recieved the chocolate shake in small can and on addition to that portion is empty\n",
            "before: some of the reasons why keep ordering from mcdonalds is their packaging is not only ecofriendly but neat clean too they provide seamless and contactless delivery and the rider maintains social distance wears mask gloves and sanitize his hands most important their meals are safe and delicious recently ordered in mcspicy paneer burger accompanied with fries and cold coke my alltime favourite mcspicy paneer burger was filled with spicy cheesy and crunchy flavours and was like direct ride to heaven it was rich in cottage cheese patty which was coated in spicy crispy batter topped with creamy sauce and shredded lettuce couldnt have asked for something so delicious and better than this for me their warm crunchy fries and the cold coke always happen to complete every mcdonalds meal in the best way possible it was nothing but delightful food experience\n",
            "misspelled word:  ecofriendly       correct word: friendly\n",
            "After: some of the reasons why keep ordering from mcdonalds is their packaging is not only ecofriendly but neat clean too they provide seamless and contactless delivery and the rider maintains social distance wears mask gloves and sanitize his hands most important their meals are safe and delicious recently ordered in mcspicy paneer burger accompanied with fries and cold coke my alltime favourite mcspicy paneer burger was filled with spicy cheesy and crunchy flavours and was like direct ride to heaven it was rich in cottage cheese patty which was coated in spicy crispy batter topped with creamy sauce and shredded lettuce couldnt have asked for something so delicious and better than this for me their warm crunchy fries and the cold coke always happen to complete every mcdonalds meal in the best way possible it was nothing but delightful food experience\n",
            "before: fries are not fried well and our childesh friend avdhoot angry on mc donalds ur todays fries are so bad\n",
            "misspelled word:  childesh       correct word: childish\n",
            "After: fries are not fried well and our childesh friend avdhoot angry on mc donalds ur todays fries are so bad\n",
            "before: please next time delivere the straw please please please\n",
            "misspelled word:  delivere       correct word: deliveries\n",
            "After: please next time delivere the straw please please please\n",
            "before: yumm it was delicious loved it will try again\n",
            "misspelled word:  yumm       correct word: yum\n",
            "After: yumm it was delicious loved it will try again\n",
            "before: mcflurry oreo was missing they just spolied my day\n",
            "misspelled word:  spolied       correct word: spoiled\n",
            "After: mcflurry oreo was missing they just spolied my day\n",
            "before: undoubtedly it is the mostly amazing place for junk food eaterians\n",
            "misspelled word:  eaterians       correct word: eateries\n",
            "After: undoubtedly it is the mostly amazing place for junk food eaterians\n",
            "before: it is good place for quick bite and it is very adorable to your pocket also it very nice place to give treat to your friends or to do small party with your friends service is also quick and good quality of food is also very good vegiterian and non vegiterian both food is also available here tgis place is always crouded and very famous in university students but if you are looking for helaty food then this place is not for you\n",
            "misspelled word:  crouded       correct word: crowded\n",
            "After: it is good place for quick bite and it is very adorable to your pocket also it very nice place to give treat to your friends or to do small party with your friends service is also quick and good quality of food is also very good vegiterian and non vegiterian both food is also available here tgis place is always crouded and very famous in university students but if you are looking for helaty food then this place is not for you\n",
            "before: it is good place for quick bite and it is very adorable to your pocket also it very nice place to give treat to your friends or to do small party with your friends service is also quick and good quality of food is also very good vegiterian and non vegiterian both food is also available here tgis place is always crowded and very famous in university students but if you are looking for helaty food then this place is not for you\n",
            "misspelled word:  helaty       correct word: healty\n",
            "After: it is good place for quick bite and it is very adorable to your pocket also it very nice place to give treat to your friends or to do small party with your friends service is also quick and good quality of food is also very good vegiterian and non vegiterian both food is also available here tgis place is always crowded and very famous in university students but if you are looking for helaty food then this place is not for you\n",
            "before: macd always awesome\n",
            "misspelled word:  macd       correct word: mad\n",
            "After: macd always awesome\n",
            "before: macd loved it\n",
            "misspelled word:  macd       correct word: mad\n",
            "After: macd loved it\n",
            "before: quick snack satisfier\n",
            "misspelled word:  satisfier       correct word: satisfied\n",
            "After: quick snack satisfier\n",
            "before: it is just near to sakinaka singnal near mittal state mcdonald is now days become trend for everyone everyone visit there with family for quality tym very nice place with your family for having breakfast all types of veg and non veg burgers available there with quality tasty coffee and ice cream also there for you place is awesome staff is very friendly you also take away from here and they provide home delivery very nice system of mcdonald\n",
            "misspelled word:  singnal       correct word: signal\n",
            "After: it is just near to sakinaka singnal near mittal state mcdonald is now days become trend for everyone everyone visit there with family for quality tym very nice place with your family for having breakfast all types of veg and non veg burgers available there with quality tasty coffee and ice cream also there for you place is awesome staff is very friendly you also take away from here and they provide home delivery very nice system of mcdonald\n",
            "before: all time favourate\n",
            "misspelled word:  favourate       correct word: favoured\n",
            "After: all time favourate\n",
            "before: quality and quanity decreasing\n",
            "misspelled word:  quanity       correct word: quality\n",
            "After: quality and quanity decreasing\n",
            "before: this mc donalds outlet is located near times square and marol metro station ordered the newly indroduced choco hazelnut shake the shake was served chilled and was rich smooth and good in taste the ambience of the restuarant is good they have two dining area the one near cash counter the ac is not working and the outer one is good as compared to this one the staff are polite and kind the service that one get is decent\n",
            "misspelled word:  indroduced       correct word: introduced\n",
            "After: this mc donalds outlet is located near times square and marol metro station ordered the newly indroduced choco hazelnut shake the shake was served chilled and was rich smooth and good in taste the ambience of the restuarant is good they have two dining area the one near cash counter the ac is not working and the outer one is good as compared to this one the staff are polite and kind the service that one get is decent\n",
            "before: like all the burgers served my first mac donalds visit was in usa houston get the similar feel in cst mac donalds\n",
            "misspelled word:  cst       correct word: cost\n",
            "After: like all the burgers served my first mac donalds visit was in usa houston get the similar feel in cst mac donalds\n",
            "before: small but nice place limited food options compared to other macdonald stores dont have much burger options but chicken stripes are must try crispy and juicy less crowded place billing counter is only so billing is slow overall okay place but not good enough to get the macd experience\n",
            "misspelled word:  macd       correct word: mad\n",
            "After: small but nice place limited food options compared to other macdonald stores dont have much burger options but chicken stripes are must try crispy and juicy less crowded place billing counter is only so billing is slow overall okay place but not good enough to get the macd experience\n",
            "before: very good spot of mcdonald to enjoy meal with your friends and family for party animal you dont have to move inch bar stock echange is near you\n",
            "misspelled word:  echange       correct word: change\n",
            "After: very good spot of mcdonald to enjoy meal with your friends and family for party animal you dont have to move inch bar stock echange is near you\n",
            "before: what is the first point note abt them its their subtle inclination towards cleanliness customer reception is well taken care of service is pretty fast and staffs are well trained the ac did felt little off beat the sanitary facilities are well up to the mark the number of counters are as reqd no rush they wont come and bug for sitting\n",
            "misspelled word:  reqd       correct word: red\n",
            "After: what is the first point note abt them its their subtle inclination towards cleanliness customer reception is well taken care of service is pretty fast and staffs are well trained the ac did felt little off beat the sanitary facilities are well up to the mark the number of counters are as reqd no rush they wont come and bug for sitting\n",
            "before: quick bite new addition of spice is just made for indians green chilli aloo naan is good option if you are bored with burger my favourite paneer wrap is also availablein spicethis outlet is spacious and neat\n",
            "misspelled word:  availablein       correct word: unavailable\n",
            "After: quick bite new addition of spice is just made for indians green chilli aloo naan is good option if you are bored with burger my favourite paneer wrap is also availablein spicethis outlet is spacious and neat\n",
            "before: this was probable one of the best mcdonalds outlet have been in my life the food served and the service provied was remarkable everything was soo neat and clean and carefully managed all can say is loved this place alott\n",
            "misspelled word:  provied       correct word: improvised\n",
            "After: this was probable one of the best mcdonalds outlet have been in my life the food served and the service provied was remarkable everything was soo neat and clean and carefully managed all can say is loved this place alott\n",
            "before: this was probable one of the best mcdonalds outlet have been in my life the food served and the service improvised was remarkable everything was soo neat and clean and carefully managed all can say is loved this place alott\n",
            "misspelled word:  alott       correct word: alot\n",
            "After: this was probable one of the best mcdonalds outlet have been in my life the food served and the service improvised was remarkable everything was soo neat and clean and carefully managed all can say is loved this place alott\n",
            "before: nice place to grab quick meal but the downline is that this place is always overcrowded so you may have to wait for table\n",
            "misspelled word:  downline       correct word: online\n",
            "After: nice place to grab quick meal but the downline is that this place is always overcrowded so you may have to wait for table\n",
            "before: dont eat food here they try to fool customers from next time you order anything check it has all vegetables like tomatoes onion cabbage etc please read the entire review ordered mc aloo tike with cheese well what got the order but tomatos was not there and guess that most tomatos were selling around kg during that month so they fooled every customer when asked them they said that they are not having tomatoes saving almost kgs day so visited the second day and guess what again tomatoes were not given now will also tell you the story of next month onion are expensive so that are not adding onions too by doing this store is saving more than kgs of onions tomatoes now just check how they are developing new ways of looting customers and after that gst is rates are lowered they have increased their prices so its completely looting indian citizens\n",
            "misspelled word:  tomatos       correct word: tomato\n",
            "After: dont eat food here they try to fool customers from next time you order anything check it has all vegetables like tomatoes onion cabbage etc please read the entire review ordered mc aloo tike with cheese well what got the order but tomatos was not there and guess that most tomatos were selling around kg during that month so they fooled every customer when asked them they said that they are not having tomatoes saving almost kgs day so visited the second day and guess what again tomatoes were not given now will also tell you the story of next month onion are expensive so that are not adding onions too by doing this store is saving more than kgs of onions tomatoes now just check how they are developing new ways of looting customers and after that gst is rates are lowered they have increased their prices so its completely looting indian citizens\n",
            "before: used to go to macdonald near sakinaka feel its specious comfortable but ac is nt wrkng properly as all time once told staff to switch on ac dn they hv switched on\n",
            "misspelled word:  wrkng       correct word: working\n",
            "After: used to go to macdonald near sakinaka feel its specious comfortable but ac is nt wrkng properly as all time once told staff to switch on ac dn they hv switched on\n",
            "before: frequently visit mccafe and mcdonalds in sakinaka its service is well and frendly but most intresting thing is coffee of mccafe the cafe staff are very nice and good in language thanks to kabir ahmar of mccafe make my day by their cafe\n",
            "misspelled word:  frendly       correct word: friendly\n",
            "After: frequently visit mccafe and mcdonalds in sakinaka its service is well and frendly but most intresting thing is coffee of mccafe the cafe staff are very nice and good in language thanks to kabir ahmar of mccafe make my day by their cafe\n",
            "before: well maintained hygience is too well friendly and well behaved staffs good place to eat and spend some time with friends\n",
            "misspelled word:  hygience       correct word: hygienic\n",
            "After: well maintained hygience is too well friendly and well behaved staffs good place to eat and spend some time with friends\n",
            "before: didnt have to wait much in line for orderin food\n",
            "misspelled word:  orderin       correct word: order\n",
            "After: didnt have to wait much in line for orderin food\n",
            "before: love it and mcd cheesy fryess awesome mcd enjoying full on with frnds\n",
            "misspelled word:  frnds       correct word: friends\n",
            "After: love it and mcd cheesy fryess awesome mcd enjoying full on with frnds\n",
            "before: bcoz im loving it\n",
            "misspelled word:  bcoz       correct word: coz\n",
            "After: bcoz im loving it\n",
            "before: spacious area and friendly staff the service is good interiors are wellmaintained and clean great to drop in on busy day and grab bite\n",
            "misspelled word:  wellmaintained       correct word: maintained\n",
            "After: spacious area and friendly staff the service is good interiors are wellmaintained and clean great to drop in on busy day and grab bite\n",
            "before: visites this place once its spacious mcdonalds with very good ambience its bit crowded because of its prime location\n",
            "misspelled word:  visites       correct word: visited\n",
            "After: visites this place once its spacious mcdonalds with very good ambience its bit crowded because of its prime location\n",
            "before: its macd and its always good\n",
            "misspelled word:  macd       correct word: mad\n",
            "After: its macd and its always good\n",
            "before: you can always feel good when you visit the mac donalds and when you order the frech fries it is just amazing to have so many outlets nearby\n",
            "misspelled word:  frech       correct word: french\n",
            "After: you can always feel good when you visit the mac donalds and when you order the frech fries it is just amazing to have so many outlets nearby\n",
            "before: hygenic\n",
            "misspelled word:  hygenic       correct word: hygienic\n",
            "After: hygenic\n",
            "before: best resturent\n",
            "misspelled word:  resturent       correct word: restuarant\n",
            "After: best resturent\n",
            "before: recently visited mcdonald when meeting friend we ordered the mc spicy chicken meal as always the food was good proper sanitization and temperature check was done service was quick and good\n",
            "misspelled word:  sanitization       correct word: sanitation\n",
            "After: recently visited mcdonald when meeting friend we ordered the mc spicy chicken meal as always the food was good proper sanitization and temperature check was done service was quick and good\n",
            "before: there was no sauce almost in the burger didnt make it as usal\n",
            "misspelled word:  usal       correct word: usual\n",
            "After: there was no sauce almost in the burger didnt make it as usal\n",
            "before: the hot chocolate was all spilled over the burger had to throw half thr burger as it got soggy\n",
            "misspelled word:  thr       correct word: ther\n",
            "After: the hot chocolate was all spilled over the burger had to throw half thr burger as it got soggy\n",
            "before: worst mcd store service is bad the mcdelivery is the worst part of it all they are extremely forgetful or confused they always seem to not bring something or they bring the wrong food\n",
            "misspelled word:  mcdelivery       correct word: delivery\n",
            "After: worst mcd store service is bad the mcdelivery is the worst part of it all they are extremely forgetful or confused they always seem to not bring something or they bring the wrong food\n",
            "before: will nevwr order from mc donalds the delievey process sucks\n",
            "misspelled word:  delievey       correct word: delivery\n",
            "After: will nevwr order from mc donalds the delievey process sucks\n",
            "before: in frame piri piri frieslocation mcdonaldspricepiri piri spice mixfries ratings reviews should we really review mcdits very famous place on several locations which are easily accessible the fries over there are really tasty especially the ones with peri peri people who like spicy food should definitely try it out they taste really well with any burger the fries are crispy and fresh they are the perfect sider for any dish __for more amazing food pics follow our account on instagram theflavourjunction\n",
            "misspelled word:  sider       correct word: side\n",
            "After: in frame piri piri frieslocation mcdonaldspricepiri piri spice mixfries ratings reviews should we really review mcdits very famous place on several locations which are easily accessible the fries over there are really tasty especially the ones with peri peri people who like spicy food should definitely try it out they taste really well with any burger the fries are crispy and fresh they are the perfect sider for any dish __for more amazing food pics follow our account on instagram theflavourjunction\n",
            "before: very nice service but there icecream machine stucks very oftenly still am giving star because of service and the well maintainance of the place\n",
            "misspelled word:  maintainance       correct word: maintained\n",
            "After: very nice service but there icecream machine stucks very oftenly still am giving star because of service and the well maintainance of the place\n",
            "before: very nice service but there icecream machine stucks very oftenly still am giving star because of service and the well maintained of the place\n",
            "misspelled word:  oftenly       correct word: often\n",
            "After: very nice service but there icecream machine stucks very oftenly still am giving star because of service and the well maintained of the place\n",
            "before: very nice service but there icecream machine stucks very often still am giving star because of service and the well maintained of the place\n",
            "misspelled word:  stucks       correct word: sucks\n",
            "After: very nice service but there icecream machine stucks very often still am giving star because of service and the well maintained of the place\n",
            "before: visited this outlet for the first time and the experience was hasslefree food was hot fresh and very very tasty we ordered mcspicy mcchicken american cheese burger all meals the staff was alert and energetic cappuccino that we had cured all our headache and irritation dont think theres higher praise to any caffein based drink than that theres water station and the washrooms are clean in short this outlet has every quality an ideal fastfood eatery should possess will visit again if we ever happen to visit this area\n",
            "misspelled word:  caffein       correct word: caffe\n",
            "After: visited this outlet for the first time and the experience was hasslefree food was hot fresh and very very tasty we ordered mcspicy mcchicken american cheese burger all meals the staff was alert and energetic cappuccino that we had cured all our headache and irritation dont think theres higher praise to any caffein based drink than that theres water station and the washrooms are clean in short this outlet has every quality an ideal fastfood eatery should possess will visit again if we ever happen to visit this area\n",
            "before: visited this outlet for the first time and the experience was hasslefree food was hot fresh and very very tasty we ordered mcspicy mcchicken american cheese burger all meals the staff was alert and energetic cappuccino that we had cured all our headache and irritation dont think theres higher praise to any caffe based drink than that theres water station and the washrooms are clean in short this outlet has every quality an ideal fastfood eatery should possess will visit again if we ever happen to visit this area\n",
            "misspelled word:  mcchicken       correct word: chicken\n",
            "After: visited this outlet for the first time and the experience was hasslefree food was hot fresh and very very tasty we ordered mcspicy mcchicken american cheese burger all meals the staff was alert and energetic cappuccino that we had cured all our headache and irritation dont think theres higher praise to any caffe based drink than that theres water station and the washrooms are clean in short this outlet has every quality an ideal fastfood eatery should possess will visit again if we ever happen to visit this area\n",
            "before: breakfast is not there for last so soo many days we and our kide coming back with disappointing heart not getting hash brown we love hash brown we very very disappointed not done\n",
            "misspelled word:  kide       correct word: kid\n",
            "After: breakfast is not there for last so soo many days we and our kide coming back with disappointing heart not getting hash brown we love hash brown we very very disappointed not done\n",
            "before: my all time favorite and go to place this two are my evrytime order chicken maharaja mac chicken nuggets just love it\n",
            "misspelled word:  evrytime       correct word: everytime\n",
            "After: my all time favorite and go to place this two are my evrytime order chicken maharaja mac chicken nuggets just love it\n",
            "before: good variety nd taste due to covid we were scared to order but these guys really take care of sanitization nd cleanliness its fun to enjoy the food with family\n",
            "misspelled word:  sanitization       correct word: sanitation\n",
            "After: good variety nd taste due to covid we were scared to order but these guys really take care of sanitization nd cleanliness its fun to enjoy the food with family\n",
            "before: pls dont order from these dumb ppl the are so dumbass that even vadapav vendor on the road side can beat them in terms of packing the food these morons dont even knw to pack the cold drink separate than burger and fries in case of spillage after waiting for hr mins and received this food which cannot be eaten burgers and fires all soaked up in coke and wasted my rs and dont even knw they will refund it or not still have to wait for to working days\n",
            "misspelled word:  knw       correct word: know\n",
            "After: pls dont order from these dumb ppl the are so dumbass that even vadapav vendor on the road side can beat them in terms of packing the food these morons dont even knw to pack the cold drink separate than burger and fries in case of spillage after waiting for hr mins and received this food which cannot be eaten burgers and fires all soaked up in coke and wasted my rs and dont even knw they will refund it or not still have to wait for to working days\n",
            "before: pls dont order from these dumb ppl the are so dumbass that even vadapav vendor on the road side can beat them in terms of packing the food these morons dont even know to pack the cold drink separate than burger and fries in case of spillage after waiting for hr mins and received this food which cannot be eaten burgers and fires all soaked up in coke and wasted my rs and dont even know they will refund it or not still have to wait for to working days\n",
            "misspelled word:  pls       correct word: pals\n",
            "After: pls dont order from these dumb ppl the are so dumbass that even vadapav vendor on the road side can beat them in terms of packing the food these morons dont even know to pack the cold drink separate than burger and fries in case of spillage after waiting for hr mins and received this food which cannot be eaten burgers and fires all soaked up in coke and wasted my rs and dont even know they will refund it or not still have to wait for to working days\n",
            "before: had specified while ordering that didnt want onions in the burger but the aaloo tikki burger was sent with onions why do you accept special instructions when you will not follow why employ illiterate or careless workers who will not pay any attention to customer needs mcdonalds only wants money customer needs and customer satisfaction is not important for mcdonalds\n",
            "misspelled word:  aaloo       correct word: aloo\n",
            "After: had specified while ordering that didnt want onions in the burger but the aaloo tikki burger was sent with onions why do you accept special instructions when you will not follow why employ illiterate or careless workers who will not pay any attention to customer needs mcdonalds only wants money customer needs and customer satisfaction is not important for mcdonalds\n",
            "before: this place needs no introduction their product is consistent across the country in terms of quantity quality and taste the only point of differentiation would be their service which definitely deffers from place to place so this outlet in thakur village is quite spacious and has kids playzone also it has ac and non ac dining area this outlet in particular is occupied during college hours so if you are planning to visit this place then evening would be good time to visit things weve tried and liked are cappuccino chatpata naan pizza mcpuff mocha peri peri fries taste service ambience hygiene\n",
            "misspelled word:  deffers       correct word: differs\n",
            "After: this place needs no introduction their product is consistent across the country in terms of quantity quality and taste the only point of differentiation would be their service which definitely deffers from place to place so this outlet in thakur village is quite spacious and has kids playzone also it has ac and non ac dining area this outlet in particular is occupied during college hours so if you are planning to visit this place then evening would be good time to visit things weve tried and liked are cappuccino chatpata naan pizza mcpuff mocha peri peri fries taste service ambience hygiene\n",
            "before: usually visit this place every month and my all time favourite is mcveggy pls do visit this place and try mcveggie\n",
            "misspelled word:  pls       correct word: pals\n",
            "After: usually visit this place every month and my all time favourite is mcveggy pls do visit this place and try mcveggie\n",
            "before: nice outlet feels like college adda best place to hangout and chill daily tried flavoured cappuccino hazelnut and american ambience tastemeter\n",
            "misspelled word:  adda       correct word: add\n",
            "After: nice outlet feels like college adda best place to hangout and chill daily tried flavoured cappuccino hazelnut and american ambience tastemeter\n",
            "before: sick of this summer season then visit one of the mcdonalds outlet they have icy coolers which comes in three different flavours people around the thakur village are the luckiest to find outlet of mcdonals near them\n",
            "misspelled word:  mcdonals       correct word: macdonalds\n",
            "After: sick of this summer season then visit one of the mcdonalds outlet they have icy coolers which comes in three different flavours people around the thakur village are the luckiest to find outlet of mcdonals near them\n",
            "before: ive been here for times now so how can give this place less than stars totally pocket friendly and cozy place to relax and eat there infamous food do try chicken maharaja one of my favs\n",
            "misspelled word:  favs       correct word: fav\n",
            "After: ive been here for times now so how can give this place less than stars totally pocket friendly and cozy place to relax and eat there infamous food do try chicken maharaja one of my favs\n",
            "before: place for some quick food it doesnt matter where the outlet is located whether its new or old you can just go in and enjoy variety of bergers fries coffee etc\n",
            "misspelled word:  bergers       correct word: burgers\n",
            "After: place for some quick food it doesnt matter where the outlet is located whether its new or old you can just go in and enjoy variety of bergers fries coffee etc\n",
            "before: mcd is my most favourite place to get in always have something new to eat and maintained flavour its service and offers are best also mccafe is amazing if havent been here must have not visited anywhr yet\n",
            "misspelled word:  anywhr       correct word: anywhere\n",
            "After: mcd is my most favourite place to get in always have something new to eat and maintained flavour its service and offers are best also mccafe is amazing if havent been here must have not visited anywhr yet\n",
            "before: visited here with my colleagues to enjoy yummylicious burgers and lipsmacking beverages this place is all time crowded seating arrangement is superb an pocket friendly place with great offers\n",
            "misspelled word:  lipsmacking       correct word: smacking\n",
            "After: visited here with my colleagues to enjoy yummylicious burgers and lipsmacking beverages this place is all time crowded seating arrangement is superb an pocket friendly place with great offers\n",
            "before: few days back visited this place it is located in kandivali near thakur college the place is huge and have lots of place but this place is crowded everytime it has party area also theres also small play area for toddlers the service is fast and good had chocolate shakeit was plain chocolate shake and it was too tasty strawberry shakeits taste too good it was cold and tasty french friesthey have the perfect fries hot and tasty you can also try to mix it with piri piri it makes them more tasty it will cost you around rs mc veggie its normal burger with patty and cabbage and sauces it is tasty mc spicy pannerit was too spicy and tasty give it try it was good place most of the thakur college students hang out there\n",
            "misspelled word:  shakeit       correct word: shake\n",
            "After: few days back visited this place it is located in kandivali near thakur college the place is huge and have lots of place but this place is crowded everytime it has party area also theres also small play area for toddlers the service is fast and good had chocolate shakeit was plain chocolate shake and it was too tasty strawberry shakeits taste too good it was cold and tasty french friesthey have the perfect fries hot and tasty you can also try to mix it with piri piri it makes them more tasty it will cost you around rs mc veggie its normal burger with patty and cabbage and sauces it is tasty mc spicy pannerit was too spicy and tasty give it try it was good place most of the thakur college students hang out there\n",
            "before: few days back visited this place it is located in kandivali near thakur college the place is huge and have lots of place but this place is crowded everytime it has party area also theres also small play area for toddlers the service is fast and good had chocolate shake was plain chocolate shake and it was too tasty strawberry shakes taste too good it was cold and tasty french friesthey have the perfect fries hot and tasty you can also try to mix it with piri piri it makes them more tasty it will cost you around rs mc veggie its normal burger with patty and cabbage and sauces it is tasty mc spicy pannerit was too spicy and tasty give it try it was good place most of the thakur college students hang out there\n",
            "misspelled word:  shakeits       correct word: shakes\n",
            "After: few days back visited this place it is located in kandivali near thakur college the place is huge and have lots of place but this place is crowded everytime it has party area also theres also small play area for toddlers the service is fast and good had chocolate shake was plain chocolate shake and it was too tasty strawberry shakes taste too good it was cold and tasty french friesthey have the perfect fries hot and tasty you can also try to mix it with piri piri it makes them more tasty it will cost you around rs mc veggie its normal burger with patty and cabbage and sauces it is tasty mc spicy pannerit was too spicy and tasty give it try it was good place most of the thakur college students hang out there\n",
            "before: liked peri peri frice but it was little bit soggy its ok quick service burger was testy next time make sure put extra souce if we needed otherwise overall experience is good\n",
            "misspelled word:  frice       correct word: rice\n",
            "After: liked peri peri frice but it was little bit soggy its ok quick service burger was testy next time make sure put extra souce if we needed otherwise overall experience is good\n",
            "before: am lovin it especially mcafe\n",
            "misspelled word:  mcafe       correct word: cafe\n",
            "After: am lovin it especially mcafe\n",
            "before: my order was not hot disapointed by mac\n",
            "misspelled word:  disapointed       correct word: disappoint\n",
            "After: my order was not hot disapointed by mac\n",
            "before: mcdonalds as we all know is very favourite amongst the youth the ambiance of this place is absolutely great the customer is welcomed in warm way and the service quality and quantity of food is quite commendable there are certain new introductions made which are interesting such as during mornings we get combo of burger of your choice coffee also there are two new flavours namely cheesy american supreme burger falvour from italy there is only one issue free wifi which is provided at all the branches of mcd have poor network good place to hangout\n",
            "misspelled word:  falvour       correct word: favour\n",
            "After: mcdonalds as we all know is very favourite amongst the youth the ambiance of this place is absolutely great the customer is welcomed in warm way and the service quality and quantity of food is quite commendable there are certain new introductions made which are interesting such as during mornings we get combo of burger of your choice coffee also there are two new flavours namely cheesy american supreme burger falvour from italy there is only one issue free wifi which is provided at all the branches of mcd have poor network good place to hangout\n",
            "before: delivery boy took too much time to deliver hence fries got dull could not eat and wested my money was disappointing experience\n",
            "misspelled word:  wested       correct word: wasted\n",
            "After: delivery boy took too much time to deliver hence fries got dull could not eat and wested my money was disappointing experience\n",
            "before: mcdonalds restaurants are best for fast brunchs located at thakur village kandivali is one of prime place for hangout we have miraj theater near it this mcdonalds have big place and also provide small hall for small parties or get togethers\n",
            "misspelled word:  brunchs       correct word: brunch\n",
            "After: mcdonalds restaurants are best for fast brunchs located at thakur village kandivali is one of prime place for hangout we have miraj theater near it this mcdonalds have big place and also provide small hall for small parties or get togethers\n",
            "before: mcdonalds restaurants are best for fast brunch located at thakur village kandivali is one of prime place for hangout we have miraj theater near it this mcdonalds have big place and also provide small hall for small parties or get togethers\n",
            "misspelled word:  togethers       correct word: together\n",
            "After: mcdonalds restaurants are best for fast brunch located at thakur village kandivali is one of prime place for hangout we have miraj theater near it this mcdonalds have big place and also provide small hall for small parties or get togethers\n",
            "before: this place offers regular mcdonalds menu tried the latest international menu the american cheese supreme burger and cheesy italiano burger the american was good and had the known flavours of the potato corn patty along with cheese sauce and the heat of jalepenos the italian one though was miss firstly the sauce was too little and the amount of onions made me feel like it when onions were rs per kg additionally oregano felt too much and the patty was the same as he one you get in the mcaloo burger why would anyone pay for eating this when the same thing is available at lower price point overall ok\n",
            "misspelled word:  jalepenos       correct word: jalapeno\n",
            "After: this place offers regular mcdonalds menu tried the latest international menu the american cheese supreme burger and cheesy italiano burger the american was good and had the known flavours of the potato corn patty along with cheese sauce and the heat of jalepenos the italian one though was miss firstly the sauce was too little and the amount of onions made me feel like it when onions were rs per kg additionally oregano felt too much and the patty was the same as he one you get in the mcaloo burger why would anyone pay for eating this when the same thing is available at lower price point overall ok\n",
            "before: the variety of food is very great with adequate detailing put into individual food items served her but there is always crowd and mostly seating problem with lot of time before these preprepared meals are ready for us plus high amounts of preservatives are put into the food served here but the food tastes pleasant and it is comparatively cheap thus the stars\n",
            "misspelled word:  preprepared       correct word: prepared\n",
            "After: the variety of food is very great with adequate detailing put into individual food items served her but there is always crowd and mostly seating problem with lot of time before these preprepared meals are ready for us plus high amounts of preservatives are put into the food served here but the food tastes pleasant and it is comparatively cheap thus the stars\n",
            "before: ordered mcchicken burger it was tasteless use to visit twice in week at macdonals at many stores in mumbai but seriously this stores service in making burger is tasteless\n",
            "misspelled word:  macdonals       correct word: macdonalds\n",
            "After: ordered mcchicken burger it was tasteless use to visit twice in week at macdonals at many stores in mumbai but seriously this stores service in making burger is tasteless\n",
            "before: ordered mcchicken burger it was tasteless use to visit twice in week at macdonalds at many stores in mumbai but seriously this stores service in making burger is tasteless\n",
            "misspelled word:  mcchicken       correct word: chicken\n",
            "After: ordered mcchicken burger it was tasteless use to visit twice in week at macdonalds at many stores in mumbai but seriously this stores service in making burger is tasteless\n",
            "before: taste is always best afterall its mcd but the staff here is really weird they turn off air conditioning system when cusromers spend some extra time the staff is too egoistic and behaviour is too much rude rest all is fine like other macds\n",
            "misspelled word:  macds       correct word: macs\n",
            "After: taste is always best afterall its mcd but the staff here is really weird they turn off air conditioning system when cusromers spend some extra time the staff is too egoistic and behaviour is too much rude rest all is fine like other macds\n",
            "before: taste is always best afterall its mcd but the staff here is really weird they turn off air conditioning system when cusromers spend some extra time the staff is too egoistic and behaviour is too much rude rest all is fine like other macs\n",
            "misspelled word:  cusromers       correct word: customers\n",
            "After: taste is always best afterall its mcd but the staff here is really weird they turn off air conditioning system when cusromers spend some extra time the staff is too egoistic and behaviour is too much rude rest all is fine like other macs\n",
            "before: its good restraurant to spend some time with friends along with good food desserts are also delicious and so does shakes mcd never disappoints\n",
            "misspelled word:  restraurant       correct word: restuarant\n",
            "After: its good restraurant to spend some time with friends along with good food desserts are also delicious and so does shakes mcd never disappoints\n",
            "before: offers standard menu with cool college going crowd offers good service good place if planning for bday party sitting can be improved bit\n",
            "misspelled word:  bday       correct word: day\n",
            "After: offers standard menu with cool college going crowd offers good service good place if planning for bday party sitting can be improved bit\n",
            "before: good sized outlet of mcd that has cafe as well has room for kids parties as well tried out their signature hot chocolate today was yummy thick and so hot and yumm\n",
            "misspelled word:  yumm       correct word: yum\n",
            "After: good sized outlet of mcd that has cafe as well has room for kids parties as well tried out their signature hot chocolate today was yummy thick and so hot and yumm\n",
            "before: strolling in the area just grabbed quick bite of french fries and peri peri masala mcchicken sandwich and coke well no need to say about the taste outlet is good quite spacious and service is quick go for quick bite here\n",
            "misspelled word:  mcchicken       correct word: chicken\n",
            "After: strolling in the area just grabbed quick bite of french fries and peri peri masala mcchicken sandwich and coke well no need to say about the taste outlet is good quite spacious and service is quick go for quick bite here\n",
            "before: kandivali east has mcdonalds outlets out of all thakur village one is the best as far as service hygiene is concerned came here to try their new burgers mexican mcaloo tikki lebanese mcaloo tikki taste mexican mcaloo tikki rs an upgraded form of mcaloo tikki burger with jalapeños spicy cheese sauce it has spicy kick to it liked this burger compared to the lebanese one lebanese mcaloo tikki rs this burger has layer of pickled cucumbers inside tasted bland didnt quite like it walnut brownie with hot chocolate fudge rs icecream topped with walnut brownie chocolate sauce its one of my favourite items from the menu wish they would have put more brownie service burgers were not labelled properly we had to guess which one is lebanese which one is mexican for dessert ordered for their passion fruit mcflurry but it was not available switched my order to walnut brownie with hot chocolate fudge ambience ambience is better than other kandivali east outlets value for money total bill including taxes rs value for money overall average experience\n",
            "misspelled word:  jalapeños       correct word: jalapeno\n",
            "After: kandivali east has mcdonalds outlets out of all thakur village one is the best as far as service hygiene is concerned came here to try their new burgers mexican mcaloo tikki lebanese mcaloo tikki taste mexican mcaloo tikki rs an upgraded form of mcaloo tikki burger with jalapeños spicy cheese sauce it has spicy kick to it liked this burger compared to the lebanese one lebanese mcaloo tikki rs this burger has layer of pickled cucumbers inside tasted bland didnt quite like it walnut brownie with hot chocolate fudge rs icecream topped with walnut brownie chocolate sauce its one of my favourite items from the menu wish they would have put more brownie service burgers were not labelled properly we had to guess which one is lebanese which one is mexican for dessert ordered for their passion fruit mcflurry but it was not available switched my order to walnut brownie with hot chocolate fudge ambience ambience is better than other kandivali east outlets value for money total bill including taxes rs value for money overall average experience\n",
            "before: the one place where almost every has been to mcdonalds have personally always loved it the cheapest place for good food with brand name attachd other than the usual stuff must try mcflurry paneer chilly pockets chickenaloo wrap brownie wid hot chocolate fudge from mcd coolers cold coffee from mccafe foodie_dinks\n",
            "misspelled word:  attachd       correct word: attached\n",
            "After: the one place where almost every has been to mcdonalds have personally always loved it the cheapest place for good food with brand name attachd other than the usual stuff must try mcflurry paneer chilly pockets chickenaloo wrap brownie wid hot chocolate fudge from mcd coolers cold coffee from mccafe foodie_dinks\n",
            "before: like this branch of mac donalds alot recently tried the new flavours of burgers at mcdonalds lebanese was bit dry and bit disappointing but the new mexican iss saucy and really very very yummyy and very economical\n",
            "misspelled word:  yummyy       correct word: yummy\n",
            "After: like this branch of mac donalds alot recently tried the new flavours of burgers at mcdonalds lebanese was bit dry and bit disappointing but the new mexican iss saucy and really very very yummyy and very economical\n",
            "before: there are almost three kandiwali east locations for mcdonalds but this one has always given on time delivery starts at am makes it easier to order breakfast meals with combo offeres on lazy weekends\n",
            "misspelled word:  offeres       correct word: coffees\n",
            "After: there are almost three kandiwali east locations for mcdonalds but this one has always given on time delivery starts at am makes it easier to order breakfast meals with combo offeres on lazy weekends\n",
            "before: when it first came they were super awesome and introduced india to burgerss love their mcegg also tried thier mc cafe mocha frappe it taste good but felt over priced coffee and was not as professional as starbucks\n",
            "misspelled word:  burgerss       correct word: burgers\n",
            "After: when it first came they were super awesome and introduced india to burgerss love their mcegg also tried thier mc cafe mocha frappe it taste good but felt over priced coffee and was not as professional as starbucks\n",
            "before: its mcdonalds what can say maybe its time for new menu every student has been to mcdonalds in hisher life and yeah we have memorised the menu too so perhaps its time for change\n",
            "misspelled word:  hisher       correct word: higher\n",
            "After: its mcdonalds what can say maybe its time for new menu every student has been to mcdonalds in hisher life and yeah we have memorised the menu too so perhaps its time for change\n",
            "before: what this outlet and me have in common is that weve evolved yes from boy to man or dull place to cool hangout place for all thakurites alike happen to visit this outlet of mcd with old friend of mine and voilà whatay makeover mamma loved the way it has been renovated and pleased by its functioning occupying an entire floor and stretching vast in length it paves way to be joint with amazing ambience evening time of visit was fun as it was brightly lit making it all the more merrier help yourself service so cant comment anything had mcchicken burger along with coke float and my friend had an aloo tikki burger with mcflurry oreo meal was good and packaging done was hygienic with no bun layers being stuck to the plastic or no mayo dripping outside the burger kudos guys for doing great job in the ambience aspect now will more often come here to talk about my high school college days spent at thakur cheers\n",
            "misspelled word:  mcchicken       correct word: chicken\n",
            "After: what this outlet and me have in common is that weve evolved yes from boy to man or dull place to cool hangout place for all thakurites alike happen to visit this outlet of mcd with old friend of mine and voilà whatay makeover mamma loved the way it has been renovated and pleased by its functioning occupying an entire floor and stretching vast in length it paves way to be joint with amazing ambience evening time of visit was fun as it was brightly lit making it all the more merrier help yourself service so cant comment anything had mcchicken burger along with coke float and my friend had an aloo tikki burger with mcflurry oreo meal was good and packaging done was hygienic with no bun layers being stuck to the plastic or no mayo dripping outside the burger kudos guys for doing great job in the ambience aspect now will more often come here to talk about my high school college days spent at thakur cheers\n",
            "before: wanted to order home delivery so many times tried ordering it through call centre but everytime was told delivery on hold this time asked him what is the prob everytime call ur service not available the call centre guy told me that ur building is too far away from our outlet was suprised as stay not more than meters from the outlet gave him feed back he said cant help its showing in our system said this is pathetic he said thank you for calling and banged was ordering from mcdonalds thakur village outlet mcdonalds pls bring down ur nose pathetic this is\n",
            "misspelled word:  pls       correct word: pals\n",
            "After: wanted to order home delivery so many times tried ordering it through call centre but everytime was told delivery on hold this time asked him what is the prob everytime call ur service not available the call centre guy told me that ur building is too far away from our outlet was suprised as stay not more than meters from the outlet gave him feed back he said cant help its showing in our system said this is pathetic he said thank you for calling and banged was ordering from mcdonalds thakur village outlet mcdonalds pls bring down ur nose pathetic this is\n",
            "before: visit here quite often but this time had an issue with the service as usual the place was crowded with kids noisy this chose to sit outside so wanted to sit on the colourful chairs but uff fans were off no ac err our order took lot time around mins hate to wait so long burger was asual good\n",
            "misspelled word:  asual       correct word: casual\n",
            "After: visit here quite often but this time had an issue with the service as usual the place was crowded with kids noisy this chose to sit outside so wanted to sit on the colourful chairs but uff fans were off no ac err our order took lot time around mins hate to wait so long burger was asual good\n",
            "before: mcdonalds thakur vilage kandivali east this place is always filled with kids from the nearby colleges on weekdays the place is really crowded from am to pm you will always find loud and nosiy college students sitting here and passing time they wont order anything but will sit here and occupy the tables the menu is the standard affair that you find across all the outlets nothing special here ofcource new mccafe has come up here thus compromising on space mccafe serves decent coffees at price tough which is bit high for mcdonalds standards the food here is okay but dont try the chocolate shake they will serve you chocolate flavored ice instead and if you complain they simply wont care so avoid this place if you can prices are also not that cheap as they have started adding taxes and stuff to the consumers needs lot of improvement\n",
            "misspelled word:  ofcource       correct word: ofcourse\n",
            "After: mcdonalds thakur vilage kandivali east this place is always filled with kids from the nearby colleges on weekdays the place is really crowded from am to pm you will always find loud and nosiy college students sitting here and passing time they wont order anything but will sit here and occupy the tables the menu is the standard affair that you find across all the outlets nothing special here ofcource new mccafe has come up here thus compromising on space mccafe serves decent coffees at price tough which is bit high for mcdonalds standards the food here is okay but dont try the chocolate shake they will serve you chocolate flavored ice instead and if you complain they simply wont care so avoid this place if you can prices are also not that cheap as they have started adding taxes and stuff to the consumers needs lot of improvement\n",
            "before: nice choclate shake\n",
            "misspelled word:  choclate       correct word: chocolates\n",
            "After: nice choclate shake\n"
          ]
        }
      ]
    },
    {
      "cell_type": "code",
      "source": [
        "#This many words were corrected and replaced\n",
        "print(words_corrected_cnt)"
      ],
      "metadata": {
        "id": "PeZA0lX6tDFe",
        "colab": {
          "base_uri": "https://localhost:8080/"
        },
        "outputId": "7cd60ef0-a4c8-4452-9e71-8c530cd8310b"
      },
      "execution_count": 27,
      "outputs": [
        {
          "output_type": "stream",
          "name": "stdout",
          "text": [
            "414\n"
          ]
        }
      ]
    },
    {
      "cell_type": "markdown",
      "source": [
        "5. Removing stopwords"
      ],
      "metadata": {
        "id": "lcMGO_jCtK3Q"
      }
    },
    {
      "cell_type": "code",
      "source": [
        "print(df_review['Review'].head())"
      ],
      "metadata": {
        "id": "xafkOM_ytQNn",
        "colab": {
          "base_uri": "https://localhost:8080/"
        },
        "outputId": "9baeb483-339c-4b43-8181-b9c1bf483e1d"
      },
      "execution_count": 28,
      "outputs": [
        {
          "output_type": "stream",
          "name": "stdout",
          "text": [
            "0    sitting arrangement is really bad kept on moving here and there not happy they should take care for it\n",
            "1                                                                  spacious friendly kind and helpful staff\n",
            "2                                      always very crowded non cooperative staff will never advice to visit\n",
            "3                                                                                            amazing places\n",
            "4                                                not service are good always take time on single order also\n",
            "Name: Review, dtype: object\n"
          ]
        }
      ]
    },
    {
      "cell_type": "code",
      "source": [
        "from nltk.corpus import stopwords\n",
        "sw=stopwords.words(\"english\")\n",
        "print(sw)\n",
        "#Removing the words below from the stopword list as they do impact the outcome when doing sentiment analysis. \n",
        "sw.append('would')\n",
        "words=['no','not']\n",
        "sw.remove('not')\n",
        "sw.remove('no')\n",
        "sw.remove('don\\'t')\n",
        "sw.remove('didn\\'t')\n",
        "sw.remove('wouldn\\'t')\n",
        "sw.remove('wouldn')\n",
        "sw.remove('won\\'t')\n",
        "sw.remove('didn')\n",
        "sw.remove('don')\n",
        "sw.remove('isn\\'t')\n",
        "sw.remove('isn')\n",
        "sw.remove('couldn\\'t')\n",
        "print(sw)"
      ],
      "metadata": {
        "id": "0JFrUaAbtRzO",
        "colab": {
          "base_uri": "https://localhost:8080/"
        },
        "outputId": "1a336b47-10e6-4dac-ec3d-1cb5dd5bf28e"
      },
      "execution_count": 29,
      "outputs": [
        {
          "output_type": "stream",
          "name": "stdout",
          "text": [
            "['i', 'me', 'my', 'myself', 'we', 'our', 'ours', 'ourselves', 'you', \"you're\", \"you've\", \"you'll\", \"you'd\", 'your', 'yours', 'yourself', 'yourselves', 'he', 'him', 'his', 'himself', 'she', \"she's\", 'her', 'hers', 'herself', 'it', \"it's\", 'its', 'itself', 'they', 'them', 'their', 'theirs', 'themselves', 'what', 'which', 'who', 'whom', 'this', 'that', \"that'll\", 'these', 'those', 'am', 'is', 'are', 'was', 'were', 'be', 'been', 'being', 'have', 'has', 'had', 'having', 'do', 'does', 'did', 'doing', 'a', 'an', 'the', 'and', 'but', 'if', 'or', 'because', 'as', 'until', 'while', 'of', 'at', 'by', 'for', 'with', 'about', 'against', 'between', 'into', 'through', 'during', 'before', 'after', 'above', 'below', 'to', 'from', 'up', 'down', 'in', 'out', 'on', 'off', 'over', 'under', 'again', 'further', 'then', 'once', 'here', 'there', 'when', 'where', 'why', 'how', 'all', 'any', 'both', 'each', 'few', 'more', 'most', 'other', 'some', 'such', 'no', 'nor', 'not', 'only', 'own', 'same', 'so', 'than', 'too', 'very', 's', 't', 'can', 'will', 'just', 'don', \"don't\", 'should', \"should've\", 'now', 'd', 'll', 'm', 'o', 're', 've', 'y', 'ain', 'aren', \"aren't\", 'couldn', \"couldn't\", 'didn', \"didn't\", 'doesn', \"doesn't\", 'hadn', \"hadn't\", 'hasn', \"hasn't\", 'haven', \"haven't\", 'isn', \"isn't\", 'ma', 'mightn', \"mightn't\", 'mustn', \"mustn't\", 'needn', \"needn't\", 'shan', \"shan't\", 'shouldn', \"shouldn't\", 'wasn', \"wasn't\", 'weren', \"weren't\", 'won', \"won't\", 'wouldn', \"wouldn't\"]\n",
            "['i', 'me', 'my', 'myself', 'we', 'our', 'ours', 'ourselves', 'you', \"you're\", \"you've\", \"you'll\", \"you'd\", 'your', 'yours', 'yourself', 'yourselves', 'he', 'him', 'his', 'himself', 'she', \"she's\", 'her', 'hers', 'herself', 'it', \"it's\", 'its', 'itself', 'they', 'them', 'their', 'theirs', 'themselves', 'what', 'which', 'who', 'whom', 'this', 'that', \"that'll\", 'these', 'those', 'am', 'is', 'are', 'was', 'were', 'be', 'been', 'being', 'have', 'has', 'had', 'having', 'do', 'does', 'did', 'doing', 'a', 'an', 'the', 'and', 'but', 'if', 'or', 'because', 'as', 'until', 'while', 'of', 'at', 'by', 'for', 'with', 'about', 'against', 'between', 'into', 'through', 'during', 'before', 'after', 'above', 'below', 'to', 'from', 'up', 'down', 'in', 'out', 'on', 'off', 'over', 'under', 'again', 'further', 'then', 'once', 'here', 'there', 'when', 'where', 'why', 'how', 'all', 'any', 'both', 'each', 'few', 'more', 'most', 'other', 'some', 'such', 'nor', 'only', 'own', 'same', 'so', 'than', 'too', 'very', 's', 't', 'can', 'will', 'just', 'should', \"should've\", 'now', 'd', 'll', 'm', 'o', 're', 've', 'y', 'ain', 'aren', \"aren't\", 'couldn', 'doesn', \"doesn't\", 'hadn', \"hadn't\", 'hasn', \"hasn't\", 'haven', \"haven't\", 'ma', 'mightn', \"mightn't\", 'mustn', \"mustn't\", 'needn', \"needn't\", 'shan', \"shan't\", 'shouldn', \"shouldn't\", 'wasn', \"wasn't\", 'weren', \"weren't\", 'won', 'would']\n"
          ]
        }
      ]
    },
    {
      "cell_type": "markdown",
      "source": [
        "Making 'Review' lower so I can remove stopwords"
      ],
      "metadata": {
        "id": "CtWENTJytanG"
      }
    },
    {
      "cell_type": "code",
      "source": [
        "df_review['Review']=df_review['Review'].str.lower()"
      ],
      "metadata": {
        "id": "Xy5VN-_RtfIF"
      },
      "execution_count": 30,
      "outputs": []
    },
    {
      "cell_type": "code",
      "source": [
        "df_review['Review']=df_review['Review'].apply(lambda x:\" \".join(x for x in str(x).split() if x not in sw))\n",
        "print(df_review.head())"
      ],
      "metadata": {
        "id": "reamv4uFtgTV",
        "colab": {
          "base_uri": "https://localhost:8080/"
        },
        "outputId": "966bc9bd-0536-4721-a07e-c74ec467552d"
      },
      "execution_count": 31,
      "outputs": [
        {
          "output_type": "stream",
          "name": "stdout",
          "text": [
            "                                                           Review  Sentiment\n",
            "0  sitting arrangement really bad kept moving not happy take care          0\n",
            "1                            spacious friendly kind helpful staff          1\n",
            "2         always crowded non cooperative staff never advice visit          0\n",
            "3                                                  amazing places          1\n",
            "4             not service good always take time single order also          0\n"
          ]
        }
      ]
    },
    {
      "cell_type": "code",
      "source": [
        "#TOTAL WORDS AFTER REMOVING STOP WORDS!\n",
        "p_list=[]\n",
        "for i in range(len(df_review)):\n",
        "  ent=df_review['Review'][i].split()\n",
        "  p_list.append(ent)\n",
        "\n",
        "word_list=[]\n",
        "for element in p_list:\n",
        "  for word in element:\n",
        "    word_list.append(word)\n",
        "print(len(word_list))"
      ],
      "metadata": {
        "id": "TwA3x6oUthiE",
        "colab": {
          "base_uri": "https://localhost:8080/"
        },
        "outputId": "d185ac9e-0f65-4969-b86c-0a316d440e01"
      },
      "execution_count": 32,
      "outputs": [
        {
          "output_type": "stream",
          "name": "stdout",
          "text": [
            "42366\n"
          ]
        }
      ]
    },
    {
      "cell_type": "markdown",
      "source": [
        "Exploratory Data Analysis"
      ],
      "metadata": {
        "id": "lCnvDDRfu7UH"
      }
    },
    {
      "cell_type": "markdown",
      "source": [
        "a. For positive reviews"
      ],
      "metadata": {
        "id": "RiTPn5bYypIA"
      }
    },
    {
      "cell_type": "code",
      "source": [
        "pos_reviews_list=[]\n",
        "for rev in df_review[df_review['Sentiment']==1].Review:\n",
        "  sent_list=rev.split()\n",
        "  for w in sent_list:\n",
        "    pos_reviews_list.append(w)\n",
        "\n",
        "\n",
        "#Trial code for common words finder, again.\n",
        "cnt=Counter(pos_reviews_list)\n",
        "cmmn=cnt.most_common(100)   #Finding common words and their occurrences in the mis_mis_list     \n",
        "print(cmmn)"
      ],
      "metadata": {
        "colab": {
          "base_uri": "https://localhost:8080/"
        },
        "outputId": "92455155-d64d-4b6b-f8fb-888a57df8541",
        "id": "VR1F1WGvRFsE"
      },
      "execution_count": 33,
      "outputs": [
        {
          "output_type": "stream",
          "name": "stdout",
          "text": [
            "[('good', 1102), ('place', 1036), ('food', 647), ('service', 490), ('nice', 403), ('mcdonalds', 384), ('burger', 311), ('mc', 302), ('best', 291), ('fries', 275), ('also', 272), ('always', 262), ('staff', 256), ('time', 252), ('one', 250), ('great', 247), ('friends', 205), ('chicken', 204), ('outlet', 203), ('taste', 192), ('like', 190), ('love', 183), ('burgers', 178), ('ambience', 173), ('mcd', 165), ('visit', 159), ('quality', 156), ('quick', 152), ('awesome', 148), ('friendly', 145), ('well', 145), ('really', 141), ('coffee', 137), ('not', 126), ('fast', 123), ('meal', 117), ('hangout', 116), ('crowded', 114), ('favourite', 110), ('peri', 110), ('try', 109), ('go', 107), ('amazing', 106), ('order', 106), ('mac', 104), ('tasty', 103), ('family', 101), ('tikki', 93), ('experience', 92), ('new', 92), ('spicy', 84), ('donalds', 83), ('location', 83), ('get', 82), ('maharaja', 81), ('veg', 79), ('menu', 79), ('loved', 78), ('ordered', 77), ('must', 76), ('delivery', 76), ('aloo', 75), ('tried', 75), ('borivali', 74), ('enjoy', 73), ('favorite', 73), ('breakfast', 73), ('loving', 72), ('no', 72), ('area', 72), ('located', 72), ('big', 71), ('cafe', 69), ('quite', 69), ('chocolate', 67), ('much', 66), ('eat', 66), ('french', 66), ('coke', 64), ('hot', 63), ('seating', 63), ('overall', 63), ('delicious', 60), ('available', 59), ('kids', 59), ('people', 57), ('clean', 55), ('every', 54), ('spacious', 52), ('space', 52), ('day', 52), ('mexican', 52), ('cold', 52), ('im', 51), ('since', 51), ('near', 51), ('even', 51), ('better', 50), ('college', 50), ('road', 50)]\n"
          ]
        }
      ]
    },
    {
      "cell_type": "code",
      "source": [
        "#cnt=Counter(df_review[df_review['Sentiment']==1].Review)\n",
        "cnt=Counter(pos_reviews_list)\n",
        "pos_common_words=pd.DataFrame(cnt.most_common(15), columns=['words','count'])\n",
        "pos_common_words.head()\n",
        "\n",
        "fig,ax=plt.subplots(figsize=(8,8))\n",
        "pos_common_words.sort_values(by='count').plot.barh(x='words',y='count',ax=ax,color='purple')\n",
        "ax.set_title(\"Positive reviews: Common words and their frequency\")\n",
        "plt.show()"
      ],
      "metadata": {
        "id": "I38i6ITuvBwq",
        "colab": {
          "base_uri": "https://localhost:8080/",
          "height": 499
        },
        "outputId": "a910eb1a-192c-4daf-e164-1e4ce69acdec"
      },
      "execution_count": 34,
      "outputs": [
        {
          "output_type": "display_data",
          "data": {
            "text/plain": [
              "<Figure size 576x576 with 1 Axes>"
            ],
            "image/png": "[encoded data removed]"
          },
          "metadata": {
            "needs_background": "light"
          }
        }
      ]
    },
    {
      "cell_type": "code",
      "source": [
        "#Creating bi-grams\n",
        "bigram_measures=nltk.collocations.BigramAssocMeasures()\n",
        "\n",
        "finder=nltk.collocations.BigramCollocationFinder.from_documents([comment.split() for comment in df_review[df_review['Sentiment']==1].Review])"
      ],
      "metadata": {
        "id": "_JyTaso1il0N"
      },
      "execution_count": 35,
      "outputs": []
    },
    {
      "cell_type": "code",
      "source": [
        "finder.apply_freq_filter(30)\n",
        "bigram_scores=finder.score_ngrams(bigram_measures.pmi)\n",
        "#print('_'.join(bigram_scores[0][0]))\n",
        "print(len(bigram_scores))"
      ],
      "metadata": {
        "colab": {
          "base_uri": "https://localhost:8080/"
        },
        "outputId": "dd2058f0-7a8c-44b8-a1ff-621d36df6b96",
        "id": "bbqy6RZDil0N"
      },
      "execution_count": 36,
      "outputs": [
        {
          "output_type": "stream",
          "name": "stdout",
          "text": [
            "32\n"
          ]
        }
      ]
    },
    {
      "cell_type": "code",
      "source": [
        "bigram_scores[0][0]\n",
        "cnt_list=[]\n",
        "for gram in bigram_scores:\n",
        "  x = '_'.join(gram[0])\n",
        "  cnt_list.append((x,gram[1]))\n",
        "print(cnt_list[0:10])"
      ],
      "metadata": {
        "colab": {
          "base_uri": "https://localhost:8080/"
        },
        "outputId": "735c8d22-8143-40ff-8af0-c70568b7841e",
        "id": "qx_Dbwcmil0N"
      },
      "execution_count": 37,
      "outputs": [
        {
          "output_type": "stream",
          "name": "stdout",
          "text": [
            "[('aloo_tikki', 7.9597635087309015), ('pocket_friendly', 7.495263869515728), ('quick_bite', 7.334136041695595), ('must_try', 7.076913636196048), ('peri_peri', 7.063738247448313), ('french_fries', 6.651612343589372), ('mc_donalds', 6.297742980758745), ('friends_family', 5.636689395660701), ('hangout_friends', 5.629564961227318), ('mc_cafe', 5.498168764869726)]\n"
          ]
        }
      ]
    },
    {
      "cell_type": "code",
      "source": [
        "#cnt=Counter(df_review[df_review['Sentiment']==0].Review)\n",
        "cnt=Counter(cnt_list)\n",
        "pos_common_words=pd.DataFrame(cnt_list[0:15], columns=['words','frequency'])\n",
        "pos_common_words.head()\n",
        "\n",
        "fig,ax=plt.subplots(figsize=(8,8))\n",
        "pos_common_words.sort_values(by='frequency').plot.barh(x='words',y='frequency',ax=ax,color='purple')\n",
        "ax.set_title(\"Positive reviews: BIGRAMS and their frequency\")\n",
        "plt.show()"
      ],
      "metadata": {
        "colab": {
          "base_uri": "https://localhost:8080/",
          "height": 499
        },
        "outputId": "4bb44253-109c-488b-d3fe-bf099d6f7dda",
        "id": "sFnRlJDoil0O"
      },
      "execution_count": 38,
      "outputs": [
        {
          "output_type": "display_data",
          "data": {
            "text/plain": [
              "<Figure size 576x576 with 1 Axes>"
            ],
            "image/png": "[encoded data removed]"
          },
          "metadata": {
            "needs_background": "light"
          }
        }
      ]
    },
    {
      "cell_type": "markdown",
      "source": [
        "b. For Negative Reviews"
      ],
      "metadata": {
        "id": "esFkj4qxxVEC"
      }
    },
    {
      "cell_type": "code",
      "source": [
        "neg_reviews_list=[]\n",
        "for rev in df_review[df_review['Sentiment']==0].Review:\n",
        "  sent_list=rev.split()\n",
        "  for w in sent_list:\n",
        "    neg_reviews_list.append(w)\n",
        "\n",
        "\n",
        "#Trial code for common words finder, again.\n",
        "cnt=Counter(neg_reviews_list)\n",
        "cmmn=cnt.most_common(100)   #Finding common words and their occurrences in the mis_mis_list     \n",
        "print(cmmn)"
      ],
      "metadata": {
        "id": "KUt7mkPpRQZV",
        "colab": {
          "base_uri": "https://localhost:8080/"
        },
        "outputId": "8daabc16-f9f0-4772-9e52-61e14961b7e6"
      },
      "execution_count": 39,
      "outputs": [
        {
          "output_type": "stream",
          "name": "stdout",
          "text": [
            "[('not', 404), ('order', 205), ('burger', 181), ('food', 174), ('service', 157), ('no', 142), ('fries', 139), ('good', 135), ('place', 129), ('time', 122), ('mcdonalds', 109), ('delivery', 104), ('like', 91), ('ordered', 86), ('also', 80), ('one', 77), ('mc', 75), ('always', 73), ('crowded', 73), ('staff', 72), ('even', 72), ('quality', 72), ('outlet', 72), ('dont', 71), ('mcd', 70), ('bad', 65), ('taste', 63), ('worst', 63), ('meal', 62), ('coke', 62), ('cold', 60), ('chicken', 58), ('get', 56), ('didnt', 53), ('never', 52), ('burgers', 52), ('experience', 49), ('received', 48), ('really', 47), ('much', 41), ('poor', 40), ('disappointed', 39), ('give', 39), ('less', 38), ('tikki', 38), ('fresh', 37), ('customers', 36), ('take', 35), ('hot', 35), ('please', 33), ('pathetic', 32), ('eat', 32), ('money', 32), ('well', 31), ('know', 30), ('sauce', 30), ('cheese', 30), ('times', 30), ('quantity', 30), ('delivered', 30), ('go', 30), ('veg', 30), ('customer', 29), ('half', 29), ('got', 29), ('make', 29), ('ever', 28), ('available', 28), ('coffee', 27), ('mac', 27), ('restaurant', 27), ('orders', 27), ('missing', 26), ('better', 26), ('thing', 25), ('new', 25), ('zomato', 25), ('long', 25), ('happy', 24), ('refund', 24), ('mins', 24), ('inside', 24), ('ice', 24), ('asked', 24), ('aloo', 23), ('stale', 23), ('wasnt', 23), ('small', 23), ('items', 23), ('said', 23), ('counter', 23), ('late', 22), ('instead', 22), ('took', 22), ('soggy', 22), ('want', 22), ('big', 22), ('every', 22), ('ac', 22), ('ok', 22)]\n"
          ]
        }
      ]
    },
    {
      "cell_type": "code",
      "source": [
        "#cnt=Counter(df_review[df_review['Sentiment']==0].Review)\n",
        "cnt=Counter(neg_reviews_list)\n",
        "pos_common_words=pd.DataFrame(cnt.most_common(15), columns=['words','count'])\n",
        "pos_common_words.head()\n",
        "\n",
        "fig,ax=plt.subplots(figsize=(8,8))\n",
        "pos_common_words.sort_values(by='count').plot.barh(x='words',y='count',ax=ax,color='purple')\n",
        "ax.set_title(\"Negative reviews: Common words and their frequency\")\n",
        "plt.show()"
      ],
      "metadata": {
        "id": "LE-luV4EyuBh",
        "colab": {
          "base_uri": "https://localhost:8080/",
          "height": 499
        },
        "outputId": "dc5a053a-c05f-4087-9d88-4751de77e1bb"
      },
      "execution_count": 40,
      "outputs": [
        {
          "output_type": "display_data",
          "data": {
            "text/plain": [
              "<Figure size 576x576 with 1 Axes>"
            ],
            "image/png": "[encoded data removed]"
          },
          "metadata": {
            "needs_background": "light"
          }
        }
      ]
    },
    {
      "cell_type": "code",
      "source": [
        "#Creating bi-grams\n",
        "bigram_measures=nltk.collocations.BigramAssocMeasures()\n",
        "\n",
        "finder=nltk.collocations.BigramCollocationFinder.from_documents([comment.split() for comment in df_review[df_review['Sentiment']==0].Review])"
      ],
      "metadata": {
        "id": "dJlS5oTpGOiQ"
      },
      "execution_count": 41,
      "outputs": []
    },
    {
      "cell_type": "code",
      "source": [
        "finder.apply_freq_filter(10)\n",
        "bigram_scores=finder.score_ngrams(bigram_measures.pmi)\n",
        "#print('_'.join(bigram_scores[0][0]))\n",
        "print(len(bigram_scores))"
      ],
      "metadata": {
        "colab": {
          "base_uri": "https://localhost:8080/"
        },
        "outputId": "66c1fd8e-e25d-4682-961b-03ef25958feb",
        "id": "kZw0-2_5GOiQ"
      },
      "execution_count": 42,
      "outputs": [
        {
          "output_type": "stream",
          "name": "stdout",
          "text": [
            "22\n"
          ]
        }
      ]
    },
    {
      "cell_type": "code",
      "source": [
        "bigram_scores[0][0]\n",
        "cnt_list=[]\n",
        "for gram in bigram_scores:\n",
        "  x = '_'.join(gram[0])\n",
        "  cnt_list.append((x,gram[1]))\n",
        "print(cnt_list[0:10])"
      ],
      "metadata": {
        "id": "8irqgn2KSONb",
        "colab": {
          "base_uri": "https://localhost:8080/"
        },
        "outputId": "b1ac4cd7-1455-4df5-a4ed-8d4da154d541"
      },
      "execution_count": 43,
      "outputs": [
        {
          "output_type": "stream",
          "name": "stdout",
          "text": [
            "[('waste_money', 8.395846489214085), ('aloo_tikki', 7.887391425547277), ('mc_donalds', 7.260137203109682), ('mc_veggie', 7.2374171266096), ('cold_drink', 7.060112594801691), ('french_fries', 6.539939822324369), ('happy_meal', 6.44165017882721), ('dont_know', 6.302682898075769), ('always_crowded', 5.864194278008998), ('bad_experience', 5.481234856541512)]\n"
          ]
        }
      ]
    },
    {
      "cell_type": "code",
      "source": [
        "#cnt=Counter(df_review[df_review['Sentiment']==0].Review)\n",
        "cnt=Counter(cnt_list)\n",
        "pos_common_words=pd.DataFrame(cnt_list[0:15], columns=['words','count'])\n",
        "pos_common_words.head()\n",
        "\n",
        "fig,ax=plt.subplots(figsize=(8,8))\n",
        "pos_common_words.sort_values(by='count').plot.barh(x='words',y='count',ax=ax,color='purple')\n",
        "ax.set_title(\"Negative reviews: BIGRAMS and their frequency\")\n",
        "plt.show()"
      ],
      "metadata": {
        "id": "TRJExrrZSrrM",
        "colab": {
          "base_uri": "https://localhost:8080/",
          "height": 499
        },
        "outputId": "23681b17-5da7-463c-9b91-f450b08c5345"
      },
      "execution_count": 44,
      "outputs": [
        {
          "output_type": "display_data",
          "data": {
            "text/plain": [
              "<Figure size 576x576 with 1 Axes>"
            ],
            "image/png": "[encoded data removed]"
          },
          "metadata": {
            "needs_background": "light"
          }
        }
      ]
    },
    {
      "cell_type": "markdown",
      "source": [
        "6. TOKENIZATION"
      ],
      "metadata": {
        "id": "d3GSb09kuNyq"
      }
    },
    {
      "cell_type": "code",
      "source": [
        "#Tokenization done to apply Lemmatization\n",
        "w_tokenizer=nltk.tokenize.WhitespaceTokenizer()\n",
        "lemmatizer=nltk.stem.WordNetLemmatizer()\n",
        "\n",
        "def lemmatize_text(text):\n",
        "  return [lemmatizer.lemmatize(w,'v') for w in w_tokenizer.tokenize(text)]\n",
        "\n",
        "df_review['Review']=df_review.Review.apply(lemmatize_text)\n",
        "print(df_review.head())"
      ],
      "metadata": {
        "id": "UTh3P5huuHZF",
        "colab": {
          "base_uri": "https://localhost:8080/"
        },
        "outputId": "86f83532-fd03-4ab5-b123-f9abbafb5df5"
      },
      "execution_count": 45,
      "outputs": [
        {
          "output_type": "stream",
          "name": "stdout",
          "text": [
            "                                                                Review  \\\n",
            "0  [sit, arrangement, really, bad, keep, move, not, happy, take, care]   \n",
            "1                           [spacious, friendly, kind, helpful, staff]   \n",
            "2       [always, crowd, non, cooperative, staff, never, advice, visit]   \n",
            "3                                                       [amaze, place]   \n",
            "4        [not, service, good, always, take, time, single, order, also]   \n",
            "\n",
            "   Sentiment  \n",
            "0          0  \n",
            "1          1  \n",
            "2          0  \n",
            "3          1  \n",
            "4          0  \n"
          ]
        }
      ]
    },
    {
      "cell_type": "markdown",
      "source": [
        "From tokenized to normal"
      ],
      "metadata": {
        "id": "6sMh8SHTuYOX"
      }
    },
    {
      "cell_type": "code",
      "source": [
        "df_review['NewReview'] = df_review['Review'].apply(lambda s1: ' '.join(map(str,s1)) )\n",
        "\n",
        "print(df_review['NewReview'].head())"
      ],
      "metadata": {
        "id": "ronKZY-juT0O",
        "colab": {
          "base_uri": "https://localhost:8080/"
        },
        "outputId": "3e0fae7b-0ee1-412a-c183-1ac04cbf2047"
      },
      "execution_count": 46,
      "outputs": [
        {
          "output_type": "stream",
          "name": "stdout",
          "text": [
            "0    sit arrangement really bad keep move not happy take care\n",
            "1                        spacious friendly kind helpful staff\n",
            "2       always crowd non cooperative staff never advice visit\n",
            "3                                                 amaze place\n",
            "4         not service good always take time single order also\n",
            "Name: NewReview, dtype: object\n"
          ]
        }
      ]
    },
    {
      "cell_type": "code",
      "source": [
        "df_review['NewReview']=df_review['NewReview'].str.lower()\n",
        "df_review.head()"
      ],
      "metadata": {
        "id": "3cdEWhw3uuTp",
        "colab": {
          "base_uri": "https://localhost:8080/",
          "height": 206
        },
        "outputId": "1ebc2c76-7317-4392-ae36-808e88ac483f"
      },
      "execution_count": 47,
      "outputs": [
        {
          "output_type": "execute_result",
          "data": {
            "text/plain": [
              "                                                                Review  \\\n",
              "0  [sit, arrangement, really, bad, keep, move, not, happy, take, care]   \n",
              "1                           [spacious, friendly, kind, helpful, staff]   \n",
              "2       [always, crowd, non, cooperative, staff, never, advice, visit]   \n",
              "3                                                       [amaze, place]   \n",
              "4        [not, service, good, always, take, time, single, order, also]   \n",
              "\n",
              "   Sentiment                                                 NewReview  \n",
              "0          0  sit arrangement really bad keep move not happy take care  \n",
              "1          1                      spacious friendly kind helpful staff  \n",
              "2          0     always crowd non cooperative staff never advice visit  \n",
              "3          1                                               amaze place  \n",
              "4          0       not service good always take time single order also  "
            ],
            "text/html": [
              "\n",
              "  <div id=\"df-8c93f8ce-99e7-42f6-abff-69c68475446b\">\n",
              "    <div class=\"colab-df-container\">\n",
              "      <div>\n",
              "<style scoped>\n",
              "    .dataframe tbody tr th:only-of-type {\n",
              "        vertical-align: middle;\n",
              "    }\n",
              "\n",
              "    .dataframe tbody tr th {\n",
              "        vertical-align: top;\n",
              "    }\n",
              "\n",
              "    .dataframe thead th {\n",
              "        text-align: right;\n",
              "    }\n",
              "</style>\n",
              "<table border=\"1\" class=\"dataframe\">\n",
              "  <thead>\n",
              "    <tr style=\"text-align: right;\">\n",
              "      <th></th>\n",
              "      <th>Review</th>\n",
              "      <th>Sentiment</th>\n",
              "      <th>NewReview</th>\n",
              "    </tr>\n",
              "  </thead>\n",
              "  <tbody>\n",
              "    <tr>\n",
              "      <th>0</th>\n",
              "      <td>[sit, arrangement, really, bad, keep, move, not, happy, take, care]</td>\n",
              "      <td>0</td>\n",
              "      <td>sit arrangement really bad keep move not happy take care</td>\n",
              "    </tr>\n",
              "    <tr>\n",
              "      <th>1</th>\n",
              "      <td>[spacious, friendly, kind, helpful, staff]</td>\n",
              "      <td>1</td>\n",
              "      <td>spacious friendly kind helpful staff</td>\n",
              "    </tr>\n",
              "    <tr>\n",
              "      <th>2</th>\n",
              "      <td>[always, crowd, non, cooperative, staff, never, advice, visit]</td>\n",
              "      <td>0</td>\n",
              "      <td>always crowd non cooperative staff never advice visit</td>\n",
              "    </tr>\n",
              "    <tr>\n",
              "      <th>3</th>\n",
              "      <td>[amaze, place]</td>\n",
              "      <td>1</td>\n",
              "      <td>amaze place</td>\n",
              "    </tr>\n",
              "    <tr>\n",
              "      <th>4</th>\n",
              "      <td>[not, service, good, always, take, time, single, order, also]</td>\n",
              "      <td>0</td>\n",
              "      <td>not service good always take time single order also</td>\n",
              "    </tr>\n",
              "  </tbody>\n",
              "</table>\n",
              "</div>\n",
              "      <button class=\"colab-df-convert\" onclick=\"convertToInteractive('df-8c93f8ce-99e7-42f6-abff-69c68475446b')\"\n",
              "              title=\"Convert this dataframe to an interactive table.\"\n",
              "              style=\"display:none;\">\n",
              "        \n",
              "  <svg xmlns=\"http://www.w3.org/2000/svg\" height=\"24px\"viewBox=\"0 0 24 24\"\n",
              "       width=\"24px\">\n",
              "    <path d=\"M0 0h24v24H0V0z\" fill=\"none\"/>\n",
              "    <path d=\"M18.56 5.44l.94 2.06.94-2.06 2.06-.94-2.06-.94-.94-2.06-.94 2.06-2.06.94zm-11 1L8.5 8.5l.94-2.06 2.06-.94-2.06-.94L8.5 2.5l-.94 2.06-2.06.94zm10 10l.94 2.06.94-2.06 2.06-.94-2.06-.94-.94-2.06-.94 2.06-2.06.94z\"/><path d=\"M17.41 7.96l-1.37-1.37c-.4-.4-.92-.59-1.43-.59-.52 0-1.04.2-1.43.59L10.3 9.45l-7.72 7.72c-.78.78-.78 2.05 0 2.83L4 21.41c.39.39.9.59 1.41.59.51 0 1.02-.2 1.41-.59l7.78-7.78 2.81-2.81c.8-.78.8-2.07 0-2.86zM5.41 20L4 18.59l7.72-7.72 1.47 1.35L5.41 20z\"/>\n",
              "  </svg>\n",
              "      </button>\n",
              "      \n",
              "  <style>\n",
              "    .colab-df-container {\n",
              "      display:flex;\n",
              "      flex-wrap:wrap;\n",
              "      gap: 12px;\n",
              "    }\n",
              "\n",
              "    .colab-df-convert {\n",
              "      background-color: #E8F0FE;\n",
              "      border: none;\n",
              "      border-radius: 50%;\n",
              "      cursor: pointer;\n",
              "      display: none;\n",
              "      fill: #1967D2;\n",
              "      height: 32px;\n",
              "      padding: 0 0 0 0;\n",
              "      width: 32px;\n",
              "    }\n",
              "\n",
              "    .colab-df-convert:hover {\n",
              "      background-color: #E2EBFA;\n",
              "      box-shadow: 0px 1px 2px rgba(60, 64, 67, 0.3), 0px 1px 3px 1px rgba(60, 64, 67, 0.15);\n",
              "      fill: #174EA6;\n",
              "    }\n",
              "\n",
              "    [theme=dark] .colab-df-convert {\n",
              "      background-color: #3B4455;\n",
              "      fill: #D2E3FC;\n",
              "    }\n",
              "\n",
              "    [theme=dark] .colab-df-convert:hover {\n",
              "      background-color: #434B5C;\n",
              "      box-shadow: 0px 1px 3px 1px rgba(0, 0, 0, 0.15);\n",
              "      filter: drop-shadow(0px 1px 2px rgba(0, 0, 0, 0.3));\n",
              "      fill: #FFFFFF;\n",
              "    }\n",
              "  </style>\n",
              "\n",
              "      <script>\n",
              "        const buttonEl =\n",
              "          document.querySelector('#df-8c93f8ce-99e7-42f6-abff-69c68475446b button.colab-df-convert');\n",
              "        buttonEl.style.display =\n",
              "          google.colab.kernel.accessAllowed ? 'block' : 'none';\n",
              "\n",
              "        async function convertToInteractive(key) {\n",
              "          const element = document.querySelector('#df-8c93f8ce-99e7-42f6-abff-69c68475446b');\n",
              "          const dataTable =\n",
              "            await google.colab.kernel.invokeFunction('convertToInteractive',\n",
              "                                                     [key], {});\n",
              "          if (!dataTable) return;\n",
              "\n",
              "          const docLinkHtml = 'Like what you see? Visit the ' +\n",
              "            '<a target=\"_blank\" href=https://colab.research.google.com/notebooks/data_table.ipynb>data table notebook</a>'\n",
              "            + ' to learn more about interactive tables.';\n",
              "          element.innerHTML = '';\n",
              "          dataTable['output_type'] = 'display_data';\n",
              "          await google.colab.output.renderOutput(dataTable, element);\n",
              "          const docLink = document.createElement('div');\n",
              "          docLink.innerHTML = docLinkHtml;\n",
              "          element.appendChild(docLink);\n",
              "        }\n",
              "      </script>\n",
              "    </div>\n",
              "  </div>\n",
              "  "
            ]
          },
          "metadata": {},
          "execution_count": 47
        }
      ]
    },
    {
      "cell_type": "markdown",
      "source": [
        "# Sentiment Analysis"
      ],
      "metadata": {
        "id": "u3O-bSZ_uzSa"
      }
    },
    {
      "cell_type": "code",
      "source": [
        "print(\"The number of samples in the dataset!\")\n",
        "pos_percent=(len(df_review[df_review['Sentiment']==1])/len(df_review)*100)\n",
        "print(\"Positive reviews percentage: \",round(pos_percent,2),\"%\")\n",
        "neg_percent=(len(df_review[df_review['Sentiment']==0])/len(df_review)*100)\n",
        "print(\"Negative reviews percentage: \",round(neg_percent,2),\"%\")\n",
        "print(\"Negative reviews: \",len(df_review[df_review['Sentiment']==0]))\n",
        "print(\"Positive reviews: \",len(df_review[df_review['Sentiment']==1]))"
      ],
      "metadata": {
        "id": "beKMWu-By8qX",
        "colab": {
          "base_uri": "https://localhost:8080/"
        },
        "outputId": "eeaa35f0-d505-47f1-856d-dd829176cef1"
      },
      "execution_count": 48,
      "outputs": [
        {
          "output_type": "stream",
          "name": "stdout",
          "text": [
            "The number of samples in the dataset!\n",
            "Positive reviews percentage:  73.34 %\n",
            "Negative reviews percentage:  26.66 %\n",
            "Negative reviews:  804\n",
            "Positive reviews:  2212\n"
          ]
        }
      ]
    },
    {
      "cell_type": "markdown",
      "source": [
        "Train-test split starts here!"
      ],
      "metadata": {
        "id": "RUJDe92q_sJh"
      }
    },
    {
      "cell_type": "code",
      "source": [
        "from sklearn.model_selection import train_test_split"
      ],
      "metadata": {
        "id": "sEeoFzezu6iy"
      },
      "execution_count": 49,
      "outputs": []
    },
    {
      "cell_type": "code",
      "source": [
        "train_data,test_data=train_test_split(df_review,test_size=0.2,random_state=50)  #keep random_state=50 for higher precision and recall of 0 class when using SVM\n",
        "#train_data,test_data=train_test_split(new_df_review,test_size=0.4,random_state=25)"
      ],
      "metadata": {
        "id": "OZdEtEZou9Lf"
      },
      "execution_count": 50,
      "outputs": []
    },
    {
      "cell_type": "code",
      "source": [
        "print(df_review.shape)\n",
        "print('test_data(Positive):',test_data[test_data['Sentiment']==1].count())\n",
        "print('test_data(Negative):',test_data[test_data['Sentiment']==0].count())\n",
        "\n",
        "print(\"train_data (Positive):\",train_data[train_data['Sentiment']==1].count())\n",
        "print('train_data (Negative):',train_data[train_data['Sentiment']==0].count())"
      ],
      "metadata": {
        "id": "ns-1w4oSZTmb",
        "colab": {
          "base_uri": "https://localhost:8080/"
        },
        "outputId": "33c424c7-0cd6-45c2-cc9e-0887452d42b2"
      },
      "execution_count": 51,
      "outputs": [
        {
          "output_type": "stream",
          "name": "stdout",
          "text": [
            "(3016, 3)\n",
            "test_data(Positive): Review       439\n",
            "Sentiment    439\n",
            "NewReview    439\n",
            "dtype: int64\n",
            "test_data(Negative): Review       165\n",
            "Sentiment    165\n",
            "NewReview    165\n",
            "dtype: int64\n",
            "train_data (Positive): Review       1773\n",
            "Sentiment    1773\n",
            "NewReview    1773\n",
            "dtype: int64\n",
            "train_data (Negative): Review       639\n",
            "Sentiment    639\n",
            "NewReview    639\n",
            "dtype: int64\n"
          ]
        }
      ]
    },
    {
      "cell_type": "code",
      "source": [
        "X_train=train_data['NewReview']\n",
        "y_train=train_data['Sentiment']\n",
        "X_test=test_data['NewReview']\n",
        "y_test=test_data['Sentiment']"
      ],
      "metadata": {
        "id": "OVpWTnIyvYuF"
      },
      "execution_count": 52,
      "outputs": []
    },
    {
      "cell_type": "code",
      "source": [
        "print(X_test.head(50))"
      ],
      "metadata": {
        "id": "LkHleLhacxeZ",
        "colab": {
          "base_uri": "https://localhost:8080/"
        },
        "outputId": "d99fe3b2-8e1a-49ef-97e0-6c5dfa239b16"
      },
      "execution_count": 53,
      "outputs": [
        {
          "output_type": "stream",
          "name": "stdout",
          "text": [
            "1890                                                                                                                                                                                                                                                                                                                                                                                                                                                                                                                                                                                                                         visit come know love\n",
            "1713                                                                                                                                                                                                                                                                                                                                                                                                                                                                                                         worst experience chichwad mcd whenever go weekend chichwad mcd never get cokefloat time happen come mcd cokefloat chichwad never get\n",
            "2533                                                                                                                                                                                                                                                                                                                                                                                                                                                                                                                                                                                                                          standard experience\n",
            "1168                                                                                                                                                                                                                                                                                                                                                                                                                                                                                                                                                                                                                                   good place\n",
            "2700                                                                                                                                                                                                                                                                                                                                                                                                                                                                                                                                                                                                                                    expensive\n",
            "1613                                                                                                                                                                                                                                                                                                                                                                                                                                                                                                                                      expensive worth burger veg nonveg best could anywhere else coffee fry also mind blow good place hangout\n",
            "764                                                                                                                                                                                                                                                                                                                                                                                     worst ever mcdonalds outlet ever every outlet breakfast mam menu change outlet stupid reason manager give hamare system mein na ko bajte hai translation system secondly mccafe machine dont work days month pathetic outlet ever give zero star possible\n",
            "215                                                                                                                                                                                                                                                                                                                                                                                                                                                                                                                                 mcdonald feel hungry look restaurant happy meal mcdonald time favourite good seat good service get amaze meal\n",
            "2754                                                                                                                                                                                                                                                                                                                                                                                                                                                                                                                                                                            service nice offer great affordable french fry periperii must try\n",
            "420                                                                                                                                                                                                                                                                                                                                                                                                                   best fire best burger best service undoubtedly awesome place ever visit mcdonalds one everyones favourite place hog good ambience something adore every macdonald happy din future post follow instagram mytastestories uid\n",
            "12                                                                                                                                                                                                                                                                                                                                                                                                                                                                                                         mc donalds one finest restaurant earth thats happy place guess happy place us well personal favourite mc spicy chicken chocolate swirl\n",
            "162                                                                                                                                                                                                                                                                                                                                                                                                                                                                                                                                         hello im regular customer mcd cone clg near mcd always come enjoy fun also celebrate friends birthday\n",
            "2444                                                                                                                                                                                                                                                                                                                                                                                                                                                                                                                                                                                                                            quick snack break\n",
            "347                                                                                                                                                                                                                                                                                                                                                                                                                                                                                   like mc day time good option breakfast stuff fresh place peaceful get good coffee mc best part eventually day pass service get slow restrooms forever dirty\n",
            "1702                                                                                                                                                                                                                                                                                                                                                                         today visit order mc chicken burger meal however disappoint taste burger since wasnt perfectly cook seem stale apart card machine wasnt work neither paytm wallet service available indeed frequently use phone pe hope complaint look upon not disappoint next time\n",
            "2974                                                                                                                                                                                                                                                                                                                                                                                                                                                                                                                                                                                                                                         good\n",
            "551                                                                                                                                                                                                                                                                                                                                                                                                                                                                                                                                                                                                                 really gud place enjoy family\n",
            "1717                                                                                                                                                                                                                                                                                                                                                                                                                                                                                                                           delivery take lot time even location hardly minutes away also delivery guy clueless location centrally locate area\n",
            "2400    normally line find every mcd though not spacious decently space adjacent road hence easily accessible eatery options nearby park wheelers ur risk no specific park area no handicap entry no vehicle take away counter self take aways active mccafe counter available service level not satisfactory errors delay order staff not much cooperative grind level eatery congest washroom normally crowd even find work class young chap come dont know air condition always remain humid not chill furnish decent not expect hifi interiors rest serve menus card payment option available menus service level decent hit visit brunch mcd\n",
            "592                                                                                                                                                                                                                                                                                                                                                                                                                                                                                                                                                                                                                         helpful quick service\n",
            "2805                                                                                                                                                                                                                                                                                                            mcdonalds locate st floor thakur mall nice outlet huge seat capacity always crowd frequent thakur college students residents thakur village area one mcdonalds outlets include everything mc cafe kid play area mini set party zone large section ac non ac seat mcdonalds thakur village outlet also award best mcdonalds outlet\n",
            "2558                                                                                                                                                                                                                                                                                                                                                                                                                                                                                                                                                                                                                                   tasty food\n",
            "2519                                                                                                                                                                                                                                                                                                                                                                                                                                                                                                                                                                                                                                    expensive\n",
            "889                                                                                                                                                                                                                                                                                                                                                                                                                                                                                                                                                                                 good service always fill college students like every mcd rest\n",
            "2611                                                                                                                                                                                                                                                                                                                                                                                                                                                                                                                                                                                                                                         nice\n",
            "2793                                                                                                                                                                                                                                                                                                                                                                                                                                                                                                    mcd favourite place get always something new eat maintain flavour service offer best also mccafe amaze havent must not visit anywhere yet\n",
            "2335                                                                                                                                                                                                                                                                                                                                                                                                                                                                                                                        breakfast friend find dont care guests order egg sausage muffin coffee coffee really disappoint sip hot flavour water\n",
            "929                                                                                                                                                                                                                                                                       mcdonalds remain popular fast food joint many enjoy good food along pleasant time things try burger french fry standard food quality menu something like newly launch mccafe expensive side not sure hit among indian customers look value money proposition however interest novel concept service taste obviously place remain crowd may look expansion adjust people\n",
            "2092                                                                                                                                                                                                                                                                                                                                                                                                                                                                                                                                                                                                                                    nice rush\n",
            "1376                                                                                                                                                                                                                                                                                                                                                                                                                                                              service extremely great since covid greet us order food extremely easy gotta order app case dont app jus scan barcode place right table make payment online contactless payment\n",
            "67                                                                                                                                                                                                                                                                                                                                                                                                                                                                                                                              use love mcdonalds quality drop recently order mc chicken new schezwan burger not upto mark know wont waste money\n",
            "742                                                                                                                                                                                                                                                                                                                                                                                                                                                                                                                                                                                                                   perfect place chill friends\n",
            "1235                                                                                                                                                                                                                                                                                                                                                                                                                                                                                                                                                                                                  fry aloo naan total disaster disappoint mcd\n",
            "608                                                                                                                                                                                                                                                                                                                                                                                                                                                                                                                                                                                                                         food quality not mark\n",
            "447                                                                                                                                                                                                                                                                                                                                                                                                                                                         best fry best burgers best service mcd comeon someone fault mcdonalds order aloo tikki burger american cheese supreme burger fry coke fry mcdonalds serve amaze wont get fry anywhere\n",
            "169                                                                                                                                                                                                                                                                                                                                                                                                                                                                                                                    great place chill friends spend time love food ambience great service quick efficient overall perfect place satisfy hunger\n",
            "1194                                                                                                                                                                                                                                                                                                                                                                                                                                                                                                                                                                                                                    delivery boy star service\n",
            "2364                                                                                                                                                                                                                                                                                                                                                                                                                                                                                                                                       worst mcdonalds ive ever give day old food dont care like formality also forcefully take feedback star\n",
            "2567                                                                                                                                                                                                                                                                                                                                                                                                                                                                                                                                                                                                                                         good\n",
            "1594                                                                                                                                                                                                                                                                                                                                                                                                                                                                                                                                              fine well maintain good service staff good much satisfy staff taste yummy mc maharaja favourite\n",
            "2902                                                                                                                                                                                                                                                                                                                                            im breakfast friend order order inquisitiveness happen ask guy take order difference ice coffee frappe server unable answer go back inquire barista third staff member present behind counter start laugh question funny either dont know products dont want customers know im certainly not mock\n",
            "1310                                                                                                                                                                                                                                                                                                                                                                                                                                                                                                          order mc spicy chicken burger cheese no cheese though pay extra cheese also less mayonnaise mc veggies sad receive order mc donalds\n",
            "2076                                                                                                                                                                                                                                                                                                                                                                                                                                                                                                                                                                                                                                         nice\n",
            "2498                                                                                                                                                                                                                                                                                                                                                                                                                                                                                                                                                                                                                                 service good\n",
            "695                                                                                                                                                                                                                                                                                                                                                                                                                                                                                                                                                                                                                      nice locations lil crowd\n",
            "2344                                                                                                                                                                                                                                                                                                                                                                                                                                                                                                            service delivery staff excellent food always like coffee lot steer clear chicken strip strip customers taste bad rest great thumb\n",
            "2778                                                                                                                                                                                                                                                        mc donalds always great irrespective outlet try first time peri peri fry quantity wise good pepper bite spicy advertise ambience great find teenagers even snack theres lot space sit also theres different counter milk shake beverages theres another room birthday party burgers worth money always recommend place youre thakur village chicken burger periperi fry thakurvillage\n",
            "1984                                                                                                                                                                                                                                                                                                                                                                                                                                                                                                                                                                                                 didnt receive fry order disappoint mcdonalds\n",
            "2517                                                                                                                                                                                                                                                                                                                                                                                                                                                                                                                                                                                                                                  nice burger\n",
            "1678                                                                                                                                                                                                                                                                                                                                                                                                                                                                                                                                                                                                                         havent receive order\n",
            "Name: NewReview, dtype: object\n"
          ]
        }
      ]
    },
    {
      "cell_type": "code",
      "source": [
        "print(y_train.shape)"
      ],
      "metadata": {
        "id": "yxWIuKmnyoR7",
        "colab": {
          "base_uri": "https://localhost:8080/"
        },
        "outputId": "115ab079-bb87-4fa4-8e5f-282d2530ca19"
      },
      "execution_count": 54,
      "outputs": [
        {
          "output_type": "stream",
          "name": "stdout",
          "text": [
            "(2412,)\n"
          ]
        }
      ]
    },
    {
      "cell_type": "code",
      "source": [
        "print(X_train.head())\n",
        "print(X_test.head())"
      ],
      "metadata": {
        "id": "RXLNNOinvaIY",
        "colab": {
          "base_uri": "https://localhost:8080/"
        },
        "outputId": "cf0e0ee8-4e89-4f6b-9e22-bbd0c0b2289f"
      },
      "execution_count": 55,
      "outputs": [
        {
          "output_type": "stream",
          "name": "stdout",
          "text": [
            "156                                       doesnt know taste mcdonalds burger know even breakfast range yup today morning visit borivali outlet breakfast friends good\n",
            "1727                                                                                 burger quality quite sad give stomach issue rd time end upset stomach eat burger\n",
            "2892    taste always best afterall mcd staff really weird turn air condition system customers spend extra time staff egoistic behaviour much rude rest fine like macs\n",
            "2117                                                                                                                                                            crowd\n",
            "2661                                                                                                                                                             well\n",
            "Name: NewReview, dtype: object\n",
            "1890                                                                                                                    visit come know love\n",
            "1713    worst experience chichwad mcd whenever go weekend chichwad mcd never get cokefloat time happen come mcd cokefloat chichwad never get\n",
            "2533                                                                                                                     standard experience\n",
            "1168                                                                                                                              good place\n",
            "2700                                                                                                                               expensive\n",
            "Name: NewReview, dtype: object\n"
          ]
        }
      ]
    },
    {
      "cell_type": "markdown",
      "source": [
        "7. Vectorizer"
      ],
      "metadata": {
        "id": "tyhu-9o5veQt"
      }
    },
    {
      "cell_type": "code",
      "source": [
        "from sklearn.feature_extraction.text import TfidfVectorizer"
      ],
      "metadata": {
        "id": "PTMIBcOIvmOt"
      },
      "execution_count": 56,
      "outputs": []
    },
    {
      "cell_type": "code",
      "source": [
        "train_vectorizer=TfidfVectorizer(use_idf=True,lowercase=True,strip_accents='ascii')\n",
        "train_review_tfidf=train_vectorizer.fit_transform(X_train)"
      ],
      "metadata": {
        "id": "bCNK_nUZvmoy"
      },
      "execution_count": 57,
      "outputs": []
    },
    {
      "cell_type": "code",
      "source": [
        "# #CountVectorizer\n",
        "# from sklearn.feature_extraction.text import CountVectorizer\n",
        "# train_vectorizer=CountVectorizer()\n",
        "# train_review_tfidf=train_vectorizer.fit_transform(X_train)"
      ],
      "metadata": {
        "id": "FzUbqg50aRY5"
      },
      "execution_count": 58,
      "outputs": []
    },
    {
      "cell_type": "code",
      "source": [
        "#Gensim's word2vec\n",
        "# !pip install gensim"
      ],
      "metadata": {
        "id": "iFN6thuYbYHr"
      },
      "execution_count": 59,
      "outputs": []
    },
    {
      "cell_type": "code",
      "source": [
        ""
      ],
      "metadata": {
        "id": "jXjp-2zZbfFB"
      },
      "execution_count": 59,
      "outputs": []
    },
    {
      "cell_type": "code",
      "source": [
        "print(train_review_tfidf.shape)\n",
        "type(train_review_tfidf)"
      ],
      "metadata": {
        "id": "uwPLL18rvpK0",
        "colab": {
          "base_uri": "https://localhost:8080/"
        },
        "outputId": "ac11e0be-6289-4c46-b081-2d5cc849662b"
      },
      "execution_count": 60,
      "outputs": [
        {
          "output_type": "stream",
          "name": "stdout",
          "text": [
            "(2412, 3188)\n"
          ]
        },
        {
          "output_type": "execute_result",
          "data": {
            "text/plain": [
              "scipy.sparse.csr.csr_matrix"
            ]
          },
          "metadata": {},
          "execution_count": 60
        }
      ]
    },
    {
      "cell_type": "markdown",
      "source": [
        "a. LOGISTIC REGRESSION"
      ],
      "metadata": {
        "id": "4NHTI4fSvtbE"
      }
    },
    {
      "cell_type": "code",
      "source": [
        "log_model=LogisticRegression().fit(train_review_tfidf, y_train)"
      ],
      "metadata": {
        "id": "3d9Wpddjvwef"
      },
      "execution_count": 61,
      "outputs": []
    },
    {
      "cell_type": "code",
      "source": [
        "cross_val_score(log_model,train_review_tfidf,y_train,scoring='accuracy',cv=5).mean()"
      ],
      "metadata": {
        "id": "B5SjNqhgvyp9",
        "colab": {
          "base_uri": "https://localhost:8080/"
        },
        "outputId": "9fe8d212-0839-4940-e317-52c214d15678"
      },
      "execution_count": 62,
      "outputs": [
        {
          "output_type": "execute_result",
          "data": {
            "text/plain": [
              "0.898428734654605"
            ]
          },
          "metadata": {},
          "execution_count": 62
        }
      ]
    },
    {
      "cell_type": "code",
      "source": [
        "#USE THIS WHEN TESTING ON SPLIT TEST DATA\n",
        "nr=train_vectorizer.transform(X_test)\n",
        "log_model.predict(nr)"
      ],
      "metadata": {
        "id": "tcw5FjQqv3r9",
        "colab": {
          "base_uri": "https://localhost:8080/"
        },
        "outputId": "42bf2269-70f4-4e9f-a79d-8de15f24022b"
      },
      "execution_count": 63,
      "outputs": [
        {
          "output_type": "execute_result",
          "data": {
            "text/plain": [
              "array([1, 0, 1, 1, 1, 1, 0, 1, 1, 1, 1, 1, 1, 1, 0, 1, 1, 1, 0, 1, 1, 1,\n",
              "       1, 1, 1, 1, 1, 1, 1, 1, 0, 1, 1, 0, 1, 1, 0, 0, 1, 1, 0, 0, 1, 1,\n",
              "       1, 1, 1, 0, 1, 0, 1, 1, 1, 1, 1, 1, 1, 1, 0, 1, 1, 1, 1, 0, 1, 1,\n",
              "       0, 1, 1, 1, 1, 1, 1, 1, 1, 1, 1, 1, 1, 0, 0, 0, 1, 1, 1, 1, 0, 1,\n",
              "       1, 1, 0, 0, 1, 1, 0, 1, 1, 0, 1, 1, 1, 0, 1, 0, 0, 1, 1, 1, 1, 0,\n",
              "       1, 1, 1, 1, 1, 1, 1, 0, 1, 1, 0, 1, 1, 1, 1, 1, 1, 1, 1, 1, 1, 1,\n",
              "       1, 0, 1, 1, 1, 1, 0, 1, 1, 0, 0, 1, 1, 1, 0, 1, 1, 1, 0, 1, 0, 1,\n",
              "       1, 0, 1, 1, 0, 1, 0, 1, 1, 1, 1, 1, 1, 1, 1, 1, 0, 1, 1, 1, 1, 1,\n",
              "       1, 1, 1, 1, 1, 1, 1, 1, 0, 1, 1, 1, 0, 1, 0, 1, 0, 1, 1, 1, 1, 0,\n",
              "       1, 1, 0, 1, 1, 0, 1, 1, 1, 0, 1, 1, 1, 1, 1, 1, 1, 1, 1, 1, 1, 1,\n",
              "       1, 0, 0, 1, 1, 1, 1, 1, 1, 1, 1, 1, 1, 1, 1, 1, 0, 1, 1, 0, 0, 0,\n",
              "       1, 1, 1, 0, 1, 1, 0, 1, 1, 1, 1, 0, 1, 0, 1, 0, 1, 0, 1, 1, 1, 1,\n",
              "       0, 0, 1, 0, 1, 1, 1, 1, 0, 1, 1, 1, 1, 1, 1, 1, 1, 0, 1, 1, 1, 1,\n",
              "       1, 1, 1, 1, 0, 1, 1, 0, 1, 1, 1, 1, 1, 1, 1, 1, 1, 1, 1, 1, 1, 0,\n",
              "       1, 1, 1, 1, 1, 1, 1, 1, 0, 1, 0, 1, 1, 1, 1, 0, 1, 1, 1, 1, 0, 1,\n",
              "       1, 0, 0, 1, 0, 0, 1, 0, 1, 0, 1, 1, 1, 0, 1, 1, 1, 1, 1, 1, 1, 0,\n",
              "       1, 1, 1, 1, 0, 1, 1, 1, 0, 1, 1, 1, 0, 0, 1, 1, 1, 1, 1, 1, 0, 1,\n",
              "       1, 1, 0, 1, 1, 0, 1, 0, 1, 1, 1, 1, 1, 1, 1, 1, 1, 0, 1, 0, 1, 0,\n",
              "       0, 1, 0, 1, 1, 1, 1, 1, 1, 0, 1, 1, 1, 1, 1, 1, 1, 0, 1, 0, 1, 1,\n",
              "       1, 1, 1, 1, 1, 1, 1, 0, 1, 1, 1, 1, 1, 1, 1, 1, 1, 1, 1, 0, 0, 1,\n",
              "       0, 1, 1, 1, 0, 1, 1, 1, 1, 0, 1, 0, 1, 1, 0, 1, 0, 1, 0, 1, 1, 1,\n",
              "       0, 0, 1, 0, 0, 1, 0, 1, 1, 0, 1, 1, 1, 1, 1, 1, 1, 0, 0, 1, 1, 1,\n",
              "       1, 1, 1, 1, 1, 1, 1, 1, 1, 1, 0, 1, 1, 1, 0, 0, 1, 1, 1, 1, 1, 1,\n",
              "       1, 1, 0, 0, 0, 1, 1, 1, 1, 1, 1, 0, 1, 1, 1, 0, 1, 1, 1, 0, 0, 0,\n",
              "       0, 0, 1, 0, 1, 1, 1, 1, 1, 1, 1, 1, 1, 1, 1, 1, 1, 0, 1, 1, 1, 1,\n",
              "       1, 1, 1, 1, 1, 1, 0, 0, 1, 0, 1, 1, 1, 1, 1, 1, 0, 0, 1, 0, 1, 1,\n",
              "       1, 1, 0, 1, 1, 1, 1, 1, 1, 1, 1, 1, 1, 1, 1, 0, 1, 1, 1, 1, 1, 1,\n",
              "       0, 0, 1, 1, 1, 1, 0, 1, 1, 1])"
            ]
          },
          "metadata": {},
          "execution_count": 63
        }
      ]
    },
    {
      "cell_type": "code",
      "source": [
        "predicted=log_model.predict(nr)\n",
        "p=pd.DataFrame(predicted)\n",
        "actual=y_test"
      ],
      "metadata": {
        "id": "wgxCxxOsv5hF"
      },
      "execution_count": 64,
      "outputs": []
    },
    {
      "cell_type": "code",
      "source": [
        "import seaborn as sns\n",
        "cf_matrix=sm.confusion_matrix(actual,p)\n",
        "sns.heatmap(cf_matrix,annot=True,fmt='g')"
      ],
      "metadata": {
        "id": "V_0-Ovtbv7Ex",
        "colab": {
          "base_uri": "https://localhost:8080/",
          "height": 0
        },
        "outputId": "c1eb549e-be20-4b5c-b57a-b3fcf57bf851"
      },
      "execution_count": 65,
      "outputs": [
        {
          "output_type": "execute_result",
          "data": {
            "text/plain": [
              "<matplotlib.axes._subplots.AxesSubplot at 0x7fb0cb0ded50>"
            ]
          },
          "metadata": {},
          "execution_count": 65
        },
        {
          "output_type": "display_data",
          "data": {
            "text/plain": [
              "<Figure size 432x288 with 2 Axes>"
            ],
            "image/png": "[encoded data removed]"
          },
          "metadata": {
            "needs_background": "light"
          }
        }
      ]
    },
    {
      "cell_type": "code",
      "source": [
        "#Classification Report\n",
        "from sklearn.metrics import classification_report\n",
        "print(classification_report(actual,predicted))"
      ],
      "metadata": {
        "id": "b3dB-dCwv9J_",
        "colab": {
          "base_uri": "https://localhost:8080/"
        },
        "outputId": "2229859a-f296-44c1-82c8-e5d046471de2"
      },
      "execution_count": 66,
      "outputs": [
        {
          "output_type": "stream",
          "name": "stdout",
          "text": [
            "              precision    recall  f1-score   support\n",
            "\n",
            "           0       0.91      0.77      0.83       165\n",
            "           1       0.92      0.97      0.94       439\n",
            "\n",
            "    accuracy                           0.92       604\n",
            "   macro avg       0.91      0.87      0.89       604\n",
            "weighted avg       0.92      0.92      0.91       604\n",
            "\n"
          ]
        }
      ]
    },
    {
      "cell_type": "markdown",
      "source": [
        "RANDOM FOREST"
      ],
      "metadata": {
        "id": "ZbaiZNygcUQR"
      }
    },
    {
      "cell_type": "code",
      "source": [
        "from sklearn.ensemble import RandomForestClassifier\n",
        "rfclassifier=RandomForestClassifier(n_estimators=400,criterion='entropy',random_state=0)\n",
        "rfclassifier.fit(train_review_tfidf,y_train)"
      ],
      "metadata": {
        "id": "XQt-tRS2cWD5",
        "colab": {
          "base_uri": "https://localhost:8080/"
        },
        "outputId": "690e3c72-15ae-4195-dcbd-652175adcba3"
      },
      "execution_count": 67,
      "outputs": [
        {
          "output_type": "execute_result",
          "data": {
            "text/plain": [
              "RandomForestClassifier(criterion='entropy', n_estimators=400, random_state=0)"
            ]
          },
          "metadata": {},
          "execution_count": 67
        }
      ]
    },
    {
      "cell_type": "code",
      "source": [
        "nr=train_vectorizer.transform(X_test)\n"
      ],
      "metadata": {
        "id": "qLHQ1-1wc0VL"
      },
      "execution_count": 68,
      "outputs": []
    },
    {
      "cell_type": "code",
      "source": [
        "predicted=rfclassifier.predict(nr)\n",
        "p=pd.DataFrame(predicted)\n",
        "actual=y_test"
      ],
      "metadata": {
        "id": "kWvTKPlHc72h"
      },
      "execution_count": 69,
      "outputs": []
    },
    {
      "cell_type": "code",
      "source": [
        "cf_matrix=sm.confusion_matrix(actual,p)\n",
        "sns.heatmap(cf_matrix,annot=True,fmt='g')"
      ],
      "metadata": {
        "id": "nzXvuVKpc_8R",
        "colab": {
          "base_uri": "https://localhost:8080/",
          "height": 0
        },
        "outputId": "d82e4273-6859-4be7-aa48-4d008a82e01d"
      },
      "execution_count": 70,
      "outputs": [
        {
          "output_type": "execute_result",
          "data": {
            "text/plain": [
              "<matplotlib.axes._subplots.AxesSubplot at 0x7fb0c883fe90>"
            ]
          },
          "metadata": {},
          "execution_count": 70
        },
        {
          "output_type": "display_data",
          "data": {
            "text/plain": [
              "<Figure size 432x288 with 2 Axes>"
            ],
            "image/png": "[encoded data removed]"
          },
          "metadata": {
            "needs_background": "light"
          }
        }
      ]
    },
    {
      "cell_type": "code",
      "source": [
        "#Classification Report\n",
        "from sklearn.metrics import classification_report\n",
        "print(classification_report(actual,predicted))"
      ],
      "metadata": {
        "id": "H1839PMqdBqx",
        "colab": {
          "base_uri": "https://localhost:8080/"
        },
        "outputId": "5e3e0155-f2a8-4848-b4fd-1f224a9a8728"
      },
      "execution_count": 71,
      "outputs": [
        {
          "output_type": "stream",
          "name": "stdout",
          "text": [
            "              precision    recall  f1-score   support\n",
            "\n",
            "           0       0.91      0.79      0.85       165\n",
            "           1       0.93      0.97      0.95       439\n",
            "\n",
            "    accuracy                           0.92       604\n",
            "   macro avg       0.92      0.88      0.90       604\n",
            "weighted avg       0.92      0.92      0.92       604\n",
            "\n"
          ]
        }
      ]
    },
    {
      "cell_type": "markdown",
      "source": [
        "b. SVM"
      ],
      "metadata": {
        "id": "j7ewKSbkwmdH"
      }
    },
    {
      "cell_type": "code",
      "source": [
        "from sklearn.svm import SVC\n",
        "svclassifier=SVC(kernel='rbf',C=10,gamma=1)\n",
        "svclassifier.fit(train_review_tfidf,y_train)"
      ],
      "metadata": {
        "id": "nikoTmcRwpwB",
        "colab": {
          "base_uri": "https://localhost:8080/"
        },
        "outputId": "22892b50-2c10-480d-e433-2a2720362f43"
      },
      "execution_count": 72,
      "outputs": [
        {
          "output_type": "execute_result",
          "data": {
            "text/plain": [
              "SVC(C=10, gamma=1)"
            ]
          },
          "metadata": {},
          "execution_count": 72
        }
      ]
    },
    {
      "cell_type": "code",
      "source": [
        "nr=train_vectorizer.transform(X_test)\n",
        "svclassifier.predict(nr)"
      ],
      "metadata": {
        "id": "0IYY0f1SwrbN",
        "colab": {
          "base_uri": "https://localhost:8080/"
        },
        "outputId": "ff20e145-e156-4bf4-f961-5ff2b2eba9b4"
      },
      "execution_count": 73,
      "outputs": [
        {
          "output_type": "execute_result",
          "data": {
            "text/plain": [
              "array([1, 0, 1, 1, 0, 1, 0, 1, 1, 1, 1, 1, 1, 1, 0, 1, 1, 1, 0, 1, 1, 1,\n",
              "       0, 1, 1, 1, 1, 1, 1, 1, 0, 1, 0, 0, 1, 1, 0, 0, 1, 1, 0, 0, 1, 1,\n",
              "       1, 1, 1, 0, 1, 0, 1, 1, 1, 1, 1, 0, 1, 1, 0, 0, 1, 1, 1, 0, 0, 1,\n",
              "       0, 1, 1, 1, 1, 1, 1, 1, 0, 1, 0, 1, 1, 0, 0, 0, 1, 1, 1, 1, 0, 1,\n",
              "       1, 1, 1, 0, 1, 1, 0, 1, 1, 0, 1, 1, 1, 0, 1, 0, 0, 0, 1, 1, 1, 0,\n",
              "       1, 1, 1, 1, 1, 0, 1, 0, 1, 1, 0, 1, 0, 1, 1, 1, 1, 1, 1, 1, 1, 1,\n",
              "       1, 0, 1, 1, 1, 1, 0, 1, 1, 0, 0, 1, 1, 1, 0, 1, 1, 1, 0, 1, 0, 1,\n",
              "       1, 0, 1, 1, 0, 0, 0, 1, 1, 1, 1, 1, 1, 1, 1, 1, 0, 1, 1, 1, 1, 1,\n",
              "       1, 1, 1, 1, 1, 1, 1, 1, 0, 1, 1, 1, 0, 1, 0, 1, 0, 1, 1, 1, 1, 0,\n",
              "       1, 1, 0, 1, 1, 0, 1, 1, 1, 0, 1, 1, 1, 1, 1, 1, 1, 1, 0, 1, 1, 1,\n",
              "       1, 0, 0, 1, 1, 1, 1, 1, 1, 1, 1, 1, 1, 1, 1, 1, 0, 1, 1, 0, 0, 0,\n",
              "       1, 1, 1, 0, 1, 1, 0, 1, 1, 1, 1, 0, 1, 0, 1, 0, 1, 0, 1, 1, 1, 1,\n",
              "       0, 0, 1, 0, 1, 1, 1, 1, 0, 1, 1, 1, 1, 1, 1, 1, 1, 0, 1, 1, 1, 1,\n",
              "       1, 1, 1, 1, 0, 1, 1, 0, 1, 1, 1, 0, 1, 1, 1, 1, 1, 1, 1, 1, 1, 0,\n",
              "       0, 1, 1, 1, 1, 1, 1, 1, 0, 1, 0, 1, 1, 1, 1, 0, 1, 1, 1, 1, 0, 1,\n",
              "       0, 0, 0, 1, 0, 0, 1, 0, 1, 0, 1, 1, 1, 0, 1, 1, 1, 1, 1, 1, 1, 0,\n",
              "       1, 1, 1, 1, 0, 1, 1, 1, 0, 1, 1, 1, 0, 0, 1, 1, 0, 1, 1, 1, 0, 1,\n",
              "       1, 1, 0, 1, 1, 0, 1, 0, 1, 1, 1, 1, 1, 1, 1, 1, 1, 0, 1, 0, 1, 0,\n",
              "       0, 1, 0, 0, 1, 1, 1, 1, 1, 0, 1, 1, 1, 1, 1, 1, 0, 0, 1, 0, 1, 1,\n",
              "       1, 1, 1, 0, 1, 1, 1, 0, 1, 1, 1, 1, 1, 1, 1, 1, 1, 1, 1, 0, 0, 1,\n",
              "       0, 1, 1, 1, 0, 1, 1, 1, 1, 0, 1, 0, 1, 1, 0, 1, 0, 1, 0, 1, 1, 1,\n",
              "       0, 0, 1, 0, 0, 1, 0, 1, 1, 0, 1, 1, 1, 1, 1, 1, 1, 0, 0, 1, 1, 1,\n",
              "       1, 1, 1, 1, 1, 1, 1, 1, 1, 1, 0, 1, 1, 1, 0, 0, 1, 1, 1, 1, 1, 1,\n",
              "       1, 1, 0, 0, 0, 1, 1, 1, 1, 1, 1, 0, 1, 1, 1, 0, 0, 1, 1, 0, 0, 0,\n",
              "       0, 0, 1, 0, 1, 1, 1, 1, 1, 1, 1, 1, 1, 1, 1, 1, 1, 0, 1, 1, 1, 1,\n",
              "       1, 1, 1, 1, 1, 1, 0, 0, 0, 0, 1, 0, 1, 1, 1, 1, 0, 0, 1, 0, 1, 1,\n",
              "       1, 1, 0, 1, 1, 1, 1, 1, 1, 1, 1, 1, 1, 1, 1, 0, 1, 1, 1, 1, 1, 1,\n",
              "       0, 0, 1, 1, 1, 1, 0, 1, 1, 1])"
            ]
          },
          "metadata": {},
          "execution_count": 73
        }
      ]
    },
    {
      "cell_type": "code",
      "source": [
        "predicted=svclassifier.predict(nr)\n",
        "p=pd.DataFrame(predicted)\n",
        "actual=y_test"
      ],
      "metadata": {
        "id": "9FLfA8kpwsvl"
      },
      "execution_count": 74,
      "outputs": []
    },
    {
      "cell_type": "code",
      "source": [
        "cf_matrix=sm.confusion_matrix(actual,p)\n",
        "sns.heatmap(cf_matrix,annot=True,fmt='g')"
      ],
      "metadata": {
        "id": "CM_dQtJ-wuGM",
        "colab": {
          "base_uri": "https://localhost:8080/",
          "height": 0
        },
        "outputId": "a3341609-f33e-416e-c837-b1d8a4c665e7"
      },
      "execution_count": 75,
      "outputs": [
        {
          "output_type": "execute_result",
          "data": {
            "text/plain": [
              "<matplotlib.axes._subplots.AxesSubplot at 0x7fb0cb821550>"
            ]
          },
          "metadata": {},
          "execution_count": 75
        },
        {
          "output_type": "display_data",
          "data": {
            "text/plain": [
              "<Figure size 432x288 with 2 Axes>"
            ],
            "image/png": "[encoded data removed]"
          },
          "metadata": {
            "needs_background": "light"
          }
        }
      ]
    },
    {
      "cell_type": "code",
      "source": [
        "#Classification Report\n",
        "from sklearn.metrics import classification_report\n",
        "print(classification_report(actual,predicted))"
      ],
      "metadata": {
        "id": "kp03ftJaw4U3",
        "colab": {
          "base_uri": "https://localhost:8080/"
        },
        "outputId": "1477ae3f-ca7e-48b2-d061-c0839c725670"
      },
      "execution_count": 76,
      "outputs": [
        {
          "output_type": "stream",
          "name": "stdout",
          "text": [
            "              precision    recall  f1-score   support\n",
            "\n",
            "           0       0.88      0.87      0.87       165\n",
            "           1       0.95      0.96      0.95       439\n",
            "\n",
            "    accuracy                           0.93       604\n",
            "   macro avg       0.92      0.91      0.91       604\n",
            "weighted avg       0.93      0.93      0.93       604\n",
            "\n"
          ]
        }
      ]
    },
    {
      "cell_type": "markdown",
      "source": [
        "Hyperparameter tuning the SVM!"
      ],
      "metadata": {
        "id": "MmFcJ-nCz64v"
      }
    },
    {
      "cell_type": "code",
      "source": [
        "# from sklearn.model_selection import GridSearchCV"
      ],
      "metadata": {
        "id": "ptIx2GAb0S6l"
      },
      "execution_count": 77,
      "outputs": []
    },
    {
      "cell_type": "code",
      "source": [
        "# param_grid={'C':[0.1,1,10,100],\n",
        "#             'gamma':[1,0.1,0.01,0.001,0.0001],\n",
        "#             'kernel':['rbf']}\n",
        "\n",
        "# grid=GridSearchCV(SVC(),param_grid,verbose=5)\n",
        "# grid.fit(train_review_tfidf,y_train)"
      ],
      "metadata": {
        "id": "5wm8CW0Zz-BN"
      },
      "execution_count": 78,
      "outputs": []
    },
    {
      "cell_type": "code",
      "source": [
        "# print(grid.best_params_)\n",
        "# print(grid.best_score_)\n",
        "# print(grid.best_estimator_)"
      ],
      "metadata": {
        "id": "scXIkVb20xO-"
      },
      "execution_count": 79,
      "outputs": []
    },
    {
      "cell_type": "markdown",
      "source": [
        "# Topic Modelling"
      ],
      "metadata": {
        "id": "OLcSlpnq0N_8"
      }
    },
    {
      "cell_type": "code",
      "source": [
        "import warnings\n",
        "warnings.filterwarnings(\"ignore\")"
      ],
      "metadata": {
        "id": "fBM5JYAEZPzy"
      },
      "execution_count": 80,
      "outputs": []
    },
    {
      "cell_type": "code",
      "source": [
        "import nltk\n",
        "nltk.download('averaged_perceptron_tagger')\n",
        "import spacy\n",
        "nlp = spacy.load(\"en_core_web_sm\")\n",
        "!pip install pyLDAvis\n",
        "from sklearn.feature_extraction.text import CountVectorizer\n",
        "from sklearn.decomposition import LatentDirichletAllocation "
      ],
      "metadata": {
        "id": "LtRUglfYVtxa",
        "colab": {
          "base_uri": "https://localhost:8080/"
        },
        "outputId": "0f1e0bab-8cf0-4da2-dfc4-fe64f325ebe9"
      },
      "execution_count": 81,
      "outputs": [
        {
          "output_type": "stream",
          "name": "stdout",
          "text": [
            "[nltk_data] Downloading package averaged_perceptron_tagger to\n",
            "[nltk_data]     /root/nltk_data...\n",
            "[nltk_data]   Unzipping taggers/averaged_perceptron_tagger.zip.\n",
            "Collecting pyLDAvis\n",
            "  Downloading pyLDAvis-3.3.1.tar.gz (1.7 MB)\n",
            "\u001b[K     |████████████████████████████████| 1.7 MB 5.4 MB/s \n",
            "\u001b[?25h  Installing build dependencies ... \u001b[?25l\u001b[?25hdone\n",
            "  Getting requirements to build wheel ... \u001b[?25l\u001b[?25hdone\n",
            "  Installing backend dependencies ... \u001b[?25l\u001b[?25hdone\n",
            "    Preparing wheel metadata ... \u001b[?25l\u001b[?25hdone\n",
            "Requirement already satisfied: sklearn in /usr/local/lib/python3.7/dist-packages (from pyLDAvis) (0.0)\n",
            "Requirement already satisfied: jinja2 in /usr/local/lib/python3.7/dist-packages (from pyLDAvis) (2.11.3)\n",
            "Collecting funcy\n",
            "  Downloading funcy-1.17-py2.py3-none-any.whl (33 kB)\n",
            "Requirement already satisfied: numexpr in /usr/local/lib/python3.7/dist-packages (from pyLDAvis) (2.8.1)\n",
            "Requirement already satisfied: pandas>=1.2.0 in /usr/local/lib/python3.7/dist-packages (from pyLDAvis) (1.3.5)\n",
            "Requirement already satisfied: scikit-learn in /usr/local/lib/python3.7/dist-packages (from pyLDAvis) (1.0.2)\n",
            "Requirement already satisfied: scipy in /usr/local/lib/python3.7/dist-packages (from pyLDAvis) (1.4.1)\n",
            "Requirement already satisfied: future in /usr/local/lib/python3.7/dist-packages (from pyLDAvis) (0.16.0)\n",
            "Requirement already satisfied: numpy>=1.20.0 in /usr/local/lib/python3.7/dist-packages (from pyLDAvis) (1.21.6)\n",
            "Requirement already satisfied: gensim in /usr/local/lib/python3.7/dist-packages (from pyLDAvis) (3.6.0)\n",
            "Requirement already satisfied: joblib in /usr/local/lib/python3.7/dist-packages (from pyLDAvis) (1.1.0)\n",
            "Requirement already satisfied: setuptools in /usr/local/lib/python3.7/dist-packages (from pyLDAvis) (57.4.0)\n",
            "Requirement already satisfied: python-dateutil>=2.7.3 in /usr/local/lib/python3.7/dist-packages (from pandas>=1.2.0->pyLDAvis) (2.8.2)\n",
            "Requirement already satisfied: pytz>=2017.3 in /usr/local/lib/python3.7/dist-packages (from pandas>=1.2.0->pyLDAvis) (2022.1)\n",
            "Requirement already satisfied: six>=1.5 in /usr/local/lib/python3.7/dist-packages (from python-dateutil>=2.7.3->pandas>=1.2.0->pyLDAvis) (1.15.0)\n",
            "Requirement already satisfied: smart-open>=1.2.1 in /usr/local/lib/python3.7/dist-packages (from gensim->pyLDAvis) (6.0.0)\n",
            "Requirement already satisfied: MarkupSafe>=0.23 in /usr/local/lib/python3.7/dist-packages (from jinja2->pyLDAvis) (2.0.1)\n",
            "Requirement already satisfied: packaging in /usr/local/lib/python3.7/dist-packages (from numexpr->pyLDAvis) (21.3)\n",
            "Requirement already satisfied: pyparsing!=3.0.5,>=2.0.2 in /usr/local/lib/python3.7/dist-packages (from packaging->numexpr->pyLDAvis) (3.0.8)\n",
            "Requirement already satisfied: threadpoolctl>=2.0.0 in /usr/local/lib/python3.7/dist-packages (from scikit-learn->pyLDAvis) (3.1.0)\n",
            "Building wheels for collected packages: pyLDAvis\n",
            "  Building wheel for pyLDAvis (PEP 517) ... \u001b[?25l\u001b[?25hdone\n",
            "  Created wheel for pyLDAvis: filename=pyLDAvis-3.3.1-py2.py3-none-any.whl size=136898 sha256=52338eed096431b5bd7845c0e5fcf28ef40b509e89cdaae2552904c157ff4648\n",
            "  Stored in directory: /root/.cache/pip/wheels/c9/21/f6/17bcf2667e8a68532ba2fbf6d5c72fdf4c7f7d9abfa4852d2f\n",
            "Successfully built pyLDAvis\n",
            "Installing collected packages: funcy, pyLDAvis\n",
            "Successfully installed funcy-1.17 pyLDAvis-3.3.1\n"
          ]
        }
      ]
    },
    {
      "cell_type": "code",
      "source": [
        "corpus_bert=pd.DataFrame(df_review[df_review['Sentiment']==0].NewReview)\n",
        "corpus_lda=pd.DataFrame(df_review[df_review['Sentiment']==0].NewReview)\n",
        "\n",
        "corpus_bert=corpus_bert.reset_index()\n",
        "corpus_lda=corpus_lda.reset_index()"
      ],
      "metadata": {
        "id": "7mqtwN6xV1kh"
      },
      "execution_count": 82,
      "outputs": []
    },
    {
      "cell_type": "code",
      "source": [
        "print(corpus_bert.head())"
      ],
      "metadata": {
        "id": "YWVuxoLvV4nI",
        "colab": {
          "base_uri": "https://localhost:8080/"
        },
        "outputId": "abd1e49d-ffe1-432e-d37b-424a63dfb3b3"
      },
      "execution_count": 83,
      "outputs": [
        {
          "output_type": "stream",
          "name": "stdout",
          "text": [
            "   index                                                 NewReview\n",
            "0      0  sit arrangement really bad keep move not happy take care\n",
            "1      2     always crowd non cooperative staff never advice visit\n",
            "2      4       not service good always take time single order also\n",
            "3      6              pathetic service no covid regulations follow\n",
            "4      7                 order late also food cold thats not taste\n"
          ]
        }
      ]
    },
    {
      "cell_type": "code",
      "source": [
        "train_vectorizer=TfidfVectorizer(use_idf=True,lowercase=True,strip_accents='ascii')\n",
        "tfidf_=train_vectorizer.fit_transform(corpus_lda.NewReview)\n",
        "\n",
        "num_components=8\n",
        "lda=LatentDirichletAllocation(n_components=num_components,max_iter=100)\n",
        "lda_tfidf=lda.fit(tfidf_)"
      ],
      "metadata": {
        "id": "iAq7Y6nRV7go"
      },
      "execution_count": 84,
      "outputs": []
    },
    {
      "cell_type": "code",
      "source": [
        "#pyLDAvis for tfidf \n",
        "import pyLDAvis\n",
        "import pyLDAvis.sklearn\n",
        "pyLDAvis.enable_notebook()\n",
        "\n",
        "pyLDAvis.sklearn.prepare(lda_tfidf,tfidf_,train_vectorizer)"
      ],
      "metadata": {
        "id": "D96mfHv2WElR",
        "colab": {
          "base_uri": "https://localhost:8080/",
          "height": 916
        },
        "outputId": "8dc338d4-3a77-4d67-8eda-e84f26cbaad1"
      },
      "execution_count": 85,
      "outputs": [
        {
          "output_type": "stream",
          "name": "stderr",
          "text": [
            "/usr/local/lib/python3.7/dist-packages/past/types/oldstr.py:5: DeprecationWarning: Using or importing the ABCs from 'collections' instead of from 'collections.abc' is deprecated since Python 3.3,and in 3.9 it will stop working\n",
            "  from collections import Iterable\n"
          ]
        },
        {
          "output_type": "execute_result",
          "data": {
            "text/plain": [
              "PreparedData(topic_coordinates=              x         y  topics  cluster       Freq\n",
              "topic                                                \n",
              "7      0.255959 -0.000045       1        1  55.810894\n",
              "0     -0.037169 -0.087326       2        1   9.154347\n",
              "1     -0.033808  0.028374       3        1   6.878562\n",
              "6     -0.043526  0.015260       4        1   6.203910\n",
              "5     -0.043968  0.014576       5        1   5.671805\n",
              "4     -0.024227  0.007657       6        1   5.625577\n",
              "2     -0.039198  0.010131       7        1   5.564861\n",
              "3     -0.034063  0.011373       8        1   5.090044, topic_info=                Term       Freq      Total Category  logprob  loglift\n",
              "414            crowd  16.000000  16.000000  Default  30.0000  30.0000\n",
              "1617         service  17.000000  17.000000  Default  29.0000  29.0000\n",
              "994             late   5.000000   5.000000  Default  28.0000  28.0000\n",
              "457         delivery  13.000000  13.000000  Default  27.0000  27.0000\n",
              "1220              no  13.000000  13.000000  Default  26.0000  26.0000\n",
              "1663            slow   4.000000   4.000000  Default  25.0000  25.0000\n",
              "1558            rush   3.000000   3.000000  Default  24.0000  24.0000\n",
              "133              bad  11.000000  11.000000  Default  23.0000  23.0000\n",
              "1317            park   3.000000   3.000000  Default  22.0000  22.0000\n",
              "1233             not  32.000000  32.000000  Default  21.0000  21.0000\n",
              "1439         provide   3.000000   3.000000  Default  20.0000  20.0000\n",
              "692             food  17.000000  17.000000  Default  19.0000  19.0000\n",
              "1577           sauce   5.000000   5.000000  Default  18.0000  18.0000\n",
              "1279           order  25.000000  25.000000  Default  17.0000  17.0000\n",
              "1451         quality  11.000000  11.000000  Default  16.0000  16.0000\n",
              "391           costly   2.000000   2.000000  Default  15.0000  15.0000\n",
              "1722           staff   7.000000   7.000000  Default  14.0000  14.0000\n",
              "624        expensive   1.000000   1.000000  Default  13.0000  13.0000\n",
              "761             good  17.000000  17.000000  Default  12.0000  12.0000\n",
              "1202            need   4.000000   4.000000  Default  11.0000  11.0000\n",
              "2005           waste   2.000000   2.000000  Default  10.0000  10.0000\n",
              "358        condition   1.000000   1.000000  Default   9.0000   9.0000\n",
              "277           cheese   4.000000   4.000000  Default   8.0000   8.0000\n",
              "1378          please   4.000000   4.000000  Default   7.0000   7.0000\n",
              "120        available   4.000000   4.000000  Default   6.0000   6.0000\n",
              "379             cook   2.000000   2.000000  Default   5.0000   5.0000\n",
              "729              fry  17.000000  17.000000  Default   4.0000   4.0000\n",
              "1013         lettuce   1.000000   1.000000  Default   3.0000   3.0000\n",
              "216           burger  17.000000  17.000000  Default   2.0000   2.0000\n",
              "846         horrible   2.000000   2.000000  Default   1.0000   1.0000\n",
              "1860            time  13.433997  13.810180   Topic1  -4.6829   0.5556\n",
              "216           burger  17.240812  17.725661   Topic1  -4.4334   0.5555\n",
              "729              fry  17.422346  17.924206   Topic1  -4.4230   0.5548\n",
              "1233             not  31.695643  32.769007   Topic1  -3.8245   0.5499\n",
              "1484         receive  10.235525  10.611526   Topic1  -4.9549   0.5471\n",
              "329             cold   9.702704  10.078680   Topic1  -5.0083   0.5452\n",
              "751             give   9.175737   9.551781   Topic1  -5.0642   0.5430\n",
              "326             coke   8.447820   8.823829   Topic1  -5.1468   0.5397\n",
              "477            didnt   8.331162   8.707180   Topic1  -5.1607   0.5391\n",
              "1801            take   7.922146   8.298182   Topic1  -5.2111   0.5368\n",
              "1279           order  24.472455  25.637377   Topic1  -4.0832   0.5367\n",
              "595             even   7.884237   8.260289   Topic1  -5.2159   0.5366\n",
              "761             good  16.653036  17.456021   Topic1  -4.4681   0.5361\n",
              "1102       mcdonalds   9.797923  10.279215   Topic1  -4.9985   0.5352\n",
              "1369           place  14.593902  15.335424   Topic1  -4.6001   0.5336\n",
              "718            fresh   7.359119   7.735096   Topic1  -5.2848   0.5334\n",
              "520             dont   7.302596   7.678653   Topic1  -5.2925   0.5330\n",
              "455          deliver   7.202459   7.578419   Topic1  -5.3063   0.5323\n",
              "1099             mcd   7.179642   7.555746   Topic1  -5.3095   0.5321\n",
              "1114            meal   7.046099   7.422106   Topic1  -5.3282   0.5312\n",
              "758               go   6.964585   7.340670   Topic1  -5.3399   0.5306\n",
              "496       disappoint   6.961739   7.337790   Topic1  -5.3403   0.5306\n",
              "2059           worst   9.817941  10.351378   Topic1  -4.9965   0.5303\n",
              "1809           taste  10.080499  10.628358   Topic1  -4.9701   0.5303\n",
              "63            always  10.696632  11.279042   Topic1  -4.9108   0.5302\n",
              "1021            like   9.831620  10.372494   Topic1  -4.9951   0.5296\n",
              "59              also   8.999716   9.498260   Topic1  -5.0835   0.5293\n",
              "849              hot   6.779677   7.155668   Topic1  -5.3668   0.5292\n",
              "1287          outlet   6.513440   6.889568   Topic1  -5.4069   0.5271\n",
              "553              eat   6.473488   6.849521   Topic1  -5.4130   0.5267\n",
              "692             food  16.907768  17.951407   Topic1  -4.4529   0.5233\n",
              "746              get   9.814114  10.444974   Topic1  -4.9969   0.5209\n",
              "1096              mc   8.388444   8.918114   Topic1  -5.1539   0.5220\n",
              "1451         quality  10.244915  11.506826   Topic1  -4.9539   0.4670\n",
              "414            crowd  13.721823  16.411886   Topic1  -4.6617   0.4042\n",
              "457         delivery  10.940220  13.664871   Topic1  -4.8883   0.3608\n",
              "1617         service  12.532368  17.579370   Topic1  -4.7524   0.2448\n",
              "1265             one   7.705283   8.433225   Topic1  -5.2388   0.4929\n",
              "1220              no  10.159610  13.764228   Topic1  -4.9623   0.2795\n",
              "133              bad   8.919174  11.680593   Topic1  -5.0925   0.3135\n",
              "1663            slow   3.242259   4.075243   Topic2  -4.2967   2.1623\n",
              "807             hate   0.908174   1.310326   Topic2  -5.5693   2.0243\n",
              "1223           noisy   0.869892   1.272052   Topic2  -5.6124   2.0109\n",
              "1472             raw   0.848412   1.250572   Topic2  -5.6374   2.0030\n",
              "1782         supreme   0.836829   1.239052   Topic2  -5.6511   1.9985\n",
              "1110          mcpuff   0.813215   1.215280   Topic2  -5.6797   1.9892\n",
              "1368           pizza   1.033495   1.566680   Topic2  -5.4400   1.9749\n",
              "846         horrible   1.448305   2.230892   Topic2  -5.1026   1.9589\n",
              "2024          werent   0.904018   1.478858   Topic2  -5.5739   1.8988\n",
              "1044            lose   0.793642   1.300749   Topic2  -5.7041   1.8969\n",
              "379             cook   1.454862   2.438600   Topic2  -5.0981   1.8744\n",
              "204            brown   0.584097   0.986326   Topic2  -6.0107   1.8670\n",
              "90             apply   0.580544   0.982524   Topic2  -6.0168   1.8648\n",
              "1788        surprise   0.588291   1.036002   Topic2  -6.0035   1.8250\n",
              "1455           queue   0.485314   0.888355   Topic2  -6.1959   1.7864\n",
              "683           flimsy   0.475579   0.877767   Topic2  -6.2162   1.7781\n",
              "1022           limit   0.620571   1.153721   Topic2  -5.9501   1.7708\n",
              "1388          polite   0.538746   1.003518   Topic2  -6.0915   1.7689\n",
              "900         increase   0.609514   1.138945   Topic2  -5.9681   1.7657\n",
              "1442            puff   0.852033   1.630277   Topic2  -5.6331   1.7421\n",
              "100      arrangement   0.520848   0.999056   Topic2  -6.1253   1.7396\n",
              "2028           whats   0.506116   0.971934   Topic2  -6.1540   1.7384\n",
              "1965      vegetables   0.479023   0.924292   Topic2  -6.2090   1.7337\n",
              "1314             par   0.418575   0.820711   Topic2  -6.3439   1.7176\n",
              "1254           often   0.489380   0.960124   Topic2  -6.1876   1.7170\n",
              "1826              th   0.410188   0.812523   Topic2  -6.3641   1.7074\n",
              "802             hash   0.407434   0.809728   Topic2  -6.3709   1.7041\n",
              "389             cost   0.631149   1.261268   Topic2  -5.9332   1.6986\n",
              "295           choice   0.465659   0.936025   Topic2  -6.2373   1.6928\n",
              "685            floor   0.442971   0.890555   Topic2  -6.2872   1.6926\n",
              "1034          locate   0.711072   1.430619   Topic2  -5.8140   1.6919\n",
              "1097          mcaloo   0.838503   1.820385   Topic2  -5.6491   1.6158\n",
              "1930  unprofessional   0.698188   1.560796   Topic2  -5.8322   1.5865\n",
              "1617         service   4.123955  17.579370   Topic2  -4.0562   0.9410\n",
              "821            hence   0.490501   1.018204   Topic2  -6.1853   1.6606\n",
              "133              bad   2.139684  11.680593   Topic2  -4.7123   0.6937\n",
              "277           cheese   1.113922   4.305378   Topic2  -5.3651   1.0390\n",
              "1722           staff   1.509043   7.748739   Topic2  -5.0615   0.7549\n",
              "1093            mayo   0.857440   2.781655   Topic2  -5.6268   1.2141\n",
              "1459           quite   0.644130   1.598933   Topic2  -5.9128   1.4818\n",
              "1354          person   0.669972   1.875893   Topic2  -5.8735   1.3613\n",
              "1604            seem   0.699075   2.907522   Topic2  -5.8310   0.9656\n",
              "457         delivery   1.012117  13.664871   Topic2  -5.4609  -0.2118\n",
              "218          burgers   0.788958   5.912141   Topic2  -5.7100   0.3769\n",
              "1855           tikki   0.740405   5.708128   Topic2  -5.7735   0.3485\n",
              "1279           order   0.851905  25.637377   Topic2  -5.6333  -1.0134\n",
              "1220              no   0.730922  13.764228   Topic2  -5.7864  -0.5446\n",
              "624        expensive   1.507060   1.954114   Topic3  -4.7770   2.4170\n",
              "1317            park   2.456345   3.334523   Topic3  -4.2885   2.3711\n",
              "1439         provide   1.945737   3.081350   Topic3  -4.5215   2.2170\n",
              "123            avoid   0.684566   1.093771   Topic3  -5.5661   2.2082\n",
              "1661           slice   0.610358   1.019463   Topic3  -5.6809   2.1638\n",
              "809           havent   0.642123   1.082036   Topic3  -5.6301   2.1549\n",
              "1871          tomato   0.823793   1.410256   Topic3  -5.3810   2.1392\n",
              "1420         problem   0.865498   1.576973   Topic3  -5.3316   2.0768\n",
              "1313           paper   0.895838   1.673980   Topic3  -5.2972   2.0516\n",
              "1204        negative   0.501336   0.999964   Topic3  -5.8776   1.9863\n",
              "1862          tissue   0.675609   1.359363   Topic3  -5.5793   1.9776\n",
              "468          dessert   0.396975   0.806226   Topic3  -6.1110   1.9683\n",
              "5              abuse   0.392146   0.801536   Topic3  -6.1233   1.9619\n",
              "1188         mustard   0.466288   0.965186   Topic3  -5.9501   1.9492\n",
              "1071            mall   0.508652   1.062469   Topic3  -5.8632   1.9402\n",
              "912   infrastructure   0.371488   0.780466   Topic3  -6.1774   1.9344\n",
              "375          content   0.355362   0.764388   Topic3  -6.2218   1.9108\n",
              "1004           least   0.462694   1.000370   Topic3  -5.9578   1.9057\n",
              "1625          shaker   0.337313   0.746419   Topic3  -6.2739   1.8825\n",
              "1712           split   0.337000   0.746211   Topic3  -6.2748   1.8818\n",
              "1857           tikky   0.319705   0.728783   Topic3  -6.3275   1.8528\n",
              "823              hey   0.315373   0.724675   Topic3  -6.3412   1.8448\n",
              "1542            risk   0.313742   0.722726   Topic3  -6.3463   1.8423\n",
              "1622           shady   0.311355   0.720332   Topic3  -6.3540   1.8380\n",
              "1610        separate   0.307612   0.716657   Topic3  -6.3661   1.8310\n",
              "1969         vehicle   0.304423   0.713408   Topic3  -6.3765   1.8251\n",
              "242          careful   0.297946   0.707133   Topic3  -6.3980   1.8125\n",
              "577           entice   0.295634   0.704745   Topic3  -6.4058   1.8080\n",
              "1797         systems   0.293188   0.702278   Topic3  -6.4141   1.8032\n",
              "465          deserve   0.289778   0.698755   Topic3  -6.4258   1.7966\n",
              "1047            love   0.562342   1.359885   Topic3  -5.7628   1.7937\n",
              "196              boy   0.625981   1.611718   Topic3  -5.6556   1.7310\n",
              "161             best   0.442153   1.140510   Topic3  -6.0033   1.7292\n",
              "1061             mad   0.540060   1.506528   Topic3  -5.8032   1.6509\n",
              "1260            okay   0.429371   1.129219   Topic3  -6.0326   1.7098\n",
              "1577           sauce   1.224147   5.049076   Topic3  -4.9849   1.2598\n",
              "198            brand   0.469951   1.393346   Topic3  -5.9423   1.5899\n",
              "1220              no   1.771239  13.764228   Topic3  -4.6155   0.6264\n",
              "272            cheap   0.423902   1.209049   Topic3  -6.0454   1.6287\n",
              "23               add   0.525292   1.974447   Topic3  -5.8310   1.3527\n",
              "1378          please   0.709348   4.414907   Topic3  -5.5306   0.8484\n",
              "120        available   0.683092   4.104278   Topic3  -5.5683   0.8836\n",
              "1752           straw   0.579497   2.994546   Topic3  -5.7328   1.0344\n",
              "1694           space   0.615765   4.274330   Topic3  -5.6721   0.7392\n",
              "1215            nice   0.448041   1.709043   Topic3  -5.9900   1.3380\n",
              "379             cook   0.461159   2.438600   Topic3  -5.9612   1.0113\n",
              "1050             low   0.444841   2.393237   Topic3  -5.9972   0.9941\n",
              "761             good   0.482970  17.456021   Topic3  -5.9150  -0.9107\n",
              "1233             not   0.475197  32.769007   Topic3  -5.9312  -1.5567\n",
              "1811           tasty   0.689242   1.100437   Topic4  -5.4561   2.3121\n",
              "1247        occasion   0.531219   0.942721   Topic4  -5.7165   2.2064\n",
              "1041           loose   0.575801   1.084034   Topic4  -5.6359   2.1473\n",
              "1523  responsibility   0.442522   0.853790   Topic4  -5.8992   2.1228\n",
              "1428        progress   0.424071   0.835172   Topic4  -5.9418   2.1023\n",
              "1275          option   0.515498   1.053383   Topic4  -5.7466   2.0654\n",
              "820          helpful   0.474285   0.981480   Topic4  -5.8299   2.0527\n",
              "2005           waste   1.082175   2.317198   Topic4  -5.0050   2.0186\n",
              "860             huge   0.369341   0.812112   Topic4  -6.0800   1.9921\n",
              "1131        menuvand   0.339081   0.750349   Topic4  -6.1654   1.9857\n",
              "1870            toll   0.335060   0.746380   Topic4  -6.1774   1.9791\n",
              "435           decade   0.330547   0.741650   Topic4  -6.1909   1.9719\n",
              "479           differ   0.327402   0.738503   Topic4  -6.2005   1.9666\n",
              "27     adequatestaff   0.327122   0.738250   Topic4  -6.2014   1.9660\n",
              "406             crap   0.315565   0.726747   Topic4  -6.2373   1.9458\n",
              "1884           track   0.314791   0.726157   Topic4  -6.2398   1.9441\n",
              "914       ingredient   0.303815   0.715194   Topic4  -6.2753   1.9239\n",
              "763             grab   0.301846   0.713031   Topic4  -6.2818   1.9204\n",
              "810           health   0.298672   0.709773   Topic4  -6.2923   1.9144\n",
              "1765          subway   0.298672   0.709773   Topic4  -6.2923   1.9144\n",
              "1229          normal   0.532039   1.269137   Topic4  -5.7150   1.9106\n",
              "943    irresponsible   0.296613   0.709361   Topic4  -6.2993   1.9081\n",
              "2084            zero   0.339775   0.816517   Topic4  -6.1634   1.9032\n",
              "804           hassle   0.290112   0.701217   Topic4  -6.3214   1.8974\n",
              "1804           taker   0.290112   0.701217   Topic4  -6.3214   1.8974\n",
              "1087           match   0.287941   0.699117   Topic4  -6.3289   1.8929\n",
              "1249             odd   0.283711   0.694909   Topic4  -6.3437   1.8842\n",
              "881            image   0.311619   0.764134   Topic4  -6.2499   1.8830\n",
              "1293       overcrowd   0.283132   0.694318   Topic4  -6.3458   1.8830\n",
              "1511         replace   0.412959   1.024780   Topic4  -5.9683   1.8711\n",
              "1031           local   0.412160   1.079381   Topic4  -5.9703   1.8173\n",
              "695             fool   0.314742   0.807900   Topic4  -6.2399   1.8373\n",
              "1828           thank   0.438520   1.540501   Topic4  -5.9083   1.5235\n",
              "666             fill   0.439789   1.643517   Topic4  -5.9054   1.4617\n",
              "1222           noise   0.353180   1.060798   Topic4  -6.1247   1.6802\n",
              "1658            size   0.419304   1.593228   Topic4  -5.9531   1.4451\n",
              "445         decrease   0.340230   0.994570   Topic4  -6.1621   1.7073\n",
              "1451         quality   0.776897  11.506826   Topic4  -5.3364   0.0846\n",
              "1194            name   0.349293   1.164275   Topic4  -6.1358   1.5760\n",
              "1061             mad   0.376002   1.506528   Topic4  -6.0621   1.3920\n",
              "1224             non   0.402129   2.581389   Topic4  -5.9949   0.9207\n",
              "1220              no   0.541953  13.764228   Topic4  -5.6965  -0.4547\n",
              "163           better   0.383484   3.894384   Topic4  -6.0424   0.4620\n",
              "526           double   0.319726   0.925878   Topic4  -6.2242   1.7167\n",
              "358        condition   1.143474   1.596119   Topic5  -4.8602   2.5362\n",
              "889      improvement   0.629993   1.093713   Topic5  -5.4563   2.3180\n",
              "47               air   0.721121   1.296124   Topic5  -5.3212   2.2833\n",
              "945             isnt   0.603625   1.089420   Topic5  -5.4991   2.2792\n",
              "1156             mix   0.512862   0.925990   Topic5  -5.6620   2.2788\n",
              "103           arrive   0.576810   1.095225   Topic5  -5.5445   2.2285\n",
              "720        freshness   0.453634   0.867275   Topic5  -5.7847   2.2216\n",
              "122          average   0.910585   1.757215   Topic5  -5.0879   2.2123\n",
              "1296        overrate   0.466980   0.949968   Topic5  -5.7557   2.1595\n",
              "384     coordination   0.340698   0.753783   Topic5  -6.0710   2.0756\n",
              "1332         patties   0.465811   1.040443   Topic5  -5.7582   2.0660\n",
              "1433          prompt   0.326434   0.739536   Topic5  -6.1138   2.0519\n",
              "360             cone   0.313468   0.726725   Topic5  -6.1543   2.0288\n",
              "1450             qty   0.309975   0.723090   Topic5  -6.1655   2.0226\n",
              "791         handover   0.286351   0.699526   Topic5  -6.2448   1.9765\n",
              "1820     temperature   0.284629   0.697745   Topic5  -6.2508   1.9730\n",
              "260       chairtable   0.283014   0.696403   Topic5  -6.2565   1.9692\n",
              "33                af   0.372693   0.918301   Topic5  -5.9813   1.9679\n",
              "85            anyone   0.469170   1.166147   Topic5  -5.7510   1.9592\n",
              "1863             tje   0.276033   0.689169   Topic5  -6.2815   1.9547\n",
              "960             junk   0.271317   0.684402   Topic5  -6.2987   1.9444\n",
              "1929       unlimited   0.265256   0.678430   Topic5  -6.3213   1.9306\n",
              "278           cheesy   0.370679   0.951304   Topic5  -5.9867   1.9272\n",
              "491              dip   0.326035   0.838652   Topic5  -6.1150   1.9249\n",
              "1897            turn   0.327343   0.865206   Topic5  -6.1110   1.8977\n",
              "523         doorstep   0.251325   0.664820   Topic5  -6.3753   1.8969\n",
              "157        behaviour   0.311519   0.834785   Topic5  -6.1606   1.8840\n",
              "1964       vegetable   0.290063   0.779499   Topic5  -6.2319   1.8811\n",
              "726        friesrest   0.241500   0.654699   Topic5  -6.4151   1.8724\n",
              "184        blueberry   0.233813   0.647767   Topic5  -6.4475   1.8507\n",
              "1953         usually   0.512883   1.562982   Topic5  -5.6620   1.7554\n",
              "1772           sugar   0.345144   1.015731   Topic5  -6.0580   1.7903\n",
              "1354          person   0.483130   1.875893   Topic5  -5.7217   1.5131\n",
              "648             fast   0.423131   2.072554   Topic5  -5.8543   1.2808\n",
              "1202            need   0.580033   4.741203   Topic5  -5.5389   0.7687\n",
              "1058      macdonalds   0.283725   1.204123   Topic5  -6.2540   1.4242\n",
              "766            great   0.286828   3.099131   Topic5  -6.2431   0.4897\n",
              "391           costly   1.610618   2.024764   Topic6  -4.5095   2.6490\n",
              "1968         veggies   0.663930   1.316413   Topic6  -5.3957   2.1934\n",
              "437           decent   0.621858   1.246079   Topic6  -5.4611   2.1828\n",
              "429             damn   0.399553   0.813804   Topic6  -5.9035   2.1665\n",
              "345          compare   0.819967   1.718434   Topic6  -5.1846   2.1379\n",
              "1168        mosquito   0.368263   0.782301   Topic6  -5.9850   2.1244\n",
              "1258            oily   0.622394   1.324536   Topic6  -5.4603   2.1226\n",
              "128            awful   0.366766   0.780805   Topic6  -5.9891   2.1222\n",
              "951             jain   0.360434   0.774472   Topic6  -6.0065   2.1130\n",
              "687        fluctuate   0.358726   0.772765   Topic6  -6.0113   2.1104\n",
              "1551         rubbish   0.352184   0.766254   Topic6  -6.0297   2.1005\n",
              "994             late   2.576978   5.718764   Topic6  -4.0395   2.0807\n",
              "1493          refill   0.332869   0.746908   Topic6  -6.0861   2.0697\n",
              "483        difficult   0.471887   1.081117   Topic6  -5.7371   2.0488\n",
              "1372           plane   0.302457   0.716740   Topic6  -6.1819   2.0151\n",
              "1675           snack   0.286181   0.700220   Topic6  -6.2372   1.9831\n",
              "1959       varieties   0.286181   0.700220   Topic6  -6.2372   1.9831\n",
              "730            fudge   0.281391   0.695503   Topic6  -6.2541   1.9730\n",
              "339            combo   0.279970   0.694145   Topic6  -6.2591   1.9698\n",
              "1559          sachet   0.277928   0.691967   Topic6  -6.2665   1.9657\n",
              "1725           stall   0.274823   0.688944   Topic6  -6.2777   1.9588\n",
              "1039          longer   0.265512   0.679575   Topic6  -6.3122   1.9380\n",
              "1549           route   0.265512   0.679575   Topic6  -6.3122   1.9380\n",
              "1054             lyk   0.259159   0.673419   Topic6  -6.3364   1.9229\n",
              "1548          rotten   0.249293   0.663415   Topic6  -6.3752   1.8991\n",
              "1941           upper   0.248580   0.662619   Topic6  -6.3781   1.8974\n",
              "318          clutter   0.246134   0.660234   Topic6  -6.3880   1.8911\n",
              "1135           messy   0.246134   0.660234   Topic6  -6.3880   1.8911\n",
              "74           amongst   0.237260   0.651346   Topic6  -6.4247   1.8680\n",
              "1771       suffocate   0.237260   0.651346   Topic6  -6.4247   1.8680\n",
              "273            cheat   0.455473   1.275806   Topic6  -5.7725   1.8479\n",
              "1796          system   0.442039   1.308616   Topic6  -5.8024   1.7925\n",
              "1222           noise   0.347044   1.060798   Topic6  -6.0444   1.7605\n",
              "527            doubt   0.284485   0.812247   Topic6  -6.2431   1.8287\n",
              "457         delivery   1.338524  13.664871   Topic6  -4.6945   0.5546\n",
              "171             bill   0.313577   1.135740   Topic6  -6.1458   1.5909\n",
              "1708           spill   0.398857   2.347810   Topic6  -5.9052   1.1052\n",
              "1713           spoil   0.328052   1.326611   Topic6  -6.1007   1.4806\n",
              "1104        mcflurry   0.319692   1.309133   Topic6  -6.1265   1.4681\n",
              "692             food   0.631800  17.951407   Topic6  -5.4453  -0.4690\n",
              "1001            lazy   0.312849   1.396151   Topic6  -6.1481   1.3821\n",
              "1617         service   0.442503  17.579370   Topic6  -5.8014  -0.8042\n",
              "1220              no   0.408339  13.764228   Topic6  -5.8817  -0.6399\n",
              "175             bite   0.329507   3.755040   Topic6  -6.0962   0.4446\n",
              "1732           start   0.303715   1.989455   Topic6  -6.1777   0.9983\n",
              "1009            less   0.301413   5.898446   Topic6  -6.1853  -0.0961\n",
              "694            foods   0.860976   1.274832   Topic7  -5.1249   2.4962\n",
              "1558            rush   1.690730   3.408638   Topic7  -4.4501   2.1875\n",
              "1013         lettuce   0.947328   1.945890   Topic7  -5.0293   2.1689\n",
              "963          justify   0.391668   0.805558   Topic7  -5.9126   2.1676\n",
              "502          disgust   0.850888   1.790744   Topic7  -5.1367   2.1446\n",
              "64             alwaz   0.357837   0.771761   Topic7  -6.0029   2.1201\n",
              "1869          toilet   0.350023   0.763840   Topic7  -6.0250   2.1083\n",
              "1250            oder   0.348903   0.762720   Topic7  -6.0282   2.1066\n",
              "911      informative   0.309814   0.723632   Topic7  -6.1470   2.0404\n",
              "1881         towards   0.309814   0.723632   Topic7  -6.1470   2.0404\n",
              "1383            plzz   0.303221   0.717099   Topic7  -6.1685   2.0279\n",
              "697         footfall   0.283779   0.697596   Topic7  -6.2348   1.9893\n",
              "265            chaos   0.274616   0.688469   Topic7  -6.2676   1.9696\n",
              "1294       overhyped   0.272558   0.686471   Topic7  -6.2751   1.9650\n",
              "813          heavily   0.351499   0.888939   Topic7  -6.0208   1.9609\n",
              "132         bacteria   0.270598   0.684415   Topic7  -6.2823   1.9608\n",
              "1496          refuse   0.331086   0.840182   Topic7  -6.0806   1.9575\n",
              "91       appropriate   0.262031   0.675897   Topic7  -6.3145   1.9411\n",
              "1682            soil   0.262031   0.675897   Topic7  -6.3145   1.9411\n",
              "1822        terrible   0.361108   0.933484   Topic7  -5.9938   1.9390\n",
              "159            berry   0.256974   0.670807   Topic7  -6.3340   1.9292\n",
              "1008        lemonade   0.256974   0.670807   Topic7  -6.3340   1.9292\n",
              "1723        staffers   0.252528   0.666393   Topic7  -6.3515   1.9183\n",
              "1565           salad   0.300581   0.793922   Topic7  -6.1773   1.9174\n",
              "868               hv   0.250342   0.664275   Topic7  -6.3601   1.9128\n",
              "322             code   0.245951   0.659768   Topic7  -6.3778   1.9019\n",
              "1431           promo   0.245951   0.659768   Topic7  -6.3778   1.9019\n",
              "1597          season   0.245797   0.659741   Topic7  -6.3785   1.9014\n",
              "323            coffe   0.235210   0.649092   Topic7  -6.4225   1.8736\n",
              "754           global   0.251901   0.699485   Topic7  -6.3539   1.8674\n",
              "442          decline   0.331680   0.965931   Topic7  -6.0788   1.8198\n",
              "1075      management   0.431863   1.350832   Topic7  -5.8149   1.7483\n",
              "1708           spill   0.658436   2.347810   Topic7  -5.3931   1.6173\n",
              "1821            term   0.365434   1.124409   Topic7  -5.9819   1.7648\n",
              "541             dull   0.313756   0.920120   Topic7  -6.1344   1.8128\n",
              "666             fill   0.431604   1.643517   Topic7  -5.8155   1.5516\n",
              "2026             wet   0.359228   1.249941   Topic7  -5.9990   1.6418\n",
              "1917      understand   0.295278   0.922106   Topic7  -6.1951   1.7500\n",
              "1745         stomach   0.298702   0.949467   Topic7  -6.1835   1.7322\n",
              "852            hours   0.382054   2.267455   Topic7  -5.9374   1.1078\n",
              "1469             rat   0.330250   1.462315   Topic7  -6.0831   1.4008\n",
              "1178            much   0.409542   6.413854   Topic7  -5.8679   0.1375\n",
              "1028          little   0.348023   3.097575   Topic7  -6.0307   0.7026\n",
              "1317            park   0.335470   3.334523   Topic7  -6.0674   0.5921\n",
              "1646            side   0.301382   1.532675   Topic7  -6.1746   1.2623\n",
              "2067           wrong   0.310296   2.515106   Topic7  -6.1455   0.7962\n",
              "1670           smell   0.310675   2.578440   Topic7  -6.1442   0.7725\n",
              "411            crisp   0.400449   0.816350   Topic8  -5.8012   2.2656\n",
              "156         behavior   0.364575   0.820421   Topic8  -5.8951   2.1668\n",
              "6            abysmal   0.326673   0.742623   Topic8  -6.0048   2.1567\n",
              "1177             msg   0.312398   0.728335   Topic8  -6.0495   2.1314\n",
              "1595            seal   0.312052   0.728072   Topic8  -6.0506   2.1307\n",
              "629           expose   0.298045   0.714092   Topic8  -6.0965   2.1041\n",
              "1430         promise   0.283350   0.699342   Topic8  -6.1471   2.0744\n",
              "1272   operationally   0.281923   0.697816   Topic8  -6.1522   2.0716\n",
              "569            empty   0.392753   0.981097   Topic8  -5.8206   2.0624\n",
              "24          addition   0.277344   0.693416   Topic8  -6.1685   2.0615\n",
              "908        infection   0.276557   0.692512   Topic8  -6.1714   2.0600\n",
              "2038            whre   0.272115   0.688267   Topic8  -6.1876   2.0499\n",
              "289        chinchwad   0.470707   1.209863   Topic8  -5.6396   2.0339\n",
              "2002        washroom   0.416386   1.093517   Topic8  -5.7622   2.0123\n",
              "321             cock   0.252966   0.668931   Topic8  -6.2605   2.0055\n",
              "1813             tea   0.252966   0.668931   Topic8  -6.2605   2.0055\n",
              "498         disaster   0.250756   0.666738   Topic8  -6.2693   2.0000\n",
              "1541             rip   0.246284   0.662283   Topic8  -6.2873   1.9887\n",
              "1344           penny   0.234783   0.650738   Topic8  -6.3351   1.9584\n",
              "1365          pimpri   0.269424   0.755360   Topic8  -6.1975   1.9470\n",
              "376          control   0.223257   0.639266   Topic8  -6.3855   1.9259\n",
              "1875           total   0.287660   0.826035   Topic8  -6.1320   1.9230\n",
              "920              inr   0.218092   0.634204   Topic8  -6.4089   1.9104\n",
              "1787           surge   0.218092   0.634204   Topic8  -6.4089   1.9104\n",
              "1683           solve   0.271489   0.800561   Topic8  -6.1899   1.8965\n",
              "774              gud   0.205962   0.621905   Topic8  -6.4661   1.8728\n",
              "1632            shit   0.541354   1.635158   Topic8  -5.4997   1.8725\n",
              "707        franchise   0.259862   0.798350   Topic8  -6.2336   1.8555\n",
              "364          congest   0.302299   0.930931   Topic8  -6.0824   1.8531\n",
              "181           bloody   0.199704   0.615736   Topic8  -6.4970   1.8519\n",
              "226             cafe   0.357856   1.162266   Topic8  -5.9137   1.7999\n",
              "1794          switch   0.311764   1.019380   Topic8  -6.0515   1.7932\n",
              "414            crowd   2.177641  16.411886   Topic8  -4.1078   0.9581\n",
              "1745         stomach   0.285873   0.949467   Topic8  -6.1382   1.7775\n",
              "1554            ruin   0.273838   0.890641   Topic8  -6.1813   1.7985\n",
              "1267           onion   0.298063   1.045449   Topic8  -6.0965   1.7230\n",
              "1215            nice   0.378811   1.709043   Topic8  -5.8568   1.4712\n",
              "2039            wifi   0.275256   1.268387   Topic8  -6.1761   1.4501\n",
              "801           hardly   0.297170   2.484252   Topic8  -6.0995   0.8545\n",
              "1206         neither   0.264951   1.288933   Topic8  -6.2142   1.3959\n",
              "198            brand   0.261037   1.393346   Topic8  -6.2291   1.3031, token_table=      Topic      Freq            Term\n",
              "term                                 \n",
              "23        2  0.506471             add\n",
              "23        3  0.506471             add\n",
              "47        5  0.771531             air\n",
              "59        1  0.947542            also\n",
              "63        1  0.975260          always\n",
              "90        2  1.017787           apply\n",
              "100       2  1.000945     arrangement\n",
              "103       5  0.913054          arrive\n",
              "120       1  0.730945       available\n",
              "120       3  0.243648       available\n",
              "122       5  0.569082         average\n",
              "123       3  0.914268           avoid\n",
              "133       1  0.770509             bad\n",
              "133       2  0.171224             bad\n",
              "163       1  0.770340          better\n",
              "175       1  0.798926            bite\n",
              "196       3  0.620456             boy\n",
              "204       2  1.013864           brown\n",
              "216       1  0.959062          burger\n",
              "218       1  0.845717         burgers\n",
              "218       2  0.169143         burgers\n",
              "277       1  0.696803          cheese\n",
              "277       2  0.232268          cheese\n",
              "326       1  0.906636            coke\n",
              "329       1  0.992193            cold\n",
              "345       6  0.581925         compare\n",
              "358       5  0.626520       condition\n",
              "379       2  0.410071            cook\n",
              "389       2  0.792853            cost\n",
              "391       6  0.987769          costly\n",
              "414       1  0.853040           crowd\n",
              "414       8  0.121863           crowd\n",
              "437       6  0.802518          decent\n",
              "455       1  0.923676         deliver\n",
              "457       1  0.804984        delivery\n",
              "457       2  0.073180        delivery\n",
              "457       6  0.073180        delivery\n",
              "477       1  0.918782           didnt\n",
              "496       1  0.953966      disappoint\n",
              "502       7  0.558427         disgust\n",
              "520       1  0.911618            dont\n",
              "553       1  0.875974             eat\n",
              "595       1  0.968489            even\n",
              "624       3  1.023482       expensive\n",
              "648       2  0.482497            fast\n",
              "692       1  0.947001            food\n",
              "692       6  0.055706            food\n",
              "694       7  0.784417           foods\n",
              "718       1  0.904966           fresh\n",
              "729       1  0.948438             fry\n",
              "746       1  0.957398             get\n",
              "751       1  0.942233            give\n",
              "758       1  0.953591              go\n",
              "761       1  0.973876            good\n",
              "766       1  0.645342           great\n",
              "801       1  0.805071          hardly\n",
              "807       2  0.763169            hate\n",
              "809       3  0.924184          havent\n",
              "846       2  0.448251        horrible\n",
              "849       1  0.978245             hot\n",
              "852       1  0.882046           hours\n",
              "889       5  0.914316     improvement\n",
              "900       2  0.878006        increase\n",
              "945       5  0.917920            isnt\n",
              "994       1  0.524589            late\n",
              "994       6  0.524589            late\n",
              "1001      1  0.716255            lazy\n",
              "1009      1  0.847681            less\n",
              "1013      7  0.513904         lettuce\n",
              "1021      1  0.964088            like\n",
              "1022      2  0.866760           limit\n",
              "1028      1  0.645666          little\n",
              "1034      2  0.698998          locate\n",
              "1041      4  0.922481           loose\n",
              "1044      2  0.768788            lose\n",
              "1047      3  0.735357            love\n",
              "1050      1  0.835688             low\n",
              "1058      2  0.830480      macdonalds\n",
              "1061      3  0.663778             mad\n",
              "1071      3  0.941204            mall\n",
              "1075      1  0.740285      management\n",
              "1093      1  0.359498            mayo\n",
              "1093      2  0.359498            mayo\n",
              "1096      1  0.897051              mc\n",
              "1097      1  0.549334          mcaloo\n",
              "1097      2  0.549334          mcaloo\n",
              "1099      1  0.926447             mcd\n",
              "1102      1  0.972837       mcdonalds\n",
              "1104      1  0.763864        mcflurry\n",
              "1110      2  0.822855          mcpuff\n",
              "1114      1  0.943129            meal\n",
              "1156      5  1.079926             mix\n",
              "1178      1  0.935475            much\n",
              "1202      1  0.843668            need\n",
              "1202      5  0.210917            need\n",
              "1204      3  1.000036        negative\n",
              "1220      1  0.726521              no\n",
              "1220      2  0.072652              no\n",
              "1220      3  0.145304              no\n",
              "1220      4  0.072652              no\n",
              "1223      2  0.786131           noisy\n",
              "1224      1  0.774777             non\n",
              "1229      4  0.787937          normal\n",
              "1233      1  0.976532             not\n",
              "1247      4  1.060759        occasion\n",
              "1258      6  0.754981            oily\n",
              "1265      1  0.948629             one\n",
              "1275      4  0.949322          option\n",
              "1279      1  0.936133           order\n",
              "1279      2  0.039006           order\n",
              "1287      1  1.016029          outlet\n",
              "1313      3  0.597379           paper\n",
              "1317      3  0.599786            park\n",
              "1354      2  0.533079          person\n",
              "1368      2  0.638292           pizza\n",
              "1369      1  0.978127           place\n",
              "1378      1  0.679516          please\n",
              "1378      3  0.226505          please\n",
              "1388      2  0.996494          polite\n",
              "1420      3  0.634126         problem\n",
              "1439      1  0.324533         provide\n",
              "1439      3  0.649066         provide\n",
              "1442      2  0.613393            puff\n",
              "1451      1  0.869049         quality\n",
              "1451      4  0.086905         quality\n",
              "1459      2  0.625417           quite\n",
              "1469      2  0.683847             rat\n",
              "1472      2  0.799634             raw\n",
              "1484      1  0.942372         receive\n",
              "1558      1  0.293372            rush\n",
              "1558      7  0.586745            rush\n",
              "1577      1  0.792224           sauce\n",
              "1577      3  0.198056           sauce\n",
              "1604      1  0.687871            seem\n",
              "1604      2  0.343936            seem\n",
              "1617      1  0.739503         service\n",
              "1617      2  0.227539         service\n",
              "1632      1  0.611562            shit\n",
              "1632      8  0.611562            shit\n",
              "1646      1  0.652454            side\n",
              "1658      1  0.627656            size\n",
              "1661      3  0.980909           slice\n",
              "1663      1  0.245384            slow\n",
              "1663      2  0.736152            slow\n",
              "1670      1  0.775663           smell\n",
              "1694      1  0.701864           space\n",
              "1694      3  0.233955           space\n",
              "1708      7  0.425929           spill\n",
              "1713      1  0.753800           spoil\n",
              "1722      1  0.774319           staff\n",
              "1722      2  0.258106           staff\n",
              "1732      1  0.502650           start\n",
              "1752      1  0.667881           straw\n",
              "1752      3  0.333940           straw\n",
              "1782      2  0.807069         supreme\n",
              "1788      2  0.965249        surprise\n",
              "1801      1  0.964067            take\n",
              "1809      1  0.940879           taste\n",
              "1811      4  0.908730           tasty\n",
              "1828      1  0.649140           thank\n",
              "1855      1  0.875944           tikki\n",
              "1855      2  0.175189           tikki\n",
              "1860      1  0.941335            time\n",
              "1862      3  0.735638          tissue\n",
              "1871      3  0.709091          tomato\n",
              "1930      2  0.640699  unprofessional\n",
              "1953      5  0.639803         usually\n",
              "1968      6  0.759640         veggies\n",
              "2005      2  0.431556           waste\n",
              "2005      4  0.431556           waste\n",
              "2024      2  0.676198          werent\n",
              "2026      1  0.800038             wet\n",
              "2028      2  1.028877           whats\n",
              "2059      1  0.966055           worst\n",
              "2067      1  0.795195           wrong, R=30, lambda_step=0.01, plot_opts={'xlab': 'PC1', 'ylab': 'PC2'}, topic_order=[8, 1, 2, 7, 6, 5, 3, 4])"
            ],
            "text/html": [
              "\n",
              "<link rel=\"stylesheet\" type=\"text/css\" href=\"https://cdn.jsdelivr.net/gh/bmabey/pyLDAvis@3.3.1/pyLDAvis/js/ldavis.v1.0.0.css\">\n",
              "\n",
              "\n",
              "<div id=\"ldavis_el651403971185585442381471055\"></div>\n",
              "<script type=\"text/javascript\">\n",
              "\n",
              "var ldavis_el651403971185585442381471055_data = {\"mdsDat\": {\"x\": [0.255959240115293, -0.037168954981704964, -0.03380821022418064, -0.04352637374571294, -0.04396777394423923, -0.024226979024766913, -0.039197605055439205, -0.03406334313924885], \"y\": [-4.4702558595176286e-05, -0.08732552201440051, 0.02837355341952846, 0.015259871737024238, 0.014576219272171714, 0.0076568150340440054, 0.010130936869386533, 0.011372828240840896], \"topics\": [1, 2, 3, 4, 5, 6, 7, 8], \"cluster\": [1, 1, 1, 1, 1, 1, 1, 1], \"Freq\": [55.810893584950584, 9.154347260517394, 6.878561627338434, 6.2039102338570125, 5.671805332750559, 5.625576815784316, 5.5648613298945655, 5.090043814907137]}, \"tinfo\": {\"Term\": [\"crowd\", \"service\", \"late\", \"delivery\", \"no\", \"slow\", \"rush\", \"bad\", \"park\", \"not\", \"provide\", \"food\", \"sauce\", \"order\", \"quality\", \"costly\", \"staff\", \"expensive\", \"good\", \"need\", \"waste\", \"condition\", \"cheese\", \"please\", \"available\", \"cook\", \"fry\", \"lettuce\", \"burger\", \"horrible\", \"time\", \"burger\", \"fry\", \"not\", \"receive\", \"cold\", \"give\", \"coke\", \"didnt\", \"take\", \"order\", \"even\", \"good\", \"mcdonalds\", \"place\", \"fresh\", \"dont\", \"deliver\", \"mcd\", \"meal\", \"go\", \"disappoint\", \"worst\", \"taste\", \"always\", \"like\", \"also\", \"hot\", \"outlet\", \"eat\", \"food\", \"get\", \"mc\", \"quality\", \"crowd\", \"delivery\", \"service\", \"one\", \"no\", \"bad\", \"slow\", \"hate\", \"noisy\", \"raw\", \"supreme\", \"mcpuff\", \"pizza\", \"horrible\", \"werent\", \"lose\", \"cook\", \"brown\", \"apply\", \"surprise\", \"queue\", \"flimsy\", \"limit\", \"polite\", \"increase\", \"puff\", \"arrangement\", \"whats\", \"vegetables\", \"par\", \"often\", \"th\", \"hash\", \"cost\", \"choice\", \"floor\", \"locate\", \"mcaloo\", \"unprofessional\", \"service\", \"hence\", \"bad\", \"cheese\", \"staff\", \"mayo\", \"quite\", \"person\", \"seem\", \"delivery\", \"burgers\", \"tikki\", \"order\", \"no\", \"expensive\", \"park\", \"provide\", \"avoid\", \"slice\", \"havent\", \"tomato\", \"problem\", \"paper\", \"negative\", \"tissue\", \"dessert\", \"abuse\", \"mustard\", \"mall\", \"infrastructure\", \"content\", \"least\", \"shaker\", \"split\", \"tikky\", \"hey\", \"risk\", \"shady\", \"separate\", \"vehicle\", \"careful\", \"entice\", \"systems\", \"deserve\", \"love\", \"boy\", \"best\", \"mad\", \"okay\", \"sauce\", \"brand\", \"no\", \"cheap\", \"add\", \"please\", \"available\", \"straw\", \"space\", \"nice\", \"cook\", \"low\", \"good\", \"not\", \"tasty\", \"occasion\", \"loose\", \"responsibility\", \"progress\", \"option\", \"helpful\", \"waste\", \"huge\", \"menuvand\", \"toll\", \"decade\", \"differ\", \"adequatestaff\", \"crap\", \"track\", \"ingredient\", \"grab\", \"health\", \"subway\", \"normal\", \"irresponsible\", \"zero\", \"hassle\", \"taker\", \"match\", \"odd\", \"image\", \"overcrowd\", \"replace\", \"local\", \"fool\", \"thank\", \"fill\", \"noise\", \"size\", \"decrease\", \"quality\", \"name\", \"mad\", \"non\", \"no\", \"better\", \"double\", \"condition\", \"improvement\", \"air\", \"isnt\", \"mix\", \"arrive\", \"freshness\", \"average\", \"overrate\", \"coordination\", \"patties\", \"prompt\", \"cone\", \"qty\", \"handover\", \"temperature\", \"chairtable\", \"af\", \"anyone\", \"tje\", \"junk\", \"unlimited\", \"cheesy\", \"dip\", \"turn\", \"doorstep\", \"behaviour\", \"vegetable\", \"friesrest\", \"blueberry\", \"usually\", \"sugar\", \"person\", \"fast\", \"need\", \"macdonalds\", \"great\", \"costly\", \"veggies\", \"decent\", \"damn\", \"compare\", \"mosquito\", \"oily\", \"awful\", \"jain\", \"fluctuate\", \"rubbish\", \"late\", \"refill\", \"difficult\", \"plane\", \"snack\", \"varieties\", \"fudge\", \"combo\", \"sachet\", \"stall\", \"longer\", \"route\", \"lyk\", \"rotten\", \"upper\", \"clutter\", \"messy\", \"amongst\", \"suffocate\", \"cheat\", \"system\", \"noise\", \"doubt\", \"delivery\", \"bill\", \"spill\", \"spoil\", \"mcflurry\", \"food\", \"lazy\", \"service\", \"no\", \"bite\", \"start\", \"less\", \"foods\", \"rush\", \"lettuce\", \"justify\", \"disgust\", \"alwaz\", \"toilet\", \"oder\", \"informative\", \"towards\", \"plzz\", \"footfall\", \"chaos\", \"overhyped\", \"heavily\", \"bacteria\", \"refuse\", \"appropriate\", \"soil\", \"terrible\", \"berry\", \"lemonade\", \"staffers\", \"salad\", \"hv\", \"code\", \"promo\", \"season\", \"coffe\", \"global\", \"decline\", \"management\", \"spill\", \"term\", \"dull\", \"fill\", \"wet\", \"understand\", \"stomach\", \"hours\", \"rat\", \"much\", \"little\", \"park\", \"side\", \"wrong\", \"smell\", \"crisp\", \"behavior\", \"abysmal\", \"msg\", \"seal\", \"expose\", \"promise\", \"operationally\", \"empty\", \"addition\", \"infection\", \"whre\", \"chinchwad\", \"washroom\", \"cock\", \"tea\", \"disaster\", \"rip\", \"penny\", \"pimpri\", \"control\", \"total\", \"inr\", \"surge\", \"solve\", \"gud\", \"shit\", \"franchise\", \"congest\", \"bloody\", \"cafe\", \"switch\", \"crowd\", \"stomach\", \"ruin\", \"onion\", \"nice\", \"wifi\", \"hardly\", \"neither\", \"brand\"], \"Freq\": [16.0, 17.0, 5.0, 13.0, 13.0, 4.0, 3.0, 11.0, 3.0, 32.0, 3.0, 17.0, 5.0, 25.0, 11.0, 2.0, 7.0, 1.0, 17.0, 4.0, 2.0, 1.0, 4.0, 4.0, 4.0, 2.0, 17.0, 1.0, 17.0, 2.0, 13.433997447477012, 17.240811539447364, 17.42234561160221, 31.695642604254086, 10.235525075142165, 9.702704440147594, 9.175737402439735, 8.447820071456686, 8.331162085183085, 7.922146074182442, 24.472455345102162, 7.88423700028952, 16.65303608227451, 9.797922959165621, 14.59390164842799, 7.3591189699595, 7.30259551016104, 7.202459334178684, 7.179642299491434, 7.046098767294117, 6.964584964041988, 6.9617392890149805, 9.817940790166732, 10.08049902658836, 10.696631722541223, 9.83161970846845, 8.999715986664768, 6.779677203251792, 6.513439716065075, 6.4734879533036205, 16.90776811410135, 9.81411407063024, 8.388443770988802, 10.244915200555951, 13.721823385470696, 10.940219600167781, 12.532368060360252, 7.705283439018865, 10.159610287293948, 8.919173725538142, 3.2422590737114465, 0.9081744446045897, 0.8698917509750058, 0.8484115479321456, 0.8368288634223084, 0.8132151417360234, 1.0334954530526845, 1.4483050951961827, 0.9040184692831214, 0.7936420589326075, 1.4548620504531375, 0.5840973466126163, 0.5805439633014537, 0.5882913886788296, 0.4853141425741981, 0.475579428495238, 0.6205707106022548, 0.5387457678454893, 0.6095141939289257, 0.8520326777278538, 0.5208481822518912, 0.5061156971699747, 0.47902336030535836, 0.41857548450054055, 0.48937986927993476, 0.4101881326943554, 0.40743362995278637, 0.6311494294809349, 0.46565901065613896, 0.44297131268748124, 0.711072069198276, 0.8385030360728447, 0.6981875926008922, 4.123955242306745, 0.4905012145478645, 2.1396837912814033, 1.1139217904635854, 1.5090426527637315, 0.8574398580564918, 0.6441301488940783, 0.6699715870482451, 0.6990746274228893, 1.0121167606780261, 0.7889576785478, 0.7404053732439418, 0.8519051561637867, 0.7309218236507369, 1.507059769136475, 2.4563453441338914, 1.9457371826109415, 0.6845663903155469, 0.6103577226547703, 0.6421231175496874, 0.8237930661969314, 0.8654981438536324, 0.8958379971199362, 0.5013356662971187, 0.6756090403356624, 0.3969754069720777, 0.3921459983247694, 0.46628758677529514, 0.5086515162644225, 0.3714883155031007, 0.35536220533250934, 0.46269399021273044, 0.337313362445855, 0.3369996875632532, 0.3197050306753043, 0.3153726892168442, 0.3137419891721192, 0.31135489673812705, 0.30761235448474217, 0.30442342104136444, 0.29794643764735096, 0.29563353380612156, 0.2931883499720219, 0.28977813516332734, 0.5623419828580013, 0.6259808393121931, 0.44215258465717233, 0.54006042660687, 0.4293708424111566, 1.224146567067264, 0.4699509272101615, 1.7712388499033576, 0.4239016029337662, 0.5252922544023814, 0.7093479527922663, 0.6830919576535086, 0.5794965654198801, 0.6157646280265759, 0.4480414390749729, 0.461158803403363, 0.4448410246889505, 0.48297033061700406, 0.4751972808498379, 0.6892421515500242, 0.531218916926615, 0.5758009016630323, 0.442522023930397, 0.4240713678380811, 0.5154981907480328, 0.4742853898628044, 1.082175171214632, 0.36934116395438565, 0.339080957846548, 0.3350597692542333, 0.33054673881309504, 0.327402089188735, 0.32712180991413614, 0.31556483992287554, 0.31479129887092877, 0.3038153910236329, 0.3018459461873266, 0.2986719252745794, 0.2986719252745794, 0.5320385242185037, 0.2966134813473055, 0.3397753567066043, 0.29011216183603183, 0.29011216183603183, 0.28794087887648895, 0.2837108123294158, 0.31161880428203537, 0.28313176314539956, 0.412958703981869, 0.41215987788076963, 0.3147417040211227, 0.43851974492870915, 0.43978905012601677, 0.3531804966716545, 0.4193040560949917, 0.3402298310154266, 0.7768967137261201, 0.3492926798282113, 0.37600242377595255, 0.40212900473725555, 0.5419527896020588, 0.38348374122782214, 0.3197255627513369, 1.143474346852999, 0.6299932898129899, 0.7211214325265681, 0.6036245374420685, 0.5128624164516685, 0.5768096716065981, 0.45363394841442356, 0.910584892894824, 0.4669803905728591, 0.34069841593925115, 0.4658114985782034, 0.3264339280264868, 0.31346772546983326, 0.3099745245505974, 0.2863512758291946, 0.2846290472657592, 0.2830139160100813, 0.3726934968333056, 0.46916990605460906, 0.2760330500071558, 0.27131736007599655, 0.26525595852149075, 0.37067896319869575, 0.32603504906355074, 0.3273430462697445, 0.2513247901721389, 0.3115193923980752, 0.29006273778712177, 0.2415001545993563, 0.2338128268966533, 0.5128834384985547, 0.3451444770304134, 0.4831299869881961, 0.4231305618291519, 0.5800329365284695, 0.28372516632738776, 0.28682838392016474, 1.6106177635929015, 0.6639298505109166, 0.6218582365451392, 0.3995529619914414, 0.8199668024159913, 0.36826260895678864, 0.6223939904900389, 0.36676615995182177, 0.3604335170777453, 0.3587258073831183, 0.35218394164427, 2.5769775332969864, 0.33286933856971684, 0.47188657130221495, 0.3024566989944443, 0.2861814548375989, 0.2861814548375989, 0.2813914516002198, 0.27996967888282137, 0.27792843437863307, 0.2748229660404546, 0.2655118492100417, 0.2655118492100417, 0.2591589945609314, 0.2492926739962383, 0.24858029068473114, 0.2461342434482104, 0.2461342434482104, 0.23726005900366054, 0.23726005900366054, 0.4554732773379951, 0.4420390226289853, 0.34704359946043983, 0.28448498782287013, 1.3385235334202625, 0.3135769147839416, 0.39885673304029806, 0.3280518663415781, 0.31969166293291856, 0.6318000306102599, 0.3128491796809801, 0.4425029221343891, 0.4083385133588202, 0.3295074327939787, 0.30371502951809953, 0.3014133730044435, 0.8609755697335125, 1.690730398144751, 0.9473279333484934, 0.3916683058394091, 0.8508877952848902, 0.35783680249765465, 0.3500233556268977, 0.34890323513274696, 0.30981363923622784, 0.30981363923622784, 0.3032206256921111, 0.28377886428018606, 0.2746163937786773, 0.2725575517871169, 0.35149900294112413, 0.27059792982443925, 0.3310864204532209, 0.26203102838935616, 0.26203102838935616, 0.3611076746010145, 0.25697445044544803, 0.25697445044544803, 0.2525276252275638, 0.30058069811068655, 0.25034205613303967, 0.24595104466682183, 0.24595104466682183, 0.2457969019937103, 0.2352100325772401, 0.2519005234428278, 0.3316802178407962, 0.43186341649876603, 0.658436370452764, 0.3654343543927326, 0.3137561774981571, 0.4316037180779976, 0.35922806069953594, 0.2952784521106138, 0.2987016219261459, 0.3820543019745251, 0.3302496305749647, 0.4095420942070119, 0.34802316024667046, 0.33547027748071356, 0.3013815333369713, 0.31029589336009833, 0.3106753268002759, 0.40044891629738694, 0.3645752624818861, 0.3266734350189313, 0.3123980627556901, 0.31205186027667026, 0.2980448232419025, 0.2833498527558934, 0.28192284022447567, 0.39275340126177294, 0.277343822862062, 0.2765565978086074, 0.2721145375284507, 0.4707071079085964, 0.4163858061319562, 0.2529663215626159, 0.2529663215626159, 0.2507559229635079, 0.2462841708746319, 0.23478260193982398, 0.2694237298389559, 0.2232572740912852, 0.2876604413895698, 0.2180921639627061, 0.2180921639627061, 0.2714893271814375, 0.20596215952351965, 0.5413542024364298, 0.25986200574353907, 0.3022988629805731, 0.1997042992138532, 0.3578562345245238, 0.31176404524302437, 2.17764072340163, 0.28587258788869824, 0.27383770206163816, 0.2980628217488036, 0.3788106174029249, 0.27525584331341935, 0.2971702601142744, 0.2649507278129844, 0.2610370169482062], \"Total\": [16.0, 17.0, 5.0, 13.0, 13.0, 4.0, 3.0, 11.0, 3.0, 32.0, 3.0, 17.0, 5.0, 25.0, 11.0, 2.0, 7.0, 1.0, 17.0, 4.0, 2.0, 1.0, 4.0, 4.0, 4.0, 2.0, 17.0, 1.0, 17.0, 2.0, 13.810180148235407, 17.72566102329906, 17.92420637031928, 32.76900683379504, 10.611526045389386, 10.07867950277487, 9.551781317165077, 8.823828597592597, 8.707180112557754, 8.298181926786867, 25.63737672149481, 8.260288604140673, 17.45602072532541, 10.279215235601141, 15.335424109654817, 7.735096078782114, 7.678652599577597, 7.578418890596309, 7.555746055536518, 7.422105616972436, 7.340669811055893, 7.3377902417463865, 10.351377689726053, 10.628357749458646, 11.27904172042484, 10.37249385847328, 9.498259799580866, 7.155668371427778, 6.889568357196684, 6.849521089442303, 17.951407209486728, 10.44497411691722, 8.918113606054009, 11.506826361379174, 16.411885990282787, 13.664870809184421, 17.579369947881275, 8.433224684183154, 13.764228010401212, 11.680592645419365, 4.0752434311213115, 1.310325979707275, 1.2720518369993534, 1.2505721735986557, 1.2390516289660303, 1.2152804821264098, 1.5666799351855423, 2.230891942003087, 1.4788575414913254, 1.3007487250246927, 2.4385995343740623, 0.9863257846039343, 0.982523977190479, 1.036002477206057, 0.8883552154809052, 0.8777673833770251, 1.1537214104200295, 1.0035184056275182, 1.1389445055078395, 1.6302771389046546, 0.999055729629879, 0.9719338645287818, 0.9242921596667568, 0.820710519618172, 0.9601243278815755, 0.81252328970004, 0.8097280964558048, 1.2612680497051205, 0.936025459062956, 0.8905549138783162, 1.430619478942535, 1.8203853271153154, 1.5607957087560107, 17.579369947881275, 1.0182040060422186, 11.680592645419365, 4.305377764605499, 7.7487393973669745, 2.781655260758235, 1.5989326477719477, 1.8758930980536188, 2.9075218206394933, 13.664870809184421, 5.9121410402307815, 5.708127600117478, 25.63737672149481, 13.764228010401212, 1.9541141640307538, 3.3345230601831024, 3.0813498200990117, 1.0937708758503757, 1.019462661440476, 1.0820358171171398, 1.4102563554192353, 1.5769733649376065, 1.6739798225268119, 0.9999636645470419, 1.3593634268342327, 0.806225590244885, 0.8015360127776631, 0.9651864914310541, 1.0624692734542212, 0.7804655023640141, 0.7643876076249229, 1.0003702584085927, 0.7464185776802944, 0.7462113683682446, 0.7287826235219368, 0.7246745822436799, 0.7227256871283582, 0.7203320749648778, 0.7166573820427283, 0.7134075044934998, 0.7071327361899626, 0.704744962094931, 0.7022775651035458, 0.6987553082586309, 1.3598846038297718, 1.6117184872434769, 1.140510075418513, 1.5065275012071901, 1.1292192959140437, 5.0490760398717045, 1.3933464938324787, 13.764228010401212, 1.2090490576813562, 1.9744468012675092, 4.414906973169163, 4.104278480417877, 2.994545907524152, 4.274329723941335, 1.7090430659125784, 2.4385995343740623, 2.393236605545744, 17.45602072532541, 32.76900683379504, 1.1004366532182404, 0.9427213279567849, 1.0840336684267187, 0.8537895426033595, 0.8351721051700264, 1.0533831137333278, 0.9814801681132606, 2.3171981305469305, 0.8121117025666279, 0.7503486635138494, 0.7463804392843059, 0.7416500381491948, 0.7385027989328318, 0.738249863014076, 0.726747029044988, 0.7261570939050814, 0.7151935206277965, 0.7130308827974543, 0.7097726030510887, 0.7097726030510887, 1.269137007264282, 0.7093605295745198, 0.8165165262807528, 0.7012168086597419, 0.7012168086597419, 0.6991171500908273, 0.6949086167888384, 0.7641337404605633, 0.6943176026123735, 1.0247797154792648, 1.0793812194612045, 0.8079002184097716, 1.5405006981977623, 1.643517496447039, 1.0607981812165577, 1.5932284485611516, 0.9945698733207619, 11.506826361379174, 1.164275201839372, 1.5065275012071901, 2.581389419890087, 13.764228010401212, 3.8943842103856037, 0.9258780733287352, 1.596119197291073, 1.0937132468782453, 1.2961237921934048, 1.0894196747728486, 0.9259895327923839, 1.095224969890512, 0.8672745072204089, 1.7572153058121074, 0.9499679033425443, 0.7537829483415782, 1.040442814597029, 0.7395363823084774, 0.7267245375692237, 0.7230897681222738, 0.69952586046592, 0.6977449612901314, 0.6964033754103536, 0.9183013546195677, 1.1661472564997035, 0.6891689902626604, 0.6844018763576234, 0.6784302551945761, 0.9513040075147728, 0.8386520181817436, 0.865206445041967, 0.6648203975032551, 0.8347848285535403, 0.7794993454978092, 0.6546992598916345, 0.6477671395512432, 1.5629821945967188, 1.0157311653086758, 1.8758930980536188, 2.0725536719221, 4.741202584433827, 1.2041231551118063, 3.099130580516941, 2.024763900995396, 1.3164132057897033, 1.2460786017559318, 0.8138038732620981, 1.718434487048257, 0.782301443648466, 1.3245363462153643, 0.780804998071564, 0.774472332037652, 0.7727646439224495, 0.7662542683680963, 5.71876370184768, 0.7469081755954347, 1.0811166692867795, 0.7167398985512363, 0.7002202703831366, 0.7002202703831366, 0.6955026115243566, 0.6941449577347446, 0.691967247901218, 0.6889444839658051, 0.6795752644863192, 0.6795752644863192, 0.6734193872878474, 0.6634148227508411, 0.6626190984834631, 0.6602337113379873, 0.6602337113379873, 0.6513461271455308, 0.6513461271455308, 1.2758062970304345, 1.3086161116126023, 1.0607981812165577, 0.8122466016178096, 13.664870809184421, 1.1357402238302958, 2.3478101901030586, 1.3266111473351727, 1.3091332511874079, 17.951407209486728, 1.3961508305498107, 17.579369947881275, 13.764228010401212, 3.7550396339429657, 1.9894554635515778, 5.898445804889738, 1.2748315527562202, 3.408638306892831, 1.9458897363357635, 0.8055579195307898, 1.7907442031951333, 0.7717605651553965, 0.7638404303405089, 0.7627203470766432, 0.723632262203185, 0.723632262203185, 0.7170994596157289, 0.6975959274651182, 0.688469172938609, 0.6864712159346683, 0.8889392498844687, 0.684414977640306, 0.8401815459801247, 0.675896938776897, 0.675896938776897, 0.9334835129543365, 0.6708066389881558, 0.6708066389881558, 0.6663930999890156, 0.7939220042230112, 0.6642754567187833, 0.6597680903742014, 0.6597680903742014, 0.6597412989733213, 0.6490917229576753, 0.6994854020558788, 0.9659305250304867, 1.350831592991797, 2.3478101901030586, 1.1244094964916824, 0.9201195226638328, 1.643517496447039, 1.249940882573803, 0.9221061100936223, 0.9494668492950438, 2.267454850717496, 1.4623150512308594, 6.413854321144756, 3.0975751857493425, 3.3345230601831024, 1.5326754643390306, 2.5151059858707807, 2.5784395732731022, 0.8163499555741558, 0.8204211683481205, 0.7426233268686252, 0.7283349300972473, 0.7280723861674934, 0.7140921410264821, 0.699342015473486, 0.6978158740056387, 0.9810970221941749, 0.6934157214943295, 0.6925124470891475, 0.6882669620038064, 1.209862772753442, 1.0935167496586606, 0.668931255246061, 0.668931255246061, 0.6667383262781328, 0.6622829142499028, 0.6507377031340267, 0.755360009869721, 0.6392658011981898, 0.8260354209635434, 0.6342043138615799, 0.6342043138615799, 0.8005612952952651, 0.6219054399647366, 1.635158189992008, 0.7983504507647494, 0.9309305675542623, 0.6157356254822621, 1.1622659459114038, 1.0193795934039462, 16.411885990282787, 0.9494668492950438, 0.8906412726912813, 1.0454492405147282, 1.7090430659125784, 1.268387369182634, 2.484251653255597, 1.2889334250737756, 1.3933464938324787], \"Category\": [\"Default\", \"Default\", \"Default\", \"Default\", \"Default\", \"Default\", \"Default\", \"Default\", \"Default\", \"Default\", \"Default\", \"Default\", \"Default\", \"Default\", \"Default\", \"Default\", \"Default\", \"Default\", \"Default\", \"Default\", \"Default\", \"Default\", \"Default\", \"Default\", \"Default\", \"Default\", \"Default\", \"Default\", \"Default\", \"Default\", \"Topic1\", \"Topic1\", \"Topic1\", \"Topic1\", \"Topic1\", \"Topic1\", \"Topic1\", \"Topic1\", \"Topic1\", \"Topic1\", \"Topic1\", \"Topic1\", \"Topic1\", \"Topic1\", \"Topic1\", \"Topic1\", \"Topic1\", \"Topic1\", \"Topic1\", \"Topic1\", \"Topic1\", \"Topic1\", \"Topic1\", \"Topic1\", \"Topic1\", \"Topic1\", \"Topic1\", \"Topic1\", \"Topic1\", \"Topic1\", \"Topic1\", \"Topic1\", \"Topic1\", \"Topic1\", \"Topic1\", \"Topic1\", \"Topic1\", \"Topic1\", \"Topic1\", \"Topic1\", \"Topic2\", \"Topic2\", \"Topic2\", \"Topic2\", \"Topic2\", \"Topic2\", \"Topic2\", \"Topic2\", \"Topic2\", \"Topic2\", \"Topic2\", \"Topic2\", \"Topic2\", \"Topic2\", \"Topic2\", \"Topic2\", \"Topic2\", \"Topic2\", \"Topic2\", \"Topic2\", \"Topic2\", \"Topic2\", \"Topic2\", \"Topic2\", \"Topic2\", \"Topic2\", \"Topic2\", \"Topic2\", \"Topic2\", \"Topic2\", \"Topic2\", \"Topic2\", \"Topic2\", \"Topic2\", \"Topic2\", \"Topic2\", \"Topic2\", \"Topic2\", \"Topic2\", \"Topic2\", \"Topic2\", \"Topic2\", \"Topic2\", \"Topic2\", \"Topic2\", \"Topic2\", \"Topic2\", \"Topic3\", \"Topic3\", \"Topic3\", \"Topic3\", \"Topic3\", \"Topic3\", \"Topic3\", \"Topic3\", \"Topic3\", \"Topic3\", \"Topic3\", \"Topic3\", \"Topic3\", \"Topic3\", \"Topic3\", \"Topic3\", \"Topic3\", \"Topic3\", \"Topic3\", \"Topic3\", \"Topic3\", \"Topic3\", \"Topic3\", \"Topic3\", \"Topic3\", \"Topic3\", \"Topic3\", \"Topic3\", \"Topic3\", \"Topic3\", \"Topic3\", \"Topic3\", \"Topic3\", \"Topic3\", \"Topic3\", \"Topic3\", \"Topic3\", \"Topic3\", \"Topic3\", \"Topic3\", \"Topic3\", \"Topic3\", \"Topic3\", \"Topic3\", \"Topic3\", \"Topic3\", \"Topic3\", \"Topic3\", \"Topic3\", \"Topic4\", \"Topic4\", \"Topic4\", \"Topic4\", \"Topic4\", \"Topic4\", \"Topic4\", \"Topic4\", \"Topic4\", \"Topic4\", \"Topic4\", \"Topic4\", \"Topic4\", \"Topic4\", \"Topic4\", \"Topic4\", \"Topic4\", \"Topic4\", \"Topic4\", \"Topic4\", \"Topic4\", \"Topic4\", \"Topic4\", \"Topic4\", \"Topic4\", \"Topic4\", \"Topic4\", \"Topic4\", \"Topic4\", \"Topic4\", \"Topic4\", \"Topic4\", \"Topic4\", \"Topic4\", \"Topic4\", \"Topic4\", \"Topic4\", \"Topic4\", \"Topic4\", \"Topic4\", \"Topic4\", \"Topic4\", \"Topic4\", \"Topic4\", \"Topic5\", \"Topic5\", \"Topic5\", \"Topic5\", \"Topic5\", \"Topic5\", \"Topic5\", \"Topic5\", \"Topic5\", \"Topic5\", \"Topic5\", \"Topic5\", \"Topic5\", \"Topic5\", \"Topic5\", \"Topic5\", \"Topic5\", \"Topic5\", \"Topic5\", \"Topic5\", \"Topic5\", \"Topic5\", \"Topic5\", \"Topic5\", \"Topic5\", \"Topic5\", \"Topic5\", \"Topic5\", \"Topic5\", \"Topic5\", \"Topic5\", \"Topic5\", \"Topic5\", \"Topic5\", \"Topic5\", \"Topic5\", \"Topic5\", \"Topic6\", \"Topic6\", \"Topic6\", \"Topic6\", \"Topic6\", \"Topic6\", \"Topic6\", \"Topic6\", \"Topic6\", \"Topic6\", \"Topic6\", \"Topic6\", \"Topic6\", \"Topic6\", \"Topic6\", \"Topic6\", \"Topic6\", \"Topic6\", \"Topic6\", \"Topic6\", \"Topic6\", \"Topic6\", \"Topic6\", \"Topic6\", \"Topic6\", \"Topic6\", \"Topic6\", \"Topic6\", \"Topic6\", \"Topic6\", \"Topic6\", \"Topic6\", \"Topic6\", \"Topic6\", \"Topic6\", \"Topic6\", \"Topic6\", \"Topic6\", \"Topic6\", \"Topic6\", \"Topic6\", \"Topic6\", \"Topic6\", \"Topic6\", \"Topic6\", \"Topic6\", \"Topic7\", \"Topic7\", \"Topic7\", \"Topic7\", \"Topic7\", \"Topic7\", \"Topic7\", \"Topic7\", \"Topic7\", \"Topic7\", \"Topic7\", \"Topic7\", \"Topic7\", \"Topic7\", \"Topic7\", \"Topic7\", \"Topic7\", \"Topic7\", \"Topic7\", \"Topic7\", \"Topic7\", \"Topic7\", \"Topic7\", \"Topic7\", \"Topic7\", \"Topic7\", \"Topic7\", \"Topic7\", \"Topic7\", \"Topic7\", \"Topic7\", \"Topic7\", \"Topic7\", \"Topic7\", \"Topic7\", \"Topic7\", \"Topic7\", \"Topic7\", \"Topic7\", \"Topic7\", \"Topic7\", \"Topic7\", \"Topic7\", \"Topic7\", \"Topic7\", \"Topic7\", \"Topic7\", \"Topic8\", \"Topic8\", \"Topic8\", \"Topic8\", \"Topic8\", \"Topic8\", \"Topic8\", \"Topic8\", \"Topic8\", \"Topic8\", \"Topic8\", \"Topic8\", \"Topic8\", \"Topic8\", \"Topic8\", \"Topic8\", \"Topic8\", \"Topic8\", \"Topic8\", \"Topic8\", \"Topic8\", \"Topic8\", \"Topic8\", \"Topic8\", \"Topic8\", \"Topic8\", \"Topic8\", \"Topic8\", \"Topic8\", \"Topic8\", \"Topic8\", \"Topic8\", \"Topic8\", \"Topic8\", \"Topic8\", \"Topic8\", \"Topic8\", \"Topic8\", \"Topic8\", \"Topic8\", \"Topic8\"], \"logprob\": [30.0, 29.0, 28.0, 27.0, 26.0, 25.0, 24.0, 23.0, 22.0, 21.0, 20.0, 19.0, 18.0, 17.0, 16.0, 15.0, 14.0, 13.0, 12.0, 11.0, 10.0, 9.0, 8.0, 7.0, 6.0, 5.0, 4.0, 3.0, 2.0, 1.0, -4.6829, -4.4334, -4.423, -3.8245, -4.9549, -5.0083, -5.0642, -5.1468, -5.1607, -5.2111, -4.0832, -5.2159, -4.4681, -4.9985, -4.6001, -5.2848, -5.2925, -5.3063, -5.3095, -5.3282, -5.3399, -5.3403, -4.9965, -4.9701, -4.9108, -4.9951, -5.0835, -5.3668, -5.4069, -5.413, -4.4529, -4.9969, -5.1539, -4.9539, -4.6617, -4.8883, -4.7524, -5.2388, -4.9623, -5.0925, -4.2967, -5.5693, -5.6124, -5.6374, -5.6511, -5.6797, -5.44, -5.1026, -5.5739, -5.7041, -5.0981, -6.0107, -6.0168, -6.0035, -6.1959, -6.2162, -5.9501, -6.0915, -5.9681, -5.6331, -6.1253, -6.154, -6.209, -6.3439, -6.1876, -6.3641, -6.3709, -5.9332, -6.2373, -6.2872, -5.814, -5.6491, -5.8322, -4.0562, -6.1853, -4.7123, -5.3651, -5.0615, -5.6268, -5.9128, -5.8735, -5.831, -5.4609, -5.71, -5.7735, -5.6333, -5.7864, -4.777, -4.2885, -4.5215, -5.5661, -5.6809, -5.6301, -5.381, -5.3316, -5.2972, -5.8776, -5.5793, -6.111, -6.1233, -5.9501, -5.8632, -6.1774, -6.2218, -5.9578, -6.2739, -6.2748, -6.3275, -6.3412, -6.3463, -6.354, -6.3661, -6.3765, -6.398, -6.4058, -6.4141, -6.4258, -5.7628, -5.6556, -6.0033, -5.8032, -6.0326, -4.9849, -5.9423, -4.6155, -6.0454, -5.831, -5.5306, -5.5683, -5.7328, -5.6721, -5.99, -5.9612, -5.9972, -5.915, -5.9312, -5.4561, -5.7165, -5.6359, -5.8992, -5.9418, -5.7466, -5.8299, -5.005, -6.08, -6.1654, -6.1774, -6.1909, -6.2005, -6.2014, -6.2373, -6.2398, -6.2753, -6.2818, -6.2923, -6.2923, -5.715, -6.2993, -6.1634, -6.3214, -6.3214, -6.3289, -6.3437, -6.2499, -6.3458, -5.9683, -5.9703, -6.2399, -5.9083, -5.9054, -6.1247, -5.9531, -6.1621, -5.3364, -6.1358, -6.0621, -5.9949, -5.6965, -6.0424, -6.2242, -4.8602, -5.4563, -5.3212, -5.4991, -5.662, -5.5445, -5.7847, -5.0879, -5.7557, -6.071, -5.7582, -6.1138, -6.1543, -6.1655, -6.2448, -6.2508, -6.2565, -5.9813, -5.751, -6.2815, -6.2987, -6.3213, -5.9867, -6.115, -6.111, -6.3753, -6.1606, -6.2319, -6.4151, -6.4475, -5.662, -6.058, -5.7217, -5.8543, -5.5389, -6.254, -6.2431, -4.5095, -5.3957, -5.4611, -5.9035, -5.1846, -5.985, -5.4603, -5.9891, -6.0065, -6.0113, -6.0297, -4.0395, -6.0861, -5.7371, -6.1819, -6.2372, -6.2372, -6.2541, -6.2591, -6.2665, -6.2777, -6.3122, -6.3122, -6.3364, -6.3752, -6.3781, -6.388, -6.388, -6.4247, -6.4247, -5.7725, -5.8024, -6.0444, -6.2431, -4.6945, -6.1458, -5.9052, -6.1007, -6.1265, -5.4453, -6.1481, -5.8014, -5.8817, -6.0962, -6.1777, -6.1853, -5.1249, -4.4501, -5.0293, -5.9126, -5.1367, -6.0029, -6.025, -6.0282, -6.147, -6.147, -6.1685, -6.2348, -6.2676, -6.2751, -6.0208, -6.2823, -6.0806, -6.3145, -6.3145, -5.9938, -6.334, -6.334, -6.3515, -6.1773, -6.3601, -6.3778, -6.3778, -6.3785, -6.4225, -6.3539, -6.0788, -5.8149, -5.3931, -5.9819, -6.1344, -5.8155, -5.999, -6.1951, -6.1835, -5.9374, -6.0831, -5.8679, -6.0307, -6.0674, -6.1746, -6.1455, -6.1442, -5.8012, -5.8951, -6.0048, -6.0495, -6.0506, -6.0965, -6.1471, -6.1522, -5.8206, -6.1685, -6.1714, -6.1876, -5.6396, -5.7622, -6.2605, -6.2605, -6.2693, -6.2873, -6.3351, -6.1975, -6.3855, -6.132, -6.4089, -6.4089, -6.1899, -6.4661, -5.4997, -6.2336, -6.0824, -6.497, -5.9137, -6.0515, -4.1078, -6.1382, -6.1813, -6.0965, -5.8568, -6.1761, -6.0995, -6.2142, -6.2291], \"loglift\": [30.0, 29.0, 28.0, 27.0, 26.0, 25.0, 24.0, 23.0, 22.0, 21.0, 20.0, 19.0, 18.0, 17.0, 16.0, 15.0, 14.0, 13.0, 12.0, 11.0, 10.0, 9.0, 8.0, 7.0, 6.0, 5.0, 4.0, 3.0, 2.0, 1.0, 0.5556, 0.5555, 0.5548, 0.5499, 0.5471, 0.5452, 0.543, 0.5397, 0.5391, 0.5368, 0.5367, 0.5366, 0.5361, 0.5352, 0.5336, 0.5334, 0.533, 0.5323, 0.5321, 0.5312, 0.5306, 0.5306, 0.5303, 0.5303, 0.5302, 0.5296, 0.5293, 0.5292, 0.5271, 0.5267, 0.5233, 0.5209, 0.522, 0.467, 0.4042, 0.3608, 0.2448, 0.4929, 0.2795, 0.3135, 2.1623, 2.0243, 2.0109, 2.003, 1.9985, 1.9892, 1.9749, 1.9589, 1.8988, 1.8969, 1.8744, 1.867, 1.8648, 1.825, 1.7864, 1.7781, 1.7708, 1.7689, 1.7657, 1.7421, 1.7396, 1.7384, 1.7337, 1.7176, 1.717, 1.7074, 1.7041, 1.6986, 1.6928, 1.6926, 1.6919, 1.6158, 1.5865, 0.941, 1.6606, 0.6937, 1.039, 0.7549, 1.2141, 1.4818, 1.3613, 0.9656, -0.2118, 0.3769, 0.3485, -1.0134, -0.5446, 2.417, 2.3711, 2.217, 2.2082, 2.1638, 2.1549, 2.1392, 2.0768, 2.0516, 1.9863, 1.9776, 1.9683, 1.9619, 1.9492, 1.9402, 1.9344, 1.9108, 1.9057, 1.8825, 1.8818, 1.8528, 1.8448, 1.8423, 1.838, 1.831, 1.8251, 1.8125, 1.808, 1.8032, 1.7966, 1.7937, 1.731, 1.7292, 1.6509, 1.7098, 1.2598, 1.5899, 0.6264, 1.6287, 1.3527, 0.8484, 0.8836, 1.0344, 0.7392, 1.338, 1.0113, 0.9941, -0.9107, -1.5567, 2.3121, 2.2064, 2.1473, 2.1228, 2.1023, 2.0654, 2.0527, 2.0186, 1.9921, 1.9857, 1.9791, 1.9719, 1.9666, 1.966, 1.9458, 1.9441, 1.9239, 1.9204, 1.9144, 1.9144, 1.9106, 1.9081, 1.9032, 1.8974, 1.8974, 1.8929, 1.8842, 1.883, 1.883, 1.8711, 1.8173, 1.8373, 1.5235, 1.4617, 1.6802, 1.4451, 1.7073, 0.0846, 1.576, 1.392, 0.9207, -0.4547, 0.462, 1.7167, 2.5362, 2.318, 2.2833, 2.2792, 2.2788, 2.2285, 2.2216, 2.2123, 2.1595, 2.0756, 2.066, 2.0519, 2.0288, 2.0226, 1.9765, 1.973, 1.9692, 1.9679, 1.9592, 1.9547, 1.9444, 1.9306, 1.9272, 1.9249, 1.8977, 1.8969, 1.884, 1.8811, 1.8724, 1.8507, 1.7554, 1.7903, 1.5131, 1.2808, 0.7687, 1.4242, 0.4897, 2.649, 2.1934, 2.1828, 2.1665, 2.1379, 2.1244, 2.1226, 2.1222, 2.113, 2.1104, 2.1005, 2.0807, 2.0697, 2.0488, 2.0151, 1.9831, 1.9831, 1.973, 1.9698, 1.9657, 1.9588, 1.938, 1.938, 1.9229, 1.8991, 1.8974, 1.8911, 1.8911, 1.868, 1.868, 1.8479, 1.7925, 1.7605, 1.8287, 0.5546, 1.5909, 1.1052, 1.4806, 1.4681, -0.469, 1.3821, -0.8042, -0.6399, 0.4446, 0.9983, -0.0961, 2.4962, 2.1875, 2.1689, 2.1676, 2.1446, 2.1201, 2.1083, 2.1066, 2.0404, 2.0404, 2.0279, 1.9893, 1.9696, 1.965, 1.9609, 1.9608, 1.9575, 1.9411, 1.9411, 1.939, 1.9292, 1.9292, 1.9183, 1.9174, 1.9128, 1.9019, 1.9019, 1.9014, 1.8736, 1.8674, 1.8198, 1.7483, 1.6173, 1.7648, 1.8128, 1.5516, 1.6418, 1.75, 1.7322, 1.1078, 1.4008, 0.1375, 0.7026, 0.5921, 1.2623, 0.7962, 0.7725, 2.2656, 2.1668, 2.1567, 2.1314, 2.1307, 2.1041, 2.0744, 2.0716, 2.0624, 2.0615, 2.06, 2.0499, 2.0339, 2.0123, 2.0055, 2.0055, 2.0, 1.9887, 1.9584, 1.947, 1.9259, 1.923, 1.9104, 1.9104, 1.8965, 1.8728, 1.8725, 1.8555, 1.8531, 1.8519, 1.7999, 1.7932, 0.9581, 1.7775, 1.7985, 1.723, 1.4712, 1.4501, 0.8545, 1.3959, 1.3031]}, \"token.table\": {\"Topic\": [2, 3, 5, 1, 1, 2, 2, 5, 1, 3, 5, 3, 1, 2, 1, 1, 3, 2, 1, 1, 2, 1, 2, 1, 1, 6, 5, 2, 2, 6, 1, 8, 6, 1, 1, 2, 6, 1, 1, 7, 1, 1, 1, 3, 2, 1, 6, 7, 1, 1, 1, 1, 1, 1, 1, 1, 2, 3, 2, 1, 1, 5, 2, 5, 1, 6, 1, 1, 7, 1, 2, 1, 2, 4, 2, 3, 1, 2, 3, 3, 1, 1, 2, 1, 1, 2, 1, 1, 1, 2, 1, 5, 1, 1, 5, 3, 1, 2, 3, 4, 2, 1, 4, 1, 4, 6, 1, 4, 1, 2, 1, 3, 3, 2, 2, 1, 1, 3, 2, 3, 1, 3, 2, 1, 4, 2, 2, 2, 1, 1, 7, 1, 3, 1, 2, 1, 2, 1, 8, 1, 1, 3, 1, 2, 1, 1, 3, 7, 1, 1, 2, 1, 1, 3, 2, 2, 1, 1, 4, 1, 1, 2, 1, 3, 3, 2, 5, 6, 2, 4, 2, 1, 2, 1, 1], \"Freq\": [0.5064709767607025, 0.5064709767607025, 0.7715312426351805, 0.9475419908389058, 0.9752601570823581, 1.0177868664940815, 1.0009451628594042, 0.9130544203169221, 0.7309445531811367, 0.24364818439371225, 0.5690822272560642, 0.9142682641120139, 0.7705088494400513, 0.17122418876445583, 0.7703400172996681, 0.7989263210119198, 0.6204557482679873, 1.0138637918723343, 0.9590615536230083, 0.845717307144084, 0.1691434614288168, 0.6968029668994422, 0.2322676556331474, 0.9066359247030975, 0.9921934711037088, 0.5819250064735916, 0.6265196244097533, 0.410071430714301, 0.7928528755119073, 0.9877694871074983, 0.8530402909384804, 0.1218628987054972, 0.8025175928635914, 0.923675518739926, 0.8049838270411375, 0.07318034791283068, 0.07318034791283068, 0.9187819588642897, 0.9539656721413731, 0.5584270484951179, 0.911618270161756, 0.8759736515372242, 0.9684891634403432, 1.0234816556851507, 0.4824965517407293, 0.9470009677578959, 0.05570593927987623, 0.7844173591702943, 0.9049661347066481, 0.9484380869520854, 0.9573982556647492, 0.9422326266857162, 0.953591454209968, 0.973876020629157, 0.645342281662232, 0.8050714175349393, 0.7631688720873859, 0.9241838247686595, 0.44825120444969374, 0.9782454463583927, 0.8820462287781101, 0.9143164379276484, 0.8780059038557931, 0.9179199009862813, 0.524588907044844, 0.524588907044844, 0.7162549905916651, 0.8476809256864007, 0.5139037332521548, 0.9640883028174569, 0.866760372970746, 0.645666329327911, 0.6989978919755557, 0.9224805733675426, 0.7687879916861087, 0.7353565127392077, 0.835688370872101, 0.8304798356835411, 0.6637781249918727, 0.9412036893536453, 0.740284729190571, 0.35949817869501766, 0.35949817869501766, 0.8970506940581299, 0.5493342453955372, 0.5493342453955372, 0.9264472295056434, 0.9728369112620481, 0.7638641819638923, 0.822855311763316, 0.9431285892769851, 1.0799258140471983, 0.9354749421451015, 0.8436678097520404, 0.2109169524380101, 1.0000363367732712, 0.7265209492637946, 0.07265209492637946, 0.14530418985275892, 0.07265209492637946, 0.7861314853008685, 0.77477655428105, 0.7879369951992602, 0.9765324949365889, 1.0607588587895413, 0.7549811697182404, 0.94862882225874, 0.9493222237594724, 0.9361332191166811, 0.03900555079652838, 1.016028818799361, 0.597378765587829, 0.5997859255740693, 0.5330794174985641, 0.6382924664708683, 0.9781274970123819, 0.679516016584717, 0.22650533886157234, 0.9964939301483783, 0.6341261192065634, 0.324533096981461, 0.649066193962922, 0.6133926411259603, 0.8690493526141494, 0.08690493526141495, 0.6254172127847051, 0.683847163549524, 0.7996339764400744, 0.942371526699019, 0.29337228240902957, 0.5867445648180591, 0.7922241551548586, 0.19805603878871464, 0.6878710198502005, 0.34393550992510025, 0.739503181202851, 0.227539440370108, 0.6115616251201283, 0.6115616251201283, 0.6524538451010253, 0.6276563796630059, 0.9809089021338204, 0.24538411432390136, 0.7361523429717042, 0.775662932236638, 0.7018644310934714, 0.23395481036449048, 0.4259288098396508, 0.7538003898193889, 0.7743194979610236, 0.2581064993203412, 0.5026501061827235, 0.6678808947208866, 0.3339404473604433, 0.807068871564686, 0.9652486572202508, 0.9640665956208644, 0.9408791306925427, 0.9087301818559822, 0.6491395954379663, 0.8759439785293335, 0.1751887957058667, 0.9413345706182603, 0.7356384468345306, 0.7090909366635856, 0.6406988399506958, 0.6398025540259084, 0.7596399030349363, 0.4315556735599338, 0.4315556735599338, 0.6761976538940792, 0.8000378369422242, 1.0288765897511198, 0.966054983185977, 0.7951951175161152], \"Term\": [\"add\", \"add\", \"air\", \"also\", \"always\", \"apply\", \"arrangement\", \"arrive\", \"available\", \"available\", \"average\", \"avoid\", \"bad\", \"bad\", \"better\", \"bite\", \"boy\", \"brown\", \"burger\", \"burgers\", \"burgers\", \"cheese\", \"cheese\", \"coke\", \"cold\", \"compare\", \"condition\", \"cook\", \"cost\", \"costly\", \"crowd\", \"crowd\", \"decent\", \"deliver\", \"delivery\", \"delivery\", \"delivery\", \"didnt\", \"disappoint\", \"disgust\", \"dont\", \"eat\", \"even\", \"expensive\", \"fast\", \"food\", \"food\", \"foods\", \"fresh\", \"fry\", \"get\", \"give\", \"go\", \"good\", \"great\", \"hardly\", \"hate\", \"havent\", \"horrible\", \"hot\", \"hours\", \"improvement\", \"increase\", \"isnt\", \"late\", \"late\", \"lazy\", \"less\", \"lettuce\", \"like\", \"limit\", \"little\", \"locate\", \"loose\", \"lose\", \"love\", \"low\", \"macdonalds\", \"mad\", \"mall\", \"management\", \"mayo\", \"mayo\", \"mc\", \"mcaloo\", \"mcaloo\", \"mcd\", \"mcdonalds\", \"mcflurry\", \"mcpuff\", \"meal\", \"mix\", \"much\", \"need\", \"need\", \"negative\", \"no\", \"no\", \"no\", \"no\", \"noisy\", \"non\", \"normal\", \"not\", \"occasion\", \"oily\", \"one\", \"option\", \"order\", \"order\", \"outlet\", \"paper\", \"park\", \"person\", \"pizza\", \"place\", \"please\", \"please\", \"polite\", \"problem\", \"provide\", \"provide\", \"puff\", \"quality\", \"quality\", \"quite\", \"rat\", \"raw\", \"receive\", \"rush\", \"rush\", \"sauce\", \"sauce\", \"seem\", \"seem\", \"service\", \"service\", \"shit\", \"shit\", \"side\", \"size\", \"slice\", \"slow\", \"slow\", \"smell\", \"space\", \"space\", \"spill\", \"spoil\", \"staff\", \"staff\", \"start\", \"straw\", \"straw\", \"supreme\", \"surprise\", \"take\", \"taste\", \"tasty\", \"thank\", \"tikki\", \"tikki\", \"time\", \"tissue\", \"tomato\", \"unprofessional\", \"usually\", \"veggies\", \"waste\", \"waste\", \"werent\", \"wet\", \"whats\", \"worst\", \"wrong\"]}, \"R\": 30, \"lambda.step\": 0.01, \"plot.opts\": {\"xlab\": \"PC1\", \"ylab\": \"PC2\"}, \"topic.order\": [8, 1, 2, 7, 6, 5, 3, 4]};\n",
              "\n",
              "function LDAvis_load_lib(url, callback){\n",
              "  var s = document.createElement('script');\n",
              "  s.src = url;\n",
              "  s.async = true;\n",
              "  s.onreadystatechange = s.onload = callback;\n",
              "  s.onerror = function(){console.warn(\"failed to load library \" + url);};\n",
              "  document.getElementsByTagName(\"head\")[0].appendChild(s);\n",
              "}\n",
              "\n",
              "if(typeof(LDAvis) !== \"undefined\"){\n",
              "   // already loaded: just create the visualization\n",
              "   !function(LDAvis){\n",
              "       new LDAvis(\"#\" + \"ldavis_el651403971185585442381471055\", ldavis_el651403971185585442381471055_data);\n",
              "   }(LDAvis);\n",
              "}else if(typeof define === \"function\" && define.amd){\n",
              "   // require.js is available: use it to load d3/LDAvis\n",
              "   require.config({paths: {d3: \"https://d3js.org/d3.v5\"}});\n",
              "   require([\"d3\"], function(d3){\n",
              "      window.d3 = d3;\n",
              "      LDAvis_load_lib(\"https://cdn.jsdelivr.net/gh/bmabey/pyLDAvis@3.3.1/pyLDAvis/js/ldavis.v3.0.0.js\", function(){\n",
              "        new LDAvis(\"#\" + \"ldavis_el651403971185585442381471055\", ldavis_el651403971185585442381471055_data);\n",
              "      });\n",
              "    });\n",
              "}else{\n",
              "    // require.js not available: dynamically load d3 & LDAvis\n",
              "    LDAvis_load_lib(\"https://d3js.org/d3.v5.js\", function(){\n",
              "         LDAvis_load_lib(\"https://cdn.jsdelivr.net/gh/bmabey/pyLDAvis@3.3.1/pyLDAvis/js/ldavis.v3.0.0.js\", function(){\n",
              "                 new LDAvis(\"#\" + \"ldavis_el651403971185585442381471055\", ldavis_el651403971185585442381471055_data);\n",
              "            })\n",
              "         });\n",
              "}\n",
              "</script>"
            ]
          },
          "metadata": {},
          "execution_count": 85
        }
      ]
    },
    {
      "cell_type": "markdown",
      "source": [
        "USING BERT FOR TOPIC MODELLING!"
      ],
      "metadata": {
        "id": "-S-Qc2S9YkzT"
      }
    },
    {
      "cell_type": "code",
      "source": [
        "import warnings\n",
        "warnings.filterwarnings(\"ignore\")"
      ],
      "metadata": {
        "id": "p3hVUM2ZF0E2"
      },
      "execution_count": 86,
      "outputs": []
    },
    {
      "cell_type": "code",
      "source": [
        "!pip install bertopic[visualization] --quiet"
      ],
      "metadata": {
        "id": "gfgyROqEYnFz",
        "colab": {
          "base_uri": "https://localhost:8080/"
        },
        "outputId": "da7b3709-2b11-4abb-9be2-c159ff03992f"
      },
      "execution_count": 87,
      "outputs": [
        {
          "output_type": "stream",
          "name": "stdout",
          "text": [
            "\u001b[?25l\r\u001b[K     |█████▋                          | 10 kB 18.0 MB/s eta 0:00:01\r\u001b[K     |███████████▏                    | 20 kB 15.1 MB/s eta 0:00:01\r\u001b[K     |████████████████▊               | 30 kB 10.6 MB/s eta 0:00:01\r\u001b[K     |██████████████████████▍         | 40 kB 9.2 MB/s eta 0:00:01\r\u001b[K     |████████████████████████████    | 51 kB 5.2 MB/s eta 0:00:01\r\u001b[K     |████████████████████████████████| 58 kB 2.8 MB/s \n",
            "\u001b[33mWARNING: bertopic 0.10.0 does not provide the extra 'visualization'\u001b[0m\n",
            "\u001b[K     |████████████████████████████████| 79 kB 6.7 MB/s \n",
            "\u001b[K     |████████████████████████████████| 5.2 MB 51.0 MB/s \n",
            "\u001b[?25h  Installing build dependencies ... \u001b[?25l\u001b[?25hdone\n",
            "  Getting requirements to build wheel ... \u001b[?25l\u001b[?25hdone\n",
            "    Preparing wheel metadata ... \u001b[?25l\u001b[?25hdone\n",
            "\u001b[K     |████████████████████████████████| 88 kB 4.0 MB/s \n",
            "\u001b[K     |████████████████████████████████| 4.2 MB 24.8 MB/s \n",
            "\u001b[K     |████████████████████████████████| 1.2 MB 51.1 MB/s \n",
            "\u001b[K     |████████████████████████████████| 84 kB 2.7 MB/s \n",
            "\u001b[K     |████████████████████████████████| 636 kB 47.6 MB/s \n",
            "\u001b[K     |████████████████████████████████| 6.6 MB 38.5 MB/s \n",
            "\u001b[K     |████████████████████████████████| 1.1 MB 34.0 MB/s \n",
            "\u001b[?25h  Building wheel for hdbscan (PEP 517) ... \u001b[?25l\u001b[?25hdone\n",
            "  Building wheel for sentence-transformers (setup.py) ... \u001b[?25l\u001b[?25hdone\n",
            "  Building wheel for umap-learn (setup.py) ... \u001b[?25l\u001b[?25hdone\n",
            "  Building wheel for pynndescent (setup.py) ... \u001b[?25l\u001b[?25hdone\n"
          ]
        }
      ]
    },
    {
      "cell_type": "code",
      "source": [
        "from bertopic import BERTopic"
      ],
      "metadata": {
        "id": "Jc-aW-zrYzvB"
      },
      "execution_count": 88,
      "outputs": []
    },
    {
      "cell_type": "code",
      "source": [
        "corpus=list(corpus_bert.NewReview)\n",
        "print(corpus[0:5])"
      ],
      "metadata": {
        "id": "-95lWtzzci6-",
        "colab": {
          "base_uri": "https://localhost:8080/"
        },
        "outputId": "8b2fad6f-68cc-43e5-f0d3-dcdaa1e9f967"
      },
      "execution_count": 89,
      "outputs": [
        {
          "output_type": "stream",
          "name": "stdout",
          "text": [
            "['sit arrangement really bad keep move not happy take care', 'always crowd non cooperative staff never advice visit', 'not service good always take time single order also', 'pathetic service no covid regulations follow', 'order late also food cold thats not taste']\n"
          ]
        }
      ]
    },
    {
      "cell_type": "code",
      "source": [
        "bert_model=BERTopic(language=\"english\", nr_topics=15)"
      ],
      "metadata": {
        "id": "7pQvYBbFdNk_"
      },
      "execution_count": 90,
      "outputs": []
    },
    {
      "cell_type": "code",
      "source": [
        "topics,probs=bert_model.fit_transform(corpus)"
      ],
      "metadata": {
        "id": "ZuHMyRfldZne",
        "colab": {
          "base_uri": "https://localhost:8080/",
          "height": 465,
          "referenced_widgets": [
            "9b3094823c6b423ebbd8479cc3dddbae",
            "22a478228a794cb9977108949a007334",
            "b3d849230dab4e1382fae4bf72d6e423",
            "750989a431de4e878797c62061c1da17",
            "564f2861f7ef48399250c51f95da9ed1",
            "de441f3997614f93af7bfb78d093a2ff",
            "6e58993ca7c64e44ab13dd0acc66271a",
            "359b956fc00c49ea95cce11ade5eb137",
            "3cf172f039a64e92ae0d1effb78baecf",
            "aef9d0fbfdc74b0a832ffa0836852ae5",
            "e3bad6a520114b5ca5eda7acf60b0375",
            "41e7c91f388b4a7e929bcdc1b168adab",
            "2081ec6c408540219be5b2da260cd07f",
            "23da8f14adea4c95ba9519555aac378b",
            "dd58afe09c3a4d65af43d2c49e99f36a",
            "d34e11b001554ead8c7b5a8e27b04b06",
            "34cf342441f947cea0f13a8414454cc4",
            "5de335920cc34a47b1b1f4835c556e50",
            "64da0015ad5e4f7391e18487d45ed51d",
            "0433ba93a1db406dad1b3e62dd95fc80",
            "06a0ff292fdb40b2a5364e56be54e8fd",
            "32b559c5887d49f5af34cd4c88711669",
            "7b210c9cc2804e3eae2e16d0d85fee53",
            "0c65c5d1d5504b6287d0ad96b745cc65",
            "f041f0faff32428f9972e6fb2fad5a81",
            "bddd046ad6f4442fbd6a1a1cafc75e04",
            "51961c4b905c48efb8bdb6fc888beab7",
            "8b43089ae1d94b48955d1b3e95d1fa9b",
            "559ac162f0154b65aca23cdad7a98a8e",
            "d23b0f0cf3f946b6938186e0f5ba20ef",
            "ddb3738d46804929bbecce2804ea8f1e",
            "dd44b79d7e7b4066b82107e5eb12bda6",
            "88922d38e6b94b2791d0cb13d8711edb",
            "c50bdd3fabb84a6d94cd75c712d58f38",
            "bf935990a48d4a47b45468d6262e40f4",
            "406b83cb45b248b79948ec0e8f72d994",
            "9014df5ef3a648bc8b43246d7c5071bc",
            "dbdec872ce174460bbfb632fd6cdf34a",
            "888a5be96198454eab502e53c64f8544",
            "120cf75231e44120ab44163ba313d874",
            "8be577dde8a14ad5a62733024a7b51e7",
            "656013c28f124992ac11e1c773baf480",
            "9ab4086b4dfc4583b2b4898627b844a5",
            "5db5ecdd41494100badfebdc7b51192c",
            "0546ab7cfc0b48aca9e30fb38a99df78",
            "481f39b91ae046e4bf8b998a811ff639",
            "51e5e3b90fd544ac896180c0675873ad",
            "6607f9dbe6fe4a859dc654d5f11e6d3e",
            "1c4f894d9ab74e8cb97b7d51b67f64c5",
            "4c24bf8e81e842b4a52fbb0c428c2245",
            "175c9f968efa49fbb1e42b43bd736f6d",
            "0a166533dc0b477cb3ba93ab80f6c652",
            "416476f07f584d969f8fd910820480ee",
            "dbc1b244d7394cfc9bb04e8c0397773e",
            "02a33984f8964aa08b65117c2f8ce813",
            "846706fae2fe4774b7a42804b483f0b7",
            "a80428a00e23475abb6d9ffa34db18fa",
            "453787aa5405424f915738e9c4d4c80e",
            "21f168af92ea46e7998a32a8797d1adf",
            "02777fe16bb04dba9b1daf82379d9c24",
            "3f66e7167e094e599e337651b6b4fc2f",
            "52cef87fc2f2417e90688f32e989c2af",
            "d281a5b85b29410d8363922e642480f7",
            "6d5f07adf3b34201aab48738e0fa5000",
            "f6b16c21a1914b52b66928dbc7d66bf3",
            "14c4c22b861b4e13a0c41164d2db9350",
            "091cf79a787c42928f11599d71332fc8",
            "840d146c3883416186b72f6e9e2b085f",
            "e5e64a3fa2464b2793a3e8da42c8bb3c",
            "5831c75a219e4c65a2c1cc3151b8027e",
            "363933de526e46ad8204e96966c9ef73",
            "213f70000ec84bfc893ce6f51922d61f",
            "ff37b466783f4ddaa8c8887e498da297",
            "ee58d005989445d1b09680073559a071",
            "1af4619baa5345ae939a44c298019b9b",
            "73d09e816ac9422e8d6322b34174f946",
            "699b160618744aae91ee128dc6e94e9b",
            "bd57815258ab42c8bfbc040b659f8d38",
            "19fb8793a67943c597436b1e9de0ad92",
            "ce0dfa7f961041a790dbd383064bc668",
            "233020ffb66644ab86ce28d78d62de89",
            "67822174ef8f464ab6603f6cd6be171d",
            "343034be34964902bad5c9b7b9515a51",
            "bf6c239ddfdf4792b18a867035149b44",
            "95cdc3908aba4121a09cecfd6f08d25d",
            "efede31e1dc14d9ebd5d51ad3e668c67",
            "95d7d109c4f842258669a901268851cd",
            "e0191882b5c749ed94cdff6aa1311c3e",
            "7ae57b44ea8d46ceb4bd810867bf95cc",
            "9b38d183c9134a1ab8878cbd9f2d7137",
            "d69cff12666f44b4b302ab3cd127cbec",
            "fecf949d34d5481f8b27afe9fe5bdb96",
            "ef8c328c26ae49e1888d5743d58d605d",
            "fab0dfb3d9f046d98bfd76a30a0bf923",
            "b72038ab3b52452c8d90b3476cd8b14d",
            "92116ac4f717416988b65604e55cb50e",
            "8997c594b037439a87d6fa8813fee7f2",
            "dc374c4e5ab54b13a64833e0fa094bd5",
            "5fad4a06d3d04d8bb56ed39b10483ee6",
            "5461b6dd00744081afa222e28cc4163d",
            "974bf143efed48a6abbbbe9f36d63bab",
            "f9bb6ac3021a4984bc80d1a3a3f89f05",
            "9c01533297554d5991036a1b64f4c5c3",
            "156b8855bcbe42028ac9bfca3773bdae",
            "48bebb8883b54c1cbd11d0e55af00378",
            "451c7a40391143b5bdba885483126b16",
            "50a3946744604928a026eb705cc5a355",
            "9bf89f4dd75f4e4491d58402c4eed879",
            "a5d28b7484ad43f6918d8b73af870220",
            "4d805097ec2c40e0a7928b4493f73749",
            "66b2cd46c7fb41628c52aa4d9c8bfcd1",
            "79d82df29365492791cc84024dbf72d3",
            "85c1b16b76d741af83a7a79f7b58a052",
            "406b421dada04143901a9f205e258ef8",
            "095fd78540ef408bb7ad880b555acf29",
            "f318df63196249449146cfa872be860f",
            "8f35333fa97345748a9a352eb678e45f",
            "0843cdb530a046859c6f054e25a3e92f",
            "19c4e72ab7a744b69972cd114f7e2926",
            "114179e56564403d9cde314a26020c3b",
            "799cc439d1a94d48834ce7756a3fbec5",
            "168cfbd19a0845e1b57a964dfb110983",
            "e8b4b3204c014c6cad19db4f1444d9ce",
            "458fde2ee2f6495bbbab4e4a03e59a73",
            "e66ce8e284554c0ca514379a24eee167",
            "60f6021378dd47ba8e47010bcfe0e53e",
            "88c2bcbcce174dec920d6e7443e6f2cc",
            "e00be8f386974cf2b41eb217843b58fd",
            "6b6990fc56d944879b887f2099176f0a",
            "221bb05a57cf42308fdb7128404f7181",
            "687f2b30b03a49ddb9ed86cae60617eb",
            "76f786cfd1a74a59ba2bea1936bb9ac8",
            "ff25dcec3e244aabaeb6b27231c497d1",
            "a2e313072e9b40819955aeb369bd1f7d",
            "30898c0d914c4d9ab0f08b09f60a595c",
            "57061c49edab4e3f871bb24a22b6b8f9",
            "bf995a3bfb6846f8beb6eb4ad26418bb",
            "2625e38db56c489fb1b2fbce198d8da6",
            "197348fbb4ba447c898891d07d2ad3e7",
            "5423bdcfe4ed49199c4bea8f340cd34f",
            "3dab7a935825479c81371d2178c8b26d",
            "ead3a0c747fa493ba13da6fc82d75254",
            "b8d450366337426aa18bb575dd54c383",
            "89a5baad5aee415eb6fd9e307d48b353",
            "5822278aac8d4c4e9ee9be8d597ef892",
            "b68a2c59ea374fc1839fdb4a7b7d478a",
            "21020fefd5fa482ab98a9c4d85fa31d4",
            "550711986bad406698e42a7e8137329a",
            "061bd8452d9c433f89836de509f95ba3",
            "36c3abca6c40488b9d3a8b03f3fa609b",
            "566e1e7427cd475fb3aaee36748ae564",
            "8fc3ba09e5264c72a8bbb1851a8e1d91",
            "b7745b641f554c348e92f529867afb73",
            "d86eb525b9bb42d5baee78b3af31948d"
          ]
        },
        "outputId": "3a3b33c2-7e80-4045-c769-4506eacccd7e"
      },
      "execution_count": 91,
      "outputs": [
        {
          "output_type": "display_data",
          "data": {
            "text/plain": [
              "Downloading:   0%|          | 0.00/1.18k [00:00<?, ?B/s]"
            ],
            "application/vnd.jupyter.widget-view+json": {
              "version_major": 2,
              "version_minor": 0,
              "model_id": "9b3094823c6b423ebbd8479cc3dddbae"
            }
          },
          "metadata": {}
        },
        {
          "output_type": "display_data",
          "data": {
            "text/plain": [
              "Downloading:   0%|          | 0.00/190 [00:00<?, ?B/s]"
            ],
            "application/vnd.jupyter.widget-view+json": {
              "version_major": 2,
              "version_minor": 0,
              "model_id": "41e7c91f388b4a7e929bcdc1b168adab"
            }
          },
          "metadata": {}
        },
        {
          "output_type": "display_data",
          "data": {
            "text/plain": [
              "Downloading:   0%|          | 0.00/10.2k [00:00<?, ?B/s]"
            ],
            "application/vnd.jupyter.widget-view+json": {
              "version_major": 2,
              "version_minor": 0,
              "model_id": "7b210c9cc2804e3eae2e16d0d85fee53"
            }
          },
          "metadata": {}
        },
        {
          "output_type": "display_data",
          "data": {
            "text/plain": [
              "Downloading:   0%|          | 0.00/612 [00:00<?, ?B/s]"
            ],
            "application/vnd.jupyter.widget-view+json": {
              "version_major": 2,
              "version_minor": 0,
              "model_id": "c50bdd3fabb84a6d94cd75c712d58f38"
            }
          },
          "metadata": {}
        },
        {
          "output_type": "display_data",
          "data": {
            "text/plain": [
              "Downloading:   0%|          | 0.00/116 [00:00<?, ?B/s]"
            ],
            "application/vnd.jupyter.widget-view+json": {
              "version_major": 2,
              "version_minor": 0,
              "model_id": "0546ab7cfc0b48aca9e30fb38a99df78"
            }
          },
          "metadata": {}
        },
        {
          "output_type": "display_data",
          "data": {
            "text/plain": [
              "Downloading:   0%|          | 0.00/39.3k [00:00<?, ?B/s]"
            ],
            "application/vnd.jupyter.widget-view+json": {
              "version_major": 2,
              "version_minor": 0,
              "model_id": "846706fae2fe4774b7a42804b483f0b7"
            }
          },
          "metadata": {}
        },
        {
          "output_type": "display_data",
          "data": {
            "text/plain": [
              "Downloading:   0%|          | 0.00/349 [00:00<?, ?B/s]"
            ],
            "application/vnd.jupyter.widget-view+json": {
              "version_major": 2,
              "version_minor": 0,
              "model_id": "091cf79a787c42928f11599d71332fc8"
            }
          },
          "metadata": {}
        },
        {
          "output_type": "display_data",
          "data": {
            "text/plain": [
              "Downloading:   0%|          | 0.00/90.9M [00:00<?, ?B/s]"
            ],
            "application/vnd.jupyter.widget-view+json": {
              "version_major": 2,
              "version_minor": 0,
              "model_id": "bd57815258ab42c8bfbc040b659f8d38"
            }
          },
          "metadata": {}
        },
        {
          "output_type": "display_data",
          "data": {
            "text/plain": [
              "Downloading:   0%|          | 0.00/53.0 [00:00<?, ?B/s]"
            ],
            "application/vnd.jupyter.widget-view+json": {
              "version_major": 2,
              "version_minor": 0,
              "model_id": "7ae57b44ea8d46ceb4bd810867bf95cc"
            }
          },
          "metadata": {}
        },
        {
          "output_type": "display_data",
          "data": {
            "text/plain": [
              "Downloading:   0%|          | 0.00/112 [00:00<?, ?B/s]"
            ],
            "application/vnd.jupyter.widget-view+json": {
              "version_major": 2,
              "version_minor": 0,
              "model_id": "5461b6dd00744081afa222e28cc4163d"
            }
          },
          "metadata": {}
        },
        {
          "output_type": "display_data",
          "data": {
            "text/plain": [
              "Downloading:   0%|          | 0.00/466k [00:00<?, ?B/s]"
            ],
            "application/vnd.jupyter.widget-view+json": {
              "version_major": 2,
              "version_minor": 0,
              "model_id": "66b2cd46c7fb41628c52aa4d9c8bfcd1"
            }
          },
          "metadata": {}
        },
        {
          "output_type": "display_data",
          "data": {
            "text/plain": [
              "Downloading:   0%|          | 0.00/350 [00:00<?, ?B/s]"
            ],
            "application/vnd.jupyter.widget-view+json": {
              "version_major": 2,
              "version_minor": 0,
              "model_id": "168cfbd19a0845e1b57a964dfb110983"
            }
          },
          "metadata": {}
        },
        {
          "output_type": "display_data",
          "data": {
            "text/plain": [
              "Downloading:   0%|          | 0.00/13.2k [00:00<?, ?B/s]"
            ],
            "application/vnd.jupyter.widget-view+json": {
              "version_major": 2,
              "version_minor": 0,
              "model_id": "ff25dcec3e244aabaeb6b27231c497d1"
            }
          },
          "metadata": {}
        },
        {
          "output_type": "display_data",
          "data": {
            "text/plain": [
              "Downloading:   0%|          | 0.00/232k [00:00<?, ?B/s]"
            ],
            "application/vnd.jupyter.widget-view+json": {
              "version_major": 2,
              "version_minor": 0,
              "model_id": "89a5baad5aee415eb6fd9e307d48b353"
            }
          },
          "metadata": {}
        }
      ]
    },
    {
      "cell_type": "code",
      "source": [
        "#Getting most frequent topics\n",
        "bert_model.get_topic_freq()"
      ],
      "metadata": {
        "id": "HbNZF4cQdube",
        "colab": {
          "base_uri": "https://localhost:8080/",
          "height": 551
        },
        "outputId": "2aafd245-2929-48eb-bcb7-ae3318baeb4c"
      },
      "execution_count": 92,
      "outputs": [
        {
          "output_type": "execute_result",
          "data": {
            "text/plain": [
              "    Topic  Count\n",
              "0      -1    214\n",
              "1       0    126\n",
              "2       1    123\n",
              "3       2     58\n",
              "4       3     51\n",
              "5       4     32\n",
              "6       5     29\n",
              "7       6     26\n",
              "8       7     25\n",
              "9       8     22\n",
              "10      9     22\n",
              "11     10     21\n",
              "12     11     16\n",
              "13     12     14\n",
              "14     13     13\n",
              "15     14     12"
            ],
            "text/html": [
              "\n",
              "  <div id=\"df-03d6eb52-5fe3-4644-b384-a2ecb3c04212\">\n",
              "    <div class=\"colab-df-container\">\n",
              "      <div>\n",
              "<style scoped>\n",
              "    .dataframe tbody tr th:only-of-type {\n",
              "        vertical-align: middle;\n",
              "    }\n",
              "\n",
              "    .dataframe tbody tr th {\n",
              "        vertical-align: top;\n",
              "    }\n",
              "\n",
              "    .dataframe thead th {\n",
              "        text-align: right;\n",
              "    }\n",
              "</style>\n",
              "<table border=\"1\" class=\"dataframe\">\n",
              "  <thead>\n",
              "    <tr style=\"text-align: right;\">\n",
              "      <th></th>\n",
              "      <th>Topic</th>\n",
              "      <th>Count</th>\n",
              "    </tr>\n",
              "  </thead>\n",
              "  <tbody>\n",
              "    <tr>\n",
              "      <th>0</th>\n",
              "      <td>-1</td>\n",
              "      <td>214</td>\n",
              "    </tr>\n",
              "    <tr>\n",
              "      <th>1</th>\n",
              "      <td>0</td>\n",
              "      <td>126</td>\n",
              "    </tr>\n",
              "    <tr>\n",
              "      <th>2</th>\n",
              "      <td>1</td>\n",
              "      <td>123</td>\n",
              "    </tr>\n",
              "    <tr>\n",
              "      <th>3</th>\n",
              "      <td>2</td>\n",
              "      <td>58</td>\n",
              "    </tr>\n",
              "    <tr>\n",
              "      <th>4</th>\n",
              "      <td>3</td>\n",
              "      <td>51</td>\n",
              "    </tr>\n",
              "    <tr>\n",
              "      <th>5</th>\n",
              "      <td>4</td>\n",
              "      <td>32</td>\n",
              "    </tr>\n",
              "    <tr>\n",
              "      <th>6</th>\n",
              "      <td>5</td>\n",
              "      <td>29</td>\n",
              "    </tr>\n",
              "    <tr>\n",
              "      <th>7</th>\n",
              "      <td>6</td>\n",
              "      <td>26</td>\n",
              "    </tr>\n",
              "    <tr>\n",
              "      <th>8</th>\n",
              "      <td>7</td>\n",
              "      <td>25</td>\n",
              "    </tr>\n",
              "    <tr>\n",
              "      <th>9</th>\n",
              "      <td>8</td>\n",
              "      <td>22</td>\n",
              "    </tr>\n",
              "    <tr>\n",
              "      <th>10</th>\n",
              "      <td>9</td>\n",
              "      <td>22</td>\n",
              "    </tr>\n",
              "    <tr>\n",
              "      <th>11</th>\n",
              "      <td>10</td>\n",
              "      <td>21</td>\n",
              "    </tr>\n",
              "    <tr>\n",
              "      <th>12</th>\n",
              "      <td>11</td>\n",
              "      <td>16</td>\n",
              "    </tr>\n",
              "    <tr>\n",
              "      <th>13</th>\n",
              "      <td>12</td>\n",
              "      <td>14</td>\n",
              "    </tr>\n",
              "    <tr>\n",
              "      <th>14</th>\n",
              "      <td>13</td>\n",
              "      <td>13</td>\n",
              "    </tr>\n",
              "    <tr>\n",
              "      <th>15</th>\n",
              "      <td>14</td>\n",
              "      <td>12</td>\n",
              "    </tr>\n",
              "  </tbody>\n",
              "</table>\n",
              "</div>\n",
              "      <button class=\"colab-df-convert\" onclick=\"convertToInteractive('df-03d6eb52-5fe3-4644-b384-a2ecb3c04212')\"\n",
              "              title=\"Convert this dataframe to an interactive table.\"\n",
              "              style=\"display:none;\">\n",
              "        \n",
              "  <svg xmlns=\"http://www.w3.org/2000/svg\" height=\"24px\"viewBox=\"0 0 24 24\"\n",
              "       width=\"24px\">\n",
              "    <path d=\"M0 0h24v24H0V0z\" fill=\"none\"/>\n",
              "    <path d=\"M18.56 5.44l.94 2.06.94-2.06 2.06-.94-2.06-.94-.94-2.06-.94 2.06-2.06.94zm-11 1L8.5 8.5l.94-2.06 2.06-.94-2.06-.94L8.5 2.5l-.94 2.06-2.06.94zm10 10l.94 2.06.94-2.06 2.06-.94-2.06-.94-.94-2.06-.94 2.06-2.06.94z\"/><path d=\"M17.41 7.96l-1.37-1.37c-.4-.4-.92-.59-1.43-.59-.52 0-1.04.2-1.43.59L10.3 9.45l-7.72 7.72c-.78.78-.78 2.05 0 2.83L4 21.41c.39.39.9.59 1.41.59.51 0 1.02-.2 1.41-.59l7.78-7.78 2.81-2.81c.8-.78.8-2.07 0-2.86zM5.41 20L4 18.59l7.72-7.72 1.47 1.35L5.41 20z\"/>\n",
              "  </svg>\n",
              "      </button>\n",
              "      \n",
              "  <style>\n",
              "    .colab-df-container {\n",
              "      display:flex;\n",
              "      flex-wrap:wrap;\n",
              "      gap: 12px;\n",
              "    }\n",
              "\n",
              "    .colab-df-convert {\n",
              "      background-color: #E8F0FE;\n",
              "      border: none;\n",
              "      border-radius: 50%;\n",
              "      cursor: pointer;\n",
              "      display: none;\n",
              "      fill: #1967D2;\n",
              "      height: 32px;\n",
              "      padding: 0 0 0 0;\n",
              "      width: 32px;\n",
              "    }\n",
              "\n",
              "    .colab-df-convert:hover {\n",
              "      background-color: #E2EBFA;\n",
              "      box-shadow: 0px 1px 2px rgba(60, 64, 67, 0.3), 0px 1px 3px 1px rgba(60, 64, 67, 0.15);\n",
              "      fill: #174EA6;\n",
              "    }\n",
              "\n",
              "    [theme=dark] .colab-df-convert {\n",
              "      background-color: #3B4455;\n",
              "      fill: #D2E3FC;\n",
              "    }\n",
              "\n",
              "    [theme=dark] .colab-df-convert:hover {\n",
              "      background-color: #434B5C;\n",
              "      box-shadow: 0px 1px 3px 1px rgba(0, 0, 0, 0.15);\n",
              "      filter: drop-shadow(0px 1px 2px rgba(0, 0, 0, 0.3));\n",
              "      fill: #FFFFFF;\n",
              "    }\n",
              "  </style>\n",
              "\n",
              "      <script>\n",
              "        const buttonEl =\n",
              "          document.querySelector('#df-03d6eb52-5fe3-4644-b384-a2ecb3c04212 button.colab-df-convert');\n",
              "        buttonEl.style.display =\n",
              "          google.colab.kernel.accessAllowed ? 'block' : 'none';\n",
              "\n",
              "        async function convertToInteractive(key) {\n",
              "          const element = document.querySelector('#df-03d6eb52-5fe3-4644-b384-a2ecb3c04212');\n",
              "          const dataTable =\n",
              "            await google.colab.kernel.invokeFunction('convertToInteractive',\n",
              "                                                     [key], {});\n",
              "          if (!dataTable) return;\n",
              "\n",
              "          const docLinkHtml = 'Like what you see? Visit the ' +\n",
              "            '<a target=\"_blank\" href=https://colab.research.google.com/notebooks/data_table.ipynb>data table notebook</a>'\n",
              "            + ' to learn more about interactive tables.';\n",
              "          element.innerHTML = '';\n",
              "          dataTable['output_type'] = 'display_data';\n",
              "          await google.colab.output.renderOutput(dataTable, element);\n",
              "          const docLink = document.createElement('div');\n",
              "          docLink.innerHTML = docLinkHtml;\n",
              "          element.appendChild(docLink);\n",
              "        }\n",
              "      </script>\n",
              "    </div>\n",
              "  </div>\n",
              "  "
            ]
          },
          "metadata": {},
          "execution_count": 92
        }
      ]
    },
    {
      "cell_type": "code",
      "source": [
        "#bert_model.get_topic(0)\n",
        "bert_model.get_topics()"
      ],
      "metadata": {
        "id": "tTLkT8LCd1lv",
        "colab": {
          "base_uri": "https://localhost:8080/"
        },
        "outputId": "ffef2a0b-6177-46db-998d-55f3049c2e05"
      },
      "execution_count": 93,
      "outputs": [
        {
          "output_type": "execute_result",
          "data": {
            "text/plain": [
              "{-1: [('order', 0.035989062797371185),\n",
              "  ('not', 0.03553771925082929),\n",
              "  ('food', 0.02588279944104949),\n",
              "  ('fry', 0.024507851960777385),\n",
              "  ('place', 0.023935552056966024),\n",
              "  ('bad', 0.023490871455493247),\n",
              "  ('get', 0.02193101861942972),\n",
              "  ('burger', 0.021264383587077537),\n",
              "  ('one', 0.02123288889699344),\n",
              "  ('no', 0.02049380269105847)],\n",
              " 0: [('place', 0.033417752980241626),\n",
              "  ('service', 0.025957472981593635),\n",
              "  ('time', 0.025941691589334452),\n",
              "  ('staff', 0.024630966046841722),\n",
              "  ('mcdonalds', 0.02460043162812307),\n",
              "  ('crowd', 0.023826518230554598),\n",
              "  ('outlet', 0.022489142912333743),\n",
              "  ('not', 0.021619749851864406),\n",
              "  ('order', 0.021065693931712984),\n",
              "  ('no', 0.020734199203563557)],\n",
              " 1: [('burger', 0.07968332438606984),\n",
              "  ('chicken', 0.05728787069458762),\n",
              "  ('mc', 0.04976462335151664),\n",
              "  ('sauce', 0.04037922061633835),\n",
              "  ('not', 0.035474867040746226),\n",
              "  ('order', 0.033964122884830195),\n",
              "  ('taste', 0.031426261403571194),\n",
              "  ('tikki', 0.03131113218849483),\n",
              "  ('quality', 0.02904888150075304),\n",
              "  ('burgers', 0.028311691934067875)],\n",
              " 2: [('coke', 0.1331750155163309),\n",
              "  ('shake', 0.10257869598744022),\n",
              "  ('ice', 0.06913550625659294),\n",
              "  ('spill', 0.05736173331606932),\n",
              "  ('strawberry', 0.055828866468279316),\n",
              "  ('meal', 0.04836290809274083),\n",
              "  ('coffee', 0.04833232195558488),\n",
              "  ('drink', 0.04783695919590842),\n",
              "  ('give', 0.04768670396872649),\n",
              "  ('straw', 0.04759884721656674)],\n",
              " 3: [('fry', 0.17510269662222236),\n",
              "  ('not', 0.08707382389106434),\n",
              "  ('cold', 0.08560724434456449),\n",
              "  ('french', 0.07097546909253448),\n",
              "  ('hot', 0.0643835189850747),\n",
              "  ('like', 0.05696068284527263),\n",
              "  ('soggy', 0.055098565306730095),\n",
              "  ('crispy', 0.05321905838560958),\n",
              "  ('fresh', 0.05275579620089291),\n",
              "  ('crunchy', 0.048134347023799824)],\n",
              " 4: [('delivery', 0.2778375613990042),\n",
              "  ('late', 0.24087850930830612),\n",
              "  ('delay', 0.11581089285613995),\n",
              "  ('cold', 0.1013022617038199),\n",
              "  ('food', 0.08201592460378847),\n",
              "  ('unprofessional', 0.06763902318747227),\n",
              "  ('boy', 0.06410068034394004),\n",
              "  ('receive', 0.05065113085190995),\n",
              "  ('hot', 0.045236287628138985),\n",
              "  ('pm', 0.04509268212498151)],\n",
              " 5: [('crowd', 0.6370284388030223),\n",
              "  ('always', 0.17092340483837765),\n",
              "  ('weekend', 0.12424699089618525),\n",
              "  ('pm', 0.0932799600820696),\n",
              "  ('twice', 0.09068574143694648),\n",
              "  ('much', 0.08913197410608939),\n",
              "  ('visit', 0.08653226640356938),\n",
              "  ('little', 0.08128575984295866),\n",
              "  ('good', 0.07622711781156973),\n",
              "  ('place', 0.07293557198068608)],\n",
              " 6: [('food', 0.1748016170848421),\n",
              "  ('not', 0.11097093824930401),\n",
              "  ('fresh', 0.11060066163126589),\n",
              "  ('quality', 0.10114164801843219),\n",
              "  ('disappoint', 0.05704935937898848),\n",
              "  ('hash', 0.05656217944896266),\n",
              "  ('last', 0.05569238965775564),\n",
              "  ('bad', 0.05247572294836294),\n",
              "  ('brown', 0.0514272040112496),\n",
              "  ('prepare', 0.04671689710388153)],\n",
              " 7: [('service', 0.41381478666308696),\n",
              "  ('bad', 0.2258737639951274),\n",
              "  ('poor', 0.1770435467639401),\n",
              "  ('worst', 0.15226128988179538),\n",
              "  ('pathetic', 0.14207243430598404),\n",
              "  ('regulations', 0.09704056401534046),\n",
              "  ('covid', 0.09704056401534046),\n",
              "  ('awful', 0.09704056401534046),\n",
              "  ('infrastructure', 0.09704056401534046),\n",
              "  ('sorry', 0.08115443138329424)],\n",
              " 8: [('fry', 0.16577396379011367),\n",
              "  ('quantity', 0.09923306777940182),\n",
              "  ('order', 0.07842904952151923),\n",
              "  ('receive', 0.07077740801160927),\n",
              "  ('large', 0.06427433844831897),\n",
              "  ('mexican', 0.04594343854255898),\n",
              "  ('refund', 0.045451587534391075),\n",
              "  ('less', 0.041098452978540895),\n",
              "  ('control', 0.03976084150401681),\n",
              "  ('shaker', 0.03976084150401681)],\n",
              " 9: [('order', 0.13851212254677664),\n",
              "  ('call', 0.08708779751049994),\n",
              "  ('msg', 0.07179045853137568),\n",
              "  ('didnt', 0.07148211771475921),\n",
              "  ('get', 0.06736290441331245),\n",
              "  ('delivery', 0.06495189588260988),\n",
              "  ('complete', 0.06295129354839084),\n",
              "  ('say', 0.061561311222945544),\n",
              "  ('cancel', 0.05780018612209978),\n",
              "  ('receive', 0.05709075112047542)],\n",
              " 10: [('delivery', 0.07649387041227226),\n",
              "  ('order', 0.07094523349956852),\n",
              "  ('mcdonalds', 0.057717062060361014),\n",
              "  ('wrong', 0.0551854073907984),\n",
              "  ('literally', 0.05322710999213534),\n",
              "  ('deliver', 0.05322444632699968),\n",
              "  ('never', 0.05322444632699968),\n",
              "  ('know', 0.04274571214281636),\n",
              "  ('no', 0.04120617727898809),\n",
              "  ('hour', 0.03580713206185937)],\n",
              " 11: [('space', 0.2657137465871332),\n",
              "  ('sit', 0.18499003993444044),\n",
              "  ('seat', 0.17675660536180232),\n",
              "  ('enough', 0.17619548015502035),\n",
              "  ('crowd', 0.1289224221387069),\n",
              "  ('always', 0.09224437721436253),\n",
              "  ('not', 0.0915510240556758),\n",
              "  ('place', 0.08610449469942107),\n",
              "  ('area', 0.07542005676742447),\n",
              "  ('rush', 0.07542005676742447)],\n",
              " 12: [('zomato', 0.21999421598736577),\n",
              "  ('deliver', 0.06601620401567355),\n",
              "  ('order', 0.06355262093322693),\n",
              "  ('even', 0.05745369936833519),\n",
              "  ('not', 0.05169940181967576),\n",
              "  ('delivery', 0.051088213904304916),\n",
              "  ('blame', 0.0439188687486063),\n",
              "  ('via', 0.0439188687486063),\n",
              "  ('call', 0.03995793062246468),\n",
              "  ('guy', 0.0391743613978815)],\n",
              " 13: [('ac', 0.19413814157392126),\n",
              "  ('work', 0.15963700603635356),\n",
              "  ('switch', 0.11365146479233769),\n",
              "  ('condition', 0.07419742481204714),\n",
              "  ('air', 0.0723275056287238),\n",
              "  ('go', 0.06907555170131309),\n",
              "  ('wasnt', 0.0575476296084433),\n",
              "  ('seat', 0.05104201438255255),\n",
              "  ('decent', 0.04946494987469808),\n",
              "  ('guess', 0.04821833708581586)],\n",
              " 14: [('slow', 0.408410857490208),\n",
              "  ('service', 0.33991928904467855),\n",
              "  ('hours', 0.1368313908271333),\n",
              "  ('fast', 0.13160551593621878),\n",
              "  ('good', 0.1234153335996843),\n",
              "  ('chaos', 0.10628252249299192),\n",
              "  ('prompt', 0.10628252249299192),\n",
              "  ('pickup', 0.10628252249299192),\n",
              "  ('windows', 0.10628252249299192),\n",
              "  ('af', 0.0952997947159768)]}"
            ]
          },
          "metadata": {},
          "execution_count": 93
        }
      ]
    },
    {
      "cell_type": "code",
      "source": [
        "# bert_model.visualize_topics()"
      ],
      "metadata": {
        "id": "WK_NwaGSfPIW"
      },
      "execution_count": 94,
      "outputs": []
    },
    {
      "cell_type": "code",
      "source": [
        "topic_list=[i for i in range(len(bert_model.get_topics())-1)]\n",
        "print(topic_list)"
      ],
      "metadata": {
        "id": "AOCHaY7yTYl4",
        "colab": {
          "base_uri": "https://localhost:8080/"
        },
        "outputId": "1fec0f54-f196-4922-b1da-d291eea35cd9"
      },
      "execution_count": 95,
      "outputs": [
        {
          "output_type": "stream",
          "name": "stdout",
          "text": [
            "[0, 1, 2, 3, 4, 5, 6, 7, 8, 9, 10, 11, 12, 13, 14]\n"
          ]
        }
      ]
    },
    {
      "cell_type": "code",
      "source": [
        "bert_model.visualize_barchart(topic_list, n_words=10, height=300)"
      ],
      "metadata": {
        "id": "8KkoO-uYO_ww",
        "colab": {
          "base_uri": "https://localhost:8080/",
          "height": 1000
        },
        "outputId": "bf62de3d-a6b6-47d0-bbda-e4532b00db8a"
      },
      "execution_count": 96,
      "outputs": [
        {
          "output_type": "display_data",
          "data": {
            "text/html": [
              "<html>\n",
              "<head><meta charset=\"utf-8\" /></head>\n",
              "<body>\n",
              "    <div>            <script src=\"https://cdnjs.cloudflare.com/ajax/libs/mathjax/2.7.5/MathJax.js?config=TeX-AMS-MML_SVG\"></script><script type=\"text/javascript\">if (window.MathJax) {MathJax.Hub.Config({SVG: {font: \"STIX-Web\"}});}</script>                <script type=\"text/javascript\">window.PlotlyConfig = {MathJaxConfig: 'local'};</script>\n",
              "        <script src=\"https://cdn.plot.ly/plotly-2.8.3.min.js\"></script>                <div id=\"1649e011-8eab-416e-9377-8e8fd3c0cbd5\" class=\"plotly-graph-div\" style=\"height:1200px; width:1000px;\"></div>            <script type=\"text/javascript\">                                    window.PLOTLYENV=window.PLOTLYENV || {};                                    if (document.getElementById(\"1649e011-8eab-416e-9377-8e8fd3c0cbd5\")) {                    Plotly.newPlot(                        \"1649e011-8eab-416e-9377-8e8fd3c0cbd5\",                        [{\"marker\":{\"color\":\"#D55E00\"},\"orientation\":\"h\",\"x\":[0.020734199203563557,0.021065693931712984,0.021619749851864406,0.022489142912333743,0.023826518230554598,0.02460043162812307,0.024630966046841722,0.025941691589334452,0.025957472981593635,0.033417752980241626],\"y\":[\"no  \",\"order  \",\"not  \",\"outlet  \",\"crowd  \",\"mcdonalds  \",\"staff  \",\"time  \",\"service  \",\"place  \"],\"type\":\"bar\",\"xaxis\":\"x\",\"yaxis\":\"y\"},{\"marker\":{\"color\":\"#0072B2\"},\"orientation\":\"h\",\"x\":[0.028311691934067875,0.02904888150075304,0.03131113218849483,0.031426261403571194,0.033964122884830195,0.035474867040746226,0.04037922061633835,0.04976462335151664,0.05728787069458762,0.07968332438606984],\"y\":[\"burgers  \",\"quality  \",\"tikki  \",\"taste  \",\"order  \",\"not  \",\"sauce  \",\"mc  \",\"chicken  \",\"burger  \"],\"type\":\"bar\",\"xaxis\":\"x2\",\"yaxis\":\"y2\"},{\"marker\":{\"color\":\"#CC79A7\"},\"orientation\":\"h\",\"x\":[0.04759884721656674,0.04768670396872649,0.04783695919590842,0.04833232195558488,0.04836290809274083,0.055828866468279316,0.05736173331606932,0.06913550625659294,0.10257869598744022,0.1331750155163309],\"y\":[\"straw  \",\"give  \",\"drink  \",\"coffee  \",\"meal  \",\"strawberry  \",\"spill  \",\"ice  \",\"shake  \",\"coke  \"],\"type\":\"bar\",\"xaxis\":\"x3\",\"yaxis\":\"y3\"},{\"marker\":{\"color\":\"#E69F00\"},\"orientation\":\"h\",\"x\":[0.048134347023799824,0.05275579620089291,0.05321905838560958,0.055098565306730095,0.05696068284527263,0.0643835189850747,0.07097546909253448,0.08560724434456449,0.08707382389106434,0.17510269662222236],\"y\":[\"crunchy  \",\"fresh  \",\"crispy  \",\"soggy  \",\"like  \",\"hot  \",\"french  \",\"cold  \",\"not  \",\"fry  \"],\"type\":\"bar\",\"xaxis\":\"x4\",\"yaxis\":\"y4\"},{\"marker\":{\"color\":\"#56B4E9\"},\"orientation\":\"h\",\"x\":[0.04509268212498151,0.045236287628138985,0.05065113085190995,0.06410068034394004,0.06763902318747227,0.08201592460378847,0.1013022617038199,0.11581089285613995,0.24087850930830612,0.2778375613990042],\"y\":[\"pm  \",\"hot  \",\"receive  \",\"boy  \",\"unprofessional  \",\"food  \",\"cold  \",\"delay  \",\"late  \",\"delivery  \"],\"type\":\"bar\",\"xaxis\":\"x5\",\"yaxis\":\"y5\"},{\"marker\":{\"color\":\"#009E73\"},\"orientation\":\"h\",\"x\":[0.07293557198068608,0.07622711781156973,0.08128575984295866,0.08653226640356938,0.08913197410608939,0.09068574143694648,0.0932799600820696,0.12424699089618525,0.17092340483837765,0.6370284388030223],\"y\":[\"place  \",\"good  \",\"little  \",\"visit  \",\"much  \",\"twice  \",\"pm  \",\"weekend  \",\"always  \",\"crowd  \"],\"type\":\"bar\",\"xaxis\":\"x6\",\"yaxis\":\"y6\"},{\"marker\":{\"color\":\"#F0E442\"},\"orientation\":\"h\",\"x\":[0.04671689710388153,0.0514272040112496,0.05247572294836294,0.05569238965775564,0.05656217944896266,0.05704935937898848,0.10114164801843219,0.11060066163126589,0.11097093824930401,0.1748016170848421],\"y\":[\"prepare  \",\"brown  \",\"bad  \",\"last  \",\"hash  \",\"disappoint  \",\"quality  \",\"fresh  \",\"not  \",\"food  \"],\"type\":\"bar\",\"xaxis\":\"x7\",\"yaxis\":\"y7\"},{\"marker\":{\"color\":\"#D55E00\"},\"orientation\":\"h\",\"x\":[0.08115443138329424,0.09704056401534046,0.09704056401534046,0.09704056401534046,0.09704056401534046,0.14207243430598404,0.15226128988179538,0.1770435467639401,0.2258737639951274,0.41381478666308696],\"y\":[\"sorry  \",\"infrastructure  \",\"awful  \",\"covid  \",\"regulations  \",\"pathetic  \",\"worst  \",\"poor  \",\"bad  \",\"service  \"],\"type\":\"bar\",\"xaxis\":\"x8\",\"yaxis\":\"y8\"},{\"marker\":{\"color\":\"#0072B2\"},\"orientation\":\"h\",\"x\":[0.03976084150401681,0.03976084150401681,0.041098452978540895,0.045451587534391075,0.04594343854255898,0.06427433844831897,0.07077740801160927,0.07842904952151923,0.09923306777940182,0.16577396379011367],\"y\":[\"shaker  \",\"control  \",\"less  \",\"refund  \",\"mexican  \",\"large  \",\"receive  \",\"order  \",\"quantity  \",\"fry  \"],\"type\":\"bar\",\"xaxis\":\"x9\",\"yaxis\":\"y9\"},{\"marker\":{\"color\":\"#CC79A7\"},\"orientation\":\"h\",\"x\":[0.05709075112047542,0.05780018612209978,0.061561311222945544,0.06295129354839084,0.06495189588260988,0.06736290441331245,0.07148211771475921,0.07179045853137568,0.08708779751049994,0.13851212254677664],\"y\":[\"receive  \",\"cancel  \",\"say  \",\"complete  \",\"delivery  \",\"get  \",\"didnt  \",\"msg  \",\"call  \",\"order  \"],\"type\":\"bar\",\"xaxis\":\"x10\",\"yaxis\":\"y10\"},{\"marker\":{\"color\":\"#E69F00\"},\"orientation\":\"h\",\"x\":[0.03580713206185937,0.04120617727898809,0.04274571214281636,0.05322444632699968,0.05322444632699968,0.05322710999213534,0.0551854073907984,0.057717062060361014,0.07094523349956852,0.07649387041227226],\"y\":[\"hour  \",\"no  \",\"know  \",\"never  \",\"deliver  \",\"literally  \",\"wrong  \",\"mcdonalds  \",\"order  \",\"delivery  \"],\"type\":\"bar\",\"xaxis\":\"x11\",\"yaxis\":\"y11\"},{\"marker\":{\"color\":\"#56B4E9\"},\"orientation\":\"h\",\"x\":[0.07542005676742447,0.07542005676742447,0.08610449469942107,0.0915510240556758,0.09224437721436253,0.1289224221387069,0.17619548015502035,0.17675660536180232,0.18499003993444044,0.2657137465871332],\"y\":[\"rush  \",\"area  \",\"place  \",\"not  \",\"always  \",\"crowd  \",\"enough  \",\"seat  \",\"sit  \",\"space  \"],\"type\":\"bar\",\"xaxis\":\"x12\",\"yaxis\":\"y12\"},{\"marker\":{\"color\":\"#009E73\"},\"orientation\":\"h\",\"x\":[0.0391743613978815,0.03995793062246468,0.0439188687486063,0.0439188687486063,0.051088213904304916,0.05169940181967576,0.05745369936833519,0.06355262093322693,0.06601620401567355,0.21999421598736577],\"y\":[\"guy  \",\"call  \",\"via  \",\"blame  \",\"delivery  \",\"not  \",\"even  \",\"order  \",\"deliver  \",\"zomato  \"],\"type\":\"bar\",\"xaxis\":\"x13\",\"yaxis\":\"y13\"},{\"marker\":{\"color\":\"#F0E442\"},\"orientation\":\"h\",\"x\":[0.04821833708581586,0.04946494987469808,0.05104201438255255,0.0575476296084433,0.06907555170131309,0.0723275056287238,0.07419742481204714,0.11365146479233769,0.15963700603635356,0.19413814157392126],\"y\":[\"guess  \",\"decent  \",\"seat  \",\"wasnt  \",\"go  \",\"air  \",\"condition  \",\"switch  \",\"work  \",\"ac  \"],\"type\":\"bar\",\"xaxis\":\"x14\",\"yaxis\":\"y14\"},{\"marker\":{\"color\":\"#D55E00\"},\"orientation\":\"h\",\"x\":[0.0952997947159768,0.10628252249299192,0.10628252249299192,0.10628252249299192,0.10628252249299192,0.1234153335996843,0.13160551593621878,0.1368313908271333,0.33991928904467855,0.408410857490208],\"y\":[\"af  \",\"windows  \",\"pickup  \",\"prompt  \",\"chaos  \",\"good  \",\"fast  \",\"hours  \",\"service  \",\"slow  \"],\"type\":\"bar\",\"xaxis\":\"x15\",\"yaxis\":\"y15\"}],                        {\"template\":{\"data\":{\"barpolar\":[{\"marker\":{\"line\":{\"color\":\"white\",\"width\":0.5},\"pattern\":{\"fillmode\":\"overlay\",\"size\":10,\"solidity\":0.2}},\"type\":\"barpolar\"}],\"bar\":[{\"error_x\":{\"color\":\"#2a3f5f\"},\"error_y\":{\"color\":\"#2a3f5f\"},\"marker\":{\"line\":{\"color\":\"white\",\"width\":0.5},\"pattern\":{\"fillmode\":\"overlay\",\"size\":10,\"solidity\":0.2}},\"type\":\"bar\"}],\"carpet\":[{\"aaxis\":{\"endlinecolor\":\"#2a3f5f\",\"gridcolor\":\"#C8D4E3\",\"linecolor\":\"#C8D4E3\",\"minorgridcolor\":\"#C8D4E3\",\"startlinecolor\":\"#2a3f5f\"},\"baxis\":{\"endlinecolor\":\"#2a3f5f\",\"gridcolor\":\"#C8D4E3\",\"linecolor\":\"#C8D4E3\",\"minorgridcolor\":\"#C8D4E3\",\"startlinecolor\":\"#2a3f5f\"},\"type\":\"carpet\"}],\"choropleth\":[{\"colorbar\":{\"outlinewidth\":0,\"ticks\":\"\"},\"type\":\"choropleth\"}],\"contourcarpet\":[{\"colorbar\":{\"outlinewidth\":0,\"ticks\":\"\"},\"type\":\"contourcarpet\"}],\"contour\":[{\"colorbar\":{\"outlinewidth\":0,\"ticks\":\"\"},\"colorscale\":[[0.0,\"#0d0887\"],[0.1111111111111111,\"#46039f\"],[0.2222222222222222,\"#7201a8\"],[0.3333333333333333,\"#9c179e\"],[0.4444444444444444,\"#bd3786\"],[0.5555555555555556,\"#d8576b\"],[0.6666666666666666,\"#ed7953\"],[0.7777777777777778,\"#fb9f3a\"],[0.8888888888888888,\"#fdca26\"],[1.0,\"#f0f921\"]],\"type\":\"contour\"}],\"heatmapgl\":[{\"colorbar\":{\"outlinewidth\":0,\"ticks\":\"\"},\"colorscale\":[[0.0,\"#0d0887\"],[0.1111111111111111,\"#46039f\"],[0.2222222222222222,\"#7201a8\"],[0.3333333333333333,\"#9c179e\"],[0.4444444444444444,\"#bd3786\"],[0.5555555555555556,\"#d8576b\"],[0.6666666666666666,\"#ed7953\"],[0.7777777777777778,\"#fb9f3a\"],[0.8888888888888888,\"#fdca26\"],[1.0,\"#f0f921\"]],\"type\":\"heatmapgl\"}],\"heatmap\":[{\"colorbar\":{\"outlinewidth\":0,\"ticks\":\"\"},\"colorscale\":[[0.0,\"#0d0887\"],[0.1111111111111111,\"#46039f\"],[0.2222222222222222,\"#7201a8\"],[0.3333333333333333,\"#9c179e\"],[0.4444444444444444,\"#bd3786\"],[0.5555555555555556,\"#d8576b\"],[0.6666666666666666,\"#ed7953\"],[0.7777777777777778,\"#fb9f3a\"],[0.8888888888888888,\"#fdca26\"],[1.0,\"#f0f921\"]],\"type\":\"heatmap\"}],\"histogram2dcontour\":[{\"colorbar\":{\"outlinewidth\":0,\"ticks\":\"\"},\"colorscale\":[[0.0,\"#0d0887\"],[0.1111111111111111,\"#46039f\"],[0.2222222222222222,\"#7201a8\"],[0.3333333333333333,\"#9c179e\"],[0.4444444444444444,\"#bd3786\"],[0.5555555555555556,\"#d8576b\"],[0.6666666666666666,\"#ed7953\"],[0.7777777777777778,\"#fb9f3a\"],[0.8888888888888888,\"#fdca26\"],[1.0,\"#f0f921\"]],\"type\":\"histogram2dcontour\"}],\"histogram2d\":[{\"colorbar\":{\"outlinewidth\":0,\"ticks\":\"\"},\"colorscale\":[[0.0,\"#0d0887\"],[0.1111111111111111,\"#46039f\"],[0.2222222222222222,\"#7201a8\"],[0.3333333333333333,\"#9c179e\"],[0.4444444444444444,\"#bd3786\"],[0.5555555555555556,\"#d8576b\"],[0.6666666666666666,\"#ed7953\"],[0.7777777777777778,\"#fb9f3a\"],[0.8888888888888888,\"#fdca26\"],[1.0,\"#f0f921\"]],\"type\":\"histogram2d\"}],\"histogram\":[{\"marker\":{\"pattern\":{\"fillmode\":\"overlay\",\"size\":10,\"solidity\":0.2}},\"type\":\"histogram\"}],\"mesh3d\":[{\"colorbar\":{\"outlinewidth\":0,\"ticks\":\"\"},\"type\":\"mesh3d\"}],\"parcoords\":[{\"line\":{\"colorbar\":{\"outlinewidth\":0,\"ticks\":\"\"}},\"type\":\"parcoords\"}],\"pie\":[{\"automargin\":true,\"type\":\"pie\"}],\"scatter3d\":[{\"line\":{\"colorbar\":{\"outlinewidth\":0,\"ticks\":\"\"}},\"marker\":{\"colorbar\":{\"outlinewidth\":0,\"ticks\":\"\"}},\"type\":\"scatter3d\"}],\"scattercarpet\":[{\"marker\":{\"colorbar\":{\"outlinewidth\":0,\"ticks\":\"\"}},\"type\":\"scattercarpet\"}],\"scattergeo\":[{\"marker\":{\"colorbar\":{\"outlinewidth\":0,\"ticks\":\"\"}},\"type\":\"scattergeo\"}],\"scattergl\":[{\"marker\":{\"colorbar\":{\"outlinewidth\":0,\"ticks\":\"\"}},\"type\":\"scattergl\"}],\"scattermapbox\":[{\"marker\":{\"colorbar\":{\"outlinewidth\":0,\"ticks\":\"\"}},\"type\":\"scattermapbox\"}],\"scatterpolargl\":[{\"marker\":{\"colorbar\":{\"outlinewidth\":0,\"ticks\":\"\"}},\"type\":\"scatterpolargl\"}],\"scatterpolar\":[{\"marker\":{\"colorbar\":{\"outlinewidth\":0,\"ticks\":\"\"}},\"type\":\"scatterpolar\"}],\"scatter\":[{\"marker\":{\"colorbar\":{\"outlinewidth\":0,\"ticks\":\"\"}},\"type\":\"scatter\"}],\"scatterternary\":[{\"marker\":{\"colorbar\":{\"outlinewidth\":0,\"ticks\":\"\"}},\"type\":\"scatterternary\"}],\"surface\":[{\"colorbar\":{\"outlinewidth\":0,\"ticks\":\"\"},\"colorscale\":[[0.0,\"#0d0887\"],[0.1111111111111111,\"#46039f\"],[0.2222222222222222,\"#7201a8\"],[0.3333333333333333,\"#9c179e\"],[0.4444444444444444,\"#bd3786\"],[0.5555555555555556,\"#d8576b\"],[0.6666666666666666,\"#ed7953\"],[0.7777777777777778,\"#fb9f3a\"],[0.8888888888888888,\"#fdca26\"],[1.0,\"#f0f921\"]],\"type\":\"surface\"}],\"table\":[{\"cells\":{\"fill\":{\"color\":\"#EBF0F8\"},\"line\":{\"color\":\"white\"}},\"header\":{\"fill\":{\"color\":\"#C8D4E3\"},\"line\":{\"color\":\"white\"}},\"type\":\"table\"}]},\"layout\":{\"annotationdefaults\":{\"arrowcolor\":\"#2a3f5f\",\"arrowhead\":0,\"arrowwidth\":1},\"autotypenumbers\":\"strict\",\"coloraxis\":{\"colorbar\":{\"outlinewidth\":0,\"ticks\":\"\"}},\"colorscale\":{\"diverging\":[[0,\"#8e0152\"],[0.1,\"#c51b7d\"],[0.2,\"#de77ae\"],[0.3,\"#f1b6da\"],[0.4,\"#fde0ef\"],[0.5,\"#f7f7f7\"],[0.6,\"#e6f5d0\"],[0.7,\"#b8e186\"],[0.8,\"#7fbc41\"],[0.9,\"#4d9221\"],[1,\"#276419\"]],\"sequential\":[[0.0,\"#0d0887\"],[0.1111111111111111,\"#46039f\"],[0.2222222222222222,\"#7201a8\"],[0.3333333333333333,\"#9c179e\"],[0.4444444444444444,\"#bd3786\"],[0.5555555555555556,\"#d8576b\"],[0.6666666666666666,\"#ed7953\"],[0.7777777777777778,\"#fb9f3a\"],[0.8888888888888888,\"#fdca26\"],[1.0,\"#f0f921\"]],\"sequentialminus\":[[0.0,\"#0d0887\"],[0.1111111111111111,\"#46039f\"],[0.2222222222222222,\"#7201a8\"],[0.3333333333333333,\"#9c179e\"],[0.4444444444444444,\"#bd3786\"],[0.5555555555555556,\"#d8576b\"],[0.6666666666666666,\"#ed7953\"],[0.7777777777777778,\"#fb9f3a\"],[0.8888888888888888,\"#fdca26\"],[1.0,\"#f0f921\"]]},\"colorway\":[\"#636efa\",\"#EF553B\",\"#00cc96\",\"#ab63fa\",\"#FFA15A\",\"#19d3f3\",\"#FF6692\",\"#B6E880\",\"#FF97FF\",\"#FECB52\"],\"font\":{\"color\":\"#2a3f5f\"},\"geo\":{\"bgcolor\":\"white\",\"lakecolor\":\"white\",\"landcolor\":\"white\",\"showlakes\":true,\"showland\":true,\"subunitcolor\":\"#C8D4E3\"},\"hoverlabel\":{\"align\":\"left\"},\"hovermode\":\"closest\",\"mapbox\":{\"style\":\"light\"},\"paper_bgcolor\":\"white\",\"plot_bgcolor\":\"white\",\"polar\":{\"angularaxis\":{\"gridcolor\":\"#EBF0F8\",\"linecolor\":\"#EBF0F8\",\"ticks\":\"\"},\"bgcolor\":\"white\",\"radialaxis\":{\"gridcolor\":\"#EBF0F8\",\"linecolor\":\"#EBF0F8\",\"ticks\":\"\"}},\"scene\":{\"xaxis\":{\"backgroundcolor\":\"white\",\"gridcolor\":\"#DFE8F3\",\"gridwidth\":2,\"linecolor\":\"#EBF0F8\",\"showbackground\":true,\"ticks\":\"\",\"zerolinecolor\":\"#EBF0F8\"},\"yaxis\":{\"backgroundcolor\":\"white\",\"gridcolor\":\"#DFE8F3\",\"gridwidth\":2,\"linecolor\":\"#EBF0F8\",\"showbackground\":true,\"ticks\":\"\",\"zerolinecolor\":\"#EBF0F8\"},\"zaxis\":{\"backgroundcolor\":\"white\",\"gridcolor\":\"#DFE8F3\",\"gridwidth\":2,\"linecolor\":\"#EBF0F8\",\"showbackground\":true,\"ticks\":\"\",\"zerolinecolor\":\"#EBF0F8\"}},\"shapedefaults\":{\"line\":{\"color\":\"#2a3f5f\"}},\"ternary\":{\"aaxis\":{\"gridcolor\":\"#DFE8F3\",\"linecolor\":\"#A2B1C6\",\"ticks\":\"\"},\"baxis\":{\"gridcolor\":\"#DFE8F3\",\"linecolor\":\"#A2B1C6\",\"ticks\":\"\"},\"bgcolor\":\"white\",\"caxis\":{\"gridcolor\":\"#DFE8F3\",\"linecolor\":\"#A2B1C6\",\"ticks\":\"\"}},\"title\":{\"x\":0.05},\"xaxis\":{\"automargin\":true,\"gridcolor\":\"#EBF0F8\",\"linecolor\":\"#EBF0F8\",\"ticks\":\"\",\"title\":{\"standoff\":15},\"zerolinecolor\":\"#EBF0F8\",\"zerolinewidth\":2},\"yaxis\":{\"automargin\":true,\"gridcolor\":\"#EBF0F8\",\"linecolor\":\"#EBF0F8\",\"ticks\":\"\",\"title\":{\"standoff\":15},\"zerolinecolor\":\"#EBF0F8\",\"zerolinewidth\":2}}},\"xaxis\":{\"anchor\":\"y\",\"domain\":[0.0,0.175],\"showgrid\":true},\"yaxis\":{\"anchor\":\"x\",\"domain\":[0.825,1.0],\"showgrid\":true},\"xaxis2\":{\"anchor\":\"y2\",\"domain\":[0.275,0.45],\"showgrid\":true},\"yaxis2\":{\"anchor\":\"x2\",\"domain\":[0.825,1.0],\"showgrid\":true},\"xaxis3\":{\"anchor\":\"y3\",\"domain\":[0.55,0.7250000000000001],\"showgrid\":true},\"yaxis3\":{\"anchor\":\"x3\",\"domain\":[0.825,1.0],\"showgrid\":true},\"xaxis4\":{\"anchor\":\"y4\",\"domain\":[0.825,1.0],\"showgrid\":true},\"yaxis4\":{\"anchor\":\"x4\",\"domain\":[0.825,1.0],\"showgrid\":true},\"xaxis5\":{\"anchor\":\"y5\",\"domain\":[0.0,0.175],\"showgrid\":true},\"yaxis5\":{\"anchor\":\"x5\",\"domain\":[0.55,0.7250000000000001],\"showgrid\":true},\"xaxis6\":{\"anchor\":\"y6\",\"domain\":[0.275,0.45],\"showgrid\":true},\"yaxis6\":{\"anchor\":\"x6\",\"domain\":[0.55,0.7250000000000001],\"showgrid\":true},\"xaxis7\":{\"anchor\":\"y7\",\"domain\":[0.55,0.7250000000000001],\"showgrid\":true},\"yaxis7\":{\"anchor\":\"x7\",\"domain\":[0.55,0.7250000000000001],\"showgrid\":true},\"xaxis8\":{\"anchor\":\"y8\",\"domain\":[0.825,1.0],\"showgrid\":true},\"yaxis8\":{\"anchor\":\"x8\",\"domain\":[0.55,0.7250000000000001],\"showgrid\":true},\"xaxis9\":{\"anchor\":\"y9\",\"domain\":[0.0,0.175],\"showgrid\":true},\"yaxis9\":{\"anchor\":\"x9\",\"domain\":[0.275,0.45],\"showgrid\":true},\"xaxis10\":{\"anchor\":\"y10\",\"domain\":[0.275,0.45],\"showgrid\":true},\"yaxis10\":{\"anchor\":\"x10\",\"domain\":[0.275,0.45],\"showgrid\":true},\"xaxis11\":{\"anchor\":\"y11\",\"domain\":[0.55,0.7250000000000001],\"showgrid\":true},\"yaxis11\":{\"anchor\":\"x11\",\"domain\":[0.275,0.45],\"showgrid\":true},\"xaxis12\":{\"anchor\":\"y12\",\"domain\":[0.825,1.0],\"showgrid\":true},\"yaxis12\":{\"anchor\":\"x12\",\"domain\":[0.275,0.45],\"showgrid\":true},\"xaxis13\":{\"anchor\":\"y13\",\"domain\":[0.0,0.175],\"showgrid\":true},\"yaxis13\":{\"anchor\":\"x13\",\"domain\":[0.0,0.175],\"showgrid\":true},\"xaxis14\":{\"anchor\":\"y14\",\"domain\":[0.275,0.45],\"showgrid\":true},\"yaxis14\":{\"anchor\":\"x14\",\"domain\":[0.0,0.175],\"showgrid\":true},\"xaxis15\":{\"anchor\":\"y15\",\"domain\":[0.55,0.7250000000000001],\"showgrid\":true},\"yaxis15\":{\"anchor\":\"x15\",\"domain\":[0.0,0.175],\"showgrid\":true},\"xaxis16\":{\"anchor\":\"y16\",\"domain\":[0.825,1.0],\"showgrid\":true},\"yaxis16\":{\"anchor\":\"x16\",\"domain\":[0.0,0.175],\"showgrid\":true},\"annotations\":[{\"font\":{\"size\":16},\"showarrow\":false,\"text\":\"Topic 0\",\"x\":0.0875,\"xanchor\":\"center\",\"xref\":\"paper\",\"y\":1.0,\"yanchor\":\"bottom\",\"yref\":\"paper\"},{\"font\":{\"size\":16},\"showarrow\":false,\"text\":\"Topic 1\",\"x\":0.36250000000000004,\"xanchor\":\"center\",\"xref\":\"paper\",\"y\":1.0,\"yanchor\":\"bottom\",\"yref\":\"paper\"},{\"font\":{\"size\":16},\"showarrow\":false,\"text\":\"Topic 2\",\"x\":0.6375000000000001,\"xanchor\":\"center\",\"xref\":\"paper\",\"y\":1.0,\"yanchor\":\"bottom\",\"yref\":\"paper\"},{\"font\":{\"size\":16},\"showarrow\":false,\"text\":\"Topic 3\",\"x\":0.9125,\"xanchor\":\"center\",\"xref\":\"paper\",\"y\":1.0,\"yanchor\":\"bottom\",\"yref\":\"paper\"},{\"font\":{\"size\":16},\"showarrow\":false,\"text\":\"Topic 4\",\"x\":0.0875,\"xanchor\":\"center\",\"xref\":\"paper\",\"y\":0.7250000000000001,\"yanchor\":\"bottom\",\"yref\":\"paper\"},{\"font\":{\"size\":16},\"showarrow\":false,\"text\":\"Topic 5\",\"x\":0.36250000000000004,\"xanchor\":\"center\",\"xref\":\"paper\",\"y\":0.7250000000000001,\"yanchor\":\"bottom\",\"yref\":\"paper\"},{\"font\":{\"size\":16},\"showarrow\":false,\"text\":\"Topic 6\",\"x\":0.6375000000000001,\"xanchor\":\"center\",\"xref\":\"paper\",\"y\":0.7250000000000001,\"yanchor\":\"bottom\",\"yref\":\"paper\"},{\"font\":{\"size\":16},\"showarrow\":false,\"text\":\"Topic 7\",\"x\":0.9125,\"xanchor\":\"center\",\"xref\":\"paper\",\"y\":0.7250000000000001,\"yanchor\":\"bottom\",\"yref\":\"paper\"},{\"font\":{\"size\":16},\"showarrow\":false,\"text\":\"Topic 8\",\"x\":0.0875,\"xanchor\":\"center\",\"xref\":\"paper\",\"y\":0.45,\"yanchor\":\"bottom\",\"yref\":\"paper\"},{\"font\":{\"size\":16},\"showarrow\":false,\"text\":\"Topic 9\",\"x\":0.36250000000000004,\"xanchor\":\"center\",\"xref\":\"paper\",\"y\":0.45,\"yanchor\":\"bottom\",\"yref\":\"paper\"},{\"font\":{\"size\":16},\"showarrow\":false,\"text\":\"Topic 10\",\"x\":0.6375000000000001,\"xanchor\":\"center\",\"xref\":\"paper\",\"y\":0.45,\"yanchor\":\"bottom\",\"yref\":\"paper\"},{\"font\":{\"size\":16},\"showarrow\":false,\"text\":\"Topic 11\",\"x\":0.9125,\"xanchor\":\"center\",\"xref\":\"paper\",\"y\":0.45,\"yanchor\":\"bottom\",\"yref\":\"paper\"},{\"font\":{\"size\":16},\"showarrow\":false,\"text\":\"Topic 12\",\"x\":0.0875,\"xanchor\":\"center\",\"xref\":\"paper\",\"y\":0.175,\"yanchor\":\"bottom\",\"yref\":\"paper\"},{\"font\":{\"size\":16},\"showarrow\":false,\"text\":\"Topic 13\",\"x\":0.36250000000000004,\"xanchor\":\"center\",\"xref\":\"paper\",\"y\":0.175,\"yanchor\":\"bottom\",\"yref\":\"paper\"},{\"font\":{\"size\":16},\"showarrow\":false,\"text\":\"Topic 14\",\"x\":0.6375000000000001,\"xanchor\":\"center\",\"xref\":\"paper\",\"y\":0.175,\"yanchor\":\"bottom\",\"yref\":\"paper\"}],\"title\":{\"font\":{\"size\":22,\"color\":\"Black\"},\"text\":\"<b>Topic Word Scores\",\"x\":0.5,\"xanchor\":\"center\",\"yanchor\":\"top\"},\"hoverlabel\":{\"font\":{\"size\":16,\"family\":\"Rockwell\"},\"bgcolor\":\"white\"},\"showlegend\":false,\"width\":1000,\"height\":1200},                        {\"responsive\": true}                    ).then(function(){\n",
              "                            \n",
              "var gd = document.getElementById('1649e011-8eab-416e-9377-8e8fd3c0cbd5');\n",
              "var x = new MutationObserver(function (mutations, observer) {{\n",
              "        var display = window.getComputedStyle(gd).display;\n",
              "        if (!display || display === 'none') {{\n",
              "            console.log([gd, 'removed!']);\n",
              "            Plotly.purge(gd);\n",
              "            observer.disconnect();\n",
              "        }}\n",
              "}});\n",
              "\n",
              "// Listen for the removal of the full notebook cells\n",
              "var notebookContainer = gd.closest('#notebook-container');\n",
              "if (notebookContainer) {{\n",
              "    x.observe(notebookContainer, {childList: true});\n",
              "}}\n",
              "\n",
              "// Listen for the clearing of the current output cell\n",
              "var outputEl = gd.closest('.output');\n",
              "if (outputEl) {{\n",
              "    x.observe(outputEl, {childList: true});\n",
              "}}\n",
              "\n",
              "                        })                };                            </script>        </div>\n",
              "</body>\n",
              "</html>"
            ]
          },
          "metadata": {}
        }
      ]
    },
    {
      "cell_type": "markdown",
      "source": [
        "If you want to see the complaints (reviews) wrt to the topic"
      ],
      "metadata": {
        "id": "n2aTKohzSsPD"
      }
    },
    {
      "cell_type": "code",
      "source": [
        "df_tpc = pd.DataFrame({'topic': topics, 'document': corpus})"
      ],
      "metadata": {
        "id": "p_9DaadbMwUB"
      },
      "execution_count": 97,
      "outputs": []
    },
    {
      "cell_type": "code",
      "source": [
        "df_tpc[df_tpc['topic']==11].document"
      ],
      "metadata": {
        "id": "gjtMf-u7M_2X",
        "colab": {
          "base_uri": "https://localhost:8080/"
        },
        "outputId": "a982f60a-f9bf-46f1-e900-7de0603f0fc6"
      },
      "execution_count": 99,
      "outputs": [
        {
          "output_type": "execute_result",
          "data": {
            "text/plain": [
              "0                                                            sit arrangement really bad keep move not happy take care\n",
              "91                                                                                 seat not adequatestaff not helpful\n",
              "96                                                                                      always crowd not enough space\n",
              "128                                                                             crowd place difficult find table seat\n",
              "168                                                                                 always crowd not enough place sit\n",
              "194                                                always crowd seat suffocate not amongst favorite place eat hangout\n",
              "378                                                                                    per public rush sit area small\n",
              "441    place always crowd seat limit capacity mostly full service fast half seat space nonairconditioned not good mcd\n",
              "506                                                                                much rush cant able get chairtable\n",
              "512                                                                       much crowd place dont even get sit properly\n",
              "528                                                                                                good space problem\n",
              "531                                                                                                    low space room\n",
              "544                                                                                not enough space ought make bigger\n",
              "697                                                                                          good lack space sit area\n",
              "698                                                                                              not enough space sit\n",
              "759                                                                     wont get proper seat vey less space available\n",
              "Name: document, dtype: object"
            ]
          },
          "metadata": {},
          "execution_count": 99
        }
      ]
    }
  ]
}